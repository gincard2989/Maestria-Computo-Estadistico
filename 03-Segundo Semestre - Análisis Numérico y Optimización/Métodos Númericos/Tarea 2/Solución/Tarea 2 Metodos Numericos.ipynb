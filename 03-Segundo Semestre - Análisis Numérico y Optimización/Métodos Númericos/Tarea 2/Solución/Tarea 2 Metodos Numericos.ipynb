{
 "cells": [
  {
   "cell_type": "markdown",
   "metadata": {},
   "source": [
    "# Tarea 2\n",
    "## Hairo Ulises Miranda Belmonte"
   ]
  },
  {
   "cell_type": "markdown",
   "metadata": {},
   "source": [
    "# 1) Escriba la ventaja y desventaja del método de interpolación de lagrange; newton; polinomio ortonormal, polinomio de orden superior, curva hermite y curva spline"
   ]
  },
  {
   "cell_type": "markdown",
   "metadata": {},
   "source": [
    "**a) Método de lagrange;**\n",
    "\n",
    "**Ventajas:** Presentan la ventaja de ser intuitivos en cuanto a que por construcción de la base $L_i^{n}(x)$ es igual a uno en $x_i$ y es igual a cero en los demás $x_j$.\n",
    "\n",
    "**Desventaja:** cada elemento de la bade depende de los puntos $x_j$ por le que al intentar incluir un nuevo $x_j$, se debe recalcular  $L_i^{n}(x)$ para todos sus términos."
   ]
  },
  {
   "cell_type": "markdown",
   "metadata": {},
   "source": [
    "**b) Método de Newton:**\n",
    "\n",
    "**Ventaja:** Es una alternativa que considera la desventaja del método de lagrange; Tiene mejor balance entre el costo computacional en la interpolación y el costo de evaluación del polinomio; Se puede ir añadiendo observacones mienstras se construye el polinomio; En principio no depende de un orden de polinomio\n",
    "\n",
    "**Desventaja:** El grado del polinomio incrementa conforme se le añaden observaciones.\n"
   ]
  },
  {
   "cell_type": "markdown",
   "metadata": {},
   "source": [
    "**c) Polinomio ortonormal:**\n",
    "\n",
    "**Ventaja:** Contiene propiedades interésantes que satisfacen la recurrencia $p_{k+1}(t)=(\\alpha_k^t+\\beta_k-\\gamma_kp_{k-1}(t))$; a su vez, genera un espacio ortonormal; a su vez, es la generalización de varios polinomios; i.e, si el intervalo del polinomio ortonormal es $[-1,1]$ con la función de pesos igual a $1$, entonces tenemos el polinomio de legrendre. así mismo podemos llegar al de Chebyshev, Jacobi, Lauerre y Hermite.\n",
    "\n",
    "**Desventaja:** Tienes que ortogonaizar el el conjunto de polinomios ya sea usando Gram-Schmidt.\n"
   ]
  },
  {
   "cell_type": "markdown",
   "metadata": {},
   "source": [
    "**d) Polinomio de orden superior:**\n",
    "\n",
    "**Ventaja:** Logra ajustar de forma correcta el centro del intervalo, la forma y la suavidad de los datos.\n",
    "\n",
    "**Desventaja:** Es difícil de determminar y evaluar. En algunos casos los coeficientes de algunas bases de el polinomio puede estar mal condicionado. Tiende a oscilar bastante entre los puntos lo cual es contraproducente con lo que se busca realizar en la interpolación.  Suele converger en el centro del intervalos de los datos, pero diverge en los extremos.\n"
   ]
  },
  {
   "cell_type": "markdown",
   "metadata": {},
   "source": [
    "**e) Curva hermite:**\n",
    "\n",
    "**Ventaja:** No sólo utiliza los valores de la función orriginal, sino también los valores de sus derivadas; lo anterior se espera que las problematicas de polinoios que exploten en areas donde no hay datos, disminuyan o se eliminen.\n",
    "\n",
    "**Desventaja:** Incrementa el número de ecuaciones al incluir las derivadas para determinar el polinomio interpolante; en la práctica no simpre se cuenta con la derivadas de la función , por lo tanto, deben aproximarlas. Entre otros problemas; la cantidad de datos ques e tienen es grande, el cual debe ser mantenido por un sitema computaicional haciendo dudar de la capacidad en la solución del problema; La construcción de la matriz de polinomios implica calculos grandes en potencias de $x_i$, el cual puede sobrepasar el overflow. \n"
   ]
  },
  {
   "cell_type": "markdown",
   "metadata": {},
   "source": [
    "**f) Curva Spline:**\n",
    "\n",
    "**Ventaja:** A comparación de lo métodos previos, los splines no intentan resolver problemas globales en todo un intervalo que generan el uso de polinomios de alto grado, sino que resuelve problemas pequeños en subintervalos del dominio, con el fin de que utilizar solo unos puntos el grado del polinomio se vuelva bajo. Sólo utiliza polinosmios de grado tres. Cuando las fronteras son distintas solo basta con modificar el primer o último renglon de la matriz de polinomios. \n",
    "\n",
    "**Desventaja:** la matriz del sistema es de tamaño $(n-2)xn$ y es tridiagonal, por lo que requiere de dos ecuaciones más para cerrar el sistema. Se utilizan los puntos de frontera; fronteras sujeta o libres.\n"
   ]
  },
  {
   "cell_type": "markdown",
   "metadata": {},
   "source": [
    "### 2) Hallar la calidad de la interpolación de la función $sin(x)$ mediante un polinomio de grado 7 en el intevalo $[0,1]$"
   ]
  },
  {
   "cell_type": "markdown",
   "metadata": {},
   "source": [
    "Se evalua el polinomio para 8 puntos, dado que se quiere evaluar la función con un polinomio de grado 8. \n",
    "$$\n",
    "\\begin{aligned}\n",
    "\\sin(x)-p(x)=\\frac{1}{8!}f^{8}(\\varphi(x))\\Pi_{j=1}^8 (x-x_j)\n",
    "\\end{aligned}\n",
    "$$\n",
    "\n",
    "$$\n",
    "\\begin{aligned}\n",
    "\\sin(x)-p(x)=\\frac{1}{5!}f^{8}(\\varphi(x))\\Pi_{i=1}^{8}(x-x_i)\n",
    "\\end{aligned}\n",
    "$$\n",
    "\n",
    "Donde la derivada \n",
    "$$\n",
    "\\begin{aligned}\n",
    "f^{1}= cos\\\\\n",
    "f^{2}= -sin\\\\\n",
    "f^{3}= -cos\\\\\n",
    "f^{4}= sin\\\\\n",
    ".\\\\\n",
    ".\\\\\n",
    "f^{8} \n",
    "\\end{aligned}\n",
    "$$\n",
    "\n",
    "De esta manera\n",
    "$$\n",
    "\\begin{aligned}\n",
    "\\sin(x)-p(x)=\\frac{1}{8!}cos(\\varphi(x))[(x-x_1)(x-x_2)(x-x_3)(x-x_4)(x-x_5)(x-x_6)(x-x_7)(x-x_8)]\n",
    "\\end{aligned}\n",
    "$$\n",
    "\n",
    "donde $|cos(\\varphi(x))| \\leq 1$, ya que el rango de la función $\\cos \\in$ $[-1,1]$\n",
    "\n",
    "y dado a que  $x \\in$ $[0,1]$ su diferencia $|(x-x_i)| \\leq 1$, por lo tanto, $|\\Pi_{j=1}^8 (x-x_j)|\\leq 1$\n",
    "\n",
    "por lo tanto:\n",
    "$$\n",
    "\\begin{aligned}\n",
    "|\\sin(x)-p(x)|\\leq \\frac{1}{40,320} \\approx 2.48015 x10^{-5}\n",
    "\\end{aligned}\n",
    "$$\n",
    "\n",
    "Se concluye que interpolar la función coseno con un polinomio de grado 7, respecto a 8 puntos, tiene buena calidad."
   ]
  },
  {
   "cell_type": "markdown",
   "metadata": {},
   "source": [
    "### 3) Hallar la calidad de la interpolación de la función $(1+x^2)^{-2}$"
   ]
  },
  {
   "cell_type": "markdown",
   "metadata": {},
   "source": [
    "\n",
    "La calidad de la interpolación se encuentra dada por:\n",
    "\n",
    "$$\n",
    "\\begin{aligned}\n",
    "(1+x^2)^{-2}-p(x)=\\frac{1}{n!}f^{n}(\\varphi(x))\\Pi_{j=1}^m (x-x_j)\n",
    "\\end{aligned}\n",
    "$$\n",
    "con $m$ el grado del polinomio.\n",
    "\n",
    "Sin embargo, si observamos las derivadas;\n",
    "$$\n",
    "\\begin{aligned}\n",
    "f^{1}= -2(1+x^2)^{-3}(2x)\\\\\n",
    "f^{2}= 3*2(1+x^2)^{-4}(4x)+..\\\\\n",
    "f^{3}= -4*3*2(1+x^2)^{-5}(8x)+..\\\\\n",
    ". \\\\\n",
    ". \\\\\n",
    "f^{n} =-(1)^n(n+1)(1+x^2)^{-(n+2)}2^nx^n+..\n",
    "\\end{aligned}\n",
    "$$\n",
    "\n",
    "por lo tanto\n",
    "$$|f^n|\\approx 2^n(n+1)!O((1+x^2)^{-(n+2)}x^n))$$\n",
    "$$|f^n|\\approx 2^n(n+1)!O(x^{-2(n+2)}x^n))$$\n",
    "$$|f^n|\\approx 2^n(n+1)!O(x^{-2n-4)})$$\n",
    "\n",
    "$$\\frac{|f^n|}{n!}\\approx n2^nO(|x^{-2n-4)}|)$$\n",
    "\n",
    "\n",
    "En el cual, claramente el el crecimiento de $|f^{n}|\\approx n2^nO(|x^{-2n-4)}|)$ es bastate grande para cualquier valor que tome $x$, el cual crese independientementede sus valores. De esta manera, la calidad de polinomio es mala, ya que:\n",
    "\n",
    "$$\n",
    "\\begin{aligned}\n",
    "|\\sin(x)-p(x)| \\rightarrow \\infty \n",
    "\\end{aligned}\n",
    "$$"
   ]
  },
  {
   "cell_type": "markdown",
   "metadata": {},
   "source": [
    "###  4) Realice aproximación, utilizando las aproximaciones polinomeales en P2, P3 y P4."
   ]
  },
  {
   "cell_type": "markdown",
   "metadata": {},
   "source": [
    "Probemos los polinomios con la función anterior $(1+x^2)^{-2}$"
   ]
  },
  {
   "cell_type": "code",
   "execution_count": 3,
   "metadata": {},
   "outputs": [
    {
     "data": {
      "text/plain": [
       "funcion (generic function with 1 method)"
      ]
     },
     "execution_count": 3,
     "metadata": {},
     "output_type": "execute_result"
    }
   ],
   "source": [
    "# programar función que se quiera realizar aproximación\n",
    "funcion(x) = (1+x^2)^(-2)\n"
   ]
  },
  {
   "cell_type": "markdown",
   "metadata": {},
   "source": [
    "Primer caso: cuando límtes de la integral van de $[0,1]$"
   ]
  },
  {
   "cell_type": "code",
   "execution_count": 14,
   "metadata": {},
   "outputs": [
    {
     "name": "stdout",
     "output_type": "stream",
     "text": [
      "Simpson: 0.635"
     ]
    }
   ],
   "source": [
    "Simpson = (1/6)*(funcion(0)+4*funcion(1/2)+funcion(1)) \n",
    "print(\"Simpson: $Simpson\")\n"
   ]
  },
  {
   "cell_type": "code",
   "execution_count": 13,
   "metadata": {},
   "outputs": [
    {
     "name": "stdout",
     "output_type": "stream",
     "text": [
      "Simpson 3/8: 0.6397337278106509"
     ]
    }
   ],
   "source": [
    "Simpson3_8 = (1/8)*(funcion(0)+3*funcion(1/3)+3*funcion(2/3)+funcion(1)) \n",
    "print(\"Simpson 3/8: $Simpson3_8\")"
   ]
  },
  {
   "cell_type": "code",
   "execution_count": 21,
   "metadata": {},
   "outputs": [
    {
     "name": "stdout",
     "output_type": "stream",
     "text": [
      "Milne: 0.6431468973471742"
     ]
    }
   ],
   "source": [
    "Milne = (1/90)*(7*funcion(0)+32*funcion(1/4)+12*funcion(1/2)+32*funcion(3/4)+7*funcion(1)) \n",
    "print(\"Milne: $Milne\")"
   ]
  },
  {
   "cell_type": "markdown",
   "metadata": {},
   "source": [
    "Segundo caso: cuando límtes de la integral van de $[a,b]$"
   ]
  },
  {
   "cell_type": "code",
   "execution_count": 17,
   "metadata": {},
   "outputs": [
    {
     "name": "stdout",
     "output_type": "stream",
     "text": [
      "Simpson: 0.0210166468489893"
     ]
    }
   ],
   "source": [
    "# declarar límites de la integral\n",
    "a = 2\n",
    "b= 3\n",
    "Simpson = ((b-a)/6)*(funcion(a)+4*funcion((a+b)/2)+funcion(b)) \n",
    "print(\"Simpson: $Simpson\")"
   ]
  },
  {
   "cell_type": "code",
   "execution_count": 18,
   "metadata": {},
   "outputs": [
    {
     "name": "stdout",
     "output_type": "stream",
     "text": [
      "Simpson 3/8: 0.020979372955151506"
     ]
    }
   ],
   "source": [
    "# declarar límites de la integral\n",
    "a = 2\n",
    "b= 3\n",
    "Simpson3_8 = ((b-a)/8)*(funcion(a)+3*funcion(a+((b-a)/3))+3*funcion(a+2((b-a)/3))+funcion(b)) \n",
    "print(\"Simpson 3/8: $Simpson3_8\")"
   ]
  },
  {
   "cell_type": "code",
   "execution_count": 20,
   "metadata": {},
   "outputs": [
    {
     "name": "stdout",
     "output_type": "stream",
     "text": [
      "Milne: 0.02094910867965201"
     ]
    }
   ],
   "source": [
    "# declarar límites de la integral\n",
    "a = 2\n",
    "b= 3\n",
    "Milne = ((b-a)/90)*(7*funcion(a)+32*funcion(a+((b-a)/4))+12*funcion(a+((b-a)/2))+32*funcion(a+3((b-a)/4))+7*funcion(b)) \n",
    "print(\"Milne: $Milne\")"
   ]
  },
  {
   "cell_type": "markdown",
   "metadata": {},
   "source": [
    "### 5) ¿ Con qué grado de exactitud podemos calcular $\\sqrt(117)$ mediante interpolación polinómica para la función $y=\\sqrt(x)$ si elegimos los puntos $x_0=100$, $x_1=121$, $x_2=144$?¿Y si se eligen $x_0=100$, $x_1=110$, $x_2=120$?"
   ]
  },
  {
   "cell_type": "markdown",
   "metadata": {},
   "source": [
    "1) El error de aproximación está  dado por \n",
    "$$E=f(x)-p(x)=\\frac{f^n(\\xi_x)}{n!}(x-x_0)...(x-x_n)$$\n",
    "\n",
    "Entonces \n",
    "$$y=\\sqrt(x)$$\n",
    "\n",
    "$$y^{'}=\\frac{1}{2}x^{\\frac{-1}{2}}$$\n",
    "\n",
    "$$y^{''}=\\frac{-1}{4}x^{\\frac{-3}{2}}$$\n",
    "\n",
    "$$y^{'''}=\\frac{3}{8}x^{\\frac{-5}{2}}$$\n",
    "\n",
    "Sustituyendo en la formula \n",
    "$$E=f(x)-p(x)=\\frac{f^n(\\xi_x)}{3!}(x-100)(x-121)(x-144)$$\n",
    "\n",
    "Para $100 \\leq x \\leq 144$\n",
    "$$|\\sqrt(x)-p(117)| \\leq \\frac{1}{6}(\\frac{3}{8}100^{\\frac{-5}{2}})(117-100)(117-121)(117-144)$$\n",
    "\n",
    "Entonces el error con $x=117$ es:\n",
    "\n",
    "$$|\\sqrt(x)-p(117)|\\leq 1.1475 x 10^{-3}$$\n",
    "\n",
    "\n",
    "Nota: utilizamos el intevalo más pequeño que es $100$, para el valor de $x=117$"
   ]
  },
  {
   "cell_type": "code",
   "execution_count": 22,
   "metadata": {},
   "outputs": [
    {
     "data": {
      "text/plain": [
       "0.0011475"
      ]
     },
     "execution_count": 22,
     "metadata": {},
     "output_type": "execute_result"
    }
   ],
   "source": [
    "(1/6)*((3/8)*100^(-5/2))*(117-100)*(117-121)*(117-144)"
   ]
  },
  {
   "cell_type": "markdown",
   "metadata": {},
   "source": [
    "2) ¿ Y si se eligen $x_0=100$, $x_0=110$, $x_0=120$\n",
    "\n",
    "El valor del intervalo más pequeño sigue siendo el mismo. El grado de exactitud del polinomio es evaluado en esos puntos es:\n",
    "\n",
    "$$|\\sqrt(x)-p(117)| \\leq \\frac{1}{6}(\\frac{3}{8}100^{\\frac{-5}{2}})(117-100)(117-110)(117-120)$$\n",
    "\n",
    "Por lo tanto, con esos puntos, el grado de exactitud al aproximar el valor $x=\\sqrt(117)$ que se obtiene al calcularlo con un polinomio es:\n",
    "\n",
    "\n",
    "$$|\\sqrt(x)-p(117)|\\leq -2.23125 x 10^{-4}$$"
   ]
  },
  {
   "cell_type": "code",
   "execution_count": 23,
   "metadata": {},
   "outputs": [
    {
     "data": {
      "text/plain": [
       "-0.00022312500000000002"
      ]
     },
     "execution_count": 23,
     "metadata": {},
     "output_type": "execute_result"
    }
   ],
   "source": [
    "(1/6)*((3/8)*100^(-5/2))*(117-100)*(117-110)*(117-120)"
   ]
  },
  {
   "cell_type": "markdown",
   "metadata": {},
   "source": [
    "### 6) Calcular $\\sqrt(117)$ con ocho puntos elegidos de forma que sean las raíces del polinomio de Tchebychev en e intervalo de 100 a 200. ¿Y su se eligen los ochos puntos de la distribución unifome?. Gráfica entre el intervalo 100 a 200 con estos ocho puntos ambos casos."
   ]
  },
  {
   "cell_type": "code",
   "execution_count": 297,
   "metadata": {},
   "outputs": [
    {
     "data": {
      "text/plain": [
       "xk (generic function with 1 method)"
      ]
     },
     "execution_count": 297,
     "metadata": {},
     "output_type": "execute_result"
    }
   ],
   "source": [
    "# k = 0,....,7\n",
    "xk(k,n) = cospi(((2*k+1)/(2*n)))\n"
   ]
  },
  {
   "cell_type": "markdown",
   "metadata": {},
   "source": [
    "Evaluando las $n$ raíces del polinomio"
   ]
  },
  {
   "cell_type": "code",
   "execution_count": 302,
   "metadata": {},
   "outputs": [
    {
     "data": {
      "text/plain": [
       "0.9807852804032304"
      ]
     },
     "execution_count": 302,
     "metadata": {},
     "output_type": "execute_result"
    }
   ],
   "source": [
    "tc = range(0, stop = 7, length = 8)\n",
    "xk0= xk(tc[1],8)\n"
   ]
  },
  {
   "cell_type": "code",
   "execution_count": 322,
   "metadata": {},
   "outputs": [
    {
     "data": {
      "text/plain": [
       "0.8314696123025452"
      ]
     },
     "execution_count": 322,
     "metadata": {},
     "output_type": "execute_result"
    }
   ],
   "source": [
    "xk1=xk(tc[2],8)"
   ]
  },
  {
   "cell_type": "code",
   "execution_count": 323,
   "metadata": {},
   "outputs": [
    {
     "data": {
      "text/plain": [
       "0.5555702330196022"
      ]
     },
     "execution_count": 323,
     "metadata": {},
     "output_type": "execute_result"
    }
   ],
   "source": [
    "xk2=xk(tc[3],8)"
   ]
  },
  {
   "cell_type": "code",
   "execution_count": 324,
   "metadata": {},
   "outputs": [
    {
     "data": {
      "text/plain": [
       "0.19509032201612828"
      ]
     },
     "execution_count": 324,
     "metadata": {},
     "output_type": "execute_result"
    }
   ],
   "source": [
    "xk3=xk(tc[4],8)"
   ]
  },
  {
   "cell_type": "code",
   "execution_count": 325,
   "metadata": {},
   "outputs": [
    {
     "data": {
      "text/plain": [
       "-0.19509032201612828"
      ]
     },
     "execution_count": 325,
     "metadata": {},
     "output_type": "execute_result"
    }
   ],
   "source": [
    "xk4=xk(tc[5],8)"
   ]
  },
  {
   "cell_type": "code",
   "execution_count": 326,
   "metadata": {},
   "outputs": [
    {
     "data": {
      "text/plain": [
       "-0.19509032201612828"
      ]
     },
     "execution_count": 326,
     "metadata": {},
     "output_type": "execute_result"
    }
   ],
   "source": [
    "xk5=xk(tc[5],8)"
   ]
  },
  {
   "cell_type": "code",
   "execution_count": 327,
   "metadata": {},
   "outputs": [
    {
     "data": {
      "text/plain": [
       "-0.8314696123025452"
      ]
     },
     "execution_count": 327,
     "metadata": {},
     "output_type": "execute_result"
    }
   ],
   "source": [
    "xk6=xk(tc[7],8)"
   ]
  },
  {
   "cell_type": "code",
   "execution_count": 328,
   "metadata": {},
   "outputs": [
    {
     "data": {
      "text/plain": [
       "-0.9807852804032304"
      ]
     },
     "execution_count": 328,
     "metadata": {},
     "output_type": "execute_result"
    }
   ],
   "source": [
    "xk7=xk(tc[8],8)"
   ]
  },
  {
   "cell_type": "code",
   "execution_count": 329,
   "metadata": {},
   "outputs": [
    {
     "data": {
      "text/plain": [
       "Plots.GRBackend()"
      ]
     },
     "execution_count": 329,
     "metadata": {},
     "output_type": "execute_result"
    }
   ],
   "source": [
    "using Plots\n",
    "gr()"
   ]
  },
  {
   "cell_type": "code",
   "execution_count": 330,
   "metadata": {},
   "outputs": [
    {
     "data": {
      "image/svg+xml": [
       "<?xml version=\"1.0\" encoding=\"utf-8\"?>\n",
       "<svg xmlns=\"http://www.w3.org/2000/svg\" xmlns:xlink=\"http://www.w3.org/1999/xlink\" width=\"600\" height=\"400\" viewBox=\"0 0 2400 1600\">\n",
       "<defs>\n",
       "  <clipPath id=\"clip9700\">\n",
       "    <rect x=\"0\" y=\"0\" width=\"2000\" height=\"2000\"/>\n",
       "  </clipPath>\n",
       "</defs>\n",
       "<defs>\n",
       "  <clipPath id=\"clip9701\">\n",
       "    <rect x=\"0\" y=\"0\" width=\"2400\" height=\"1600\"/>\n",
       "  </clipPath>\n",
       "</defs>\n",
       "<polygon clip-path=\"url(#clip9701)\" points=\"\n",
       "0,1600 2400,1600 2400,0 0,0 \n",
       "  \" fill=\"#333333\" fill-rule=\"evenodd\" fill-opacity=\"1\"/>\n",
       "<defs>\n",
       "  <clipPath id=\"clip9702\">\n",
       "    <rect x=\"480\" y=\"0\" width=\"1681\" height=\"1600\"/>\n",
       "  </clipPath>\n",
       "</defs>\n",
       "<polygon clip-path=\"url(#clip9701)\" points=\"\n",
       "252.496,1440.48 2321.26,1440.48 2321.26,125.984 252.496,125.984 \n",
       "  \" fill=\"#333333\" fill-rule=\"evenodd\" fill-opacity=\"1\"/>\n",
       "<defs>\n",
       "  <clipPath id=\"clip9703\">\n",
       "    <rect x=\"252\" y=\"125\" width=\"2070\" height=\"1315\"/>\n",
       "  </clipPath>\n",
       "</defs>\n",
       "<polyline clip-path=\"url(#clip9703)\" style=\"stroke:#ffffff; stroke-width:2; stroke-opacity:0.1; fill:none\" points=\"\n",
       "  589.855,1440.48 589.855,125.984 \n",
       "  \"/>\n",
       "<polyline clip-path=\"url(#clip9703)\" style=\"stroke:#ffffff; stroke-width:2; stroke-opacity:0.1; fill:none\" points=\"\n",
       "  1147.47,1440.48 1147.47,125.984 \n",
       "  \"/>\n",
       "<polyline clip-path=\"url(#clip9703)\" style=\"stroke:#ffffff; stroke-width:2; stroke-opacity:0.1; fill:none\" points=\"\n",
       "  1705.09,1440.48 1705.09,125.984 \n",
       "  \"/>\n",
       "<polyline clip-path=\"url(#clip9703)\" style=\"stroke:#ffffff; stroke-width:2; stroke-opacity:0.1; fill:none\" points=\"\n",
       "  2262.71,1440.48 2262.71,125.984 \n",
       "  \"/>\n",
       "<polyline clip-path=\"url(#clip9703)\" style=\"stroke:#ffffff; stroke-width:2; stroke-opacity:0.1; fill:none\" points=\"\n",
       "  252.496,1415.43 2321.26,1415.43 \n",
       "  \"/>\n",
       "<polyline clip-path=\"url(#clip9703)\" style=\"stroke:#ffffff; stroke-width:2; stroke-opacity:0.1; fill:none\" points=\"\n",
       "  252.496,1099.33 2321.26,1099.33 \n",
       "  \"/>\n",
       "<polyline clip-path=\"url(#clip9703)\" style=\"stroke:#ffffff; stroke-width:2; stroke-opacity:0.1; fill:none\" points=\"\n",
       "  252.496,783.233 2321.26,783.233 \n",
       "  \"/>\n",
       "<polyline clip-path=\"url(#clip9703)\" style=\"stroke:#ffffff; stroke-width:2; stroke-opacity:0.1; fill:none\" points=\"\n",
       "  252.496,467.137 2321.26,467.137 \n",
       "  \"/>\n",
       "<polyline clip-path=\"url(#clip9703)\" style=\"stroke:#ffffff; stroke-width:2; stroke-opacity:0.1; fill:none\" points=\"\n",
       "  252.496,151.04 2321.26,151.04 \n",
       "  \"/>\n",
       "<polyline clip-path=\"url(#clip9701)\" style=\"stroke:#ffffff; stroke-width:4; stroke-opacity:1; fill:none\" points=\"\n",
       "  252.496,1440.48 2321.26,1440.48 \n",
       "  \"/>\n",
       "<polyline clip-path=\"url(#clip9701)\" style=\"stroke:#ffffff; stroke-width:4; stroke-opacity:1; fill:none\" points=\"\n",
       "  252.496,1440.48 252.496,125.984 \n",
       "  \"/>\n",
       "<polyline clip-path=\"url(#clip9701)\" style=\"stroke:#ffffff; stroke-width:4; stroke-opacity:1; fill:none\" points=\"\n",
       "  589.855,1440.48 589.855,1420.77 \n",
       "  \"/>\n",
       "<polyline clip-path=\"url(#clip9701)\" style=\"stroke:#ffffff; stroke-width:4; stroke-opacity:1; fill:none\" points=\"\n",
       "  1147.47,1440.48 1147.47,1420.77 \n",
       "  \"/>\n",
       "<polyline clip-path=\"url(#clip9701)\" style=\"stroke:#ffffff; stroke-width:4; stroke-opacity:1; fill:none\" points=\"\n",
       "  1705.09,1440.48 1705.09,1420.77 \n",
       "  \"/>\n",
       "<polyline clip-path=\"url(#clip9701)\" style=\"stroke:#ffffff; stroke-width:4; stroke-opacity:1; fill:none\" points=\"\n",
       "  2262.71,1440.48 2262.71,1420.77 \n",
       "  \"/>\n",
       "<polyline clip-path=\"url(#clip9701)\" style=\"stroke:#ffffff; stroke-width:4; stroke-opacity:1; fill:none\" points=\"\n",
       "  252.496,1415.43 283.528,1415.43 \n",
       "  \"/>\n",
       "<polyline clip-path=\"url(#clip9701)\" style=\"stroke:#ffffff; stroke-width:4; stroke-opacity:1; fill:none\" points=\"\n",
       "  252.496,1099.33 283.528,1099.33 \n",
       "  \"/>\n",
       "<polyline clip-path=\"url(#clip9701)\" style=\"stroke:#ffffff; stroke-width:4; stroke-opacity:1; fill:none\" points=\"\n",
       "  252.496,783.233 283.528,783.233 \n",
       "  \"/>\n",
       "<polyline clip-path=\"url(#clip9701)\" style=\"stroke:#ffffff; stroke-width:4; stroke-opacity:1; fill:none\" points=\"\n",
       "  252.496,467.137 283.528,467.137 \n",
       "  \"/>\n",
       "<polyline clip-path=\"url(#clip9701)\" style=\"stroke:#ffffff; stroke-width:4; stroke-opacity:1; fill:none\" points=\"\n",
       "  252.496,151.04 283.528,151.04 \n",
       "  \"/>\n",
       "<g clip-path=\"url(#clip9701)\">\n",
       "<text style=\"fill:#ffffff; fill-opacity:1; font-family:Arial,Helvetica Neue,Helvetica,sans-serif; font-size:48px; text-anchor:middle;\" transform=\"rotate(0, 589.855, 1494.48)\" x=\"589.855\" y=\"1494.48\">2</text>\n",
       "</g>\n",
       "<g clip-path=\"url(#clip9701)\">\n",
       "<text style=\"fill:#ffffff; fill-opacity:1; font-family:Arial,Helvetica Neue,Helvetica,sans-serif; font-size:48px; text-anchor:middle;\" transform=\"rotate(0, 1147.47, 1494.48)\" x=\"1147.47\" y=\"1494.48\">4</text>\n",
       "</g>\n",
       "<g clip-path=\"url(#clip9701)\">\n",
       "<text style=\"fill:#ffffff; fill-opacity:1; font-family:Arial,Helvetica Neue,Helvetica,sans-serif; font-size:48px; text-anchor:middle;\" transform=\"rotate(0, 1705.09, 1494.48)\" x=\"1705.09\" y=\"1494.48\">6</text>\n",
       "</g>\n",
       "<g clip-path=\"url(#clip9701)\">\n",
       "<text style=\"fill:#ffffff; fill-opacity:1; font-family:Arial,Helvetica Neue,Helvetica,sans-serif; font-size:48px; text-anchor:middle;\" transform=\"rotate(0, 2262.71, 1494.48)\" x=\"2262.71\" y=\"1494.48\">8</text>\n",
       "</g>\n",
       "<g clip-path=\"url(#clip9701)\">\n",
       "<text style=\"fill:#ffffff; fill-opacity:1; font-family:Arial,Helvetica Neue,Helvetica,sans-serif; font-size:48px; text-anchor:end;\" transform=\"rotate(0, 228.496, 1432.93)\" x=\"228.496\" y=\"1432.93\">-1.0</text>\n",
       "</g>\n",
       "<g clip-path=\"url(#clip9701)\">\n",
       "<text style=\"fill:#ffffff; fill-opacity:1; font-family:Arial,Helvetica Neue,Helvetica,sans-serif; font-size:48px; text-anchor:end;\" transform=\"rotate(0, 228.496, 1116.83)\" x=\"228.496\" y=\"1116.83\">-0.5</text>\n",
       "</g>\n",
       "<g clip-path=\"url(#clip9701)\">\n",
       "<text style=\"fill:#ffffff; fill-opacity:1; font-family:Arial,Helvetica Neue,Helvetica,sans-serif; font-size:48px; text-anchor:end;\" transform=\"rotate(0, 228.496, 800.733)\" x=\"228.496\" y=\"800.733\">0.0</text>\n",
       "</g>\n",
       "<g clip-path=\"url(#clip9701)\">\n",
       "<text style=\"fill:#ffffff; fill-opacity:1; font-family:Arial,Helvetica Neue,Helvetica,sans-serif; font-size:48px; text-anchor:end;\" transform=\"rotate(0, 228.496, 484.637)\" x=\"228.496\" y=\"484.637\">0.5</text>\n",
       "</g>\n",
       "<g clip-path=\"url(#clip9701)\">\n",
       "<text style=\"fill:#ffffff; fill-opacity:1; font-family:Arial,Helvetica Neue,Helvetica,sans-serif; font-size:48px; text-anchor:end;\" transform=\"rotate(0, 228.496, 168.54)\" x=\"228.496\" y=\"168.54\">1.0</text>\n",
       "</g>\n",
       "<g clip-path=\"url(#clip9701)\">\n",
       "<text style=\"fill:#ffffff; fill-opacity:1; font-family:Arial,Helvetica Neue,Helvetica,sans-serif; font-size:84px; text-anchor:middle;\" transform=\"rotate(0, 1286.88, 73.2)\" x=\"1286.88\" y=\"73.2\">Puntos de Tchebychev</text>\n",
       "</g>\n",
       "<g clip-path=\"url(#clip9701)\">\n",
       "<text style=\"fill:#ffffff; fill-opacity:1; font-family:Arial,Helvetica Neue,Helvetica,sans-serif; font-size:66px; text-anchor:middle;\" transform=\"rotate(0, 1286.88, 1590.4)\" x=\"1286.88\" y=\"1590.4\">K</text>\n",
       "</g>\n",
       "<g clip-path=\"url(#clip9701)\">\n",
       "<text style=\"fill:#ffffff; fill-opacity:1; font-family:Arial,Helvetica Neue,Helvetica,sans-serif; font-size:66px; text-anchor:middle;\" transform=\"rotate(-90, 57.6, 783.233)\" x=\"57.6\" y=\"783.233\">Valores</text>\n",
       "</g>\n",
       "<polyline clip-path=\"url(#clip9703)\" style=\"stroke:#ffffff; stroke-width:12; stroke-opacity:1; fill:none\" stroke-dasharray=\"6, 12\" points=\"\n",
       "  311.046,163.187 589.855,257.583 868.664,432.005 1147.47,659.899 1426.28,906.568 1705.09,906.568 1983.9,1308.88 2262.71,1403.28 \n",
       "  \"/>\n",
       "</svg>\n"
      ]
     },
     "execution_count": 330,
     "metadata": {},
     "output_type": "execute_result"
    }
   ],
   "source": [
    "X =[xk0 xk1 xk2 xk3 xk4 xk5 xk6 xk7]'\n",
    "index = [ 1 2 3 4 5 6 7 8 ]'\n",
    "plot(index,X,line=(:dot, 3),title=[\"Puntos de Tchebychev\" \"\"], background_color=RGB(0.2,0.2,0.2), color=[:white],label=\"\")\n",
    "yaxis!(\"Valores\")\n",
    "xaxis!(\"K\")\n"
   ]
  },
  {
   "cell_type": "markdown",
   "metadata": {},
   "source": [
    "Ahora realizando el mapeo"
   ]
  },
  {
   "cell_type": "code",
   "execution_count": 317,
   "metadata": {},
   "outputs": [
    {
     "data": {
      "text/plain": [
       "bitective (generic function with 2 methods)"
      ]
     },
     "execution_count": 317,
     "metadata": {},
     "output_type": "execute_result"
    }
   ],
   "source": [
    "bitective(x,a,b)= a+((b-a)/2)*(x+1)"
   ]
  },
  {
   "cell_type": "code",
   "execution_count": 344,
   "metadata": {},
   "outputs": [
    {
     "data": {
      "image/svg+xml": [
       "<?xml version=\"1.0\" encoding=\"utf-8\"?>\n",
       "<svg xmlns=\"http://www.w3.org/2000/svg\" xmlns:xlink=\"http://www.w3.org/1999/xlink\" width=\"600\" height=\"400\" viewBox=\"0 0 2400 1600\">\n",
       "<defs>\n",
       "  <clipPath id=\"clip1500\">\n",
       "    <rect x=\"0\" y=\"0\" width=\"2000\" height=\"2000\"/>\n",
       "  </clipPath>\n",
       "</defs>\n",
       "<defs>\n",
       "  <clipPath id=\"clip1501\">\n",
       "    <rect x=\"0\" y=\"0\" width=\"2400\" height=\"1600\"/>\n",
       "  </clipPath>\n",
       "</defs>\n",
       "<polygon clip-path=\"url(#clip1501)\" points=\"\n",
       "0,1600 2400,1600 2400,0 0,0 \n",
       "  \" fill=\"#333333\" fill-rule=\"evenodd\" fill-opacity=\"1\"/>\n",
       "<defs>\n",
       "  <clipPath id=\"clip1502\">\n",
       "    <rect x=\"480\" y=\"0\" width=\"1681\" height=\"1600\"/>\n",
       "  </clipPath>\n",
       "</defs>\n",
       "<polygon clip-path=\"url(#clip1501)\" points=\"\n",
       "237.767,1440.48 2321.26,1440.48 2321.26,125.984 237.767,125.984 \n",
       "  \" fill=\"#333333\" fill-rule=\"evenodd\" fill-opacity=\"1\"/>\n",
       "<defs>\n",
       "  <clipPath id=\"clip1503\">\n",
       "    <rect x=\"237\" y=\"125\" width=\"2084\" height=\"1315\"/>\n",
       "  </clipPath>\n",
       "</defs>\n",
       "<polyline clip-path=\"url(#clip1503)\" style=\"stroke:#ffffff; stroke-width:2; stroke-opacity:0.1; fill:none\" points=\"\n",
       "  577.528,1440.48 577.528,125.984 \n",
       "  \"/>\n",
       "<polyline clip-path=\"url(#clip1503)\" style=\"stroke:#ffffff; stroke-width:2; stroke-opacity:0.1; fill:none\" points=\"\n",
       "  1139.12,1440.48 1139.12,125.984 \n",
       "  \"/>\n",
       "<polyline clip-path=\"url(#clip1503)\" style=\"stroke:#ffffff; stroke-width:2; stroke-opacity:0.1; fill:none\" points=\"\n",
       "  1700.7,1440.48 1700.7,125.984 \n",
       "  \"/>\n",
       "<polyline clip-path=\"url(#clip1503)\" style=\"stroke:#ffffff; stroke-width:2; stroke-opacity:0.1; fill:none\" points=\"\n",
       "  2262.29,1440.48 2262.29,125.984 \n",
       "  \"/>\n",
       "<polyline clip-path=\"url(#clip1503)\" style=\"stroke:#ffffff; stroke-width:2; stroke-opacity:0.1; fill:none\" points=\"\n",
       "  237.767,1415.43 2321.26,1415.43 \n",
       "  \"/>\n",
       "<polyline clip-path=\"url(#clip1503)\" style=\"stroke:#ffffff; stroke-width:2; stroke-opacity:0.1; fill:none\" points=\"\n",
       "  237.767,1099.33 2321.26,1099.33 \n",
       "  \"/>\n",
       "<polyline clip-path=\"url(#clip1503)\" style=\"stroke:#ffffff; stroke-width:2; stroke-opacity:0.1; fill:none\" points=\"\n",
       "  237.767,783.233 2321.26,783.233 \n",
       "  \"/>\n",
       "<polyline clip-path=\"url(#clip1503)\" style=\"stroke:#ffffff; stroke-width:2; stroke-opacity:0.1; fill:none\" points=\"\n",
       "  237.767,467.137 2321.26,467.137 \n",
       "  \"/>\n",
       "<polyline clip-path=\"url(#clip1503)\" style=\"stroke:#ffffff; stroke-width:2; stroke-opacity:0.1; fill:none\" points=\"\n",
       "  237.767,151.04 2321.26,151.04 \n",
       "  \"/>\n",
       "<polyline clip-path=\"url(#clip1501)\" style=\"stroke:#ffffff; stroke-width:4; stroke-opacity:1; fill:none\" points=\"\n",
       "  237.767,1440.48 2321.26,1440.48 \n",
       "  \"/>\n",
       "<polyline clip-path=\"url(#clip1501)\" style=\"stroke:#ffffff; stroke-width:4; stroke-opacity:1; fill:none\" points=\"\n",
       "  237.767,1440.48 237.767,125.984 \n",
       "  \"/>\n",
       "<polyline clip-path=\"url(#clip1501)\" style=\"stroke:#ffffff; stroke-width:4; stroke-opacity:1; fill:none\" points=\"\n",
       "  577.528,1440.48 577.528,1420.77 \n",
       "  \"/>\n",
       "<polyline clip-path=\"url(#clip1501)\" style=\"stroke:#ffffff; stroke-width:4; stroke-opacity:1; fill:none\" points=\"\n",
       "  1139.12,1440.48 1139.12,1420.77 \n",
       "  \"/>\n",
       "<polyline clip-path=\"url(#clip1501)\" style=\"stroke:#ffffff; stroke-width:4; stroke-opacity:1; fill:none\" points=\"\n",
       "  1700.7,1440.48 1700.7,1420.77 \n",
       "  \"/>\n",
       "<polyline clip-path=\"url(#clip1501)\" style=\"stroke:#ffffff; stroke-width:4; stroke-opacity:1; fill:none\" points=\"\n",
       "  2262.29,1440.48 2262.29,1420.77 \n",
       "  \"/>\n",
       "<polyline clip-path=\"url(#clip1501)\" style=\"stroke:#ffffff; stroke-width:4; stroke-opacity:1; fill:none\" points=\"\n",
       "  237.767,1415.43 269.02,1415.43 \n",
       "  \"/>\n",
       "<polyline clip-path=\"url(#clip1501)\" style=\"stroke:#ffffff; stroke-width:4; stroke-opacity:1; fill:none\" points=\"\n",
       "  237.767,1099.33 269.02,1099.33 \n",
       "  \"/>\n",
       "<polyline clip-path=\"url(#clip1501)\" style=\"stroke:#ffffff; stroke-width:4; stroke-opacity:1; fill:none\" points=\"\n",
       "  237.767,783.233 269.02,783.233 \n",
       "  \"/>\n",
       "<polyline clip-path=\"url(#clip1501)\" style=\"stroke:#ffffff; stroke-width:4; stroke-opacity:1; fill:none\" points=\"\n",
       "  237.767,467.137 269.02,467.137 \n",
       "  \"/>\n",
       "<polyline clip-path=\"url(#clip1501)\" style=\"stroke:#ffffff; stroke-width:4; stroke-opacity:1; fill:none\" points=\"\n",
       "  237.767,151.04 269.02,151.04 \n",
       "  \"/>\n",
       "<g clip-path=\"url(#clip1501)\">\n",
       "<text style=\"fill:#ffffff; fill-opacity:1; font-family:Arial,Helvetica Neue,Helvetica,sans-serif; font-size:48px; text-anchor:middle;\" transform=\"rotate(0, 577.528, 1494.48)\" x=\"577.528\" y=\"1494.48\">2</text>\n",
       "</g>\n",
       "<g clip-path=\"url(#clip1501)\">\n",
       "<text style=\"fill:#ffffff; fill-opacity:1; font-family:Arial,Helvetica Neue,Helvetica,sans-serif; font-size:48px; text-anchor:middle;\" transform=\"rotate(0, 1139.12, 1494.48)\" x=\"1139.12\" y=\"1494.48\">4</text>\n",
       "</g>\n",
       "<g clip-path=\"url(#clip1501)\">\n",
       "<text style=\"fill:#ffffff; fill-opacity:1; font-family:Arial,Helvetica Neue,Helvetica,sans-serif; font-size:48px; text-anchor:middle;\" transform=\"rotate(0, 1700.7, 1494.48)\" x=\"1700.7\" y=\"1494.48\">6</text>\n",
       "</g>\n",
       "<g clip-path=\"url(#clip1501)\">\n",
       "<text style=\"fill:#ffffff; fill-opacity:1; font-family:Arial,Helvetica Neue,Helvetica,sans-serif; font-size:48px; text-anchor:middle;\" transform=\"rotate(0, 2262.29, 1494.48)\" x=\"2262.29\" y=\"1494.48\">8</text>\n",
       "</g>\n",
       "<g clip-path=\"url(#clip1501)\">\n",
       "<text style=\"fill:#ffffff; fill-opacity:1; font-family:Arial,Helvetica Neue,Helvetica,sans-serif; font-size:48px; text-anchor:end;\" transform=\"rotate(0, 213.767, 1432.93)\" x=\"213.767\" y=\"1432.93\">100</text>\n",
       "</g>\n",
       "<g clip-path=\"url(#clip1501)\">\n",
       "<text style=\"fill:#ffffff; fill-opacity:1; font-family:Arial,Helvetica Neue,Helvetica,sans-serif; font-size:48px; text-anchor:end;\" transform=\"rotate(0, 213.767, 1116.83)\" x=\"213.767\" y=\"1116.83\">125</text>\n",
       "</g>\n",
       "<g clip-path=\"url(#clip1501)\">\n",
       "<text style=\"fill:#ffffff; fill-opacity:1; font-family:Arial,Helvetica Neue,Helvetica,sans-serif; font-size:48px; text-anchor:end;\" transform=\"rotate(0, 213.767, 800.733)\" x=\"213.767\" y=\"800.733\">150</text>\n",
       "</g>\n",
       "<g clip-path=\"url(#clip1501)\">\n",
       "<text style=\"fill:#ffffff; fill-opacity:1; font-family:Arial,Helvetica Neue,Helvetica,sans-serif; font-size:48px; text-anchor:end;\" transform=\"rotate(0, 213.767, 484.637)\" x=\"213.767\" y=\"484.637\">175</text>\n",
       "</g>\n",
       "<g clip-path=\"url(#clip1501)\">\n",
       "<text style=\"fill:#ffffff; fill-opacity:1; font-family:Arial,Helvetica Neue,Helvetica,sans-serif; font-size:48px; text-anchor:end;\" transform=\"rotate(0, 213.767, 168.54)\" x=\"213.767\" y=\"168.54\">200</text>\n",
       "</g>\n",
       "<g clip-path=\"url(#clip1501)\">\n",
       "<text style=\"fill:#ffffff; fill-opacity:1; font-family:Arial,Helvetica Neue,Helvetica,sans-serif; font-size:84px; text-anchor:middle;\" transform=\"rotate(0, 1279.51, 73.2)\" x=\"1279.51\" y=\"73.2\">Transformacion Tchebyche</text>\n",
       "</g>\n",
       "<g clip-path=\"url(#clip1501)\">\n",
       "<text style=\"fill:#ffffff; fill-opacity:1; font-family:Arial,Helvetica Neue,Helvetica,sans-serif; font-size:66px; text-anchor:middle;\" transform=\"rotate(0, 1279.51, 1590.4)\" x=\"1279.51\" y=\"1590.4\">K</text>\n",
       "</g>\n",
       "<g clip-path=\"url(#clip1501)\">\n",
       "<text style=\"fill:#ffffff; fill-opacity:1; font-family:Arial,Helvetica Neue,Helvetica,sans-serif; font-size:66px; text-anchor:middle;\" transform=\"rotate(-90, 57.6, 783.233)\" x=\"57.6\" y=\"783.233\">Valores</text>\n",
       "</g>\n",
       "<polyline clip-path=\"url(#clip1503)\" style=\"stroke:#ffffff; stroke-width:12; stroke-opacity:1; fill:none\" stroke-dasharray=\"6, 12\" points=\"\n",
       "  296.734,163.187 577.528,257.583 858.322,432.005 1139.12,659.899 1419.91,906.568 1700.7,906.568 1981.5,1308.88 2262.29,1403.28 \n",
       "  \"/>\n",
       "</svg>\n"
      ]
     },
     "execution_count": 344,
     "metadata": {},
     "output_type": "execute_result"
    }
   ],
   "source": [
    "# evaluando raices de tchevice\n",
    "x0unif = bitective(xk0,100,200)\n",
    "x1unif = bitective(xk1,100,200)\n",
    "x2unif = bitective(xk2,100,200)\n",
    "x3unif = bitective(xk3,100,200)\n",
    "x4unif = bitective(xk4,100,200)\n",
    "x5unif = bitective(xk5,100,200)\n",
    "x6unif = bitective(xk6,100,200)\n",
    "x7unif = bitective(xk7,100,200)\n",
    "Tchev =[ x0unif x1unif x2unif x3unif x4unif x5unif x6unif x7unif]'\n",
    "plot(index,Tchev,line=(:dot, 3),title=[\"Transformacion Tchebyche\" \"\"], background_color=RGB(0.2,0.2,0.2), color=[:white],label=\"\")\n",
    "yaxis!(\"Valores\")\n",
    "xaxis!(\"K\")"
   ]
  },
  {
   "cell_type": "markdown",
   "metadata": {},
   "source": [
    "Ahora se necesita pasar al intervalo de interpolación de las raíces obtenidad. Se realiza construyendo una aplicación biyectiva, que transforme el intervalo $[-1,1]$ a $[100,200]$\n",
    "\n",
    "$$f(-1)=100$$\n",
    "$$f(1)=200$$\n",
    "\n",
    "Lo cual nos queda un problema de interpolación que podemos resolver con Newton en diferencias divididas. El polinómio es:\n",
    "\n",
    "$$\\frac{(x_1-x)f(x_0)+(x-x_0)f(x_1)}{x_1-x_0}=$$\n",
    "\n",
    "$$=\\frac{(1-x)f(-1)+(x+1)f(1)}{2}$$\n",
    "\n",
    "Evaluando:\n",
    "\n",
    "$$=\\frac{100(1-x)+200(x+1)}{2}$$\n",
    "\n",
    "$$=50(1-x)+100(x+1)$$\n",
    "\n",
    "\n",
    "$$=50-50x+100x+100)$$\n",
    "\n",
    "$$=150+50x$$\n",
    "\n",
    "De esta manera :\n",
    "\n",
    "$$p(x)=150+50x$$"
   ]
  },
  {
   "cell_type": "code",
   "execution_count": 334,
   "metadata": {},
   "outputs": [
    {
     "data": {
      "image/svg+xml": [
       "<?xml version=\"1.0\" encoding=\"utf-8\"?>\n",
       "<svg xmlns=\"http://www.w3.org/2000/svg\" xmlns:xlink=\"http://www.w3.org/1999/xlink\" width=\"600\" height=\"400\" viewBox=\"0 0 2400 1600\">\n",
       "<defs>\n",
       "  <clipPath id=\"clip0300\">\n",
       "    <rect x=\"0\" y=\"0\" width=\"2000\" height=\"2000\"/>\n",
       "  </clipPath>\n",
       "</defs>\n",
       "<defs>\n",
       "  <clipPath id=\"clip0301\">\n",
       "    <rect x=\"0\" y=\"0\" width=\"2400\" height=\"1600\"/>\n",
       "  </clipPath>\n",
       "</defs>\n",
       "<polygon clip-path=\"url(#clip0301)\" points=\"\n",
       "0,1600 2400,1600 2400,0 0,0 \n",
       "  \" fill=\"#333333\" fill-rule=\"evenodd\" fill-opacity=\"1\"/>\n",
       "<defs>\n",
       "  <clipPath id=\"clip0302\">\n",
       "    <rect x=\"480\" y=\"0\" width=\"1681\" height=\"1600\"/>\n",
       "  </clipPath>\n",
       "</defs>\n",
       "<polygon clip-path=\"url(#clip0301)\" points=\"\n",
       "252.496,1440.48 2321.26,1440.48 2321.26,125.984 252.496,125.984 \n",
       "  \" fill=\"#333333\" fill-rule=\"evenodd\" fill-opacity=\"1\"/>\n",
       "<defs>\n",
       "  <clipPath id=\"clip0303\">\n",
       "    <rect x=\"252\" y=\"125\" width=\"2070\" height=\"1315\"/>\n",
       "  </clipPath>\n",
       "</defs>\n",
       "<polyline clip-path=\"url(#clip0303)\" style=\"stroke:#ffffff; stroke-width:2; stroke-opacity:0.1; fill:none\" points=\"\n",
       "  589.855,1440.48 589.855,125.984 \n",
       "  \"/>\n",
       "<polyline clip-path=\"url(#clip0303)\" style=\"stroke:#ffffff; stroke-width:2; stroke-opacity:0.1; fill:none\" points=\"\n",
       "  1147.47,1440.48 1147.47,125.984 \n",
       "  \"/>\n",
       "<polyline clip-path=\"url(#clip0303)\" style=\"stroke:#ffffff; stroke-width:2; stroke-opacity:0.1; fill:none\" points=\"\n",
       "  1705.09,1440.48 1705.09,125.984 \n",
       "  \"/>\n",
       "<polyline clip-path=\"url(#clip0303)\" style=\"stroke:#ffffff; stroke-width:2; stroke-opacity:0.1; fill:none\" points=\"\n",
       "  2262.71,1440.48 2262.71,125.984 \n",
       "  \"/>\n",
       "<polyline clip-path=\"url(#clip0303)\" style=\"stroke:#ffffff; stroke-width:2; stroke-opacity:0.1; fill:none\" points=\"\n",
       "  252.496,1403.28 2321.26,1403.28 \n",
       "  \"/>\n",
       "<polyline clip-path=\"url(#clip0303)\" style=\"stroke:#ffffff; stroke-width:2; stroke-opacity:0.1; fill:none\" points=\"\n",
       "  252.496,1093.26 2321.26,1093.26 \n",
       "  \"/>\n",
       "<polyline clip-path=\"url(#clip0303)\" style=\"stroke:#ffffff; stroke-width:2; stroke-opacity:0.1; fill:none\" points=\"\n",
       "  252.496,783.233 2321.26,783.233 \n",
       "  \"/>\n",
       "<polyline clip-path=\"url(#clip0303)\" style=\"stroke:#ffffff; stroke-width:2; stroke-opacity:0.1; fill:none\" points=\"\n",
       "  252.496,473.21 2321.26,473.21 \n",
       "  \"/>\n",
       "<polyline clip-path=\"url(#clip0303)\" style=\"stroke:#ffffff; stroke-width:2; stroke-opacity:0.1; fill:none\" points=\"\n",
       "  252.496,163.187 2321.26,163.187 \n",
       "  \"/>\n",
       "<polyline clip-path=\"url(#clip0301)\" style=\"stroke:#ffffff; stroke-width:4; stroke-opacity:1; fill:none\" points=\"\n",
       "  252.496,1440.48 2321.26,1440.48 \n",
       "  \"/>\n",
       "<polyline clip-path=\"url(#clip0301)\" style=\"stroke:#ffffff; stroke-width:4; stroke-opacity:1; fill:none\" points=\"\n",
       "  252.496,1440.48 252.496,125.984 \n",
       "  \"/>\n",
       "<polyline clip-path=\"url(#clip0301)\" style=\"stroke:#ffffff; stroke-width:4; stroke-opacity:1; fill:none\" points=\"\n",
       "  589.855,1440.48 589.855,1420.77 \n",
       "  \"/>\n",
       "<polyline clip-path=\"url(#clip0301)\" style=\"stroke:#ffffff; stroke-width:4; stroke-opacity:1; fill:none\" points=\"\n",
       "  1147.47,1440.48 1147.47,1420.77 \n",
       "  \"/>\n",
       "<polyline clip-path=\"url(#clip0301)\" style=\"stroke:#ffffff; stroke-width:4; stroke-opacity:1; fill:none\" points=\"\n",
       "  1705.09,1440.48 1705.09,1420.77 \n",
       "  \"/>\n",
       "<polyline clip-path=\"url(#clip0301)\" style=\"stroke:#ffffff; stroke-width:4; stroke-opacity:1; fill:none\" points=\"\n",
       "  2262.71,1440.48 2262.71,1420.77 \n",
       "  \"/>\n",
       "<polyline clip-path=\"url(#clip0301)\" style=\"stroke:#ffffff; stroke-width:4; stroke-opacity:1; fill:none\" points=\"\n",
       "  252.496,1403.28 283.528,1403.28 \n",
       "  \"/>\n",
       "<polyline clip-path=\"url(#clip0301)\" style=\"stroke:#ffffff; stroke-width:4; stroke-opacity:1; fill:none\" points=\"\n",
       "  252.496,1093.26 283.528,1093.26 \n",
       "  \"/>\n",
       "<polyline clip-path=\"url(#clip0301)\" style=\"stroke:#ffffff; stroke-width:4; stroke-opacity:1; fill:none\" points=\"\n",
       "  252.496,783.233 283.528,783.233 \n",
       "  \"/>\n",
       "<polyline clip-path=\"url(#clip0301)\" style=\"stroke:#ffffff; stroke-width:4; stroke-opacity:1; fill:none\" points=\"\n",
       "  252.496,473.21 283.528,473.21 \n",
       "  \"/>\n",
       "<polyline clip-path=\"url(#clip0301)\" style=\"stroke:#ffffff; stroke-width:4; stroke-opacity:1; fill:none\" points=\"\n",
       "  252.496,163.187 283.528,163.187 \n",
       "  \"/>\n",
       "<g clip-path=\"url(#clip0301)\">\n",
       "<text style=\"fill:#ffffff; fill-opacity:1; font-family:Arial,Helvetica Neue,Helvetica,sans-serif; font-size:48px; text-anchor:middle;\" transform=\"rotate(0, 589.855, 1494.48)\" x=\"589.855\" y=\"1494.48\">2</text>\n",
       "</g>\n",
       "<g clip-path=\"url(#clip0301)\">\n",
       "<text style=\"fill:#ffffff; fill-opacity:1; font-family:Arial,Helvetica Neue,Helvetica,sans-serif; font-size:48px; text-anchor:middle;\" transform=\"rotate(0, 1147.47, 1494.48)\" x=\"1147.47\" y=\"1494.48\">4</text>\n",
       "</g>\n",
       "<g clip-path=\"url(#clip0301)\">\n",
       "<text style=\"fill:#ffffff; fill-opacity:1; font-family:Arial,Helvetica Neue,Helvetica,sans-serif; font-size:48px; text-anchor:middle;\" transform=\"rotate(0, 1705.09, 1494.48)\" x=\"1705.09\" y=\"1494.48\">6</text>\n",
       "</g>\n",
       "<g clip-path=\"url(#clip0301)\">\n",
       "<text style=\"fill:#ffffff; fill-opacity:1; font-family:Arial,Helvetica Neue,Helvetica,sans-serif; font-size:48px; text-anchor:middle;\" transform=\"rotate(0, 2262.71, 1494.48)\" x=\"2262.71\" y=\"1494.48\">8</text>\n",
       "</g>\n",
       "<g clip-path=\"url(#clip0301)\">\n",
       "<text style=\"fill:#ffffff; fill-opacity:1; font-family:Arial,Helvetica Neue,Helvetica,sans-serif; font-size:48px; text-anchor:end;\" transform=\"rotate(0, 228.496, 1420.78)\" x=\"228.496\" y=\"1420.78\">-1.0</text>\n",
       "</g>\n",
       "<g clip-path=\"url(#clip0301)\">\n",
       "<text style=\"fill:#ffffff; fill-opacity:1; font-family:Arial,Helvetica Neue,Helvetica,sans-serif; font-size:48px; text-anchor:end;\" transform=\"rotate(0, 228.496, 1110.76)\" x=\"228.496\" y=\"1110.76\">-0.5</text>\n",
       "</g>\n",
       "<g clip-path=\"url(#clip0301)\">\n",
       "<text style=\"fill:#ffffff; fill-opacity:1; font-family:Arial,Helvetica Neue,Helvetica,sans-serif; font-size:48px; text-anchor:end;\" transform=\"rotate(0, 228.496, 800.733)\" x=\"228.496\" y=\"800.733\">0.0</text>\n",
       "</g>\n",
       "<g clip-path=\"url(#clip0301)\">\n",
       "<text style=\"fill:#ffffff; fill-opacity:1; font-family:Arial,Helvetica Neue,Helvetica,sans-serif; font-size:48px; text-anchor:end;\" transform=\"rotate(0, 228.496, 490.71)\" x=\"228.496\" y=\"490.71\">0.5</text>\n",
       "</g>\n",
       "<g clip-path=\"url(#clip0301)\">\n",
       "<text style=\"fill:#ffffff; fill-opacity:1; font-family:Arial,Helvetica Neue,Helvetica,sans-serif; font-size:48px; text-anchor:end;\" transform=\"rotate(0, 228.496, 180.687)\" x=\"228.496\" y=\"180.687\">1.0</text>\n",
       "</g>\n",
       "<g clip-path=\"url(#clip0301)\">\n",
       "<text style=\"fill:#ffffff; fill-opacity:1; font-family:Arial,Helvetica Neue,Helvetica,sans-serif; font-size:84px; text-anchor:middle;\" transform=\"rotate(0, 1286.88, 73.2)\" x=\"1286.88\" y=\"73.2\">Puntos de Uniforme [0,1]</text>\n",
       "</g>\n",
       "<g clip-path=\"url(#clip0301)\">\n",
       "<text style=\"fill:#ffffff; fill-opacity:1; font-family:Arial,Helvetica Neue,Helvetica,sans-serif; font-size:66px; text-anchor:middle;\" transform=\"rotate(0, 1286.88, 1590.4)\" x=\"1286.88\" y=\"1590.4\">K</text>\n",
       "</g>\n",
       "<g clip-path=\"url(#clip0301)\">\n",
       "<text style=\"fill:#ffffff; fill-opacity:1; font-family:Arial,Helvetica Neue,Helvetica,sans-serif; font-size:66px; text-anchor:middle;\" transform=\"rotate(-90, 57.6, 783.233)\" x=\"57.6\" y=\"783.233\">Valores</text>\n",
       "</g>\n",
       "<polyline clip-path=\"url(#clip0303)\" style=\"stroke:#ffffff; stroke-width:12; stroke-opacity:1; fill:none\" stroke-dasharray=\"6, 12\" points=\"\n",
       "  311.046,1403.28 589.855,1226.12 868.664,1048.97 1147.47,871.811 1426.28,694.655 1705.09,517.499 1983.9,340.343 2262.71,163.187 \n",
       "  \"/>\n",
       "</svg>\n"
      ]
     },
     "execution_count": 334,
     "metadata": {},
     "output_type": "execute_result"
    }
   ],
   "source": [
    "\n",
    "\n",
    "Uniforms = range(-1, stop = 1, length = 8)\n",
    "plot(index,Uniforms,line=(:dot, 3),title=[\"Puntos de Uniforme [0,1]\" \"\"], background_color=RGB(0.2,0.2,0.2), color=[:white],label=\"\")\n",
    "yaxis!(\"Valores\")\n",
    "xaxis!(\"K\")"
   ]
  },
  {
   "cell_type": "code",
   "execution_count": 97,
   "metadata": {},
   "outputs": [],
   "source": [
    "using Distributions"
   ]
  },
  {
   "cell_type": "code",
   "execution_count": 345,
   "metadata": {},
   "outputs": [
    {
     "data": {
      "image/svg+xml": [
       "<?xml version=\"1.0\" encoding=\"utf-8\"?>\n",
       "<svg xmlns=\"http://www.w3.org/2000/svg\" xmlns:xlink=\"http://www.w3.org/1999/xlink\" width=\"600\" height=\"400\" viewBox=\"0 0 2400 1600\">\n",
       "<defs>\n",
       "  <clipPath id=\"clip1700\">\n",
       "    <rect x=\"0\" y=\"0\" width=\"2000\" height=\"2000\"/>\n",
       "  </clipPath>\n",
       "</defs>\n",
       "<defs>\n",
       "  <clipPath id=\"clip1701\">\n",
       "    <rect x=\"0\" y=\"0\" width=\"2400\" height=\"1600\"/>\n",
       "  </clipPath>\n",
       "</defs>\n",
       "<polygon clip-path=\"url(#clip1701)\" points=\"\n",
       "0,1600 2400,1600 2400,0 0,0 \n",
       "  \" fill=\"#333333\" fill-rule=\"evenodd\" fill-opacity=\"1\"/>\n",
       "<defs>\n",
       "  <clipPath id=\"clip1702\">\n",
       "    <rect x=\"480\" y=\"0\" width=\"1681\" height=\"1600\"/>\n",
       "  </clipPath>\n",
       "</defs>\n",
       "<polygon clip-path=\"url(#clip1701)\" points=\"\n",
       "237.767,1440.48 2321.26,1440.48 2321.26,125.984 237.767,125.984 \n",
       "  \" fill=\"#333333\" fill-rule=\"evenodd\" fill-opacity=\"1\"/>\n",
       "<defs>\n",
       "  <clipPath id=\"clip1703\">\n",
       "    <rect x=\"237\" y=\"125\" width=\"2084\" height=\"1315\"/>\n",
       "  </clipPath>\n",
       "</defs>\n",
       "<polyline clip-path=\"url(#clip1703)\" style=\"stroke:#ffffff; stroke-width:2; stroke-opacity:0.1; fill:none\" points=\"\n",
       "  577.528,1440.48 577.528,125.984 \n",
       "  \"/>\n",
       "<polyline clip-path=\"url(#clip1703)\" style=\"stroke:#ffffff; stroke-width:2; stroke-opacity:0.1; fill:none\" points=\"\n",
       "  1139.12,1440.48 1139.12,125.984 \n",
       "  \"/>\n",
       "<polyline clip-path=\"url(#clip1703)\" style=\"stroke:#ffffff; stroke-width:2; stroke-opacity:0.1; fill:none\" points=\"\n",
       "  1700.7,1440.48 1700.7,125.984 \n",
       "  \"/>\n",
       "<polyline clip-path=\"url(#clip1703)\" style=\"stroke:#ffffff; stroke-width:2; stroke-opacity:0.1; fill:none\" points=\"\n",
       "  2262.29,1440.48 2262.29,125.984 \n",
       "  \"/>\n",
       "<polyline clip-path=\"url(#clip1703)\" style=\"stroke:#ffffff; stroke-width:2; stroke-opacity:0.1; fill:none\" points=\"\n",
       "  237.767,1403.28 2321.26,1403.28 \n",
       "  \"/>\n",
       "<polyline clip-path=\"url(#clip1703)\" style=\"stroke:#ffffff; stroke-width:2; stroke-opacity:0.1; fill:none\" points=\"\n",
       "  237.767,1093.26 2321.26,1093.26 \n",
       "  \"/>\n",
       "<polyline clip-path=\"url(#clip1703)\" style=\"stroke:#ffffff; stroke-width:2; stroke-opacity:0.1; fill:none\" points=\"\n",
       "  237.767,783.233 2321.26,783.233 \n",
       "  \"/>\n",
       "<polyline clip-path=\"url(#clip1703)\" style=\"stroke:#ffffff; stroke-width:2; stroke-opacity:0.1; fill:none\" points=\"\n",
       "  237.767,473.21 2321.26,473.21 \n",
       "  \"/>\n",
       "<polyline clip-path=\"url(#clip1703)\" style=\"stroke:#ffffff; stroke-width:2; stroke-opacity:0.1; fill:none\" points=\"\n",
       "  237.767,163.187 2321.26,163.187 \n",
       "  \"/>\n",
       "<polyline clip-path=\"url(#clip1701)\" style=\"stroke:#ffffff; stroke-width:4; stroke-opacity:1; fill:none\" points=\"\n",
       "  237.767,1440.48 2321.26,1440.48 \n",
       "  \"/>\n",
       "<polyline clip-path=\"url(#clip1701)\" style=\"stroke:#ffffff; stroke-width:4; stroke-opacity:1; fill:none\" points=\"\n",
       "  237.767,1440.48 237.767,125.984 \n",
       "  \"/>\n",
       "<polyline clip-path=\"url(#clip1701)\" style=\"stroke:#ffffff; stroke-width:4; stroke-opacity:1; fill:none\" points=\"\n",
       "  577.528,1440.48 577.528,1420.77 \n",
       "  \"/>\n",
       "<polyline clip-path=\"url(#clip1701)\" style=\"stroke:#ffffff; stroke-width:4; stroke-opacity:1; fill:none\" points=\"\n",
       "  1139.12,1440.48 1139.12,1420.77 \n",
       "  \"/>\n",
       "<polyline clip-path=\"url(#clip1701)\" style=\"stroke:#ffffff; stroke-width:4; stroke-opacity:1; fill:none\" points=\"\n",
       "  1700.7,1440.48 1700.7,1420.77 \n",
       "  \"/>\n",
       "<polyline clip-path=\"url(#clip1701)\" style=\"stroke:#ffffff; stroke-width:4; stroke-opacity:1; fill:none\" points=\"\n",
       "  2262.29,1440.48 2262.29,1420.77 \n",
       "  \"/>\n",
       "<polyline clip-path=\"url(#clip1701)\" style=\"stroke:#ffffff; stroke-width:4; stroke-opacity:1; fill:none\" points=\"\n",
       "  237.767,1403.28 269.02,1403.28 \n",
       "  \"/>\n",
       "<polyline clip-path=\"url(#clip1701)\" style=\"stroke:#ffffff; stroke-width:4; stroke-opacity:1; fill:none\" points=\"\n",
       "  237.767,1093.26 269.02,1093.26 \n",
       "  \"/>\n",
       "<polyline clip-path=\"url(#clip1701)\" style=\"stroke:#ffffff; stroke-width:4; stroke-opacity:1; fill:none\" points=\"\n",
       "  237.767,783.233 269.02,783.233 \n",
       "  \"/>\n",
       "<polyline clip-path=\"url(#clip1701)\" style=\"stroke:#ffffff; stroke-width:4; stroke-opacity:1; fill:none\" points=\"\n",
       "  237.767,473.21 269.02,473.21 \n",
       "  \"/>\n",
       "<polyline clip-path=\"url(#clip1701)\" style=\"stroke:#ffffff; stroke-width:4; stroke-opacity:1; fill:none\" points=\"\n",
       "  237.767,163.187 269.02,163.187 \n",
       "  \"/>\n",
       "<g clip-path=\"url(#clip1701)\">\n",
       "<text style=\"fill:#ffffff; fill-opacity:1; font-family:Arial,Helvetica Neue,Helvetica,sans-serif; font-size:48px; text-anchor:middle;\" transform=\"rotate(0, 577.528, 1494.48)\" x=\"577.528\" y=\"1494.48\">2</text>\n",
       "</g>\n",
       "<g clip-path=\"url(#clip1701)\">\n",
       "<text style=\"fill:#ffffff; fill-opacity:1; font-family:Arial,Helvetica Neue,Helvetica,sans-serif; font-size:48px; text-anchor:middle;\" transform=\"rotate(0, 1139.12, 1494.48)\" x=\"1139.12\" y=\"1494.48\">4</text>\n",
       "</g>\n",
       "<g clip-path=\"url(#clip1701)\">\n",
       "<text style=\"fill:#ffffff; fill-opacity:1; font-family:Arial,Helvetica Neue,Helvetica,sans-serif; font-size:48px; text-anchor:middle;\" transform=\"rotate(0, 1700.7, 1494.48)\" x=\"1700.7\" y=\"1494.48\">6</text>\n",
       "</g>\n",
       "<g clip-path=\"url(#clip1701)\">\n",
       "<text style=\"fill:#ffffff; fill-opacity:1; font-family:Arial,Helvetica Neue,Helvetica,sans-serif; font-size:48px; text-anchor:middle;\" transform=\"rotate(0, 2262.29, 1494.48)\" x=\"2262.29\" y=\"1494.48\">8</text>\n",
       "</g>\n",
       "<g clip-path=\"url(#clip1701)\">\n",
       "<text style=\"fill:#ffffff; fill-opacity:1; font-family:Arial,Helvetica Neue,Helvetica,sans-serif; font-size:48px; text-anchor:end;\" transform=\"rotate(0, 213.767, 1420.78)\" x=\"213.767\" y=\"1420.78\">100</text>\n",
       "</g>\n",
       "<g clip-path=\"url(#clip1701)\">\n",
       "<text style=\"fill:#ffffff; fill-opacity:1; font-family:Arial,Helvetica Neue,Helvetica,sans-serif; font-size:48px; text-anchor:end;\" transform=\"rotate(0, 213.767, 1110.76)\" x=\"213.767\" y=\"1110.76\">125</text>\n",
       "</g>\n",
       "<g clip-path=\"url(#clip1701)\">\n",
       "<text style=\"fill:#ffffff; fill-opacity:1; font-family:Arial,Helvetica Neue,Helvetica,sans-serif; font-size:48px; text-anchor:end;\" transform=\"rotate(0, 213.767, 800.733)\" x=\"213.767\" y=\"800.733\">150</text>\n",
       "</g>\n",
       "<g clip-path=\"url(#clip1701)\">\n",
       "<text style=\"fill:#ffffff; fill-opacity:1; font-family:Arial,Helvetica Neue,Helvetica,sans-serif; font-size:48px; text-anchor:end;\" transform=\"rotate(0, 213.767, 490.71)\" x=\"213.767\" y=\"490.71\">175</text>\n",
       "</g>\n",
       "<g clip-path=\"url(#clip1701)\">\n",
       "<text style=\"fill:#ffffff; fill-opacity:1; font-family:Arial,Helvetica Neue,Helvetica,sans-serif; font-size:48px; text-anchor:end;\" transform=\"rotate(0, 213.767, 180.687)\" x=\"213.767\" y=\"180.687\">200</text>\n",
       "</g>\n",
       "<g clip-path=\"url(#clip1701)\">\n",
       "<text style=\"fill:#ffffff; fill-opacity:1; font-family:Arial,Helvetica Neue,Helvetica,sans-serif; font-size:84px; text-anchor:middle;\" transform=\"rotate(0, 1279.51, 73.2)\" x=\"1279.51\" y=\"73.2\">Puntos evaluados con Uniforme [0,1]</text>\n",
       "</g>\n",
       "<g clip-path=\"url(#clip1701)\">\n",
       "<text style=\"fill:#ffffff; fill-opacity:1; font-family:Arial,Helvetica Neue,Helvetica,sans-serif; font-size:66px; text-anchor:middle;\" transform=\"rotate(0, 1279.51, 1590.4)\" x=\"1279.51\" y=\"1590.4\">K</text>\n",
       "</g>\n",
       "<g clip-path=\"url(#clip1701)\">\n",
       "<text style=\"fill:#ffffff; fill-opacity:1; font-family:Arial,Helvetica Neue,Helvetica,sans-serif; font-size:66px; text-anchor:middle;\" transform=\"rotate(-90, 57.6, 783.233)\" x=\"57.6\" y=\"783.233\">Valores</text>\n",
       "</g>\n",
       "<polyline clip-path=\"url(#clip1703)\" style=\"stroke:#ffffff; stroke-width:12; stroke-opacity:1; fill:none\" stroke-dasharray=\"6, 12\" points=\"\n",
       "  296.734,1403.28 577.528,1226.12 858.322,1048.97 1139.12,871.811 1419.91,694.655 1700.7,517.499 1981.5,340.343 2262.29,163.187 \n",
       "  \"/>\n",
       "</svg>\n"
      ]
     },
     "execution_count": 345,
     "metadata": {},
     "output_type": "execute_result"
    }
   ],
   "source": [
    "# evaluando la uniforme\n",
    "x0unif2 = bitective(Uniforms[1],100,200)\n",
    "x1unif2 = bitective(Uniforms[2],100,200)\n",
    "x2unif2 = bitective(Uniforms[3],100,200)\n",
    "x3unif2 = bitective(Uniforms[4],100,200)\n",
    "x4unif2 = bitective(Uniforms[5],100,200)\n",
    "x5unif2 = bitective(Uniforms[6],100,200)\n",
    "x6unif2 = bitective(Uniforms[7],100,200)\n",
    "x7unif2 = bitective(Uniforms[8],100,200)\n",
    "Uniforms2 =[ x0unif2 x1unif2 x2unif2 x3unif2 x4unif2 x5unif2 x6unif2 x7unif2]'\n",
    "plot(index,Uniforms2,line=(:dot, 3),title=[\"Puntos evaluados con Uniforme [0,1]\" \"\"], background_color=RGB(0.2,0.2,0.2), color=[:white],label=\"\")\n",
    "yaxis!(\"Valores\")\n",
    "xaxis!(\"K\")\n"
   ]
  },
  {
   "cell_type": "code",
   "execution_count": 347,
   "metadata": {},
   "outputs": [
    {
     "data": {
      "text/plain": [
       "16.000851130235215"
      ]
     },
     "execution_count": 347,
     "metadata": {},
     "output_type": "execute_result"
    }
   ],
   "source": [
    "((3/8)*10^(-5))*(1/(40320))*( abs((117-Uniforms2[1])*(117-Uniforms2[2])*(117-Uniforms2[3])*(117-Uniforms2[4])*(117-Uniforms2[5])*(117-Uniforms2[6])*(117-Uniforms2[7])*(117-Uniforms2[8])))"
   ]
  },
  {
   "cell_type": "markdown",
   "metadata": {},
   "source": [
    "Este sería el menor error que se podría cometer utilizando interpolación polinomial al calcular  $(⎯⎯√117)$  en el intervalo  [100,200] , con ocho puntos de interpolación PERO UTILIZANDO UNIFORMES PARA GENERAR LAS OBSERVAIONES"
   ]
  },
  {
   "cell_type": "markdown",
   "metadata": {},
   "source": [
    "Podemos observar que las observaciones de uniformes de intervalo 0 y 1 al interpolarse con el polínomio, se re.escalaron a un intervalo 100 a 200."
   ]
  },
  {
   "cell_type": "markdown",
   "metadata": {},
   "source": [
    "Una vez esto, calculamos el error de la interpolación\n",
    "\n",
    "$$|E| \\leq \\frac{3}{8}x10^{-5}*\\frac{1}{8!}|(117-x_0)(117-x_1)(117-x_2)(117-x_3)(117-x_4)(117-x_5)(117-x_6)(117-x_7)|=109.8671$$"
   ]
  },
  {
   "cell_type": "code",
   "execution_count": 348,
   "metadata": {},
   "outputs": [
    {
     "data": {
      "text/plain": [
       "109.86712471995017"
      ]
     },
     "execution_count": 348,
     "metadata": {},
     "output_type": "execute_result"
    }
   ],
   "source": [
    "((3/8)*10^(-5))*(1/(40320))*( abs((117-x0unif)*(117-x1unif)*(117-x2unif)*(117-x3unif)*(117-x4unif)*(117-x5unif)*(117-x6unif)*(117-x7unif)))"
   ]
  },
  {
   "cell_type": "markdown",
   "metadata": {},
   "source": [
    "Este sería el menor error que se podría cometer utilizando interpolación polinomial al calcular $\\sqrt(117)$ en el intervalo $[100,200]$, con ocho puntos de interpolación"
   ]
  },
  {
   "cell_type": "markdown",
   "metadata": {},
   "source": [
    "\n",
    "# 7) Clasifique cada una de las siguientes matrices comobien condicionadas o no condicionadas\n",
    "$$\n",
    "(a)\\left(\\begin{array}{cc} \n",
    "10^{10} & 0 \\\\\n",
    "0 & 10^{-10} \n",
    "\\end{array}\\right) (b)\n",
    "\\left(\\begin{array}{cc} \n",
    "10^{10} & 0 \\\\\n",
    "0 & 10^{10} \n",
    "\\end{array}\\right) (c)\n",
    "\\left(\\begin{array}{cc} \n",
    "10^{-10} & 0 \\\\\n",
    "0 & 10^{-10} \n",
    "\\end{array}\\right) (d)\n",
    "\\left(\\begin{array}{cc} \n",
    "1 & 2 \\\\\n",
    "2 & 4\n",
    "\\end{array}\\right)\n",
    "$$"
   ]
  },
  {
   "cell_type": "markdown",
   "metadata": {},
   "source": [
    "### a)"
   ]
  },
  {
   "cell_type": "code",
   "execution_count": 115,
   "metadata": {},
   "outputs": [
    {
     "name": "stdout",
     "output_type": "stream",
     "text": [
      "la matriz \"a\" si tiene determinante de valor 1.0000000000000004\n"
     ]
    }
   ],
   "source": [
    "# a\n",
    " # comenzamos comprobando que no es singular\n",
    "\n",
    "a =[10^(10) 0; 0 10^(-10)]\n",
    "det_a=det(a)\n",
    "println(\"\"\"la matriz \"a\" si tiene determinante de valor $det_a\"\"\")"
   ]
  },
  {
   "cell_type": "markdown",
   "metadata": {},
   "source": [
    "Caso 1: $||A||_\\infty$\n",
    "\n",
    "$$con(A)=||A||_\\infty||A^{-1}||_\\infty$$"
   ]
  },
  {
   "cell_type": "code",
   "execution_count": 121,
   "metadata": {},
   "outputs": [
    {
     "data": {
      "text/plain": [
       "2×2 Array{Float64,2}:\n",
       " 1.0e10  0.0    \n",
       " 0.0     1.0e-10"
      ]
     },
     "metadata": {},
     "output_type": "display_data"
    },
    {
     "data": {
      "text/plain": [
       "2×2 Array{Float64,2}:\n",
       " 1.0e-10  0.0   \n",
       " 0.0      1.0e10"
      ]
     },
     "metadata": {},
     "output_type": "display_data"
    }
   ],
   "source": [
    "# norma infinita, suma de filas, y tomamos el maximo\n",
    "display(a)\n",
    "inversa_a = inv(a)\n",
    "display(inversa_a)\n"
   ]
  },
  {
   "cell_type": "markdown",
   "metadata": {},
   "source": [
    "realizando la suma por filas tenemos:\n",
    "$$||A||_\\infty=max(10^{10},10^{-10})=10^{10}$$\n",
    "$$||A^{-1}||_\\infty=max(10^{-10},10^{10})=10^{10}$$\n",
    "$$cond(A)=||A||_\\infty*||A^{-1}||_\\infty=10^{10}*10^{10}=1x10^{20}$$"
   ]
  },
  {
   "cell_type": "markdown",
   "metadata": {},
   "source": [
    "Es una condición muy grande, por lo tento es muy cerca a ser una matriz singular."
   ]
  },
  {
   "cell_type": "markdown",
   "metadata": {},
   "source": [
    "Caso 2: $||A||_1$\n",
    "\n",
    "$$con(A)=||A||_1||A^{-1}||_1$$"
   ]
  },
  {
   "cell_type": "markdown",
   "metadata": {},
   "source": [
    "realizando la suma por columnas tenemos:\n",
    "$$||A||_1=max(10^{10},10^{-10})=10^{10}$$\n",
    "$$||A^{-1}||_1=max(10^{-10},10^{10})=10^{10}$$\n",
    "$$cond(A)=||A||_1*||A^{-1}||_1=10^{10}*10^{10}=1x10^{20}$$"
   ]
  },
  {
   "cell_type": "markdown",
   "metadata": {},
   "source": [
    "Al igual que con la norma infinito, existe  una condición muy grande, por lo tento es muy cerca a ser una matriz singular."
   ]
  },
  {
   "cell_type": "markdown",
   "metadata": {},
   "source": [
    "Caso 3: $||A||_2$\n",
    "\n",
    "$$con(A)=||A||_2||A^{-1}||_2$$\n",
    "\n",
    "La norma dos está dada por el valor singular más grande de la matriz"
   ]
  },
  {
   "cell_type": "code",
   "execution_count": 114,
   "metadata": {},
   "outputs": [
    {
     "data": {
      "text/plain": [
       "SVD{Float64,Float64,Array{Float64,2}}([1.0 0.0; 0.0 1.0], [1.0e10, 1.0e-10], [1.0 0.0; 0.0 1.0])"
      ]
     },
     "execution_count": 114,
     "metadata": {},
     "output_type": "execute_result"
    }
   ],
   "source": [
    "SVD_a = svd(a)"
   ]
  },
  {
   "cell_type": "code",
   "execution_count": 107,
   "metadata": {},
   "outputs": [
    {
     "data": {
      "text/plain": [
       "SVD{Float64,Float64,Array{Float64,2}}([0.0 1.0; 1.0 0.0], [1.0e10, 1.0e-10], [0.0 1.0; 1.0 0.0])"
      ]
     },
     "execution_count": 107,
     "metadata": {},
     "output_type": "execute_result"
    }
   ],
   "source": [
    "SVD_ainv = svd(inversa_a)\n"
   ]
  },
  {
   "cell_type": "markdown",
   "metadata": {},
   "source": [
    " Para $||A||_2=10^{10}$\n",
    " \n",
    " Para $||A^{-1}||_2=10^{10}$\n",
    " \n",
    " Entonces $||A||_2*||A^{-1}||_2=1x10^{20}$"
   ]
  },
  {
   "cell_type": "markdown",
   "metadata": {},
   "source": [
    "Es una condición muy grande, por lo tanto es muy cerca a ser una matriz singular."
   ]
  },
  {
   "cell_type": "markdown",
   "metadata": {},
   "source": [
    "### b)"
   ]
  },
  {
   "cell_type": "code",
   "execution_count": 120,
   "metadata": {},
   "outputs": [
    {
     "name": "stdout",
     "output_type": "stream",
     "text": [
      "la matriz \"b\" si tiene determinante de valor 7.766279631452242e18\n"
     ]
    }
   ],
   "source": [
    "b =[10^10 0; 0 10^10]\n",
    "det(b)\n",
    "det_b=det(b)\n",
    "println(\"\"\"la matriz \"b\" si tiene determinante de valor $det_b\"\"\")"
   ]
  },
  {
   "cell_type": "markdown",
   "metadata": {},
   "source": [
    "Caso 1: $||A||_\\infty$\n",
    "\n",
    "$$con(A)=||A||_\\infty||A^{-1}||_\\infty$$"
   ]
  },
  {
   "cell_type": "code",
   "execution_count": 122,
   "metadata": {},
   "outputs": [
    {
     "data": {
      "text/plain": [
       "2×2 Array{Int64,2}:\n",
       " 10000000000            0\n",
       "           0  10000000000"
      ]
     },
     "metadata": {},
     "output_type": "display_data"
    },
    {
     "data": {
      "text/plain": [
       "2×2 Array{Float64,2}:\n",
       " 1.0e-10  0.0    \n",
       " 0.0      1.0e-10"
      ]
     },
     "metadata": {},
     "output_type": "display_data"
    }
   ],
   "source": [
    "# norma infinita, suma de filas, y tomamos el maximo\n",
    "display(b)\n",
    "inversa_b = inv(b)\n",
    "display(inversa_b)\n"
   ]
  },
  {
   "cell_type": "markdown",
   "metadata": {},
   "source": [
    "realizando la suma por filas tenemos:\n",
    "$$||A||_\\infty=max(10000000000,10000000000)=10000000000$$\n",
    "$$||A^{-1}||_\\infty=max(1.0e^{-10},1.0e{-10})=1.0e{-10}$$\n"
   ]
  },
  {
   "cell_type": "code",
   "execution_count": 124,
   "metadata": {},
   "outputs": [
    {
     "data": {
      "text/plain": [
       "1.0"
      ]
     },
     "execution_count": 124,
     "metadata": {},
     "output_type": "execute_result"
    }
   ],
   "source": [
    "condicion_b = 10000000000*1.0e-10 "
   ]
  },
  {
   "cell_type": "markdown",
   "metadata": {},
   "source": [
    "$$cond(A)=||A||_\\infty*||A^{-1}||_\\infty=10000000000*1.0e{-10}=1$$"
   ]
  },
  {
   "cell_type": "markdown",
   "metadata": {},
   "source": [
    "Es una condición con valor uno, por lo tanto la matriz está muy lejos de ser singular."
   ]
  },
  {
   "cell_type": "markdown",
   "metadata": {},
   "source": [
    "Caso 2: $||A||_1$\n",
    "\n",
    "$$con(A)=||A||_1||A^{-1}||_1$$"
   ]
  },
  {
   "cell_type": "markdown",
   "metadata": {},
   "source": [
    "realizando la suma por columnas tenemos:\n",
    "$$||A||_1=max(10000000000,10000000000)=10000000000$$\n",
    "$$||A^{-1}||_1=max(1.0e^{-10},1.0e{-10})=1.0e{-10}$$"
   ]
  },
  {
   "cell_type": "code",
   "execution_count": 129,
   "metadata": {},
   "outputs": [
    {
     "data": {
      "text/plain": [
       "1.0"
      ]
     },
     "execution_count": 129,
     "metadata": {},
     "output_type": "execute_result"
    }
   ],
   "source": [
    "condicion_b_norma_1 = 10000000000*1.0e-10 "
   ]
  },
  {
   "cell_type": "markdown",
   "metadata": {},
   "source": [
    "$$cond(A)=||A||_1*||A^{-1}||_1=10000000000*1.0e{-10}=1$$"
   ]
  },
  {
   "cell_type": "markdown",
   "metadata": {},
   "source": [
    "Al igual que la norma infinito, la norma uno tiene un número de condición con valor uno, por lo tanto la matriz está muy lejos de ser singular."
   ]
  },
  {
   "cell_type": "markdown",
   "metadata": {},
   "source": [
    "Caso 3: $||A||_2$\n",
    "\n",
    "$$con(A)=||A||_2||A^{-1}||_2$$\n",
    "\n",
    "La norma dos está dada por el valor singular más grande de la matriz"
   ]
  },
  {
   "cell_type": "code",
   "execution_count": 128,
   "metadata": {},
   "outputs": [
    {
     "data": {
      "text/plain": [
       "SVD{Float64,Float64,Array{Float64,2}}([1.0 0.0; 0.0 1.0], [1.0e10, 1.0e10], [1.0 0.0; 0.0 1.0])"
      ]
     },
     "execution_count": 128,
     "metadata": {},
     "output_type": "execute_result"
    }
   ],
   "source": [
    "SVD_b= svd(b)"
   ]
  },
  {
   "cell_type": "code",
   "execution_count": 127,
   "metadata": {},
   "outputs": [
    {
     "data": {
      "text/plain": [
       "SVD{Float64,Float64,Array{Float64,2}}([1.0 0.0; 0.0 1.0], [1.0e-10, 1.0e-10], [1.0 0.0; 0.0 1.0])"
      ]
     },
     "execution_count": 127,
     "metadata": {},
     "output_type": "execute_result"
    }
   ],
   "source": [
    "SVD_binv = svd(inversa_b)\n"
   ]
  },
  {
   "cell_type": "markdown",
   "metadata": {},
   "source": [
    " Para $||A||_2=10^{10}$\n",
    " \n",
    " Para $||A^{-1}||_2=10^{-10}$\n"
   ]
  },
  {
   "cell_type": "code",
   "execution_count": 131,
   "metadata": {},
   "outputs": [
    {
     "data": {
      "text/plain": [
       "1.0"
      ]
     },
     "execution_count": 131,
     "metadata": {},
     "output_type": "execute_result"
    }
   ],
   "source": [
    "condicion_b_norma_2 = 1.0e10*1.0e-10"
   ]
  },
  {
   "cell_type": "markdown",
   "metadata": {},
   "source": [
    "$$cond(A)=||A||_2||A^{-1}||_2=1.0e^{10}*1.0e^{-10}=1$$"
   ]
  },
  {
   "cell_type": "markdown",
   "metadata": {},
   "source": [
    "Es una condición con valor uno, por lo tanto la matriz está muy lejos de ser singular."
   ]
  },
  {
   "cell_type": "markdown",
   "metadata": {},
   "source": [
    "### c)"
   ]
  },
  {
   "cell_type": "code",
   "execution_count": 26,
   "metadata": {},
   "outputs": [
    {
     "name": "stdout",
     "output_type": "stream",
     "text": [
      "la matriz \"c\" si tiene determinante de valor 1.0000000000000011e-20\n"
     ]
    }
   ],
   "source": [
    "c =[10^(-10) 0; 0 10^(-10)]\n",
    "det_c=det(c)\n",
    "println(\"\"\"la matriz \"c\" si tiene determinante de valor $det_c\"\"\")"
   ]
  },
  {
   "cell_type": "markdown",
   "metadata": {},
   "source": [
    "Caso 1: $||A||_\\infty$\n",
    "\n",
    "$$con(A)=||A||_\\infty||A^{-1}||_\\infty$$"
   ]
  },
  {
   "cell_type": "code",
   "execution_count": 135,
   "metadata": {},
   "outputs": [
    {
     "data": {
      "text/plain": [
       "2×2 Array{Float64,2}:\n",
       " 1.0e-10  0.0    \n",
       " 0.0      1.0e-10"
      ]
     },
     "metadata": {},
     "output_type": "display_data"
    },
    {
     "data": {
      "text/plain": [
       "2×2 Array{Float64,2}:\n",
       " 1.0e10  0.0   \n",
       " 0.0     1.0e10"
      ]
     },
     "metadata": {},
     "output_type": "display_data"
    },
    {
     "data": {
      "text/plain": [
       "1.0e20"
      ]
     },
     "execution_count": 135,
     "metadata": {},
     "output_type": "execute_result"
    }
   ],
   "source": [
    "# norma infinita, suma de filas, y tomamos el maximo\n",
    "display(c)\n",
    "inversa_c = inv(c)\n",
    "display(inversa_c)\n"
   ]
  },
  {
   "cell_type": "markdown",
   "metadata": {},
   "source": [
    "realizando la suma por filas tenemos:\n",
    "$$||A||_\\infty=max(1.0e^{-10} ,1.0e^{-10} )=1.0e^{-10}$$\n",
    "$$||A^{-1}||_\\infty=max(1.0e^{10},1.0e{10})=1.0e^{10}$$\n"
   ]
  },
  {
   "cell_type": "code",
   "execution_count": 136,
   "metadata": {},
   "outputs": [
    {
     "data": {
      "text/plain": [
       "1.0"
      ]
     },
     "execution_count": 136,
     "metadata": {},
     "output_type": "execute_result"
    }
   ],
   "source": [
    "condicion_c = 1.0e-10*1.0e10"
   ]
  },
  {
   "cell_type": "markdown",
   "metadata": {},
   "source": [
    "$$cond(A)=||A||_\\infty*||A^{-1}||_\\infty=1.0e^{10}*1.0e^{-10}=1$$"
   ]
  },
  {
   "cell_type": "markdown",
   "metadata": {},
   "source": [
    "Es una condición con valor uno, por lo tanto la matriz está muy lejos de ser singular."
   ]
  },
  {
   "cell_type": "markdown",
   "metadata": {},
   "source": [
    "Caso 2: $||A||_1$\n",
    "\n",
    "$$cond(A)=||A||_1||A^{-1}||_1$$"
   ]
  },
  {
   "cell_type": "markdown",
   "metadata": {},
   "source": [
    "realizando la suma por columnas tenemos:\n",
    "$$||A||_1=max(1.0e^{-10},1.0e^{-10})=1.0e^{-10}$$\n",
    "$$||A^{-1}||_1=max(1.0e^{10},1.0e^{10})=1.0e^{10}$$"
   ]
  },
  {
   "cell_type": "code",
   "execution_count": 140,
   "metadata": {},
   "outputs": [
    {
     "data": {
      "text/plain": [
       "1.0"
      ]
     },
     "execution_count": 140,
     "metadata": {},
     "output_type": "execute_result"
    }
   ],
   "source": [
    "condicion_b_norma_1 =  1.0e-10*1.0e10 "
   ]
  },
  {
   "cell_type": "markdown",
   "metadata": {},
   "source": [
    "$$cond(A)=||A||_1*||A^{-1}||_1=1.0e^{-10}*1.0e^{10}=1$$"
   ]
  },
  {
   "cell_type": "markdown",
   "metadata": {},
   "source": [
    "Es una condición con valor uno, por lo tanto la matriz está muy lejos de ser singular."
   ]
  },
  {
   "cell_type": "markdown",
   "metadata": {},
   "source": [
    "Caso 3: $||A||_2$\n",
    "\n",
    "$$con(A)=||A||_2||A^{-1}||_2$$\n",
    "\n",
    "La norma dos está dada por el valor singular más grande de la matriz"
   ]
  },
  {
   "cell_type": "code",
   "execution_count": 144,
   "metadata": {},
   "outputs": [
    {
     "data": {
      "text/plain": [
       "SVD{Float64,Float64,Array{Float64,2}}([1.0 0.0; 0.0 1.0], [1.0e-10, 1.0e-10], [1.0 0.0; 0.0 1.0])"
      ]
     },
     "execution_count": 144,
     "metadata": {},
     "output_type": "execute_result"
    }
   ],
   "source": [
    "SVD_c= svd(c)"
   ]
  },
  {
   "cell_type": "code",
   "execution_count": 145,
   "metadata": {},
   "outputs": [
    {
     "data": {
      "text/plain": [
       "SVD{Float64,Float64,Array{Float64,2}}([1.0 0.0; 0.0 1.0], [1.0e10, 1.0e10], [1.0 0.0; 0.0 1.0])"
      ]
     },
     "execution_count": 145,
     "metadata": {},
     "output_type": "execute_result"
    }
   ],
   "source": [
    "SVD_cinv = svd(inversa_c)"
   ]
  },
  {
   "cell_type": "markdown",
   "metadata": {},
   "source": [
    " Para $||A||_2=10^{-10}$\n",
    " \n",
    " Para $||A^{-1}||_2=10^{10}$\n"
   ]
  },
  {
   "cell_type": "code",
   "execution_count": 146,
   "metadata": {
    "scrolled": true
   },
   "outputs": [
    {
     "data": {
      "text/plain": [
       "1.0"
      ]
     },
     "execution_count": 146,
     "metadata": {},
     "output_type": "execute_result"
    }
   ],
   "source": [
    "condicion_c_norma_2 = 1.0e-10*1.0e10"
   ]
  },
  {
   "cell_type": "markdown",
   "metadata": {},
   "source": [
    "$$cond(A)=||A||_2||A^{-1}||_2=1.0e^{-10}*1.0e^{10}=1$$"
   ]
  },
  {
   "cell_type": "markdown",
   "metadata": {},
   "source": [
    "Es una condición con valor uno, por lo tanto la matriz está muy lejos de ser singular."
   ]
  },
  {
   "cell_type": "markdown",
   "metadata": {},
   "source": [
    "### d)"
   ]
  },
  {
   "cell_type": "code",
   "execution_count": 35,
   "metadata": {},
   "outputs": [
    {
     "name": "stdout",
     "output_type": "stream",
     "text": [
      "la matriz \"d\" no tiene determinante\n"
     ]
    }
   ],
   "source": [
    "# d\n",
    "d =[1 2; 2 4]\n",
    "det_d=det(d)\n",
    "println(\"\"\"la matriz \"d\" no tiene determinante\"\"\")\n",
    "\n"
   ]
  },
  {
   "cell_type": "markdown",
   "metadata": {},
   "source": [
    "El determinante de la matriz es cero, por lo tanto es singular, y calcular y realizar la aproximación para el calculo del número de condición no es posible. \n",
    "$$ cond(A)= \\infty$$"
   ]
  },
  {
   "cell_type": "markdown",
   "metadata": {},
   "source": [
    "# 8) Demuestre que la siguiente matriz es singular"
   ]
  },
  {
   "cell_type": "markdown",
   "metadata": {},
   "source": [
    "$$\n",
    "A=\\left(\\begin{array}{cc} \n",
    "1 & 1 & 0\\\\\n",
    "1 & 2 & 1 \\\\\n",
    "1 & 3 -& 2 \n",
    "\\end{array}\\right)\n",
    "$$\n",
    "\n",
    "Calculams determinantes\n",
    "\n",
    "$$\n",
    "(1)\\left(\\begin{array}{cc} \n",
    "2 & 1 \\\\\n",
    "3 & 2  \\\\\n",
    "\\end{array}\\right)=(4-1)=-1\n",
    "$$\n",
    "\n",
    "\n",
    "$$\n",
    "(-1)\\left(\\begin{array}{cc} \n",
    "1 & 1 \\\\\n",
    "1 & 2  \\\\\n",
    "\\end{array}\\right)=(2-1)=1\n",
    "$$\n",
    "\n",
    "\n",
    "$$\n",
    "(0)\\left(\\begin{array}{cc} \n",
    "1 & 2 \\\\\n",
    "1 & 3  \\\\\n",
    "\\end{array}\\right)=0\n",
    "$$\n",
    "\n",
    "$$|A|=-1+1+0=0$$"
   ]
  },
  {
   "cell_type": "code",
   "execution_count": 3,
   "metadata": {},
   "outputs": [
    {
     "ename": "UndefVarError",
     "evalue": "UndefVarError: det not defined",
     "output_type": "error",
     "traceback": [
      "UndefVarError: det not defined",
      "",
      "Stacktrace:",
      " [1] top-level scope at In[3]:3"
     ]
    }
   ],
   "source": [
    "# comprobando lo anterior\n",
    "A =[ 1 1 0; 1 2 1; 1 3 2]\n",
    "det(A) "
   ]
  },
  {
   "cell_type": "markdown",
   "metadata": {},
   "source": [
    "Como podemos observar, el determinante no se encuentra definido; por lo tanto, $A$ es una matriz singular"
   ]
  },
  {
   "cell_type": "markdown",
   "metadata": {},
   "source": [
    "Si $b=[2,4,6]'$, ¿cuántas soluciones tiene en el Sistema$"
   ]
  },
  {
   "cell_type": "markdown",
   "metadata": {},
   "source": [
    "Realizamos reducción de filas:\n",
    "$$\n",
    "(A|b)=\\left(\\begin{array}{cc} \n",
    "1 & 1 & 0\\\\\n",
    "1 & 2 & 1 \\\\\n",
    "1 & 3 & 2 \\\\\n",
    "2 & 4 & 6\n",
    "\\end{array}\\right)\n",
    "$$\n",
    "\n",
    "$$\n",
    "\\left(\\begin{array}{cc} \n",
    "1 & 1 & 0 & 2\\\\\n",
    "1 & 2 & 1 & 4\\\\\n",
    "1 & 3 & 2 & 6\n",
    "\\end{array}\\right) \\approx\n",
    "\\left(\\begin{array}{cc} \n",
    "1 & 1 & 0 & 2\\\\\n",
    "0 & 1 & 1 & 2\\\\\n",
    "0 & 2 & 2 & 4\n",
    "\\end{array}\\right) \\approx\n",
    "\\left(\\begin{array}{cc} \n",
    "1 & 0 & -1 & 0\\\\\n",
    "0 & 1 & 1 & 2\\\\\n",
    "0 & 0 & 0 & 0\n",
    "\\end{array}\\right) \n",
    "$$\n",
    "\n",
    "De esta manera:\n",
    "\n",
    "$$X_1=X_3$$\n",
    "$$X_2=-X_3$$\n",
    "$$X_3=X_3$$\n",
    "\n",
    "con \n",
    "\n",
    "$$\n",
    "X_3\\left(\\begin{array}{c}\n",
    "1 &\\\\\n",
    "-1& \\\\\n",
    "1 &\n",
    "\\end{array}\\right) $$\n",
    "\n",
    "Con esto se concluye que el sistema tiene una infinitas soluciones, ya que tiene una variable libre que puede tomar cualquier valor."
   ]
  },
  {
   "cell_type": "markdown",
   "metadata": {},
   "source": [
    "# 9) En el siguiente sistema lineal , $AX=b$, determine cual de las siguientes aproximaciones es la mejor soución"
   ]
  },
  {
   "cell_type": "code",
   "execution_count": 351,
   "metadata": {},
   "outputs": [
    {
     "ename": "UndefVarError",
     "evalue": "UndefVarError: det not defined",
     "output_type": "error",
     "traceback": [
      "UndefVarError: det not defined",
      "",
      "Stacktrace:",
      " [1] top-level scope at In[351]:3"
     ]
    }
   ],
   "source": [
    "A = [.913 .659; 0.475 0.330]\n",
    "b = [0.254; 0.127];\n",
    "Adet = det(A)\n",
    "println( \"A es una matriz no singular, dado que su determinante es $Adet\")"
   ]
  },
  {
   "cell_type": "markdown",
   "metadata": {},
   "source": [
    "A es una matriz singular por o tanto"
   ]
  },
  {
   "cell_type": "code",
   "execution_count": 54,
   "metadata": {},
   "outputs": [
    {
     "data": {
      "text/plain": [
       "2-element Array{Float64,1}:\n",
       " -0.010822326374094082\n",
       "  0.4004260758414997  "
      ]
     },
     "execution_count": 54,
     "metadata": {},
     "output_type": "execute_result"
    }
   ],
   "source": [
    "# solución exacta\n",
    "X = inv(A)*b\n"
   ]
  },
  {
   "cell_type": "code",
   "execution_count": 55,
   "metadata": {},
   "outputs": [
    {
     "data": {
      "text/plain": [
       "2-element Array{Float64,1}:\n",
       " -4.440892098500626e-16\n",
       " -1.942890293094024e-16"
      ]
     },
     "execution_count": 55,
     "metadata": {},
     "output_type": "execute_result"
    }
   ],
   "source": [
    "# residual original\n",
    "r = b-A*X"
   ]
  },
  {
   "cell_type": "code",
   "execution_count": 53,
   "metadata": {},
   "outputs": [
    {
     "data": {
      "text/plain": [
       "2-element Array{Float64,1}:\n",
       " 5.0999999999801204e-6\n",
       " 0.001282499999999992 "
      ]
     },
     "execution_count": 53,
     "metadata": {},
     "output_type": "execute_result"
    }
   ],
   "source": [
    "X2 = [-0.0827; .5];\n",
    "# residual\n",
    "r2 = b-A*X2\n"
   ]
  },
  {
   "cell_type": "code",
   "execution_count": 58,
   "metadata": {},
   "outputs": [
    {
     "data": {
      "text/plain": [
       "2-element Array{Float64,1}:\n",
       "  0.0015720000000000178\n",
       " -0.017195000000000016 "
      ]
     },
     "execution_count": 58,
     "metadata": {},
     "output_type": "execute_result"
    }
   ],
   "source": [
    "X3 = [0.999; -1.001];\n",
    "# residual\n",
    "r3 = b-A*X3"
   ]
  },
  {
   "cell_type": "markdown",
   "metadata": {},
   "source": [
    "la mejor solución aproximada es el insciso b, con $X=[0.999; -1.001]'$ ya que genera el menor residual."
   ]
  },
  {
   "cell_type": "markdown",
   "metadata": {},
   "source": [
    "## 10 ) Inciso (a) interpola la función $f(x)=cos(\\pi x)$ en los nodos $x_1=0$ y $x_2$=1 con el polinomio de Hermite cúbico $H(x)$. Encuentre el error absoluto de $H(\\frac{1}{2})$ y $H^{'}(\\frac{1}{2})$"
   ]
  },
  {
   "cell_type": "code",
   "execution_count": 354,
   "metadata": {},
   "outputs": [
    {
     "data": {
      "text/plain": [
       "4×1 LinearAlgebra.Adjoint{Int64,Array{Int64,2}}:\n",
       "  1\n",
       "  0\n",
       " -1\n",
       "  0"
      ]
     },
     "execution_count": 354,
     "metadata": {},
     "output_type": "execute_result"
    }
   ],
   "source": [
    "M=[1 0 0 0 ; 1 1 1 1 ; 0 1 0 0 ; 0 1 2 3]\n",
    "b=[1 0 -1 0]'\n"
   ]
  },
  {
   "cell_type": "markdown",
   "metadata": {},
   "source": [
    "Coeficientes del polinomio"
   ]
  },
  {
   "cell_type": "code",
   "execution_count": 355,
   "metadata": {},
   "outputs": [
    {
     "data": {
      "text/plain": [
       "4×1 Array{Float64,2}:\n",
       "  1.0\n",
       " -1.0\n",
       " -1.0\n",
       "  1.0"
      ]
     },
     "execution_count": 355,
     "metadata": {},
     "output_type": "execute_result"
    }
   ],
   "source": [
    "a = inv(M)*b"
   ]
  },
  {
   "cell_type": "code",
   "execution_count": 383,
   "metadata": {},
   "outputs": [
    {
     "data": {
      "text/plain": [
       "1.0"
      ]
     },
     "execution_count": 383,
     "metadata": {},
     "output_type": "execute_result"
    }
   ],
   "source": [
    "a[1]+a[2]*0+a[3]*0+a[4]*0"
   ]
  },
  {
   "cell_type": "markdown",
   "metadata": {},
   "source": [
    "Evaluando condiciones para las dos ecuaciones correspondientes a los dos puntos"
   ]
  },
  {
   "cell_type": "markdown",
   "metadata": {},
   "source": [
    "$f(x_2)\\approx p(x_2)=a_1+a_2*x_1+a_3*x_2^2+a_4*x_3$\n",
    "\n",
    "con $x_2=1$"
   ]
  },
  {
   "cell_type": "code",
   "execution_count": 357,
   "metadata": {},
   "outputs": [
    {
     "data": {
      "text/plain": [
       "0.0"
      ]
     },
     "execution_count": 357,
     "metadata": {},
     "output_type": "execute_result"
    }
   ],
   "source": [
    "a[1]*1+a[2]*1+a[3]*1+a[4]*1"
   ]
  },
  {
   "cell_type": "markdown",
   "metadata": {},
   "source": [
    "$f(x_1)\\approx p(x_1)=a_1+a_2*x_1+a_3*x_2^2+a_4*x_3$\n",
    "\n",
    "con $x_1=$"
   ]
  },
  {
   "cell_type": "code",
   "execution_count": 360,
   "metadata": {},
   "outputs": [
    {
     "data": {
      "text/plain": [
       "-1.0"
      ]
     },
     "execution_count": 360,
     "metadata": {},
     "output_type": "execute_result"
    }
   ],
   "source": [
    "a[2]+2*a[3]*0+3*a[4]*0\n"
   ]
  },
  {
   "cell_type": "markdown",
   "metadata": {},
   "source": [
    "Evaluando las derivadas\n",
    "\n",
    "$f'(x_2)\\approx p'(x_2)$\n",
    "\n",
    "con $x_2=1$"
   ]
  },
  {
   "cell_type": "code",
   "execution_count": 362,
   "metadata": {},
   "outputs": [
    {
     "data": {
      "text/plain": [
       "0.0"
      ]
     },
     "execution_count": 362,
     "metadata": {},
     "output_type": "execute_result"
    }
   ],
   "source": [
    "\n",
    "a[2]+2*a[3]*1+3*a[4]*1\n"
   ]
  },
  {
   "cell_type": "markdown",
   "metadata": {},
   "source": [
    "$f'(x_1)\\approx p'(x_1)$\n",
    "\n",
    "con $x_2=1$"
   ]
  },
  {
   "cell_type": "markdown",
   "metadata": {},
   "source": [
    "Calculando los errores absolutos\n",
    "\n",
    "$|f(x)-p(x)|$\n",
    "\n",
    "Con $x=\\frac{1}{2}$"
   ]
  },
  {
   "cell_type": "code",
   "execution_count": 384,
   "metadata": {},
   "outputs": [
    {
     "data": {
      "text/plain": [
       "0.375"
      ]
     },
     "execution_count": 384,
     "metadata": {},
     "output_type": "execute_result"
    }
   ],
   "source": [
    "abs(cospi(.5)-(a[1]+a[2]*.5+a[3]*(.5)^2+a[4]*.5^3))"
   ]
  },
  {
   "cell_type": "markdown",
   "metadata": {},
   "source": [
    "Calculando los errores absolutos para\n",
    "\n",
    "$|f'(x)-p'(x)|$\n",
    "\n",
    "Con $x=\\frac{1}{2}$"
   ]
  },
  {
   "cell_type": "code",
   "execution_count": 381,
   "metadata": {},
   "outputs": [
    {
     "data": {
      "text/plain": [
       "0.25"
      ]
     },
     "execution_count": 381,
     "metadata": {},
     "output_type": "execute_result"
    }
   ],
   "source": [
    " abs(-sinpi(.5)-(a[2]+2*a[3]*.5+(2+1)a[4]*(.5^2)))\n"
   ]
  },
  {
   "cell_type": "markdown",
   "metadata": {},
   "source": [
    "Splines de orden  m , para cada n-1 subintervalos  se define un polinomio de grado  m. Al evaluar las m funciones debe coinsidir con la evaluación del polinomio y las m derivadas correspondientes.\n",
    "\n",
    "n onservacioens en n-1 subintervalos , a cada uno se le defune un polinomio de grado m. Al evaluar cada polinomio en su intervalo deben coincidir con su verdadero valor, y asimismo para sus primeras derivadas.Para m=1, se tienen n-2 ecuaciones, cono las n-2 ecuaciones de las primeras derivadas y así respectivamente. Así, mara el m-1 spline debe evaluar esas ecuaciones.\n",
    "\n",
    "De esta forma tenemos n+m(n-2), n observaciones que se evaluan en m splines con n-2 ecuaciones. Para evaluar ecuaciones se necesitan los coeficientes del spline de orden m, se necesitan (n-1) ecuaciones multiplicadas por  (m+1), que son los splines-\n",
    "De esta manera en spline cubico se necesitan n-1, pero un spline orden m, necesita m-1 condiciones de frontera.\n"
   ]
  }
 ],
 "metadata": {
  "kernelspec": {
   "display_name": "Julia 1.0.3 (4 threads)",
   "language": "julia",
   "name": "julia-1.0k"
  },
  "language_info": {
   "file_extension": ".jl",
   "mimetype": "application/julia",
   "name": "julia",
   "version": "1.0.3"
  }
 },
 "nbformat": 4,
 "nbformat_minor": 2
}
