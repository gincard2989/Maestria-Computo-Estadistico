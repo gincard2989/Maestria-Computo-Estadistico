{
 "cells": [
  {
   "cell_type": "markdown",
   "metadata": {},
   "source": [
    "# Tarea 1. Métodos Númericos\n",
    "## Hairo Ulises Miranda Belmonte\n",
    "### Maestría en Compúto Estadístico"
   ]
  },
  {
   "cell_type": "markdown",
   "metadata": {},
   "source": [
    "## Ejercicio 3. considera la función :\n",
    "$$f(x)=\\frac{1-cos(x)}{x^2}$$\n",
    "\n"
   ]
  },
  {
   "cell_type": "markdown",
   "metadata": {},
   "source": [
    "### a) Calcule $f(0.05)$ en la aritmética con redondeo 4 dígitos decimales después del punto flotante.\n"
   ]
  },
  {
   "cell_type": "code",
   "execution_count": 56,
   "metadata": {},
   "outputs": [
    {
     "name": "stdout",
     "output_type": "stream",
     "text": [
      "El resultado es: 0.4998958420134868\n"
     ]
    }
   ],
   "source": [
    "funcion(x) = (1-cos(x))/(x^2)\n",
    "x = funcion(0.05)\n",
    "println(\"El resultado es: $x\")\n"
   ]
  },
  {
   "cell_type": "markdown",
   "metadata": {},
   "source": [
    "realizamos redondeo con 4 dígitos y tenemos $x=0.4999$"
   ]
  },
  {
   "cell_type": "markdown",
   "metadata": {},
   "source": [
    "### b) Calcule $f(0.05)$ en la aritmética con redondeo 2 dígitos decimales después del punto flotante.\n"
   ]
  },
  {
   "cell_type": "code",
   "execution_count": 58,
   "metadata": {},
   "outputs": [
    {
     "data": {
      "text/plain": [
       "0.9987502603949663"
      ]
     },
     "execution_count": 58,
     "metadata": {},
     "output_type": "execute_result"
    }
   ],
   "source": [
    "# realizamos operación de coseno\n",
    "cos(0.05)"
   ]
  },
  {
   "cell_type": "code",
   "execution_count": 62,
   "metadata": {},
   "outputs": [
    {
     "data": {
      "text/plain": [
       "RObject{RealSxp}\n",
       "[1] 1\n"
      ]
     },
     "execution_count": 62,
     "metadata": {},
     "output_type": "execute_result"
    }
   ],
   "source": [
    " #using RCall # llamar a la función\n",
    "R\" round(0.9987502603949663,2)\" # realizamos redondeo con dos dígitos"
   ]
  },
  {
   "cell_type": "markdown",
   "metadata": {},
   "source": [
    "redondeamos a dos dígitos y tenemos: $cos(0.05)=1$\n",
    "\n",
    "\n"
   ]
  },
  {
   "cell_type": "code",
   "execution_count": 63,
   "metadata": {},
   "outputs": [
    {
     "data": {
      "text/plain": [
       "0"
      ]
     },
     "execution_count": 63,
     "metadata": {},
     "output_type": "execute_result"
    }
   ],
   "source": [
    "# realizamos operación 1-cos(0.05) con cos(0.05) redondeado a dos dígitos\n",
    "1-1"
   ]
  },
  {
   "cell_type": "markdown",
   "metadata": {},
   "source": [
    "$1-cos(.05)=0$"
   ]
  },
  {
   "cell_type": "code",
   "execution_count": 64,
   "metadata": {},
   "outputs": [
    {
     "data": {
      "text/plain": [
       "0.0025000000000000005"
      ]
     },
     "execution_count": 64,
     "metadata": {},
     "output_type": "execute_result"
    }
   ],
   "source": [
    "# realizando operación x^2 y redondeando a dos dígitos\n",
    "0.05^2"
   ]
  },
  {
   "cell_type": "markdown",
   "metadata": {},
   "source": [
    "Redondeando valores significatiovs tenemos $x^2=0.0025$"
   ]
  },
  {
   "cell_type": "code",
   "execution_count": 65,
   "metadata": {},
   "outputs": [
    {
     "data": {
      "text/plain": [
       "0.0"
      ]
     },
     "execution_count": 65,
     "metadata": {},
     "output_type": "execute_result"
    }
   ],
   "source": [
    "# resultado total\n",
    "(1-1)/0.0025"
   ]
  },
  {
   "cell_type": "markdown",
   "metadata": {},
   "source": [
    "Utilizando dos dígitos en reodndeo en la aritmética la operación $$\\frac{1-cos(0.05}{x^2}=0$$"
   ]
  },
  {
   "cell_type": "markdown",
   "metadata": {},
   "source": [
    "### c) Calcule $f(0.05)$ en la aritmética con redondeo  con dos dígitos decimales después del puntoflotante de la forma:\n",
    "$$f(x)=\\frac{2(sin(x/2)^2}{x^2}$$"
   ]
  },
  {
   "cell_type": "code",
   "execution_count": 66,
   "metadata": {},
   "outputs": [
    {
     "data": {
      "text/plain": [
       "0.025"
      ]
     },
     "execution_count": 66,
     "metadata": {},
     "output_type": "execute_result"
    }
   ],
   "source": [
    "# primero, realizamos x/2\n",
    "0.05/2"
   ]
  },
  {
   "cell_type": "markdown",
   "metadata": {},
   "source": [
    "con redondedo de 2 dígitos es: $0.25$"
   ]
  },
  {
   "cell_type": "code",
   "execution_count": 67,
   "metadata": {},
   "outputs": [
    {
     "data": {
      "text/plain": [
       "0.24740395925452294"
      ]
     },
     "execution_count": 67,
     "metadata": {},
     "output_type": "execute_result"
    }
   ],
   "source": [
    "# ahora sacamos sin(x/2)\n",
    "sin(.25)"
   ]
  },
  {
   "cell_type": "markdown",
   "metadata": {},
   "source": [
    "con redondedo de 2 dígitos es: $0.025$"
   ]
  },
  {
   "cell_type": "code",
   "execution_count": 68,
   "metadata": {},
   "outputs": [
    {
     "data": {
      "text/plain": [
       "0.0625"
      ]
     },
     "execution_count": 68,
     "metadata": {},
     "output_type": "execute_result"
    }
   ],
   "source": [
    "# ahora lo elevamos al cuadredo sin(x/2)^2\n",
    ".25^2"
   ]
  },
  {
   "cell_type": "markdown",
   "metadata": {},
   "source": [
    "con redondedo de 2 dígitos signnificativos es: $0.063$"
   ]
  },
  {
   "cell_type": "code",
   "execution_count": 69,
   "metadata": {},
   "outputs": [
    {
     "data": {
      "text/plain": [
       "0.0025000000000000005"
      ]
     },
     "execution_count": 69,
     "metadata": {},
     "output_type": "execute_result"
    }
   ],
   "source": [
    "# realizamos la parte del denomidador x^2\n",
    "0.05^2"
   ]
  },
  {
   "cell_type": "markdown",
   "metadata": {},
   "source": [
    "con redondedo de 2 dígitos significativos es: $0.25$"
   ]
  },
  {
   "cell_type": "code",
   "execution_count": 70,
   "metadata": {},
   "outputs": [
    {
     "data": {
      "text/plain": [
       "2.52"
      ]
     },
     "execution_count": 70,
     "metadata": {},
     "output_type": "execute_result"
    }
   ],
   "source": [
    "# realizando el ciciente 2*(sin(x/2)^2)/x^2\n",
    "0.63/.25"
   ]
  },
  {
   "cell_type": "markdown",
   "metadata": {},
   "source": [
    "De esta manre, el resultado al redondeo en la aritmética de:\n",
    "$$f(0.05)=\\frac{(1-sin(0.05)^2}{(0.05^2)}=2.52$$"
   ]
  },
  {
   "cell_type": "markdown",
   "metadata": {},
   "source": [
    "### d) Gráfica (A) entre $-4x10^{-8}$ y  $4x10^{-8}$. A su vez, haga esto para la funcón (B)"
   ]
  },
  {
   "cell_type": "code",
   "execution_count": 7,
   "metadata": {},
   "outputs": [
    {
     "data": {
      "text/plain": [
       "Plots.GRBackend()"
      ]
     },
     "execution_count": 7,
     "metadata": {},
     "output_type": "execute_result"
    }
   ],
   "source": [
    "# Librerias necesarias para la función\n",
    "using Plots\n",
    "gr()\n",
    "\n",
    "\n"
   ]
  },
  {
   "cell_type": "code",
   "execution_count": 8,
   "metadata": {},
   "outputs": [
    {
     "data": {
      "image/svg+xml": [
       "<?xml version=\"1.0\" encoding=\"utf-8\"?>\n",
       "<svg xmlns=\"http://www.w3.org/2000/svg\" xmlns:xlink=\"http://www.w3.org/1999/xlink\" width=\"600\" height=\"400\" viewBox=\"0 0 2400 1600\">\n",
       "<defs>\n",
       "  <clipPath id=\"clip8700\">\n",
       "    <rect x=\"0\" y=\"0\" width=\"2000\" height=\"2000\"/>\n",
       "  </clipPath>\n",
       "</defs>\n",
       "<defs>\n",
       "  <clipPath id=\"clip8701\">\n",
       "    <rect x=\"0\" y=\"0\" width=\"2400\" height=\"1600\"/>\n",
       "  </clipPath>\n",
       "</defs>\n",
       "<polygon clip-path=\"url(#clip8701)\" points=\"\n",
       "0,1600 2400,1600 2400,0 0,0 \n",
       "  \" fill=\"#ffffff\" fill-rule=\"evenodd\" fill-opacity=\"1\"/>\n",
       "<defs>\n",
       "  <clipPath id=\"clip8702\">\n",
       "    <rect x=\"480\" y=\"0\" width=\"1681\" height=\"1600\"/>\n",
       "  </clipPath>\n",
       "</defs>\n",
       "<polygon clip-path=\"url(#clip8701)\" points=\"\n",
       "188.156,1503.47 2321.26,1503.47 2321.26,47.2441 188.156,47.2441 \n",
       "  \" fill=\"#ffffff\" fill-rule=\"evenodd\" fill-opacity=\"1\"/>\n",
       "<defs>\n",
       "  <clipPath id=\"clip8703\">\n",
       "    <rect x=\"188\" y=\"47\" width=\"2134\" height=\"1457\"/>\n",
       "  </clipPath>\n",
       "</defs>\n",
       "<polyline clip-path=\"url(#clip8703)\" style=\"stroke:#000000; stroke-width:2; stroke-opacity:0.1; fill:none\" points=\"\n",
       "  243.586,1503.47 243.586,47.2441 \n",
       "  \"/>\n",
       "<polyline clip-path=\"url(#clip8703)\" style=\"stroke:#000000; stroke-width:2; stroke-opacity:0.1; fill:none\" points=\"\n",
       "  749.52,1503.47 749.52,47.2441 \n",
       "  \"/>\n",
       "<polyline clip-path=\"url(#clip8703)\" style=\"stroke:#000000; stroke-width:2; stroke-opacity:0.1; fill:none\" points=\"\n",
       "  1255.45,1503.47 1255.45,47.2441 \n",
       "  \"/>\n",
       "<polyline clip-path=\"url(#clip8703)\" style=\"stroke:#000000; stroke-width:2; stroke-opacity:0.1; fill:none\" points=\"\n",
       "  1761.39,1503.47 1761.39,47.2441 \n",
       "  \"/>\n",
       "<polyline clip-path=\"url(#clip8703)\" style=\"stroke:#000000; stroke-width:2; stroke-opacity:0.1; fill:none\" points=\"\n",
       "  2267.32,1503.47 2267.32,47.2441 \n",
       "  \"/>\n",
       "<polyline clip-path=\"url(#clip8703)\" style=\"stroke:#000000; stroke-width:2; stroke-opacity:0.1; fill:none\" points=\"\n",
       "  188.156,1462.26 2321.26,1462.26 \n",
       "  \"/>\n",
       "<polyline clip-path=\"url(#clip8703)\" style=\"stroke:#000000; stroke-width:2; stroke-opacity:0.1; fill:none\" points=\"\n",
       "  188.156,1117.9 2321.26,1117.9 \n",
       "  \"/>\n",
       "<polyline clip-path=\"url(#clip8703)\" style=\"stroke:#000000; stroke-width:2; stroke-opacity:0.1; fill:none\" points=\"\n",
       "  188.156,773.536 2321.26,773.536 \n",
       "  \"/>\n",
       "<polyline clip-path=\"url(#clip8703)\" style=\"stroke:#000000; stroke-width:2; stroke-opacity:0.1; fill:none\" points=\"\n",
       "  188.156,429.173 2321.26,429.173 \n",
       "  \"/>\n",
       "<polyline clip-path=\"url(#clip8703)\" style=\"stroke:#000000; stroke-width:2; stroke-opacity:0.1; fill:none\" points=\"\n",
       "  188.156,84.8106 2321.26,84.8106 \n",
       "  \"/>\n",
       "<polyline clip-path=\"url(#clip8701)\" style=\"stroke:#000000; stroke-width:4; stroke-opacity:1; fill:none\" points=\"\n",
       "  188.156,1503.47 2321.26,1503.47 \n",
       "  \"/>\n",
       "<polyline clip-path=\"url(#clip8701)\" style=\"stroke:#000000; stroke-width:4; stroke-opacity:1; fill:none\" points=\"\n",
       "  188.156,1503.47 188.156,47.2441 \n",
       "  \"/>\n",
       "<polyline clip-path=\"url(#clip8701)\" style=\"stroke:#000000; stroke-width:4; stroke-opacity:1; fill:none\" points=\"\n",
       "  243.586,1503.47 243.586,1481.63 \n",
       "  \"/>\n",
       "<polyline clip-path=\"url(#clip8701)\" style=\"stroke:#000000; stroke-width:4; stroke-opacity:1; fill:none\" points=\"\n",
       "  749.52,1503.47 749.52,1481.63 \n",
       "  \"/>\n",
       "<polyline clip-path=\"url(#clip8701)\" style=\"stroke:#000000; stroke-width:4; stroke-opacity:1; fill:none\" points=\"\n",
       "  1255.45,1503.47 1255.45,1481.63 \n",
       "  \"/>\n",
       "<polyline clip-path=\"url(#clip8701)\" style=\"stroke:#000000; stroke-width:4; stroke-opacity:1; fill:none\" points=\"\n",
       "  1761.39,1503.47 1761.39,1481.63 \n",
       "  \"/>\n",
       "<polyline clip-path=\"url(#clip8701)\" style=\"stroke:#000000; stroke-width:4; stroke-opacity:1; fill:none\" points=\"\n",
       "  2267.32,1503.47 2267.32,1481.63 \n",
       "  \"/>\n",
       "<polyline clip-path=\"url(#clip8701)\" style=\"stroke:#000000; stroke-width:4; stroke-opacity:1; fill:none\" points=\"\n",
       "  188.156,1462.26 220.153,1462.26 \n",
       "  \"/>\n",
       "<polyline clip-path=\"url(#clip8701)\" style=\"stroke:#000000; stroke-width:4; stroke-opacity:1; fill:none\" points=\"\n",
       "  188.156,1117.9 220.153,1117.9 \n",
       "  \"/>\n",
       "<polyline clip-path=\"url(#clip8701)\" style=\"stroke:#000000; stroke-width:4; stroke-opacity:1; fill:none\" points=\"\n",
       "  188.156,773.536 220.153,773.536 \n",
       "  \"/>\n",
       "<polyline clip-path=\"url(#clip8701)\" style=\"stroke:#000000; stroke-width:4; stroke-opacity:1; fill:none\" points=\"\n",
       "  188.156,429.173 220.153,429.173 \n",
       "  \"/>\n",
       "<polyline clip-path=\"url(#clip8701)\" style=\"stroke:#000000; stroke-width:4; stroke-opacity:1; fill:none\" points=\"\n",
       "  188.156,84.8106 220.153,84.8106 \n",
       "  \"/>\n",
       "<g clip-path=\"url(#clip8701)\">\n",
       "<text style=\"fill:#000000; fill-opacity:1; font-family:Arial,Helvetica Neue,Helvetica,sans-serif; font-size:48px; text-anchor:start;\" transform=\"rotate(0, 153.041, 1578.48)\" x=\"153.041\" y=\"1578.48\">-</text>\n",
       "</g>\n",
       "<g clip-path=\"url(#clip8701)\">\n",
       "<text style=\"fill:#000000; fill-opacity:1; font-family:Arial,Helvetica Neue,Helvetica,sans-serif; font-size:48px; text-anchor:start;\" transform=\"rotate(0, 181.151, 1578.48)\" x=\"181.151\" y=\"1578.48\">4×10</text>\n",
       "</g>\n",
       "<g clip-path=\"url(#clip8701)\">\n",
       "<text style=\"fill:#000000; fill-opacity:1; font-family:Arial,Helvetica Neue,Helvetica,sans-serif; font-size:38px; text-anchor:start;\" transform=\"rotate(0, 289.548, 1551.07)\" x=\"289.548\" y=\"1551.07\">-</text>\n",
       "</g>\n",
       "<g clip-path=\"url(#clip8701)\">\n",
       "<text style=\"fill:#000000; fill-opacity:1; font-family:Arial,Helvetica Neue,Helvetica,sans-serif; font-size:38px; text-anchor:start;\" transform=\"rotate(0, 312.387, 1551.07)\" x=\"312.387\" y=\"1551.07\">8</text>\n",
       "</g>\n",
       "<g clip-path=\"url(#clip8701)\">\n",
       "<text style=\"fill:#000000; fill-opacity:1; font-family:Arial,Helvetica Neue,Helvetica,sans-serif; font-size:48px; text-anchor:start;\" transform=\"rotate(0, 658.974, 1578.48)\" x=\"658.974\" y=\"1578.48\">-</text>\n",
       "</g>\n",
       "<g clip-path=\"url(#clip8701)\">\n",
       "<text style=\"fill:#000000; fill-opacity:1; font-family:Arial,Helvetica Neue,Helvetica,sans-serif; font-size:48px; text-anchor:start;\" transform=\"rotate(0, 687.084, 1578.48)\" x=\"687.084\" y=\"1578.48\">2×10</text>\n",
       "</g>\n",
       "<g clip-path=\"url(#clip8701)\">\n",
       "<text style=\"fill:#000000; fill-opacity:1; font-family:Arial,Helvetica Neue,Helvetica,sans-serif; font-size:38px; text-anchor:start;\" transform=\"rotate(0, 795.481, 1551.07)\" x=\"795.481\" y=\"1551.07\">-</text>\n",
       "</g>\n",
       "<g clip-path=\"url(#clip8701)\">\n",
       "<text style=\"fill:#000000; fill-opacity:1; font-family:Arial,Helvetica Neue,Helvetica,sans-serif; font-size:38px; text-anchor:start;\" transform=\"rotate(0, 818.321, 1551.07)\" x=\"818.321\" y=\"1551.07\">8</text>\n",
       "</g>\n",
       "<g clip-path=\"url(#clip8701)\">\n",
       "<text style=\"fill:#000000; fill-opacity:1; font-family:Arial,Helvetica Neue,Helvetica,sans-serif; font-size:48px; text-anchor:middle;\" transform=\"rotate(0, 1255.45, 1557.47)\" x=\"1255.45\" y=\"1557.47\">0</text>\n",
       "</g>\n",
       "<g clip-path=\"url(#clip8701)\">\n",
       "<text style=\"fill:#000000; fill-opacity:1; font-family:Arial,Helvetica Neue,Helvetica,sans-serif; font-size:48px; text-anchor:start;\" transform=\"rotate(0, 1684.9, 1578.48)\" x=\"1684.9\" y=\"1578.48\">2×10</text>\n",
       "</g>\n",
       "<g clip-path=\"url(#clip8701)\">\n",
       "<text style=\"fill:#000000; fill-opacity:1; font-family:Arial,Helvetica Neue,Helvetica,sans-serif; font-size:38px; text-anchor:start;\" transform=\"rotate(0, 1793.29, 1551.07)\" x=\"1793.29\" y=\"1551.07\">-</text>\n",
       "</g>\n",
       "<g clip-path=\"url(#clip8701)\">\n",
       "<text style=\"fill:#000000; fill-opacity:1; font-family:Arial,Helvetica Neue,Helvetica,sans-serif; font-size:38px; text-anchor:start;\" transform=\"rotate(0, 1816.13, 1551.07)\" x=\"1816.13\" y=\"1551.07\">8</text>\n",
       "</g>\n",
       "<g clip-path=\"url(#clip8701)\">\n",
       "<text style=\"fill:#000000; fill-opacity:1; font-family:Arial,Helvetica Neue,Helvetica,sans-serif; font-size:48px; text-anchor:start;\" transform=\"rotate(0, 2190.83, 1578.48)\" x=\"2190.83\" y=\"1578.48\">4×10</text>\n",
       "</g>\n",
       "<g clip-path=\"url(#clip8701)\">\n",
       "<text style=\"fill:#000000; fill-opacity:1; font-family:Arial,Helvetica Neue,Helvetica,sans-serif; font-size:38px; text-anchor:start;\" transform=\"rotate(0, 2299.23, 1551.07)\" x=\"2299.23\" y=\"1551.07\">-</text>\n",
       "</g>\n",
       "<g clip-path=\"url(#clip8701)\">\n",
       "<text style=\"fill:#000000; fill-opacity:1; font-family:Arial,Helvetica Neue,Helvetica,sans-serif; font-size:38px; text-anchor:start;\" transform=\"rotate(0, 2322.07, 1551.07)\" x=\"2322.07\" y=\"1551.07\">8</text>\n",
       "</g>\n",
       "<g clip-path=\"url(#clip8701)\">\n",
       "<text style=\"fill:#000000; fill-opacity:1; font-family:Arial,Helvetica Neue,Helvetica,sans-serif; font-size:48px; text-anchor:end;\" transform=\"rotate(0, 164.156, 1479.76)\" x=\"164.156\" y=\"1479.76\">0.00</text>\n",
       "</g>\n",
       "<g clip-path=\"url(#clip8701)\">\n",
       "<text style=\"fill:#000000; fill-opacity:1; font-family:Arial,Helvetica Neue,Helvetica,sans-serif; font-size:48px; text-anchor:end;\" transform=\"rotate(0, 164.156, 1135.4)\" x=\"164.156\" y=\"1135.4\">0.25</text>\n",
       "</g>\n",
       "<g clip-path=\"url(#clip8701)\">\n",
       "<text style=\"fill:#000000; fill-opacity:1; font-family:Arial,Helvetica Neue,Helvetica,sans-serif; font-size:48px; text-anchor:end;\" transform=\"rotate(0, 164.156, 791.036)\" x=\"164.156\" y=\"791.036\">0.50</text>\n",
       "</g>\n",
       "<g clip-path=\"url(#clip8701)\">\n",
       "<text style=\"fill:#000000; fill-opacity:1; font-family:Arial,Helvetica Neue,Helvetica,sans-serif; font-size:48px; text-anchor:end;\" transform=\"rotate(0, 164.156, 446.673)\" x=\"164.156\" y=\"446.673\">0.75</text>\n",
       "</g>\n",
       "<g clip-path=\"url(#clip8701)\">\n",
       "<text style=\"fill:#000000; fill-opacity:1; font-family:Arial,Helvetica Neue,Helvetica,sans-serif; font-size:48px; text-anchor:end;\" transform=\"rotate(0, 164.156, 102.311)\" x=\"164.156\" y=\"102.311\">1.00</text>\n",
       "</g>\n",
       "<polyline clip-path=\"url(#clip8703)\" style=\"stroke:#009af9; stroke-width:4; stroke-opacity:1; fill:none\" points=\"\n",
       "  248.527,786.62 253.468,779.94 258.409,773.161 263.35,766.28 269.06,758.198 274.771,749.975 280.482,741.606 286.192,733.089 287.62,730.936 289.048,728.774 \n",
       "  290.475,726.602 291.903,724.42 293.331,722.229 294.758,826.061 296.186,824.166 297.614,822.263 300.469,818.43 303.324,814.562 306.18,810.66 309.035,806.722 \n",
       "  320.456,790.609 331.878,773.895 343.299,756.548 354.72,738.538 357.576,733.928 360.431,729.273 363.286,724.574 366.142,719.829 367.569,717.44 368.997,715.039 \n",
       "  370.425,712.626 371.852,835.545 373.28,833.515 374.708,831.475 376.135,829.425 377.563,827.365 383.274,819.023 388.984,810.517 394.695,801.84 400.406,792.989 \n",
       "  411.827,774.745 423.248,755.744 434.67,735.945 446.091,715.301 447.807,712.124 449.523,708.926 451.239,705.708 452.955,702.469 453.813,700.842 454.671,699.209 \n",
       "  455.529,697.572 456.387,849.195 457.245,847.876 458.103,846.553 458.961,845.226 459.818,843.895 463.25,838.526 466.682,833.086 470.114,827.575 473.546,821.992 \n",
       "  487.273,798.904 501.001,774.544 514.728,748.818 528.456,721.62 535.32,707.435 542.183,692.837 543.899,689.122 545.615,685.379 546.473,683.498 547.331,681.61 \n",
       "  548.189,679.715 549.047,677.813 549.905,675.904 550.763,871.056 551.621,869.614 552.479,868.166 554.195,865.255 555.911,862.323 557.362,859.827 558.812,857.315 \n",
       "  560.263,854.787 561.714,852.244 564.616,847.109 567.517,841.908 573.32,831.308 579.124,820.434 590.73,797.825 602.337,774 613.943,748.87 625.549,722.339 \n",
       "  637.156,694.299 648.762,664.635 651.914,656.282 655.066,647.797 655.854,645.655 656.642,643.504 657.43,641.345 658.218,639.178 659.006,637.001 659.794,910.631 \n",
       "  660.582,909.169 661.37,907.701 662.946,904.747 664.522,901.769 666.098,898.767 667.674,895.742 670.826,889.616 673.978,883.391 686.586,857.448 699.193,829.721 \n",
       "  724.409,768.225 749.625,697.304 761.248,660.899 772.871,621.831 778.683,601.217 784.495,579.836 787.4,568.845 790.306,557.647 791.033,554.815 791.759,551.97 \n",
       "  792.486,549.111 793.212,546.238 793.938,1002.81 794.665,1001.36 795.391,999.9 796.118,998.436 797.571,995.488 799.024,992.512 800.477,989.507 801.93,986.473 \n",
       "  804.835,980.317 807.741,974.04 813.553,961.114 819.364,947.668 830.988,919.099 842.611,888.084 867.534,811.935 892.457,719.569 904.918,665.825 917.379,606.03 \n",
       "  929.841,539.239 942.302,464.316 956.74,365.517 971.178,251.286 974.787,219.939 978.397,187.358 980.201,170.585 982.006,153.479 983.811,136.031 985.615,118.232 \n",
       "  986.518,109.197 987.42,100.071 988.323,90.8529 989.225,1462.26 990.127,1462.26 991.03,1462.26 991.932,1462.26 992.834,1462.26 996.444,1462.26 1000.05,1462.26 \n",
       "  1007.27,1462.26 1014.49,1462.26 1021.71,1462.26 1028.93,1462.26 1043.37,1462.26 1057.8,1462.26 1160.45,1462.26 1250.46,1462.26 1348.59,1462.26 1447.31,1462.26 \n",
       "  1460.96,1462.26 1474.6,1462.26 1488.24,1462.26 1501.89,1462.26 1505.3,1462.26 1508.71,1462.26 1512.12,1462.26 1515.53,1462.26 1517.23,1462.26 1518.94,1462.26 \n",
       "  1519.79,1462.26 1520.64,1462.26 1521.5,1462.26 1522.35,88.4582 1523.2,97.1945 1524.06,105.848 1524.91,114.419 1525.76,122.909 1527.47,139.651 1529.17,156.081 \n",
       "  1535.99,218.83 1542.81,277.165 1549.64,331.488 1556.46,382.16 1569.44,469.623 1582.42,546.878 1595.4,615.452 1608.38,676.599 1621.36,731.355 1634.34,780.58 \n",
       "  1647.33,824.995 1660.31,865.206 1673.8,903.11 1687.3,937.517 1694.05,953.541 1700.8,968.842 1704.17,976.235 1707.55,983.463 1709.24,987.017 1710.92,990.531 \n",
       "  1712.61,994.007 1714.3,997.444 1715.14,999.148 1715.98,1000.84 1716.83,1002.53 1717.67,546.151 1718.51,549.486 1719.36,552.803 1720.2,556.101 1721.05,559.382 \n",
       "  1724.42,572.328 1727.79,584.998 1734.54,609.539 1741.29,633.064 1754.79,677.286 1768.29,718.062 1791.01,779.875 1813.73,834.296 1825.1,859.096 1836.46,882.456 \n",
       "  1839.3,888.084 1842.14,893.63 1844.98,899.097 1847.82,904.485 1848.53,905.82 1849.24,907.15 1849.95,908.475 1850.66,909.796 1851.37,911.112 1852.08,637.504 \n",
       "  1852.79,639.464 1853.5,641.416 1854.92,645.301 1856.34,649.159 1857.76,652.989 1859.18,656.792 1886.93,726.012 1914.67,786.679 1928.54,814.238 1942.41,840.145 \n",
       "  1945.88,846.378 1949.35,852.519 1952.82,858.568 1956.28,864.528 1957.15,866.004 1958.02,867.475 1958.88,868.94 1959.75,870.4 1960.62,871.854 1961.49,676.984 \n",
       "  1962.35,678.909 1963.22,680.827 1964.95,684.642 1966.69,688.429 1968.42,692.189 1970.16,695.921 1976.68,709.713 1983.2,723.137 1989.72,736.205 1996.23,748.929 \n",
       "  2009.27,773.395 2022.31,796.622 2028.83,807.798 2035.35,818.695 2041.87,829.322 2048.39,839.688 2050.02,842.239 2051.65,844.775 2052.47,846.037 2053.28,847.296 \n",
       "  2054.1,848.55 2054.91,849.801 2055.73,698.244 2056.54,699.798 2057.36,701.347 2058.17,702.891 2059.8,705.966 2061.43,709.022 2064.69,715.078 2067.95,721.062 \n",
       "  2071.21,726.974 2074.47,732.816 2095.36,768.651 2116.25,801.908 2121.48,809.849 2126.7,817.647 2129.31,821.494 2131.92,825.307 2133.23,827.2 2134.53,829.085 \n",
       "  2135.84,830.962 2137.15,832.83 2138.45,834.69 2139.76,711.398 2141.06,713.611 2142.37,715.813 2144.98,720.19 2147.59,724.527 2152.81,733.09 2158.04,741.504 \n",
       "  2168.48,757.901 2178.93,773.745 2189.37,789.06 2199.82,803.87 2205.04,811.092 2210.26,818.196 2211.57,819.954 2212.87,821.705 2214.18,823.448 2215.49,825.185 \n",
       "  2216.79,721.023 2218.1,723.032 2219.4,725.033 2220.71,727.027 2223.32,730.989 2225.93,734.919 2228.54,738.817 2231.15,742.684 2236.38,750.326 2241.6,757.847 \n",
       "  2248.03,766.944 2254.46,775.866 2260.89,784.617 \n",
       "  \"/>\n",
       "<polygon clip-path=\"url(#clip8701)\" points=\"\n",
       "1958.43,251.724 2249.26,251.724 2249.26,130.764 1958.43,130.764 \n",
       "  \" fill=\"#ffffff\" fill-rule=\"evenodd\" fill-opacity=\"1\"/>\n",
       "<polyline clip-path=\"url(#clip8701)\" style=\"stroke:#000000; stroke-width:4; stroke-opacity:1; fill:none\" points=\"\n",
       "  1958.43,251.724 2249.26,251.724 2249.26,130.764 1958.43,130.764 1958.43,251.724 \n",
       "  \"/>\n",
       "<polyline clip-path=\"url(#clip8701)\" style=\"stroke:#009af9; stroke-width:4; stroke-opacity:1; fill:none\" points=\"\n",
       "  1982.43,191.244 2126.43,191.244 \n",
       "  \"/>\n",
       "<g clip-path=\"url(#clip8701)\">\n",
       "<text style=\"fill:#000000; fill-opacity:1; font-family:Arial,Helvetica Neue,Helvetica,sans-serif; font-size:48px; text-anchor:start;\" transform=\"rotate(0, 2150.43, 208.744)\" x=\"2150.43\" y=\"208.744\">y1</text>\n",
       "</g>\n",
       "</svg>\n"
      ]
     },
     "execution_count": 8,
     "metadata": {},
     "output_type": "execute_result"
    }
   ],
   "source": [
    "funcion(x) = (1-cos(x))/x^2\n",
    "plot(funcion, -4*10^(-8), 4*10^(-8)) # figura A"
   ]
  },
  {
   "cell_type": "code",
   "execution_count": 9,
   "metadata": {},
   "outputs": [
    {
     "data": {
      "image/svg+xml": [
       "<?xml version=\"1.0\" encoding=\"utf-8\"?>\n",
       "<svg xmlns=\"http://www.w3.org/2000/svg\" xmlns:xlink=\"http://www.w3.org/1999/xlink\" width=\"600\" height=\"400\" viewBox=\"0 0 2400 1600\">\n",
       "<defs>\n",
       "  <clipPath id=\"clip8900\">\n",
       "    <rect x=\"0\" y=\"0\" width=\"2000\" height=\"2000\"/>\n",
       "  </clipPath>\n",
       "</defs>\n",
       "<defs>\n",
       "  <clipPath id=\"clip8901\">\n",
       "    <rect x=\"0\" y=\"0\" width=\"2400\" height=\"1600\"/>\n",
       "  </clipPath>\n",
       "</defs>\n",
       "<polygon clip-path=\"url(#clip8901)\" points=\"\n",
       "0,1600 2400,1600 2400,0 0,0 \n",
       "  \" fill=\"#ffffff\" fill-rule=\"evenodd\" fill-opacity=\"1\"/>\n",
       "<defs>\n",
       "  <clipPath id=\"clip8902\">\n",
       "    <rect x=\"480\" y=\"0\" width=\"1681\" height=\"1600\"/>\n",
       "  </clipPath>\n",
       "</defs>\n",
       "<polygon clip-path=\"url(#clip8901)\" points=\"\n",
       "161.394,1503.47 2321.26,1503.47 2321.26,47.2441 161.394,47.2441 \n",
       "  \" fill=\"#ffffff\" fill-rule=\"evenodd\" fill-opacity=\"1\"/>\n",
       "<defs>\n",
       "  <clipPath id=\"clip8903\">\n",
       "    <rect x=\"161\" y=\"47\" width=\"2161\" height=\"1457\"/>\n",
       "  </clipPath>\n",
       "</defs>\n",
       "<polyline clip-path=\"url(#clip8903)\" style=\"stroke:#000000; stroke-width:2; stroke-opacity:0.1; fill:none\" points=\"\n",
       "  202.166,1503.47 202.166,47.2441 \n",
       "  \"/>\n",
       "<polyline clip-path=\"url(#clip8903)\" style=\"stroke:#000000; stroke-width:2; stroke-opacity:0.1; fill:none\" points=\"\n",
       "  723.28,1503.47 723.28,47.2441 \n",
       "  \"/>\n",
       "<polyline clip-path=\"url(#clip8903)\" style=\"stroke:#000000; stroke-width:2; stroke-opacity:0.1; fill:none\" points=\"\n",
       "  1244.39,1503.47 1244.39,47.2441 \n",
       "  \"/>\n",
       "<polyline clip-path=\"url(#clip8903)\" style=\"stroke:#000000; stroke-width:2; stroke-opacity:0.1; fill:none\" points=\"\n",
       "  1765.51,1503.47 1765.51,47.2441 \n",
       "  \"/>\n",
       "<polyline clip-path=\"url(#clip8903)\" style=\"stroke:#000000; stroke-width:2; stroke-opacity:0.1; fill:none\" points=\"\n",
       "  2286.62,1503.47 2286.62,47.2441 \n",
       "  \"/>\n",
       "<polyline clip-path=\"url(#clip8903)\" style=\"stroke:#000000; stroke-width:2; stroke-opacity:0.1; fill:none\" points=\"\n",
       "  161.394,1324.88 2321.26,1324.88 \n",
       "  \"/>\n",
       "<polyline clip-path=\"url(#clip8903)\" style=\"stroke:#000000; stroke-width:2; stroke-opacity:0.1; fill:none\" points=\"\n",
       "  161.394,1050.12 2321.26,1050.12 \n",
       "  \"/>\n",
       "<polyline clip-path=\"url(#clip8903)\" style=\"stroke:#000000; stroke-width:2; stroke-opacity:0.1; fill:none\" points=\"\n",
       "  161.394,775.359 2321.26,775.359 \n",
       "  \"/>\n",
       "<polyline clip-path=\"url(#clip8903)\" style=\"stroke:#000000; stroke-width:2; stroke-opacity:0.1; fill:none\" points=\"\n",
       "  161.394,500.599 2321.26,500.599 \n",
       "  \"/>\n",
       "<polyline clip-path=\"url(#clip8903)\" style=\"stroke:#000000; stroke-width:2; stroke-opacity:0.1; fill:none\" points=\"\n",
       "  161.394,225.838 2321.26,225.838 \n",
       "  \"/>\n",
       "<polyline clip-path=\"url(#clip8901)\" style=\"stroke:#000000; stroke-width:4; stroke-opacity:1; fill:none\" points=\"\n",
       "  161.394,1503.47 2321.26,1503.47 \n",
       "  \"/>\n",
       "<polyline clip-path=\"url(#clip8901)\" style=\"stroke:#000000; stroke-width:4; stroke-opacity:1; fill:none\" points=\"\n",
       "  161.394,1503.47 161.394,47.2441 \n",
       "  \"/>\n",
       "<polyline clip-path=\"url(#clip8901)\" style=\"stroke:#000000; stroke-width:4; stroke-opacity:1; fill:none\" points=\"\n",
       "  202.166,1503.47 202.166,1481.63 \n",
       "  \"/>\n",
       "<polyline clip-path=\"url(#clip8901)\" style=\"stroke:#000000; stroke-width:4; stroke-opacity:1; fill:none\" points=\"\n",
       "  723.28,1503.47 723.28,1481.63 \n",
       "  \"/>\n",
       "<polyline clip-path=\"url(#clip8901)\" style=\"stroke:#000000; stroke-width:4; stroke-opacity:1; fill:none\" points=\"\n",
       "  1244.39,1503.47 1244.39,1481.63 \n",
       "  \"/>\n",
       "<polyline clip-path=\"url(#clip8901)\" style=\"stroke:#000000; stroke-width:4; stroke-opacity:1; fill:none\" points=\"\n",
       "  1765.51,1503.47 1765.51,1481.63 \n",
       "  \"/>\n",
       "<polyline clip-path=\"url(#clip8901)\" style=\"stroke:#000000; stroke-width:4; stroke-opacity:1; fill:none\" points=\"\n",
       "  2286.62,1503.47 2286.62,1481.63 \n",
       "  \"/>\n",
       "<polyline clip-path=\"url(#clip8901)\" style=\"stroke:#000000; stroke-width:4; stroke-opacity:1; fill:none\" points=\"\n",
       "  161.394,1324.88 193.792,1324.88 \n",
       "  \"/>\n",
       "<polyline clip-path=\"url(#clip8901)\" style=\"stroke:#000000; stroke-width:4; stroke-opacity:1; fill:none\" points=\"\n",
       "  161.394,1050.12 193.792,1050.12 \n",
       "  \"/>\n",
       "<polyline clip-path=\"url(#clip8901)\" style=\"stroke:#000000; stroke-width:4; stroke-opacity:1; fill:none\" points=\"\n",
       "  161.394,775.359 193.792,775.359 \n",
       "  \"/>\n",
       "<polyline clip-path=\"url(#clip8901)\" style=\"stroke:#000000; stroke-width:4; stroke-opacity:1; fill:none\" points=\"\n",
       "  161.394,500.599 193.792,500.599 \n",
       "  \"/>\n",
       "<polyline clip-path=\"url(#clip8901)\" style=\"stroke:#000000; stroke-width:4; stroke-opacity:1; fill:none\" points=\"\n",
       "  161.394,225.838 193.792,225.838 \n",
       "  \"/>\n",
       "<g clip-path=\"url(#clip8901)\">\n",
       "<text style=\"fill:#000000; fill-opacity:1; font-family:Arial,Helvetica Neue,Helvetica,sans-serif; font-size:48px; text-anchor:start;\" transform=\"rotate(0, 111.62, 1578.48)\" x=\"111.62\" y=\"1578.48\">-</text>\n",
       "</g>\n",
       "<g clip-path=\"url(#clip8901)\">\n",
       "<text style=\"fill:#000000; fill-opacity:1; font-family:Arial,Helvetica Neue,Helvetica,sans-serif; font-size:48px; text-anchor:start;\" transform=\"rotate(0, 139.73, 1578.48)\" x=\"139.73\" y=\"1578.48\">4×10</text>\n",
       "</g>\n",
       "<g clip-path=\"url(#clip8901)\">\n",
       "<text style=\"fill:#000000; fill-opacity:1; font-family:Arial,Helvetica Neue,Helvetica,sans-serif; font-size:38px; text-anchor:start;\" transform=\"rotate(0, 248.128, 1551.07)\" x=\"248.128\" y=\"1551.07\">-</text>\n",
       "</g>\n",
       "<g clip-path=\"url(#clip8901)\">\n",
       "<text style=\"fill:#000000; fill-opacity:1; font-family:Arial,Helvetica Neue,Helvetica,sans-serif; font-size:38px; text-anchor:start;\" transform=\"rotate(0, 270.967, 1551.07)\" x=\"270.967\" y=\"1551.07\">8</text>\n",
       "</g>\n",
       "<g clip-path=\"url(#clip8901)\">\n",
       "<text style=\"fill:#000000; fill-opacity:1; font-family:Arial,Helvetica Neue,Helvetica,sans-serif; font-size:48px; text-anchor:start;\" transform=\"rotate(0, 632.735, 1578.48)\" x=\"632.735\" y=\"1578.48\">-</text>\n",
       "</g>\n",
       "<g clip-path=\"url(#clip8901)\">\n",
       "<text style=\"fill:#000000; fill-opacity:1; font-family:Arial,Helvetica Neue,Helvetica,sans-serif; font-size:48px; text-anchor:start;\" transform=\"rotate(0, 660.845, 1578.48)\" x=\"660.845\" y=\"1578.48\">2×10</text>\n",
       "</g>\n",
       "<g clip-path=\"url(#clip8901)\">\n",
       "<text style=\"fill:#000000; fill-opacity:1; font-family:Arial,Helvetica Neue,Helvetica,sans-serif; font-size:38px; text-anchor:start;\" transform=\"rotate(0, 769.242, 1551.07)\" x=\"769.242\" y=\"1551.07\">-</text>\n",
       "</g>\n",
       "<g clip-path=\"url(#clip8901)\">\n",
       "<text style=\"fill:#000000; fill-opacity:1; font-family:Arial,Helvetica Neue,Helvetica,sans-serif; font-size:38px; text-anchor:start;\" transform=\"rotate(0, 792.081, 1551.07)\" x=\"792.081\" y=\"1551.07\">8</text>\n",
       "</g>\n",
       "<g clip-path=\"url(#clip8901)\">\n",
       "<text style=\"fill:#000000; fill-opacity:1; font-family:Arial,Helvetica Neue,Helvetica,sans-serif; font-size:48px; text-anchor:middle;\" transform=\"rotate(0, 1244.39, 1557.47)\" x=\"1244.39\" y=\"1557.47\">0</text>\n",
       "</g>\n",
       "<g clip-path=\"url(#clip8901)\">\n",
       "<text style=\"fill:#000000; fill-opacity:1; font-family:Arial,Helvetica Neue,Helvetica,sans-serif; font-size:48px; text-anchor:start;\" transform=\"rotate(0, 1689.02, 1578.48)\" x=\"1689.02\" y=\"1578.48\">2×10</text>\n",
       "</g>\n",
       "<g clip-path=\"url(#clip8901)\">\n",
       "<text style=\"fill:#000000; fill-opacity:1; font-family:Arial,Helvetica Neue,Helvetica,sans-serif; font-size:38px; text-anchor:start;\" transform=\"rotate(0, 1797.42, 1551.07)\" x=\"1797.42\" y=\"1551.07\">-</text>\n",
       "</g>\n",
       "<g clip-path=\"url(#clip8901)\">\n",
       "<text style=\"fill:#000000; fill-opacity:1; font-family:Arial,Helvetica Neue,Helvetica,sans-serif; font-size:38px; text-anchor:start;\" transform=\"rotate(0, 1820.25, 1551.07)\" x=\"1820.25\" y=\"1551.07\">8</text>\n",
       "</g>\n",
       "<g clip-path=\"url(#clip8901)\">\n",
       "<text style=\"fill:#000000; fill-opacity:1; font-family:Arial,Helvetica Neue,Helvetica,sans-serif; font-size:48px; text-anchor:start;\" transform=\"rotate(0, 2210.13, 1578.48)\" x=\"2210.13\" y=\"1578.48\">4×10</text>\n",
       "</g>\n",
       "<g clip-path=\"url(#clip8901)\">\n",
       "<text style=\"fill:#000000; fill-opacity:1; font-family:Arial,Helvetica Neue,Helvetica,sans-serif; font-size:38px; text-anchor:start;\" transform=\"rotate(0, 2318.53, 1551.07)\" x=\"2318.53\" y=\"1551.07\">-</text>\n",
       "</g>\n",
       "<g clip-path=\"url(#clip8901)\">\n",
       "<text style=\"fill:#000000; fill-opacity:1; font-family:Arial,Helvetica Neue,Helvetica,sans-serif; font-size:38px; text-anchor:start;\" transform=\"rotate(0, 2341.37, 1551.07)\" x=\"2341.37\" y=\"1551.07\">8</text>\n",
       "</g>\n",
       "<g clip-path=\"url(#clip8901)\">\n",
       "<text style=\"fill:#000000; fill-opacity:1; font-family:Arial,Helvetica Neue,Helvetica,sans-serif; font-size:48px; text-anchor:end;\" transform=\"rotate(0, 137.394, 1342.38)\" x=\"137.394\" y=\"1342.38\">0.6</text>\n",
       "</g>\n",
       "<g clip-path=\"url(#clip8901)\">\n",
       "<text style=\"fill:#000000; fill-opacity:1; font-family:Arial,Helvetica Neue,Helvetica,sans-serif; font-size:48px; text-anchor:end;\" transform=\"rotate(0, 137.394, 1067.62)\" x=\"137.394\" y=\"1067.62\">0.8</text>\n",
       "</g>\n",
       "<g clip-path=\"url(#clip8901)\">\n",
       "<text style=\"fill:#000000; fill-opacity:1; font-family:Arial,Helvetica Neue,Helvetica,sans-serif; font-size:48px; text-anchor:end;\" transform=\"rotate(0, 137.394, 792.859)\" x=\"137.394\" y=\"792.859\">1.0</text>\n",
       "</g>\n",
       "<g clip-path=\"url(#clip8901)\">\n",
       "<text style=\"fill:#000000; fill-opacity:1; font-family:Arial,Helvetica Neue,Helvetica,sans-serif; font-size:48px; text-anchor:end;\" transform=\"rotate(0, 137.394, 518.099)\" x=\"137.394\" y=\"518.099\">1.2</text>\n",
       "</g>\n",
       "<g clip-path=\"url(#clip8901)\">\n",
       "<text style=\"fill:#000000; fill-opacity:1; font-family:Arial,Helvetica Neue,Helvetica,sans-serif; font-size:48px; text-anchor:end;\" transform=\"rotate(0, 137.394, 243.338)\" x=\"137.394\" y=\"243.338\">1.4</text>\n",
       "</g>\n",
       "<polyline clip-path=\"url(#clip8903)\" style=\"stroke:#009af9; stroke-width:4; stroke-opacity:1; fill:none\" points=\"\n",
       "  222.522,1462.26 410.747,1462.26 523.862,1462.26 619.5,1462.26 723.389,1462.26 819.165,1462.26 921.848,1462.26 1040.82,1462.26 1146.54,1462.26 1239.25,1462.26 \n",
       "  1340.33,1462.26 1442.01,1462.26 1554.43,1462.26 1661.4,1462.26 1772.62,1462.26 1866.24,1462.26 1980.54,1462.26 2087.99,1462.26 2260.13,1462.26 \n",
       "  \"/>\n",
       "<polygon clip-path=\"url(#clip8901)\" points=\"\n",
       "1958.43,251.724 2249.26,251.724 2249.26,130.764 1958.43,130.764 \n",
       "  \" fill=\"#ffffff\" fill-rule=\"evenodd\" fill-opacity=\"1\"/>\n",
       "<polyline clip-path=\"url(#clip8901)\" style=\"stroke:#000000; stroke-width:4; stroke-opacity:1; fill:none\" points=\"\n",
       "  1958.43,251.724 2249.26,251.724 2249.26,130.764 1958.43,130.764 1958.43,251.724 \n",
       "  \"/>\n",
       "<polyline clip-path=\"url(#clip8901)\" style=\"stroke:#009af9; stroke-width:4; stroke-opacity:1; fill:none\" points=\"\n",
       "  1982.43,191.244 2126.43,191.244 \n",
       "  \"/>\n",
       "<g clip-path=\"url(#clip8901)\">\n",
       "<text style=\"fill:#000000; fill-opacity:1; font-family:Arial,Helvetica Neue,Helvetica,sans-serif; font-size:48px; text-anchor:start;\" transform=\"rotate(0, 2150.43, 208.744)\" x=\"2150.43\" y=\"208.744\">y1</text>\n",
       "</g>\n",
       "</svg>\n"
      ]
     },
     "execution_count": 9,
     "metadata": {},
     "output_type": "execute_result"
    }
   ],
   "source": [
    "funcion2(x) = (2*(sin(x/2)^2))/(x^2)\n",
    "plot(funcion2, -4*10^(-8), 4*10^(-8)) # figura B \n"
   ]
  },
  {
   "cell_type": "markdown",
   "metadata": {},
   "source": [
    "con esos valores no se observa más que una linea horizontal; no obstante se traza para valores menores."
   ]
  },
  {
   "cell_type": "code",
   "execution_count": 10,
   "metadata": {},
   "outputs": [
    {
     "data": {
      "image/svg+xml": [
       "<?xml version=\"1.0\" encoding=\"utf-8\"?>\n",
       "<svg xmlns=\"http://www.w3.org/2000/svg\" xmlns:xlink=\"http://www.w3.org/1999/xlink\" width=\"600\" height=\"400\" viewBox=\"0 0 2400 1600\">\n",
       "<defs>\n",
       "  <clipPath id=\"clip9100\">\n",
       "    <rect x=\"0\" y=\"0\" width=\"2000\" height=\"2000\"/>\n",
       "  </clipPath>\n",
       "</defs>\n",
       "<defs>\n",
       "  <clipPath id=\"clip9101\">\n",
       "    <rect x=\"0\" y=\"0\" width=\"2400\" height=\"1600\"/>\n",
       "  </clipPath>\n",
       "</defs>\n",
       "<polygon clip-path=\"url(#clip9101)\" points=\"\n",
       "0,1600 2400,1600 2400,0 0,0 \n",
       "  \" fill=\"#ffffff\" fill-rule=\"evenodd\" fill-opacity=\"1\"/>\n",
       "<defs>\n",
       "  <clipPath id=\"clip9102\">\n",
       "    <rect x=\"480\" y=\"0\" width=\"1681\" height=\"1600\"/>\n",
       "  </clipPath>\n",
       "</defs>\n",
       "<polygon clip-path=\"url(#clip9101)\" points=\"\n",
       "161.394,1503.47 2321.26,1503.47 2321.26,47.2441 161.394,47.2441 \n",
       "  \" fill=\"#ffffff\" fill-rule=\"evenodd\" fill-opacity=\"1\"/>\n",
       "<defs>\n",
       "  <clipPath id=\"clip9103\">\n",
       "    <rect x=\"161\" y=\"47\" width=\"2161\" height=\"1457\"/>\n",
       "  </clipPath>\n",
       "</defs>\n",
       "<polyline clip-path=\"url(#clip9103)\" style=\"stroke:#000000; stroke-width:2; stroke-opacity:0.1; fill:none\" points=\"\n",
       "  202.166,1503.47 202.166,47.2441 \n",
       "  \"/>\n",
       "<polyline clip-path=\"url(#clip9103)\" style=\"stroke:#000000; stroke-width:2; stroke-opacity:0.1; fill:none\" points=\"\n",
       "  723.28,1503.47 723.28,47.2441 \n",
       "  \"/>\n",
       "<polyline clip-path=\"url(#clip9103)\" style=\"stroke:#000000; stroke-width:2; stroke-opacity:0.1; fill:none\" points=\"\n",
       "  1244.39,1503.47 1244.39,47.2441 \n",
       "  \"/>\n",
       "<polyline clip-path=\"url(#clip9103)\" style=\"stroke:#000000; stroke-width:2; stroke-opacity:0.1; fill:none\" points=\"\n",
       "  1765.51,1503.47 1765.51,47.2441 \n",
       "  \"/>\n",
       "<polyline clip-path=\"url(#clip9103)\" style=\"stroke:#000000; stroke-width:2; stroke-opacity:0.1; fill:none\" points=\"\n",
       "  2286.62,1503.47 2286.62,47.2441 \n",
       "  \"/>\n",
       "<polyline clip-path=\"url(#clip9103)\" style=\"stroke:#000000; stroke-width:2; stroke-opacity:0.1; fill:none\" points=\"\n",
       "  161.394,1374.63 2321.26,1374.63 \n",
       "  \"/>\n",
       "<polyline clip-path=\"url(#clip9103)\" style=\"stroke:#000000; stroke-width:2; stroke-opacity:0.1; fill:none\" points=\"\n",
       "  161.394,1160.26 2321.26,1160.26 \n",
       "  \"/>\n",
       "<polyline clip-path=\"url(#clip9103)\" style=\"stroke:#000000; stroke-width:2; stroke-opacity:0.1; fill:none\" points=\"\n",
       "  161.394,945.894 2321.26,945.894 \n",
       "  \"/>\n",
       "<polyline clip-path=\"url(#clip9103)\" style=\"stroke:#000000; stroke-width:2; stroke-opacity:0.1; fill:none\" points=\"\n",
       "  161.394,731.527 2321.26,731.527 \n",
       "  \"/>\n",
       "<polyline clip-path=\"url(#clip9103)\" style=\"stroke:#000000; stroke-width:2; stroke-opacity:0.1; fill:none\" points=\"\n",
       "  161.394,517.159 2321.26,517.159 \n",
       "  \"/>\n",
       "<polyline clip-path=\"url(#clip9103)\" style=\"stroke:#000000; stroke-width:2; stroke-opacity:0.1; fill:none\" points=\"\n",
       "  161.394,302.791 2321.26,302.791 \n",
       "  \"/>\n",
       "<polyline clip-path=\"url(#clip9103)\" style=\"stroke:#000000; stroke-width:2; stroke-opacity:0.1; fill:none\" points=\"\n",
       "  161.394,88.4233 2321.26,88.4233 \n",
       "  \"/>\n",
       "<polyline clip-path=\"url(#clip9101)\" style=\"stroke:#000000; stroke-width:4; stroke-opacity:1; fill:none\" points=\"\n",
       "  161.394,1503.47 2321.26,1503.47 \n",
       "  \"/>\n",
       "<polyline clip-path=\"url(#clip9101)\" style=\"stroke:#000000; stroke-width:4; stroke-opacity:1; fill:none\" points=\"\n",
       "  161.394,1503.47 161.394,47.2441 \n",
       "  \"/>\n",
       "<polyline clip-path=\"url(#clip9101)\" style=\"stroke:#000000; stroke-width:4; stroke-opacity:1; fill:none\" points=\"\n",
       "  202.166,1503.47 202.166,1481.63 \n",
       "  \"/>\n",
       "<polyline clip-path=\"url(#clip9101)\" style=\"stroke:#000000; stroke-width:4; stroke-opacity:1; fill:none\" points=\"\n",
       "  723.28,1503.47 723.28,1481.63 \n",
       "  \"/>\n",
       "<polyline clip-path=\"url(#clip9101)\" style=\"stroke:#000000; stroke-width:4; stroke-opacity:1; fill:none\" points=\"\n",
       "  1244.39,1503.47 1244.39,1481.63 \n",
       "  \"/>\n",
       "<polyline clip-path=\"url(#clip9101)\" style=\"stroke:#000000; stroke-width:4; stroke-opacity:1; fill:none\" points=\"\n",
       "  1765.51,1503.47 1765.51,1481.63 \n",
       "  \"/>\n",
       "<polyline clip-path=\"url(#clip9101)\" style=\"stroke:#000000; stroke-width:4; stroke-opacity:1; fill:none\" points=\"\n",
       "  2286.62,1503.47 2286.62,1481.63 \n",
       "  \"/>\n",
       "<polyline clip-path=\"url(#clip9101)\" style=\"stroke:#000000; stroke-width:4; stroke-opacity:1; fill:none\" points=\"\n",
       "  161.394,1374.63 193.792,1374.63 \n",
       "  \"/>\n",
       "<polyline clip-path=\"url(#clip9101)\" style=\"stroke:#000000; stroke-width:4; stroke-opacity:1; fill:none\" points=\"\n",
       "  161.394,1160.26 193.792,1160.26 \n",
       "  \"/>\n",
       "<polyline clip-path=\"url(#clip9101)\" style=\"stroke:#000000; stroke-width:4; stroke-opacity:1; fill:none\" points=\"\n",
       "  161.394,945.894 193.792,945.894 \n",
       "  \"/>\n",
       "<polyline clip-path=\"url(#clip9101)\" style=\"stroke:#000000; stroke-width:4; stroke-opacity:1; fill:none\" points=\"\n",
       "  161.394,731.527 193.792,731.527 \n",
       "  \"/>\n",
       "<polyline clip-path=\"url(#clip9101)\" style=\"stroke:#000000; stroke-width:4; stroke-opacity:1; fill:none\" points=\"\n",
       "  161.394,517.159 193.792,517.159 \n",
       "  \"/>\n",
       "<polyline clip-path=\"url(#clip9101)\" style=\"stroke:#000000; stroke-width:4; stroke-opacity:1; fill:none\" points=\"\n",
       "  161.394,302.791 193.792,302.791 \n",
       "  \"/>\n",
       "<polyline clip-path=\"url(#clip9101)\" style=\"stroke:#000000; stroke-width:4; stroke-opacity:1; fill:none\" points=\"\n",
       "  161.394,88.4233 193.792,88.4233 \n",
       "  \"/>\n",
       "<g clip-path=\"url(#clip9101)\">\n",
       "<text style=\"fill:#000000; fill-opacity:1; font-family:Arial,Helvetica Neue,Helvetica,sans-serif; font-size:48px; text-anchor:middle;\" transform=\"rotate(0, 202.166, 1557.47)\" x=\"202.166\" y=\"1557.47\">-0.0004</text>\n",
       "</g>\n",
       "<g clip-path=\"url(#clip9101)\">\n",
       "<text style=\"fill:#000000; fill-opacity:1; font-family:Arial,Helvetica Neue,Helvetica,sans-serif; font-size:48px; text-anchor:middle;\" transform=\"rotate(0, 723.28, 1557.47)\" x=\"723.28\" y=\"1557.47\">-0.0002</text>\n",
       "</g>\n",
       "<g clip-path=\"url(#clip9101)\">\n",
       "<text style=\"fill:#000000; fill-opacity:1; font-family:Arial,Helvetica Neue,Helvetica,sans-serif; font-size:48px; text-anchor:middle;\" transform=\"rotate(0, 1244.39, 1557.47)\" x=\"1244.39\" y=\"1557.47\">0.0000</text>\n",
       "</g>\n",
       "<g clip-path=\"url(#clip9101)\">\n",
       "<text style=\"fill:#000000; fill-opacity:1; font-family:Arial,Helvetica Neue,Helvetica,sans-serif; font-size:48px; text-anchor:middle;\" transform=\"rotate(0, 1765.51, 1557.47)\" x=\"1765.51\" y=\"1557.47\">0.0002</text>\n",
       "</g>\n",
       "<g clip-path=\"url(#clip9101)\">\n",
       "<text style=\"fill:#000000; fill-opacity:1; font-family:Arial,Helvetica Neue,Helvetica,sans-serif; font-size:48px; text-anchor:middle;\" transform=\"rotate(0, 2286.62, 1557.47)\" x=\"2286.62\" y=\"1557.47\">0.0004</text>\n",
       "</g>\n",
       "<g clip-path=\"url(#clip9101)\">\n",
       "<text style=\"fill:#000000; fill-opacity:1; font-family:Arial,Helvetica Neue,Helvetica,sans-serif; font-size:48px; text-anchor:end;\" transform=\"rotate(0, 137.394, 1392.13)\" x=\"137.394\" y=\"1392.13\">0.5</text>\n",
       "</g>\n",
       "<g clip-path=\"url(#clip9101)\">\n",
       "<text style=\"fill:#000000; fill-opacity:1; font-family:Arial,Helvetica Neue,Helvetica,sans-serif; font-size:48px; text-anchor:end;\" transform=\"rotate(0, 137.394, 1177.76)\" x=\"137.394\" y=\"1177.76\">0.5</text>\n",
       "</g>\n",
       "<g clip-path=\"url(#clip9101)\">\n",
       "<text style=\"fill:#000000; fill-opacity:1; font-family:Arial,Helvetica Neue,Helvetica,sans-serif; font-size:48px; text-anchor:end;\" transform=\"rotate(0, 137.394, 963.394)\" x=\"137.394\" y=\"963.394\">0.5</text>\n",
       "</g>\n",
       "<g clip-path=\"url(#clip9101)\">\n",
       "<text style=\"fill:#000000; fill-opacity:1; font-family:Arial,Helvetica Neue,Helvetica,sans-serif; font-size:48px; text-anchor:end;\" transform=\"rotate(0, 137.394, 749.027)\" x=\"137.394\" y=\"749.027\">0.5</text>\n",
       "</g>\n",
       "<g clip-path=\"url(#clip9101)\">\n",
       "<text style=\"fill:#000000; fill-opacity:1; font-family:Arial,Helvetica Neue,Helvetica,sans-serif; font-size:48px; text-anchor:end;\" transform=\"rotate(0, 137.394, 534.659)\" x=\"137.394\" y=\"534.659\">0.5</text>\n",
       "</g>\n",
       "<g clip-path=\"url(#clip9101)\">\n",
       "<text style=\"fill:#000000; fill-opacity:1; font-family:Arial,Helvetica Neue,Helvetica,sans-serif; font-size:48px; text-anchor:end;\" transform=\"rotate(0, 137.394, 320.291)\" x=\"137.394\" y=\"320.291\">0.5</text>\n",
       "</g>\n",
       "<g clip-path=\"url(#clip9101)\">\n",
       "<text style=\"fill:#000000; fill-opacity:1; font-family:Arial,Helvetica Neue,Helvetica,sans-serif; font-size:48px; text-anchor:end;\" transform=\"rotate(0, 137.394, 105.923)\" x=\"137.394\" y=\"105.923\">0.5</text>\n",
       "</g>\n",
       "<polyline clip-path=\"url(#clip9103)\" style=\"stroke:#009af9; stroke-width:4; stroke-opacity:1; fill:none\" points=\"\n",
       "  222.522,1462.26 410.747,1002.76 523.862,771.468 619.5,602.179 723.389,445.554 819.165,326.32 921.848,225.3 1040.82,142.95 1146.54,101.021 1239.25,88.4582 \n",
       "  1340.33,100.532 1442.01,139.803 1554.43,214.888 1661.4,317.204 1772.62,455.516 1866.24,597.176 1980.54,801.396 2087.99,1024.72 2260.13,1445.81 \n",
       "  \"/>\n",
       "<polygon clip-path=\"url(#clip9101)\" points=\"\n",
       "1958.43,251.724 2249.26,251.724 2249.26,130.764 1958.43,130.764 \n",
       "  \" fill=\"#ffffff\" fill-rule=\"evenodd\" fill-opacity=\"1\"/>\n",
       "<polyline clip-path=\"url(#clip9101)\" style=\"stroke:#000000; stroke-width:4; stroke-opacity:1; fill:none\" points=\"\n",
       "  1958.43,251.724 2249.26,251.724 2249.26,130.764 1958.43,130.764 1958.43,251.724 \n",
       "  \"/>\n",
       "<polyline clip-path=\"url(#clip9101)\" style=\"stroke:#009af9; stroke-width:4; stroke-opacity:1; fill:none\" points=\"\n",
       "  1982.43,191.244 2126.43,191.244 \n",
       "  \"/>\n",
       "<g clip-path=\"url(#clip9101)\">\n",
       "<text style=\"fill:#000000; fill-opacity:1; font-family:Arial,Helvetica Neue,Helvetica,sans-serif; font-size:48px; text-anchor:start;\" transform=\"rotate(0, 2150.43, 208.744)\" x=\"2150.43\" y=\"208.744\">y1</text>\n",
       "</g>\n",
       "</svg>\n"
      ]
     },
     "execution_count": 10,
     "metadata": {},
     "output_type": "execute_result"
    }
   ],
   "source": [
    "plot(funcion2, -4*10^(-4), 4*10^(-4)) # figura B \n"
   ]
  },
  {
   "cell_type": "markdown",
   "metadata": {},
   "source": [
    "## EJERCICIO $4.$ Consideramos la función:\n",
    "$$x^2-20x-0.5991=0$$\n",
    "el polinomio $x^2-20x-0.5991=0$, se puede factorizar como $(x-19.97)(x-0.03)$, así que las raíces exactas son $19.97$ y  $0.03$. Ahora recordamos las fórmulas para las raíces:\n",
    "$$x_1=10+\\sqrt(10^2+0.5991)$$\n",
    "$$x_2=10-\\sqrt(10^2+0.5991)$$\n"
   ]
  },
  {
   "cell_type": "markdown",
   "metadata": {},
   "source": [
    "### a) calcule $x_2$ por a segunda formula en la aritmética con redondeo con 2 dígitos después del punto flotante"
   ]
  },
  {
   "cell_type": "code",
   "execution_count": 75,
   "metadata": {},
   "outputs": [
    {
     "data": {
      "text/plain": [
       "100"
      ]
     },
     "execution_count": 75,
     "metadata": {},
     "output_type": "execute_result"
    }
   ],
   "source": [
    "# primero realizamos la operació 10^2\n",
    "10^2\n"
   ]
  },
  {
   "cell_type": "code",
   "execution_count": 76,
   "metadata": {},
   "outputs": [
    {
     "data": {
      "text/plain": [
       "100.59909999999999"
      ]
     },
     "execution_count": 76,
     "metadata": {},
     "output_type": "execute_result"
    }
   ],
   "source": [
    "# realizamos 10^2+0.5991 y redondea a 2 dígitos\n",
    "100+0.5991"
   ]
  },
  {
   "cell_type": "code",
   "execution_count": 77,
   "metadata": {},
   "outputs": [
    {
     "data": {
      "text/plain": [
       "RObject{RealSxp}\n",
       "[1] 100.6\n"
      ]
     },
     "execution_count": 77,
     "metadata": {},
     "output_type": "execute_result"
    }
   ],
   "source": [
    "# using RCall; llamar la función\n",
    "R\" round(100.59909999999999,2)\""
   ]
  },
  {
   "cell_type": "markdown",
   "metadata": {},
   "source": [
    "el redondedo a dos dígitos de $10^2+0.5991 = 100.6$\n"
   ]
  },
  {
   "cell_type": "code",
   "execution_count": 78,
   "metadata": {},
   "outputs": [
    {
     "data": {
      "text/plain": [
       "10.029955134495866"
      ]
     },
     "execution_count": 78,
     "metadata": {},
     "output_type": "execute_result"
    }
   ],
   "source": [
    "# sacamos raíz cuadrada\n",
    "sqrt(100.6)"
   ]
  },
  {
   "cell_type": "code",
   "execution_count": 79,
   "metadata": {},
   "outputs": [
    {
     "data": {
      "text/plain": [
       "RObject{RealSxp}\n",
       "[1] 10.03\n"
      ]
     },
     "execution_count": 79,
     "metadata": {},
     "output_type": "execute_result"
    }
   ],
   "source": [
    "R\" round(10.029955134495866,2)\""
   ]
  },
  {
   "cell_type": "markdown",
   "metadata": {},
   "source": [
    "redondeo a dos dígitos es:$10.03$ "
   ]
  },
  {
   "cell_type": "code",
   "execution_count": 80,
   "metadata": {},
   "outputs": [
    {
     "data": {
      "text/plain": [
       "-0.02999999999999936"
      ]
     },
     "execution_count": 80,
     "metadata": {},
     "output_type": "execute_result"
    }
   ],
   "source": [
    "# le restamos a 10 lo anterior\n",
    "10-10.03"
   ]
  },
  {
   "cell_type": "code",
   "execution_count": 81,
   "metadata": {},
   "outputs": [
    {
     "data": {
      "text/plain": [
       "RObject{RealSxp}\n",
       "[1] -0.03\n"
      ]
     },
     "execution_count": 81,
     "metadata": {},
     "output_type": "execute_result"
    }
   ],
   "source": [
    "R\" round(-0.02999999999999936,2)\""
   ]
  },
  {
   "cell_type": "markdown",
   "metadata": {},
   "source": [
    "$x=-0.03 = 3x10^{-2}$\n"
   ]
  },
  {
   "cell_type": "markdown",
   "metadata": {},
   "source": [
    "### b) calcular $x_2$ en la aritmética con redondeo con 2 dígitos decimales después del punto flotante usando la formula:\n",
    "$$x_2=\\frac{-0.5991}{10+\\sqrt(10^2+0.5991)}$$\n"
   ]
  },
  {
   "cell_type": "code",
   "execution_count": 82,
   "metadata": {},
   "outputs": [
    {
     "data": {
      "text/plain": [
       "100"
      ]
     },
     "execution_count": 82,
     "metadata": {},
     "output_type": "execute_result"
    }
   ],
   "source": [
    "# se trabaja con el denominador 10^2\n",
    "10^2\n",
    "\n"
   ]
  },
  {
   "cell_type": "code",
   "execution_count": 83,
   "metadata": {},
   "outputs": [
    {
     "data": {
      "text/plain": [
       "100.59991"
      ]
     },
     "execution_count": 83,
     "metadata": {},
     "output_type": "execute_result"
    }
   ],
   "source": [
    "# realizamos 10^2+0.59991\n",
    "100+0.59991"
   ]
  },
  {
   "cell_type": "code",
   "execution_count": 84,
   "metadata": {},
   "outputs": [
    {
     "data": {
      "text/plain": [
       "RObject{RealSxp}\n",
       "[1] 100.6\n"
      ]
     },
     "execution_count": 84,
     "metadata": {},
     "output_type": "execute_result"
    }
   ],
   "source": [
    "R\" round(100.59991,2)\"\n"
   ]
  },
  {
   "cell_type": "markdown",
   "metadata": {},
   "source": [
    "redondeando con dos dígitos: $100.60$"
   ]
  },
  {
   "cell_type": "code",
   "execution_count": 135,
   "metadata": {},
   "outputs": [
    {
     "data": {
      "text/plain": [
       "10.029955134495866"
      ]
     },
     "execution_count": 135,
     "metadata": {},
     "output_type": "execute_result"
    }
   ],
   "source": [
    "# le tomamos la raíz\n",
    "sqrt(100.60)"
   ]
  },
  {
   "cell_type": "code",
   "execution_count": 136,
   "metadata": {},
   "outputs": [
    {
     "data": {
      "text/plain": [
       "RObject{RealSxp}\n",
       "[1] 10.03\n"
      ]
     },
     "execution_count": 136,
     "metadata": {},
     "output_type": "execute_result"
    }
   ],
   "source": [
    "R\" round(10.029955134495866,2)\"\n"
   ]
  },
  {
   "cell_type": "markdown",
   "metadata": {},
   "source": [
    "\n",
    "redondeando con dos dígitos:  $10.030$"
   ]
  },
  {
   "cell_type": "code",
   "execution_count": 138,
   "metadata": {},
   "outputs": [
    {
     "data": {
      "text/plain": [
       "20.03"
      ]
     },
     "execution_count": 138,
     "metadata": {},
     "output_type": "execute_result"
    }
   ],
   "source": [
    "# le sumamos 10\n",
    "10+10.030"
   ]
  },
  {
   "cell_type": "markdown",
   "metadata": {},
   "source": [
    "\n",
    "redondeando con dos dígitos:  $20.030$"
   ]
  },
  {
   "cell_type": "code",
   "execution_count": 143,
   "metadata": {},
   "outputs": [
    {
     "data": {
      "text/plain": [
       "-0.02991013479780329"
      ]
     },
     "execution_count": 143,
     "metadata": {},
     "output_type": "execute_result"
    }
   ],
   "source": [
    "# realizamos conciente -0.5991/10+sqrt(10^2+0.5991)\n",
    "-0.5991/20.030\n"
   ]
  },
  {
   "cell_type": "markdown",
   "metadata": {},
   "source": [
    "redondeando con dos dígitos significativos:  $-0.030$"
   ]
  },
  {
   "cell_type": "markdown",
   "metadata": {},
   "source": [
    "## Ejercicio 5. Para cada una de las siguientes expresiones, calcular el valor exacto,  el valor en aritmética con con tres dígitos decimales (dos después del punto flotante), el error absoluto y el relativo."
   ]
  },
  {
   "cell_type": "markdown",
   "metadata": {},
   "source": [
    "### a) $$\\frac{\\pi-\\frac{22}{3}}{\\frac{1}{17}}$$"
   ]
  },
  {
   "cell_type": "code",
   "execution_count": 10,
   "metadata": {},
   "outputs": [
    {
     "name": "stdout",
     "output_type": "stream",
     "text": [
      " El resultado exacto es: -71.25959155564018\n"
     ]
    }
   ],
   "source": [
    "# valor exacto\n",
    "w = (pi-(22/3))/(1/17)\n",
    "println(\" El resultado exacto es: $w\")"
   ]
  },
  {
   "cell_type": "code",
   "execution_count": 4,
   "metadata": {},
   "outputs": [
    {
     "data": {
      "text/plain": [
       "7.333333333333333"
      ]
     },
     "execution_count": 4,
     "metadata": {},
     "output_type": "execute_result"
    }
   ],
   "source": [
    "# valor en aritmética con tres dígitos \n",
    "# primero realizamos 22/3\n",
    "22/3\n"
   ]
  },
  {
   "cell_type": "markdown",
   "metadata": {},
   "source": [
    "nos quedamos con tres dígitos, dos después del punto flotante : $7.33$"
   ]
  },
  {
   "cell_type": "code",
   "execution_count": 5,
   "metadata": {},
   "outputs": [
    {
     "data": {
      "text/plain": [
       "-4.188407346410207"
      ]
     },
     "execution_count": 5,
     "metadata": {},
     "output_type": "execute_result"
    }
   ],
   "source": [
    "# realizamos operación pi - 22/3\n",
    "pi-7.33"
   ]
  },
  {
   "cell_type": "markdown",
   "metadata": {},
   "source": [
    "nos quedamos con tres dígitos, dos después del punto flotante : $-4.19$"
   ]
  },
  {
   "cell_type": "code",
   "execution_count": 6,
   "metadata": {},
   "outputs": [
    {
     "data": {
      "text/plain": [
       "0.058823529411764705"
      ]
     },
     "execution_count": 6,
     "metadata": {},
     "output_type": "execute_result"
    }
   ],
   "source": [
    "# realizamos operación del denomidado 1/17\n",
    "1/17"
   ]
  },
  {
   "cell_type": "markdown",
   "metadata": {},
   "source": [
    "nos quedamos con tres dígitos significativos, dos después del punto flotante : $0.059$\n",
    "\n",
    "\n",
    "Nota: se considera el valor 0 en entero como significativo"
   ]
  },
  {
   "cell_type": "code",
   "execution_count": 11,
   "metadata": {},
   "outputs": [
    {
     "data": {
      "text/plain": [
       "-71.01694915254238"
      ]
     },
     "execution_count": 11,
     "metadata": {},
     "output_type": "execute_result"
    }
   ],
   "source": [
    "# realizamos cociente pi-22/3 / 1/17\n",
    "(-4.19)/0.059\n",
    "\n"
   ]
  },
  {
   "cell_type": "markdown",
   "metadata": {},
   "source": [
    "nos quedamos con tres dígitos significativos, dos después del punto flotante : $-71.017$"
   ]
  },
  {
   "cell_type": "markdown",
   "metadata": {},
   "source": [
    "Ahora, calculamos error absoluto:\n",
    "\n",
    "####  Absolute error= true value - approx. value"
   ]
  },
  {
   "cell_type": "code",
   "execution_count": 25,
   "metadata": {
    "scrolled": true
   },
   "outputs": [
    {
     "name": "stdout",
     "output_type": "stream",
     "text": [
      "El error absoluto es de: -0.24259155564018897\n"
     ]
    }
   ],
   "source": [
    "Eabs = - 71.25959155564018 -( -71.017) \n",
    "println(\"El error absoluto es de: $Eabs\")"
   ]
  },
  {
   "cell_type": "markdown",
   "metadata": {},
   "source": [
    "Ahora, calculamos error relativo:\n",
    "\n",
    "####  Error relativo  = ( true value - approx. value/ true value)*100"
   ]
  },
  {
   "cell_type": "markdown",
   "metadata": {},
   "source": [
    "Ahora, calculamos error relativo:\n",
    "\n",
    "####  Error relativo  = ( true value - approx. value/ true value)*100"
   ]
  },
  {
   "cell_type": "code",
   "execution_count": 27,
   "metadata": {},
   "outputs": [
    {
     "name": "stdout",
     "output_type": "stream",
     "text": [
      "El error absoluto es de: 0.3404335477432131 %\n"
     ]
    }
   ],
   "source": [
    "Erelativo =( Eabs/ - 71.25959155564018)*100\n",
    "println(\"El error absoluto es de: $Erelativo %\")"
   ]
  },
  {
   "cell_type": "markdown",
   "metadata": {},
   "source": [
    "### b)                    $$(1.00+4.70*10^{-2})-(1.00-3.20*10^{-2})$$"
   ]
  },
  {
   "cell_type": "code",
   "execution_count": 45,
   "metadata": {},
   "outputs": [
    {
     "name": "stdout",
     "output_type": "stream",
     "text": [
      "El valor exacto es de: 0.014999999999999902\n"
     ]
    }
   ],
   "source": [
    "# valor exacto\n",
    "x = (1.00+4.70*10^(-2))- (1.00+3.20*10^(-2))\n",
    "println(\"El valor exacto es de: $x\")"
   ]
  },
  {
   "cell_type": "code",
   "execution_count": 31,
   "metadata": {},
   "outputs": [
    {
     "data": {
      "text/plain": [
       "0.04790000000000001"
      ]
     },
     "execution_count": 31,
     "metadata": {},
     "output_type": "execute_result"
    }
   ],
   "source": [
    "# valor en aritmética\n",
    "# primero realizamos operación 4.79*10^-2\n",
    "(4.79)*10^(-2)\n"
   ]
  },
  {
   "cell_type": "markdown",
   "metadata": {},
   "source": [
    "nos quedamos con tres dígitos significativos, dos después del punto flotante : $0.048$"
   ]
  },
  {
   "cell_type": "code",
   "execution_count": 33,
   "metadata": {},
   "outputs": [
    {
     "data": {
      "text/plain": [
       "1.048"
      ]
     },
     "execution_count": 33,
     "metadata": {},
     "output_type": "execute_result"
    }
   ],
   "source": [
    "# realizamos operación 1.00 + 4.79*10^-2\n",
    "1.00 + 0.048"
   ]
  },
  {
   "cell_type": "markdown",
   "metadata": {},
   "source": [
    "nos quedamos con tres dígitos significativos, dos después del punto flotante : $1.048$"
   ]
  },
  {
   "cell_type": "code",
   "execution_count": 34,
   "metadata": {},
   "outputs": [
    {
     "data": {
      "text/plain": [
       "0.03200000000000001"
      ]
     },
     "execution_count": 34,
     "metadata": {},
     "output_type": "execute_result"
    }
   ],
   "source": [
    "# realizamos operaciones del segundo término \n",
    "# se realiza la operación 3.20*10^-2\n",
    "(3.20)*10^(-2)"
   ]
  },
  {
   "cell_type": "markdown",
   "metadata": {},
   "source": [
    "nos quedamos con tres dígitos significativos, dos después del punto flotante : $0.032$"
   ]
  },
  {
   "cell_type": "code",
   "execution_count": 43,
   "metadata": {},
   "outputs": [
    {
     "data": {
      "text/plain": [
       "1.032"
      ]
     },
     "execution_count": 43,
     "metadata": {},
     "output_type": "execute_result"
    }
   ],
   "source": [
    "#realizamos operación 1.00 + 3.20*10^-2\n",
    "1.00 + 0.032"
   ]
  },
  {
   "cell_type": "markdown",
   "metadata": {},
   "source": [
    "nos quedamos con tres dígitos significativos, dos después del punto flotante : $1.032$"
   ]
  },
  {
   "cell_type": "code",
   "execution_count": 44,
   "metadata": {},
   "outputs": [
    {
     "data": {
      "text/plain": [
       "0.016000000000000014"
      ]
     },
     "execution_count": 44,
     "metadata": {},
     "output_type": "execute_result"
    }
   ],
   "source": [
    "# Por último, realizamos la diferencia entre los dos términos (1.00 + 4.70*10^-2) - (1.00 + 3.20*10^-2)\n",
    "1.048 - 1.032"
   ]
  },
  {
   "cell_type": "markdown",
   "metadata": {},
   "source": [
    "nos quedamos con tres dígitos significativos, dos después del punto flotante y tenemos el valor en aritmética que es : $0.016$"
   ]
  },
  {
   "cell_type": "markdown",
   "metadata": {},
   "source": [
    "Ahora, calculamos error absoluto:\n",
    "\n",
    "####  Absolute error= true value - approx. value"
   ]
  },
  {
   "cell_type": "code",
   "execution_count": 54,
   "metadata": {},
   "outputs": [
    {
     "name": "stdout",
     "output_type": "stream",
     "text": [
      "El error absoluto es de : -0.001000000000000098\n"
     ]
    }
   ],
   "source": [
    "Erabs = 0.014999999999999902 -  0.016\n",
    "println(\"El error absoluto es de : $Erabs\")\n"
   ]
  },
  {
   "cell_type": "markdown",
   "metadata": {},
   "source": [
    "Ahora, calculamos error relativo:\n",
    "\n",
    "####  Error relativo  = ( true value - approx. value/ true value)*100"
   ]
  },
  {
   "cell_type": "code",
   "execution_count": 103,
   "metadata": {},
   "outputs": [
    {
     "name": "stdout",
     "output_type": "stream",
     "text": [
      "El error relativo es de : -6.666666666667363 %\n"
     ]
    }
   ],
   "source": [
    "Errealativo = (Erabs/ 0.014999999999999902)*100\n",
    "println(\"El error relativo es de : $Errealativo %\")"
   ]
  },
  {
   "cell_type": "markdown",
   "metadata": {},
   "source": [
    "## Ejercicio 6. como puede representarse 7.75 en IEEE 754-8 bits"
   ]
  },
  {
   "cell_type": "markdown",
   "metadata": {},
   "source": [
    "#### Paso1. convertit decimales a binario"
   ]
  },
  {
   "cell_type": "code",
   "execution_count": 112,
   "metadata": {},
   "outputs": [
    {
     "data": {
      "text/html": [
       "<table class=\"data-frame\"><thead><tr><th></th><th>A</th><th>B</th><th>C</th><th>D</th><th>E</th></tr><tr><th></th><th>Int64</th><th>Int64</th><th>Int64</th><th>Int64</th><th>String</th></tr></thead><tbody><p>2 rows × 5 columns</p><tr><th>1</th><td>6</td><td>4</td><td>2</td><td>1</td><td>7-6=1</td></tr><tr><th>2</th><td>1</td><td>0</td><td>0</td><td>1</td><td>1-1=0</td></tr></tbody></table>"
      ],
      "text/latex": [
       "\\begin{tabular}{r|ccccc}\n",
       "\t& A & B & C & D & E\\\\\n",
       "\t\\hline\n",
       "\t& Int64 & Int64 & Int64 & Int64 & String\\\\\n",
       "\t\\hline\n",
       "\t1 & 6 & 4 & 2 & 1 & 7-6=1 \\\\\n",
       "\t2 & 1 & 0 & 0 & 1 & 1-1=0 \\\\\n",
       "\\end{tabular}\n"
      ],
      "text/plain": [
       "2×5 DataFrame\n",
       "│ Row │ A     │ B     │ C     │ D     │ E      │\n",
       "│     │ \u001b[90mInt64\u001b[39m │ \u001b[90mInt64\u001b[39m │ \u001b[90mInt64\u001b[39m │ \u001b[90mInt64\u001b[39m │ \u001b[90mString\u001b[39m │\n",
       "├─────┼───────┼───────┼───────┼───────┼────────┤\n",
       "│ 1   │ 6     │ 4     │ 2     │ 1     │ 7-6=1  │\n",
       "│ 2   │ 1     │ 0     │ 0     │ 1     │ 1-1=0  │"
      ]
     },
     "execution_count": 112,
     "metadata": {},
     "output_type": "execute_result"
    }
   ],
   "source": [
    "# parte entera\n",
    "df = DataFrame(A = [6,1], B = [4,0], C = [2,0], D = [1,1], E = [\"7-6=1\",\"1-1=0\"])"
   ]
  },
  {
   "cell_type": "markdown",
   "metadata": {},
   "source": [
    "$7_{10}$ se aproxima a $1001_2$"
   ]
  },
  {
   "cell_type": "code",
   "execution_count": 111,
   "metadata": {},
   "outputs": [
    {
     "data": {
      "text/html": [
       "<table class=\"data-frame\"><thead><tr><th></th><th>A</th><th>B</th></tr><tr><th></th><th>String</th><th>Int64</th></tr></thead><tbody><p>4 rows × 2 columns</p><tr><th>1</th><td>.72 x 2 = 1.5</td><td>1</td></tr><tr><th>2</th><td>.05 x 2 = 1</td><td>1</td></tr><tr><th>3</th><td> 0 x 2 = 0</td><td>0</td></tr><tr><th>4</th><td> 0 x 2 = 0</td><td>0</td></tr></tbody></table>"
      ],
      "text/latex": [
       "\\begin{tabular}{r|cc}\n",
       "\t& A & B\\\\\n",
       "\t\\hline\n",
       "\t& String & Int64\\\\\n",
       "\t\\hline\n",
       "\t1 & .72 x 2 = 1.5 & 1 \\\\\n",
       "\t2 & .05 x 2 = 1 & 1 \\\\\n",
       "\t3 &  0 x 2 = 0 & 0 \\\\\n",
       "\t4 &  0 x 2 = 0 & 0 \\\\\n",
       "\\end{tabular}\n"
      ],
      "text/plain": [
       "4×2 DataFrame\n",
       "│ Row │ A             │ B     │\n",
       "│     │ \u001b[90mString\u001b[39m        │ \u001b[90mInt64\u001b[39m │\n",
       "├─────┼───────────────┼───────┤\n",
       "│ 1   │ .72 x 2 = 1.5 │ 1     │\n",
       "│ 2   │ .05 x 2 = 1   │ 1     │\n",
       "│ 3   │  0 x 2 = 0    │ 0     │\n",
       "│ 4   │  0 x 2 = 0    │ 0     │"
      ]
     },
     "execution_count": 111,
     "metadata": {},
     "output_type": "execute_result"
    }
   ],
   "source": [
    "# árte decimal\n",
    "df = DataFrame(A = [\".72 x 2 = 1.5\", \".05 x 2 = 1\", \" 0 x 2 = 0\", \" 0 x 2 = 0\"], B=[1,1,0,0])"
   ]
  },
  {
   "cell_type": "markdown",
   "metadata": {},
   "source": [
    "Juntando la parte entera y parte decimal se tiene \n",
    "\n",
    "$7.75_{10}\\approx 1001.1000_2 $ "
   ]
  },
  {
   "cell_type": "markdown",
   "metadata": {},
   "source": [
    "#### Paso 2. binario a notación cientifica base 2"
   ]
  },
  {
   "cell_type": "markdown",
   "metadata": {},
   "source": [
    "$1001.1100*2^{-2}=1.0011100$\n",
    "\n",
    "$1001.1100=1.0011100*2^{2}$"
   ]
  },
  {
   "cell_type": "markdown",
   "metadata": {},
   "source": [
    "#### Paso 3. Notación cientifica a estándar IEEE 754- 8 bits."
   ]
  },
  {
   "cell_type": "markdown",
   "metadata": {},
   "source": [
    "Cálcular el valor del exponente\n",
    "\n",
    "$$2=e-3$$\n",
    "$$e=2+3=5$$"
   ]
  },
  {
   "cell_type": "markdown",
   "metadata": {},
   "source": [
    "Representar de forma binaria al exponente"
   ]
  },
  {
   "cell_type": "code",
   "execution_count": 113,
   "metadata": {},
   "outputs": [
    {
     "data": {
      "text/html": [
       "<table class=\"data-frame\"><thead><tr><th></th><th>A</th><th>B</th><th>C</th><th>E</th></tr><tr><th></th><th>Int64</th><th>Int64</th><th>Int64</th><th>String</th></tr></thead><tbody><p>2 rows × 4 columns</p><tr><th>1</th><td>4</td><td>2</td><td>1</td><td>5-4=1</td></tr><tr><th>2</th><td>1</td><td>0</td><td>1</td><td>1-1=0</td></tr></tbody></table>"
      ],
      "text/latex": [
       "\\begin{tabular}{r|cccc}\n",
       "\t& A & B & C & E\\\\\n",
       "\t\\hline\n",
       "\t& Int64 & Int64 & Int64 & String\\\\\n",
       "\t\\hline\n",
       "\t1 & 4 & 2 & 1 & 5-4=1 \\\\\n",
       "\t2 & 1 & 0 & 1 & 1-1=0 \\\\\n",
       "\\end{tabular}\n"
      ],
      "text/plain": [
       "2×4 DataFrame\n",
       "│ Row │ A     │ B     │ C     │ E      │\n",
       "│     │ \u001b[90mInt64\u001b[39m │ \u001b[90mInt64\u001b[39m │ \u001b[90mInt64\u001b[39m │ \u001b[90mString\u001b[39m │\n",
       "├─────┼───────┼───────┼───────┼────────┤\n",
       "│ 1   │ 4     │ 2     │ 1     │ 5-4=1  │\n",
       "│ 2   │ 1     │ 0     │ 1     │ 1-1=0  │"
      ]
     },
     "execution_count": 113,
     "metadata": {},
     "output_type": "execute_result"
    }
   ],
   "source": [
    "df = DataFrame(A = [4,1], B = [2,0], C = [1,1], E = [\"5-4=1\",\"1-1=0\"])"
   ]
  },
  {
   "cell_type": "markdown",
   "metadata": {},
   "source": [
    "Representación punto flotante con estandar IEEE 754 -8 bits, se utiliza la forma nomalizada para los significand; i.e., que existe un valor escondido en significand cuyo valor es uno, y ya el valor del exponente no tiene almacenado especial para su signo.\n",
    "\n",
    "Nota: se toman 4 dígitos del significand"
   ]
  },
  {
   "cell_type": "code",
   "execution_count": 118,
   "metadata": {},
   "outputs": [
    {
     "data": {
      "text/html": [
       "<table class=\"data-frame\"><thead><tr><th></th><th>A</th><th>B</th><th>C</th></tr><tr><th></th><th>String</th><th>String</th><th>String</th></tr></thead><tbody><p>2 rows × 3 columns</p><tr><th>1</th><td>0</td><td>1 0 1</td><td>0 0 1 1</td></tr><tr><th>2</th><td>Signo -&gt; 1 bit</td><td>  exp -&gt; 3 bit</td><td>Significand -&gt; 4 bit</td></tr></tbody></table>"
      ],
      "text/latex": [
       "\\begin{tabular}{r|ccc}\n",
       "\t& A & B & C\\\\\n",
       "\t\\hline\n",
       "\t& String & String & String\\\\\n",
       "\t\\hline\n",
       "\t1 & 0 & 1 0 1 & 0 0 1 1 \\\\\n",
       "\t2 & Signo -> 1 bit &   exp -> 3 bit & Significand -> 4 bit \\\\\n",
       "\\end{tabular}\n"
      ],
      "text/plain": [
       "2×3 DataFrame\n",
       "│ Row │ A              │ B              │ C                    │\n",
       "│     │ \u001b[90mString\u001b[39m         │ \u001b[90mString\u001b[39m         │ \u001b[90mString\u001b[39m               │\n",
       "├─────┼────────────────┼────────────────┼──────────────────────┤\n",
       "│ 1   │ 0              │ 1 0 1          │ 0 0 1 1              │\n",
       "│ 2   │ Signo -> 1 bit │   exp -> 3 bit │ Significand -> 4 bit │"
      ]
     },
     "execution_count": 118,
     "metadata": {},
     "output_type": "execute_result"
    }
   ],
   "source": [
    "df = DataFrame(A = [\"0\",\"Signo -> 1 bit\"], B = [\"1 0 1\",\"  exp -> 3 bit\"], C = [\"0 0 1 1\", \"Significand -> 4 bit\"])"
   ]
  },
  {
   "cell_type": "markdown",
   "metadata": {},
   "source": [
    "Se expreza en valor punto flotante de acuerdo al IEEE 754- 8 bits; i.e; \n",
    "\n",
    "$$(-1)^s(1.f)_{2}2^{exp-bias}$$\n",
    "\n"
   ]
  },
  {
   "cell_type": "markdown",
   "metadata": {},
   "source": [
    "\n",
    "\n",
    "$exponente=101=5$\n",
    "\n",
    "$1.f=1+(2^{-2}+2^{-3})$\n",
    "\n",
    "$2^{5-3}$\n",
    "\n",
    "Resultado : $1+(2^{-5})2^{2} \\approx 1.25$\n"
   ]
  },
  {
   "cell_type": "markdown",
   "metadata": {},
   "source": [
    "### a) ¿Qué es número entero positivo máximo puede representar en el sistema\n",
    "\n",
    "Sea $S=3$ y $e=e_02^2+e_02^1+e_02^0$ (3 cifras)\n",
    "\n",
    "Entonces $e \\in (-3,-2,-1,0,1,2,3)$, y el mayor número del sistema está dado por mantisa m = 1,1,1,1.\n",
    "Es decir, unos en el exponente y unos en la mantisa. Por lo tanto:\n",
    "\n",
    "$x_{max}=1+(1-2^{-4})(2^3)= 8.5$\n",
    "\n",
    "con una región overflow de menos infinito a $-8.5$, unión $8.5$ a infinito.\n",
    "\n",
    "\n"
   ]
  },
  {
   "cell_type": "markdown",
   "metadata": {},
   "source": [
    "\n",
    "### b) ¿Qué número positivo mínimo representa el sistema?\n",
    "\n",
    "significand = $1.0$, con el uno del dígito escondido\n",
    "\n",
    "exponente = 1- 3 = -2\n",
    "\n",
    "\n"
   ]
  },
  {
   "cell_type": "code",
   "execution_count": 5,
   "metadata": {},
   "outputs": [
    {
     "data": {
      "text/html": [
       "<table class=\"data-frame\"><thead><tr><th></th><th>A</th><th>B</th><th>C</th></tr><tr><th></th><th>String</th><th>String</th><th>String</th></tr></thead><tbody><p>2 rows × 3 columns</p><tr><th>1</th><td>0</td><td>0 0 1</td><td>0 0 0 0</td></tr><tr><th>2</th><td>Signo -&gt; 1 bit</td><td>  exp -&gt; 3 bit</td><td>Significand -&gt; 4 bit</td></tr></tbody></table>"
      ],
      "text/latex": [
       "\\begin{tabular}{r|ccc}\n",
       "\t& A & B & C\\\\\n",
       "\t\\hline\n",
       "\t& String & String & String\\\\\n",
       "\t\\hline\n",
       "\t1 & 0 & 0 0 1 & 0 0 0 0 \\\\\n",
       "\t2 & Signo -> 1 bit &   exp -> 3 bit & Significand -> 4 bit \\\\\n",
       "\\end{tabular}\n"
      ],
      "text/plain": [
       "2×3 DataFrame\n",
       "│ Row │ A              │ B              │ C                    │\n",
       "│     │ \u001b[90mString\u001b[39m         │ \u001b[90mString\u001b[39m         │ \u001b[90mString\u001b[39m               │\n",
       "├─────┼────────────────┼────────────────┼──────────────────────┤\n",
       "│ 1   │ 0              │ 0 0 1          │ 0 0 0 0              │\n",
       "│ 2   │ Signo -> 1 bit │   exp -> 3 bit │ Significand -> 4 bit │"
      ]
     },
     "execution_count": 5,
     "metadata": {},
     "output_type": "execute_result"
    }
   ],
   "source": [
    "# using DataFrames\n",
    "df = DataFrame(A = [\"0\",\"Signo -> 1 bit\"], B = [\"0 0 1\",\"  exp -> 3 bit\"], C = [\"0 0 0 0\", \"Significand -> 4 bit\"])"
   ]
  },
  {
   "cell_type": "markdown",
   "metadata": {},
   "source": [
    "la expresión de acuerdo a los estándares es:\n",
    "\n",
    "$(-1)^s(1.0)2^{-2} \\approx 6.25*10^{-2}$"
   ]
  },
  {
   "cell_type": "markdown",
   "metadata": {},
   "source": [
    "### c) ¿Qué es número entero subnormal máximo puede representar el sistema?\n",
    " los valores subnormal tienen en exponente 0's, y el valor escondido en el significand es 0; se expresan de la siguiente manera\n",
    " \n",
    " $$(-1)^s(0.f)*2^{exp-bias}$$\n",
    " \n",
    " la subnorma máximo que puede representar este sistema es:\n",
    " \n",
    " NOTA: almenos un valor de $f$ debe ser uno, de lo contrario la expresión es cero."
   ]
  },
  {
   "cell_type": "markdown",
   "metadata": {},
   "source": [
    "En el valor máximo subnormal más largo por a lo menos un valor de $f$ debe ser uno"
   ]
  },
  {
   "cell_type": "code",
   "execution_count": 6,
   "metadata": {},
   "outputs": [
    {
     "data": {
      "text/html": [
       "<table class=\"data-frame\"><thead><tr><th></th><th>A</th><th>B</th><th>C</th></tr><tr><th></th><th>String</th><th>String</th><th>String</th></tr></thead><tbody><p>2 rows × 3 columns</p><tr><th>1</th><td>0</td><td>0 0 0</td><td>1 1 1 1</td></tr><tr><th>2</th><td>Signo -&gt; 1 bit</td><td>  exp -&gt; 3 bit</td><td>Significand -&gt; 4 bit</td></tr></tbody></table>"
      ],
      "text/latex": [
       "\\begin{tabular}{r|ccc}\n",
       "\t& A & B & C\\\\\n",
       "\t\\hline\n",
       "\t& String & String & String\\\\\n",
       "\t\\hline\n",
       "\t1 & 0 & 0 0 0 & 1 1 1 1 \\\\\n",
       "\t2 & Signo -> 1 bit &   exp -> 3 bit & Significand -> 4 bit \\\\\n",
       "\\end{tabular}\n"
      ],
      "text/plain": [
       "2×3 DataFrame\n",
       "│ Row │ A              │ B              │ C                    │\n",
       "│     │ \u001b[90mString\u001b[39m         │ \u001b[90mString\u001b[39m         │ \u001b[90mString\u001b[39m               │\n",
       "├─────┼────────────────┼────────────────┼──────────────────────┤\n",
       "│ 1   │ 0              │ 0 0 0          │ 1 1 1 1              │\n",
       "│ 2   │ Signo -> 1 bit │   exp -> 3 bit │ Significand -> 4 bit │"
      ]
     },
     "execution_count": 6,
     "metadata": {},
     "output_type": "execute_result"
    }
   ],
   "source": [
    "df = DataFrame(A = [\"0\",\"Signo -> 1 bit\"], B = [\"0 0 0\",\"  exp -> 3 bit\"], C = [\"1 1 1 1\", \"Significand -> 4 bit\"])"
   ]
  },
  {
   "cell_type": "markdown",
   "metadata": {},
   "source": [
    "$$0 + (1-2^{-4})*2^{-2}$$"
   ]
  },
  {
   "cell_type": "markdown",
   "metadata": {},
   "source": [
    "### d) ¿Qué es número entero subnormal mínimo puede representar el sistema?"
   ]
  },
  {
   "cell_type": "code",
   "execution_count": 4,
   "metadata": {},
   "outputs": [
    {
     "data": {
      "text/html": [
       "<table class=\"data-frame\"><thead><tr><th></th><th>A</th><th>B</th><th>C</th></tr><tr><th></th><th>String</th><th>String</th><th>String</th></tr></thead><tbody><p>2 rows × 3 columns</p><tr><th>1</th><td>0</td><td>0 0 0</td><td>0 0 0 1</td></tr><tr><th>2</th><td>Signo -&gt; 1 bit</td><td>  exp -&gt; 3 bit</td><td>Significand -&gt; 4 bit</td></tr></tbody></table>"
      ],
      "text/latex": [
       "\\begin{tabular}{r|ccc}\n",
       "\t& A & B & C\\\\\n",
       "\t\\hline\n",
       "\t& String & String & String\\\\\n",
       "\t\\hline\n",
       "\t1 & 0 & 0 0 0 & 0 0 0 1 \\\\\n",
       "\t2 & Signo -> 1 bit &   exp -> 3 bit & Significand -> 4 bit \\\\\n",
       "\\end{tabular}\n"
      ],
      "text/plain": [
       "2×3 DataFrame\n",
       "│ Row │ A              │ B              │ C                    │\n",
       "│     │ \u001b[90mString\u001b[39m         │ \u001b[90mString\u001b[39m         │ \u001b[90mString\u001b[39m               │\n",
       "├─────┼────────────────┼────────────────┼──────────────────────┤\n",
       "│ 1   │ 0              │ 0 0 0          │ 0 0 0 1              │\n",
       "│ 2   │ Signo -> 1 bit │   exp -> 3 bit │ Significand -> 4 bit │"
      ]
     },
     "execution_count": 4,
     "metadata": {},
     "output_type": "execute_result"
    }
   ],
   "source": [
    "df = DataFrame(A = [\"0\",\"Signo -> 1 bit\"], B = [\"0 0 0\",\"  exp -> 3 bit\"], C = [\"0 0 0 1\", \"Significand -> 4 bit\"])"
   ]
  },
  {
   "cell_type": "markdown",
   "metadata": {},
   "source": [
    "$$(-1)(2^{-4})*2^{-2}=2^{-6}$$"
   ]
  },
  {
   "cell_type": "markdown",
   "metadata": {},
   "source": [
    "### e) ¿Qué es número epsilón de máquina?\n",
    "\n",
    "Respuesta: es la diferencia entre 1 y el valor más largo que le sigue y puede ser almacenado en ese formato.\n",
    "Por ejemplo, in 32-bit IEEE formato con 23-bit significand, el error máquina es  $2^{-23} = 1.19 × 10^{–7}$.  En nuestro caso,\n",
    "el error máquina es:\n",
    "$$2^{-4}=6.25*10^{-2}$$"
   ]
  }
 ],
 "metadata": {
  "kernelspec": {
   "display_name": "Julia 1.0.3 (4 threads)",
   "language": "julia",
   "name": "julia-1.0k"
  },
  "language_info": {
   "file_extension": ".jl",
   "mimetype": "application/julia",
   "name": "julia",
   "version": "1.0.3"
  }
 },
 "nbformat": 4,
 "nbformat_minor": 2
}
