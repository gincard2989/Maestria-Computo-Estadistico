{
  "nbformat": 4,
  "nbformat_minor": 0,
  "metadata": {
    "kernelspec": {
      "name": "python3",
      "display_name": "Python 3"
    },
    "language_info": {
      "codemirror_mode": {
        "name": "ipython",
        "version": 3
      },
      "file_extension": ".py",
      "mimetype": "text/x-python",
      "name": "python",
      "nbconvert_exporter": "python",
      "pygments_lexer": "ipython3",
      "version": "3.7.3"
    },
    "colab": {
      "name": "Copia de Tarea3.ipynb",
      "provenance": [],
      "collapsed_sections": [],
      "toc_visible": true,
      "include_colab_link": true
    },
    "accelerator": "TPU"
  },
  "cells": [
    {
      "cell_type": "markdown",
      "metadata": {
        "id": "view-in-github",
        "colab_type": "text"
      },
      "source": [
        "<a href=\"https://colab.research.google.com/github/hairo1421/Maestria-Computo-Estadistico/blob/master/Copia_de_Tarea3.ipynb\" target=\"_parent\"><img src=\"https://colab.research.google.com/assets/colab-badge.svg\" alt=\"Open In Colab\"/></a>"
      ]
    },
    {
      "cell_type": "markdown",
      "metadata": {
        "id": "qNwOx8moluyR",
        "colab_type": "text"
      },
      "source": [
        "# <center>Tarea 3<center>\n",
        "# <center>Para entregar el 25 de octubre<center>"
      ]
    },
    {
      "cell_type": "markdown",
      "metadata": {
        "id": "ay9pOMwJluyT",
        "colab_type": "text"
      },
      "source": [
        "## 1. Para efectos de comparar el desempeño de las redes neuronales recurrentes con *compuertas*, considera los dos buenos artículos de Chung et al. (2014) y Greff et al. (2017). Leélos y haz un breve resúmen con los aspectos más importantes que consideres, con el fin de tener un mejor panorama de éstos métodos."
      ]
    },
    {
      "cell_type": "markdown",
      "metadata": {
        "id": "ndfUWF6Ymqhr",
        "colab_type": "text"
      },
      "source": [
        "# Nueva sección"
      ]
    },
    {
      "cell_type": "code",
      "metadata": {
        "id": "afV4oEfjmrTD",
        "colab_type": "code",
        "outputId": "90b263fd-48fd-4fd2-9675-b9d74e5b448f",
        "colab": {
          "base_uri": "https://localhost:8080/",
          "height": 35
        }
      },
      "source": [
        "from google.colab import drive\n",
        "drive.mount('/content/drive')"
      ],
      "execution_count": 1,
      "outputs": [
        {
          "output_type": "stream",
          "text": [
            "Mounted at /content/drive\n"
          ],
          "name": "stdout"
        }
      ]
    },
    {
      "cell_type": "markdown",
      "metadata": {
        "id": "wbC00dggluyV",
        "colab_type": "text"
      },
      "source": [
        "### <font color=green>Tu respuesta aquí</font>"
      ]
    },
    {
      "cell_type": "code",
      "metadata": {
        "id": "KsoKKKCon5wa",
        "colab_type": "code",
        "outputId": "11bba9cd-3598-4e58-d51b-98af387a1773",
        "colab": {
          "base_uri": "https://localhost:8080/",
          "height": 35
        }
      },
      "source": [
        "%cd /content/drive/My Drive/Colab Notebooks/Tarea 3-20191016/midi_train/midi_train\n"
      ],
      "execution_count": 2,
      "outputs": [
        {
          "output_type": "stream",
          "text": [
            "/content/drive/My Drive/Colab Notebooks/Tarea 3-20191016/midi_train/midi_train\n"
          ],
          "name": "stdout"
        }
      ]
    },
    {
      "cell_type": "markdown",
      "metadata": {
        "id": "KPO0D0sq8-dq",
        "colab_type": "text"
      },
      "source": [
        ""
      ]
    },
    {
      "cell_type": "code",
      "metadata": {
        "id": "OuIgU067n_nv",
        "colab_type": "code",
        "outputId": "13a751c7-ecef-4e19-8dd4-ba85e981093f",
        "colab": {
          "base_uri": "https://localhost:8080/",
          "height": 35
        }
      },
      "source": [
        "!pwd"
      ],
      "execution_count": 3,
      "outputs": [
        {
          "output_type": "stream",
          "text": [
            "/content/drive/My Drive/Colab Notebooks/Tarea 3-20191016/midi_train/midi_train\n"
          ],
          "name": "stdout"
        }
      ]
    },
    {
      "cell_type": "markdown",
      "metadata": {
        "id": "UFy7Bw7fluyW",
        "colab_type": "text"
      },
      "source": [
        "## 2. Considera un corpus de obras (cortas) de piano en formato `MIDI` como las que se encuentran en la carpeta `midi_train`.\n",
        "\n",
        "## a) Crea música usando redes tipo LSTM. Puedes apoyarte en el código que pongo a continuación (detalles en clase)."
      ]
    },
    {
      "cell_type": "code",
      "metadata": {
        "id": "qRcUtr6o1Ril",
        "colab_type": "code",
        "colab": {
          "base_uri": "https://localhost:8080/",
          "height": 695
        },
        "outputId": "036dffc0-0802-4a1b-f6b5-fc5144349b1e"
      },
      "source": [
        "%pip install tensorflow==1.13.1"
      ],
      "execution_count": 4,
      "outputs": [
        {
          "output_type": "stream",
          "text": [
            "Collecting tensorflow==1.13.1\n",
            "\u001b[?25l  Downloading https://files.pythonhosted.org/packages/77/63/a9fa76de8dffe7455304c4ed635be4aa9c0bacef6e0633d87d5f54530c5c/tensorflow-1.13.1-cp36-cp36m-manylinux1_x86_64.whl (92.5MB)\n",
            "\u001b[K     |████████████████████████████████| 92.5MB 1.3MB/s \n",
            "\u001b[?25hRequirement already satisfied: wheel>=0.26 in /usr/local/lib/python3.6/dist-packages (from tensorflow==1.13.1) (0.33.6)\n",
            "Requirement already satisfied: gast>=0.2.0 in /usr/local/lib/python3.6/dist-packages (from tensorflow==1.13.1) (0.2.2)\n",
            "Requirement already satisfied: numpy>=1.13.3 in /usr/local/lib/python3.6/dist-packages (from tensorflow==1.13.1) (1.16.5)\n",
            "Requirement already satisfied: astor>=0.6.0 in /usr/local/lib/python3.6/dist-packages (from tensorflow==1.13.1) (0.8.0)\n",
            "Requirement already satisfied: keras-applications>=1.0.6 in /usr/local/lib/python3.6/dist-packages (from tensorflow==1.13.1) (1.0.8)\n",
            "Requirement already satisfied: keras-preprocessing>=1.0.5 in /usr/local/lib/python3.6/dist-packages (from tensorflow==1.13.1) (1.1.0)\n",
            "Requirement already satisfied: grpcio>=1.8.6 in /usr/local/lib/python3.6/dist-packages (from tensorflow==1.13.1) (1.15.0)\n",
            "Requirement already satisfied: six>=1.10.0 in /usr/local/lib/python3.6/dist-packages (from tensorflow==1.13.1) (1.12.0)\n",
            "Requirement already satisfied: termcolor>=1.1.0 in /usr/local/lib/python3.6/dist-packages (from tensorflow==1.13.1) (1.1.0)\n",
            "Collecting tensorboard<1.14.0,>=1.13.0 (from tensorflow==1.13.1)\n",
            "\u001b[?25l  Downloading https://files.pythonhosted.org/packages/0f/39/bdd75b08a6fba41f098b6cb091b9e8c7a80e1b4d679a581a0ccd17b10373/tensorboard-1.13.1-py3-none-any.whl (3.2MB)\n",
            "\u001b[K     |████████████████████████████████| 3.2MB 33.1MB/s \n",
            "\u001b[?25hRequirement already satisfied: protobuf>=3.6.1 in /usr/local/lib/python3.6/dist-packages (from tensorflow==1.13.1) (3.7.1)\n",
            "Requirement already satisfied: absl-py>=0.1.6 in /usr/local/lib/python3.6/dist-packages (from tensorflow==1.13.1) (0.8.0)\n",
            "Collecting tensorflow-estimator<1.14.0rc0,>=1.13.0 (from tensorflow==1.13.1)\n",
            "\u001b[?25l  Downloading https://files.pythonhosted.org/packages/bb/48/13f49fc3fa0fdf916aa1419013bb8f2ad09674c275b4046d5ee669a46873/tensorflow_estimator-1.13.0-py2.py3-none-any.whl (367kB)\n",
            "\u001b[K     |████████████████████████████████| 368kB 49.3MB/s \n",
            "\u001b[?25hRequirement already satisfied: h5py in /usr/local/lib/python3.6/dist-packages (from keras-applications>=1.0.6->tensorflow==1.13.1) (2.8.0)\n",
            "Requirement already satisfied: markdown>=2.6.8 in /usr/local/lib/python3.6/dist-packages (from tensorboard<1.14.0,>=1.13.0->tensorflow==1.13.1) (3.1.1)\n",
            "Requirement already satisfied: werkzeug>=0.11.15 in /usr/local/lib/python3.6/dist-packages (from tensorboard<1.14.0,>=1.13.0->tensorflow==1.13.1) (0.16.0)\n",
            "Requirement already satisfied: setuptools in /usr/local/lib/python3.6/dist-packages (from protobuf>=3.6.1->tensorflow==1.13.1) (41.2.0)\n",
            "Collecting mock>=2.0.0 (from tensorflow-estimator<1.14.0rc0,>=1.13.0->tensorflow==1.13.1)\n",
            "  Downloading https://files.pythonhosted.org/packages/05/d2/f94e68be6b17f46d2c353564da56e6fb89ef09faeeff3313a046cb810ca9/mock-3.0.5-py2.py3-none-any.whl\n",
            "Installing collected packages: tensorboard, mock, tensorflow-estimator, tensorflow\n",
            "  Found existing installation: tensorboard 1.15.0\n",
            "    Uninstalling tensorboard-1.15.0:\n",
            "      Successfully uninstalled tensorboard-1.15.0\n",
            "  Found existing installation: tensorflow-estimator 1.15.1\n",
            "    Uninstalling tensorflow-estimator-1.15.1:\n",
            "      Successfully uninstalled tensorflow-estimator-1.15.1\n",
            "  Found existing installation: tensorflow 1.15.0rc3\n",
            "    Uninstalling tensorflow-1.15.0rc3:\n",
            "      Successfully uninstalled tensorflow-1.15.0rc3\n",
            "Successfully installed mock-3.0.5 tensorboard-1.13.1 tensorflow-1.13.1 tensorflow-estimator-1.13.0\n"
          ],
          "name": "stdout"
        }
      ]
    },
    {
      "cell_type": "code",
      "metadata": {
        "id": "JLOzrdZj5Am9",
        "colab_type": "code",
        "colab": {}
      },
      "source": [
        "import tensorflow \n",
        "\n",
        "from tensorflow.keras.models import Sequential"
      ],
      "execution_count": 0,
      "outputs": []
    },
    {
      "cell_type": "code",
      "metadata": {
        "id": "mdm9Z5bQhyvn",
        "colab_type": "code",
        "colab": {
          "base_uri": "https://localhost:8080/",
          "height": 35
        },
        "outputId": "aaf69b14-f619-4d7a-bbb4-c2183bd764a1"
      },
      "source": [
        "tensorflow.version.VERSION"
      ],
      "execution_count": 22,
      "outputs": [
        {
          "output_type": "execute_result",
          "data": {
            "text/plain": [
              "'1.13.1'"
            ]
          },
          "metadata": {
            "tags": []
          },
          "execution_count": 22
        }
      ]
    },
    {
      "cell_type": "code",
      "metadata": {
        "id": "YwNqfbWrluyY",
        "colab_type": "code",
        "outputId": "b56ec651-d883-43e6-de1c-3b67f551d2a1",
        "colab": {
          "base_uri": "https://localhost:8080/",
          "height": 35
        }
      },
      "source": [
        "import pickle\n",
        "import numpy\n",
        "import os\n",
        "from music21 import converter, instrument, note, chord, stream\n",
        "from IPython.display import Image\n",
        "\n",
        "from tensorflow.keras.models import Sequential,  Model\n",
        "from tensorflow.keras.layers import Dense, Input\n",
        "from tensorflow.keras.layers import Dropout\n",
        "from tensorflow.keras.layers import LSTM\n",
        "from tensorflow.keras.layers import Activation\n",
        "from keras.utils import np_utils, plot_model\n",
        "from tensorflow.keras.callbacks import ModelCheckpoint\n",
        "\n",
        "#os.chdir('/home/victor/cursos/optativa2019/')\n",
        "# el directorio con el corpus de entrenamiento\n",
        "midi_songs = '/content/drive/My Drive/Colab Notebooks/Tarea 3-20191016/midi_train/midi_train'"
      ],
      "execution_count": 6,
      "outputs": [
        {
          "output_type": "stream",
          "text": [
            "Using TensorFlow backend.\n"
          ],
          "name": "stderr"
        }
      ]
    },
    {
      "cell_type": "markdown",
      "metadata": {
        "id": "onTIBmSoluye",
        "colab_type": "text"
      },
      "source": [
        "La parte que sigue puede usarse para el proceso de entrenamiento"
      ]
    },
    {
      "cell_type": "code",
      "metadata": {
        "id": "FIcrJJknluyg",
        "colab_type": "code",
        "colab": {}
      },
      "source": [
        "def get_notes():\n",
        "    %cd /content/drive/My Drive/Colab Notebooks/Tarea 3-20191016/midi_train/\n",
        "    \"\"\" Obtiene las notas y acordes de los archivos midi que se encuentran en el directorio /midi_songs \"\"\"\n",
        "    notes = []\n",
        "    notes2 = []\n",
        "\n",
        "    for file in os.scandir(midi_songs):\n",
        "        midi = converter.parse(file.path)\n",
        "\n",
        "        print(\"Analizando %s\" % file.name)\n",
        "\n",
        "        notes_to_parse = None\n",
        "        notes_to_parse2 = None\n",
        "\n",
        "        # en esta parte, se extraen todas las notas del archivo midi\n",
        "        # como 'midi' es un objeto Score (que a su vez hereda de un Stream),\n",
        "        # pueden accederse a todas las partes de la partitura (Score)\n",
        "        \n",
        "        # en el try, primero se extraen las partes para cada instrumento\n",
        "        # solo se usa el primero (aunque puedan haber mas de 1)\n",
        "        try: \n",
        "            s2 = instrument.partitionByInstrument(midi)\n",
        "            notes_to_parse = s2.parts[0].recurse() \n",
        "        except: # aqui se extraen todas las notas haciendo un 'flatten' (o sea, las vectorizamos)\n",
        "            notes_to_parse = midi.flat.notes\n",
        "          \n",
        "        try: \n",
        "            s22 = instrument.partitionByInstrument(midi)\n",
        "            notes_to_parse2 = s22.parts[1].recurse() \n",
        "        except: # aqui se extraen todas las notas haciendo un 'flatten' (o sea, las vectorizamos)\n",
        "            notes_to_parse2 = midi.flat.notes\n",
        "\n",
        "        for element in notes_to_parse:\n",
        "            if isinstance(element, note.Note):\n",
        "                notes.append(str(element.pitch))\n",
        "            elif isinstance(element, chord.Chord):\n",
        "                notes.append('.'.join(str(n) for n in element.normalOrder))\n",
        "\n",
        "        for element2 in notes_to_parse2:\n",
        "            if isinstance(element2, note.Note):\n",
        "                notes2.append(str(element2.pitch))\n",
        "            elif isinstance(element2, chord.Chord):\n",
        "                notes2.append('.'.join(str(n) for n in element2.normalOrder))  \n",
        "\n",
        "    # guarda las notas. Este paso es muy importante, ya que se usaran en la fase de test,\n",
        "    # es decir, cuando se generan notas a partir del modelo entrenado\n",
        "    with open('programs/notebooks/data_mid/notes', 'wb') as filepath:\n",
        "        pickle.dump(notes, filepath)\n",
        "    with open('programs/notebooks/data_mid/notes2', 'wb') as filepath:\n",
        "        pickle.dump(notes2, filepath)\n",
        "\n",
        "    return notes, notes2\n",
        "\n",
        "\n",
        "def prepare_sequences(notes, n_vocab, sequence_length):\n",
        "    \"\"\" Prepara las secuencias a usar en el modelo \"\"\"\n",
        "\n",
        "    # nuestro 'vocabulario' consiste en todas las notas unicas de los archivos midi\n",
        "    pitchnames = sorted(set(item for item in notes))\n",
        "\n",
        "     # se crea un diccionario para mapear notas a enteros\n",
        "    note_to_int = dict((note, number) for number, note in enumerate(pitchnames))\n",
        "\n",
        "    network_input = []\n",
        "    network_output = []\n",
        "\n",
        "    # crea las secuencias de entrada y las salidas\n",
        "    # podria usarse para una arquitectura 'many to one', pero también puedes\n",
        "    # hacer un stack de RNNs (many to many)\n",
        "    for i in range(0, len(notes) - sequence_length, 1):\n",
        "        sequence_in = notes[i:i + sequence_length]\n",
        "        sequence_out = notes[i + sequence_length]\n",
        "        network_input.append([note_to_int[char] for char in sequence_in])\n",
        "        network_output.append(note_to_int[sequence_out])\n",
        "\n",
        "    n_patterns = len(network_input)\n",
        "\n",
        "    # redimensiona las secuencias de entrada para la RNN a usar\n",
        "    network_input = numpy.reshape(network_input, (n_patterns, sequence_length, 1))\n",
        "    # normaliza\n",
        "    network_input = network_input / float(n_vocab)\n",
        "\n",
        "    network_output = np_utils.to_categorical(network_output)\n",
        "\n",
        "    return (network_input, network_output)\n"
      ],
      "execution_count": 0,
      "outputs": []
    },
    {
      "cell_type": "code",
      "metadata": {
        "scrolled": true,
        "id": "DslIDXk7luyk",
        "colab_type": "code",
        "outputId": "27838f17-ad1a-4b1f-b687-c9b712c14e6d",
        "colab": {
          "base_uri": "https://localhost:8080/",
          "height": 1000
        }
      },
      "source": [
        "notes, notes2 = get_notes()"
      ],
      "execution_count": 8,
      "outputs": [
        {
          "output_type": "stream",
          "text": [
            "/content/drive/My Drive/Colab Notebooks/Tarea 3-20191016/midi_train\n",
            "Analizando alb_esp1.mid\n",
            "Analizando alb_esp6.mid\n",
            "Analizando alb_esp3.mid\n",
            "Analizando alb_esp2.mid\n",
            "Analizando alb_esp5.mid\n",
            "Analizando alb_esp4.mid\n",
            "Analizando alb_se1.mid\n",
            "Analizando alb_se3.mid\n",
            "Analizando alb_se6.mid\n",
            "Analizando alb_se5.mid\n",
            "Analizando alb_se4.mid\n",
            "Analizando alb_se2.mid\n",
            "Analizando alb_se7.mid\n",
            "Analizando bach_847.mid\n",
            "Analizando alb_se8.mid\n",
            "Analizando bach_850.mid\n",
            "Analizando bach_846.mid\n",
            "Analizando chpn-p1.mid\n",
            "Analizando chpn-p10.mid\n",
            "Analizando chpn-p11.mid\n",
            "Analizando chpn-p12.mid\n",
            "Analizando chpn-p13.mid\n",
            "Analizando chpn-p14.mid\n",
            "Analizando chpn-p16.mid\n",
            "Analizando chpn-p15.mid\n",
            "Analizando chpn-p18.mid\n",
            "Analizando chpn-p17.mid\n",
            "Analizando chpn-p2.mid\n",
            "Analizando chpn-p19.mid\n",
            "Analizando chpn-p20.mid\n",
            "Analizando chpn-p3.mid\n",
            "Analizando chpn-p22.mid\n",
            "Analizando chpn-p24.mid\n",
            "Analizando chpn-p23.mid\n",
            "Analizando chpn-p21.mid\n",
            "Analizando chpn-p5.mid\n",
            "Analizando chpn-p4.mid\n",
            "Analizando chpn-p6.mid\n",
            "Analizando chpn-p7.mid\n",
            "Analizando chpn-p8.mid\n",
            "Analizando chpn-p9.mid\n",
            "Analizando chpn_op10_e12.mid\n",
            "Analizando chpn_op10_e01.mid\n",
            "Analizando chpn_op10_e05.mid\n",
            "Analizando chpn_op25_e2.mid\n",
            "Analizando chpn_op25_e1.mid\n",
            "Analizando chpn_op23.mid\n",
            "Analizando chpn_op25_e11.mid\n",
            "Analizando chpn_op25_e12.mid\n",
            "Analizando chpn_op25_e3.mid\n",
            "Analizando chpn_op33_2.mid\n",
            "Analizando chpn_op27_1.mid\n",
            "Analizando chpn_op25_e4.mid\n",
            "Analizando chpn_op27_2.mid\n",
            "Analizando chpn_op33_4.mid\n",
            "Analizando chpn_op35_2.mid\n",
            "Analizando chpn_op35_1.mid\n",
            "Analizando chpn_op35_4.mid\n",
            "Analizando chpn_op35_3.mid\n",
            "Analizando chpn_op53.mid\n",
            "Analizando chp_op31.mid\n",
            "Analizando chpn_op66.mid\n",
            "Analizando chp_op18.mid\n",
            "Analizando chpn_op7_1.mid\n",
            "Analizando chpn_op7_2.mid\n",
            "Analizando liz_et1.mid\n",
            "Analizando liz_donjuan.mid\n",
            "Analizando liz_et2.mid\n",
            "Analizando liz_et3.mid\n",
            "Analizando liz_et4.mid\n",
            "Analizando liz_et5.mid\n",
            "Analizando liz_et_trans8.mid\n",
            "Analizando liz_et6.mid\n",
            "Analizando liz_et_trans5.mid\n",
            "Analizando liz_et_trans4.mid\n",
            "Analizando liz_liebestraum.mid\n",
            "Analizando liz_rhap10.mid\n",
            "Analizando liz_rhap02.mid\n",
            "Analizando liz_rhap09.mid\n",
            "Analizando liz_rhap12.mid\n",
            "Analizando liz_rhap15.mid\n",
            "Analizando ty_maerz.mid\n",
            "Analizando ty_juni.mid\n",
            "Analizando ty_juli.mid\n",
            "Analizando ty_august.mid\n",
            "Analizando ty_februar.mid\n",
            "Analizando ty_dezember.mid\n",
            "Analizando ty_april.mid\n",
            "Analizando ty_januar.mid\n",
            "Analizando ty_mai.mid\n",
            "Analizando ty_november.mid\n",
            "Analizando ty_september.mid\n",
            "Analizando ty_oktober.mid\n"
          ],
          "name": "stdout"
        }
      ]
    },
    {
      "cell_type": "code",
      "metadata": {
        "id": "PzKvR8FVluyp",
        "colab_type": "code",
        "outputId": "e957b735-e007-45d4-ae62-f9dda7f31e93",
        "colab": {
          "base_uri": "https://localhost:8080/",
          "height": 52
        }
      },
      "source": [
        "# puedes probar con varios longitudes de secuencias...\n",
        "sequence = 100\n",
        "# cantidad de notas\n",
        "n_vocab = len(set(notes))\n",
        "print('vocabulario:', n_vocab)\n",
        "\n",
        "\n",
        "n_vocab2 = len(set(notes2))\n",
        "print('vocabulario:', n_vocab2)"
      ],
      "execution_count": 9,
      "outputs": [
        {
          "output_type": "stream",
          "text": [
            "vocabulario: 416\n",
            "vocabulario: 416\n"
          ],
          "name": "stdout"
        }
      ]
    },
    {
      "cell_type": "code",
      "metadata": {
        "id": "EaF2ZNObluyt",
        "colab_type": "code",
        "colab": {}
      },
      "source": [
        "network_input, network_output = prepare_sequences(notes, n_vocab, sequence)\n",
        "\n",
        "network_input2, network_output2 = prepare_sequences(notes2, n_vocab2, sequence)"
      ],
      "execution_count": 0,
      "outputs": []
    },
    {
      "cell_type": "markdown",
      "metadata": {
        "id": "hzNzIcWtluyy",
        "colab_type": "text"
      },
      "source": [
        "No pongo el código del modelo que usé, pero en mi caso, usé la siguiente arquitectura. Puedes probar con ésa misma o alguna otra que tú sugieras."
      ]
    },
    {
      "cell_type": "code",
      "metadata": {
        "id": "v6O5g5MDtyWx",
        "colab_type": "code",
        "outputId": "e4b2fb5c-569b-49d1-b948-af9436c74b5e",
        "colab": {
          "base_uri": "https://localhost:8080/",
          "height": 144
        }
      },
      "source": [
        "inp = Input(shape=(network_input.shape[1], network_input.shape[2]))\n",
        "x = LSTM(256, return_sequences=True)(inp)\n",
        "x = Dropout(0.3)(x)\n",
        "x = LSTM(512, return_sequences=True)(x)\n",
        "x = Dropout(0.3)(x)\n",
        "x = LSTM(256)(x)\n",
        "x = Dense(256)(x) \n",
        "x = Dropout(0.3)(x)\n",
        "output =Dense(n_vocab, activation='softmax')(x)\n",
        "model = Model(inputs=[inp], outputs=[output])\n",
        "model.compile(loss='categorical_crossentropy', optimizer='adam')\n"
      ],
      "execution_count": 11,
      "outputs": [
        {
          "output_type": "stream",
          "text": [
            "WARNING:tensorflow:From /usr/local/lib/python3.6/dist-packages/tensorflow/python/ops/resource_variable_ops.py:435: colocate_with (from tensorflow.python.framework.ops) is deprecated and will be removed in a future version.\n",
            "Instructions for updating:\n",
            "Colocations handled automatically by placer.\n",
            "WARNING:tensorflow:From /usr/local/lib/python3.6/dist-packages/tensorflow/python/keras/layers/core.py:143: calling dropout (from tensorflow.python.ops.nn_ops) with keep_prob is deprecated and will be removed in a future version.\n",
            "Instructions for updating:\n",
            "Please use `rate` instead of `keep_prob`. Rate should be set to `rate = 1 - keep_prob`.\n"
          ],
          "name": "stdout"
        }
      ]
    },
    {
      "cell_type": "code",
      "metadata": {
        "id": "ykMZOooveXl_",
        "colab_type": "code",
        "colab": {
          "base_uri": "https://localhost:8080/",
          "height": 461
        },
        "outputId": "e7b0a705-661a-402f-ce8a-773b063fcb1c"
      },
      "source": [
        "model.summary()"
      ],
      "execution_count": 12,
      "outputs": [
        {
          "output_type": "stream",
          "text": [
            "_________________________________________________________________\n",
            "Layer (type)                 Output Shape              Param #   \n",
            "=================================================================\n",
            "input_1 (InputLayer)         (None, 100, 1)            0         \n",
            "_________________________________________________________________\n",
            "lstm (LSTM)                  (None, 100, 256)          264192    \n",
            "_________________________________________________________________\n",
            "dropout (Dropout)            (None, 100, 256)          0         \n",
            "_________________________________________________________________\n",
            "lstm_1 (LSTM)                (None, 100, 512)          1574912   \n",
            "_________________________________________________________________\n",
            "dropout_1 (Dropout)          (None, 100, 512)          0         \n",
            "_________________________________________________________________\n",
            "lstm_2 (LSTM)                (None, 256)               787456    \n",
            "_________________________________________________________________\n",
            "dense (Dense)                (None, 256)               65792     \n",
            "_________________________________________________________________\n",
            "dropout_2 (Dropout)          (None, 256)               0         \n",
            "_________________________________________________________________\n",
            "dense_1 (Dense)              (None, 416)               106912    \n",
            "=================================================================\n",
            "Total params: 2,799,264\n",
            "Trainable params: 2,799,264\n",
            "Non-trainable params: 0\n",
            "_________________________________________________________________\n"
          ],
          "name": "stdout"
        }
      ]
    },
    {
      "cell_type": "code",
      "metadata": {
        "id": "JcJJH7DXLozm",
        "colab_type": "code",
        "colab": {}
      },
      "source": [
        "\n",
        "lstm1 = LSTM(256, return_sequences=True)\n",
        "lstm2 = LSTM(256, return_sequences=True)\n",
        "lstm3 = LSTM(256)\n",
        "\n",
        "\n",
        "left_input = Input(shape=(network_input.shape[1], network_input.shape[2]))\n",
        "x = lstm1(left_input)\n",
        "x = Dropout(0.3)(x)\n",
        "x = lstm2(x)\n",
        "x = Dropout(0.3)(x)\n",
        "left_output = lstm3(x)\n",
        "\n",
        "\n",
        "\n",
        "right_input = Input(shape=(network_input.shape[1], network_input.shape[2]))\n",
        "x = lstm1(right_input)\n",
        "x = Dropout(0.3)(x)\n",
        "x = lstm2(x)\n",
        "x = Dropout(0.3)(x)\n",
        "right_output = lstm3(x)\n",
        "\n",
        "\n",
        "merged = tensorflow.keras.layers.concatenate([left_output, right_output], axis=-1)\n",
        "dens1 = Dense(256)(merged)\n",
        "drop1 = Dropout(0.3)(dens1)\n",
        "output =Dense(n_vocab, activation='softmax')(drop1)\n",
        "\n",
        "model = Model([left_input, right_input], output)\n",
        "\n",
        "model.compile(loss='categorical_crossentropy', optimizer='adam')"
      ],
      "execution_count": 0,
      "outputs": []
    },
    {
      "cell_type": "code",
      "metadata": {
        "id": "iSmSkunO7wnd",
        "colab_type": "code",
        "outputId": "50fbf37a-e4f6-4cc1-ffa1-ef84be59902e",
        "colab": {
          "base_uri": "https://localhost:8080/",
          "height": 375
        }
      },
      "source": [
        "TPU_WORKER ='grpc://' + os.environ['COLAB_TPU_ADDR']\n",
        "\n",
        "#Convert Keras model to TPU model\n",
        "resolver = tensorflow.contrib.cluster_resolver.TPUClusterResolver(TPU_WORKER)\n",
        "strategy = tensorflow.contrib.tpu.TPUDistributionStrategy(resolver)\n",
        "model = tensorflow.contrib.tpu.keras_to_tpu_model(model, strategy=strategy)"
      ],
      "execution_count": 29,
      "outputs": [
        {
          "output_type": "stream",
          "text": [
            "INFO:tensorflow:Querying Tensorflow master (grpc://10.54.164.234:8470) for TPU system metadata.\n",
            "INFO:tensorflow:Found TPU system:\n",
            "INFO:tensorflow:*** Num TPU Cores: 8\n",
            "INFO:tensorflow:*** Num TPU Workers: 1\n",
            "INFO:tensorflow:*** Num TPU Cores Per Worker: 8\n",
            "INFO:tensorflow:*** Available Device: _DeviceAttributes(/job:worker/replica:0/task:0/device:CPU:0, CPU, -1, 9600133642220398231)\n",
            "INFO:tensorflow:*** Available Device: _DeviceAttributes(/job:worker/replica:0/task:0/device:XLA_CPU:0, XLA_CPU, 17179869184, 14863449122441746918)\n",
            "INFO:tensorflow:*** Available Device: _DeviceAttributes(/job:worker/replica:0/task:0/device:TPU:0, TPU, 17179869184, 9329395655157445723)\n",
            "INFO:tensorflow:*** Available Device: _DeviceAttributes(/job:worker/replica:0/task:0/device:TPU:1, TPU, 17179869184, 4750101788634507116)\n",
            "INFO:tensorflow:*** Available Device: _DeviceAttributes(/job:worker/replica:0/task:0/device:TPU:2, TPU, 17179869184, 11960643230081020202)\n",
            "INFO:tensorflow:*** Available Device: _DeviceAttributes(/job:worker/replica:0/task:0/device:TPU:3, TPU, 17179869184, 1787379206877553326)\n",
            "INFO:tensorflow:*** Available Device: _DeviceAttributes(/job:worker/replica:0/task:0/device:TPU:4, TPU, 17179869184, 1416000203145659823)\n",
            "INFO:tensorflow:*** Available Device: _DeviceAttributes(/job:worker/replica:0/task:0/device:TPU:5, TPU, 17179869184, 2326127852192429594)\n",
            "INFO:tensorflow:*** Available Device: _DeviceAttributes(/job:worker/replica:0/task:0/device:TPU:6, TPU, 17179869184, 6867034896902062197)\n",
            "INFO:tensorflow:*** Available Device: _DeviceAttributes(/job:worker/replica:0/task:0/device:TPU:7, TPU, 17179869184, 4229902536225558089)\n",
            "INFO:tensorflow:*** Available Device: _DeviceAttributes(/job:worker/replica:0/task:0/device:TPU_SYSTEM:0, TPU_SYSTEM, 8589934592, 2972417579480212321)\n",
            "WARNING:tensorflow:tpu_model (from tensorflow.contrib.tpu.python.tpu.keras_support) is experimental and may change or be removed at any time, and without warning.\n",
            "INFO:tensorflow:Cloning Adam {'lr': 0.0010000000474974513, 'beta_1': 0.8999999761581421, 'beta_2': 0.9990000128746033, 'decay': 0.0, 'epsilon': 1e-07, 'amsgrad': False}\n",
            "INFO:tensorflow:Cloning Adam {'lr': 0.0010000000474974513, 'beta_1': 0.8999999761581421, 'beta_2': 0.9990000128746033, 'decay': 0.0, 'epsilon': 1e-07, 'amsgrad': False}\n"
          ],
          "name": "stdout"
        }
      ]
    },
    {
      "cell_type": "markdown",
      "metadata": {
        "id": "1K3g7swwwFFs",
        "colab_type": "text"
      },
      "source": [
        ""
      ]
    },
    {
      "cell_type": "code",
      "metadata": {
        "id": "00x9L0zuP8AT",
        "colab_type": "code",
        "colab": {}
      },
      "source": [
        "del model"
      ],
      "execution_count": 0,
      "outputs": []
    },
    {
      "cell_type": "code",
      "metadata": {
        "id": "IW-FsEBUQb-d",
        "colab_type": "code",
        "colab": {}
      },
      "source": [
        "index = network_input.shape[0]\n"
      ],
      "execution_count": 0,
      "outputs": []
    },
    {
      "cell_type": "code",
      "metadata": {
        "id": "X6uw7uhcPPgy",
        "colab_type": "code",
        "outputId": "34880c34-8a1a-48a9-de9c-856797cca118",
        "colab": {
          "base_uri": "https://localhost:8080/",
          "height": 1000
        }
      },
      "source": [
        "model.fit([network_input, network_input2[:index,:,:]], network_output, epochs=20, batch_size=64)"
      ],
      "execution_count": 34,
      "outputs": [
        {
          "output_type": "stream",
          "text": [
            "Epoch 1/20\n",
            "INFO:tensorflow:New input shapes; (re-)compiling: mode=train (# of cores 8), [TensorSpec(shape=(8,), dtype=tf.int32, name='core_id_10'), TensorSpec(shape=(8, 100, 1), dtype=tf.float32, name='input_2_10'), TensorSpec(shape=(8, 100, 1), dtype=tf.float32, name='input_3_10'), TensorSpec(shape=(8, 416), dtype=tf.float32, name='dense_3_target_30')]\n"
          ],
          "name": "stdout"
        },
        {
          "output_type": "stream",
          "text": [
            "INFO:tensorflow:New input shapes; (re-)compiling: mode=train (# of cores 8), [TensorSpec(shape=(8,), dtype=tf.int32, name='core_id_10'), TensorSpec(shape=(8, 100, 1), dtype=tf.float32, name='input_2_10'), TensorSpec(shape=(8, 100, 1), dtype=tf.float32, name='input_3_10'), TensorSpec(shape=(8, 416), dtype=tf.float32, name='dense_3_target_30')]\n"
          ],
          "name": "stderr"
        },
        {
          "output_type": "stream",
          "text": [
            "INFO:tensorflow:Overriding default placeholder.\n"
          ],
          "name": "stdout"
        },
        {
          "output_type": "stream",
          "text": [
            "INFO:tensorflow:Overriding default placeholder.\n"
          ],
          "name": "stderr"
        },
        {
          "output_type": "stream",
          "text": [
            "INFO:tensorflow:Cloning Adam {'lr': 0.0010000000474974513, 'beta_1': 0.8999999761581421, 'beta_2': 0.9990000128746033, 'decay': 0.0, 'epsilon': 1e-07, 'amsgrad': False}\n"
          ],
          "name": "stdout"
        },
        {
          "output_type": "stream",
          "text": [
            "INFO:tensorflow:Cloning Adam {'lr': 0.0010000000474974513, 'beta_1': 0.8999999761581421, 'beta_2': 0.9990000128746033, 'decay': 0.0, 'epsilon': 1e-07, 'amsgrad': False}\n"
          ],
          "name": "stderr"
        },
        {
          "output_type": "stream",
          "text": [
            "INFO:tensorflow:Remapping placeholder for input_2\n"
          ],
          "name": "stdout"
        },
        {
          "output_type": "stream",
          "text": [
            "INFO:tensorflow:Remapping placeholder for input_2\n"
          ],
          "name": "stderr"
        },
        {
          "output_type": "stream",
          "text": [
            "INFO:tensorflow:Remapping placeholder for input_3\n"
          ],
          "name": "stdout"
        },
        {
          "output_type": "stream",
          "text": [
            "INFO:tensorflow:Remapping placeholder for input_3\n"
          ],
          "name": "stderr"
        },
        {
          "output_type": "stream",
          "text": [
            "INFO:tensorflow:KerasCrossShard: <tensorflow.python.keras.optimizers.Adam object at 0x7f9813b84208> []\n"
          ],
          "name": "stdout"
        },
        {
          "output_type": "stream",
          "text": [
            "INFO:tensorflow:KerasCrossShard: <tensorflow.python.keras.optimizers.Adam object at 0x7f9813b84208> []\n"
          ],
          "name": "stderr"
        },
        {
          "output_type": "stream",
          "text": [
            "INFO:tensorflow:Started compiling\n"
          ],
          "name": "stdout"
        },
        {
          "output_type": "stream",
          "text": [
            "INFO:tensorflow:Started compiling\n"
          ],
          "name": "stderr"
        },
        {
          "output_type": "stream",
          "text": [
            "INFO:tensorflow:Finished compiling. Time elapsed: 19.27035903930664 secs\n"
          ],
          "name": "stdout"
        },
        {
          "output_type": "stream",
          "text": [
            "INFO:tensorflow:Finished compiling. Time elapsed: 19.27035903930664 secs\n"
          ],
          "name": "stderr"
        },
        {
          "output_type": "stream",
          "text": [
            "INFO:tensorflow:Setting weights on TPU model.\n"
          ],
          "name": "stdout"
        },
        {
          "output_type": "stream",
          "text": [
            "INFO:tensorflow:Setting weights on TPU model.\n"
          ],
          "name": "stderr"
        },
        {
          "output_type": "stream",
          "text": [
            "INFO:tensorflow:CPU -> TPU lr: 0.0010000000474974513 {0.001}\n"
          ],
          "name": "stdout"
        },
        {
          "output_type": "stream",
          "text": [
            "INFO:tensorflow:CPU -> TPU lr: 0.0010000000474974513 {0.001}\n"
          ],
          "name": "stderr"
        },
        {
          "output_type": "stream",
          "text": [
            "INFO:tensorflow:CPU -> TPU beta_1: 0.8999999761581421 {0.9}\n"
          ],
          "name": "stdout"
        },
        {
          "output_type": "stream",
          "text": [
            "INFO:tensorflow:CPU -> TPU beta_1: 0.8999999761581421 {0.9}\n"
          ],
          "name": "stderr"
        },
        {
          "output_type": "stream",
          "text": [
            "INFO:tensorflow:CPU -> TPU beta_2: 0.9990000128746033 {0.999}\n"
          ],
          "name": "stdout"
        },
        {
          "output_type": "stream",
          "text": [
            "INFO:tensorflow:CPU -> TPU beta_2: 0.9990000128746033 {0.999}\n"
          ],
          "name": "stderr"
        },
        {
          "output_type": "stream",
          "text": [
            "INFO:tensorflow:CPU -> TPU decay: 0.0 {0.0}\n"
          ],
          "name": "stdout"
        },
        {
          "output_type": "stream",
          "text": [
            "INFO:tensorflow:CPU -> TPU decay: 0.0 {0.0}\n"
          ],
          "name": "stderr"
        },
        {
          "output_type": "stream",
          "text": [
            "WARNING:tensorflow:Cannot update non-variable config: epsilon\n"
          ],
          "name": "stdout"
        },
        {
          "output_type": "stream",
          "text": [
            "WARNING:tensorflow:Cannot update non-variable config: epsilon\n"
          ],
          "name": "stderr"
        },
        {
          "output_type": "stream",
          "text": [
            "WARNING:tensorflow:Cannot update non-variable config: amsgrad\n"
          ],
          "name": "stdout"
        },
        {
          "output_type": "stream",
          "text": [
            "WARNING:tensorflow:Cannot update non-variable config: amsgrad\n"
          ],
          "name": "stderr"
        },
        {
          "output_type": "stream",
          "text": [
            "154240/154329 [============================>.] - ETA: 0s - loss: 4.7048INFO:tensorflow:New input shapes; (re-)compiling: mode=train (# of cores 8), [TensorSpec(shape=(3,), dtype=tf.int32, name='core_id_10'), TensorSpec(shape=(3, 100, 1), dtype=tf.float32, name='input_2_10'), TensorSpec(shape=(3, 100, 1), dtype=tf.float32, name='input_3_10'), TensorSpec(shape=(3, 416), dtype=tf.float32, name='dense_3_target_30')]\n"
          ],
          "name": "stdout"
        },
        {
          "output_type": "stream",
          "text": [
            "INFO:tensorflow:New input shapes; (re-)compiling: mode=train (# of cores 8), [TensorSpec(shape=(3,), dtype=tf.int32, name='core_id_10'), TensorSpec(shape=(3, 100, 1), dtype=tf.float32, name='input_2_10'), TensorSpec(shape=(3, 100, 1), dtype=tf.float32, name='input_3_10'), TensorSpec(shape=(3, 416), dtype=tf.float32, name='dense_3_target_30')]\n"
          ],
          "name": "stderr"
        },
        {
          "output_type": "stream",
          "text": [
            "INFO:tensorflow:Overriding default placeholder.\n"
          ],
          "name": "stdout"
        },
        {
          "output_type": "stream",
          "text": [
            "INFO:tensorflow:Overriding default placeholder.\n"
          ],
          "name": "stderr"
        },
        {
          "output_type": "stream",
          "text": [
            "INFO:tensorflow:Remapping placeholder for input_2\n"
          ],
          "name": "stdout"
        },
        {
          "output_type": "stream",
          "text": [
            "INFO:tensorflow:Remapping placeholder for input_2\n"
          ],
          "name": "stderr"
        },
        {
          "output_type": "stream",
          "text": [
            "INFO:tensorflow:Remapping placeholder for input_3\n"
          ],
          "name": "stdout"
        },
        {
          "output_type": "stream",
          "text": [
            "INFO:tensorflow:Remapping placeholder for input_3\n"
          ],
          "name": "stderr"
        },
        {
          "output_type": "stream",
          "text": [
            "INFO:tensorflow:KerasCrossShard: <tensorflow.python.keras.optimizers.Adam object at 0x7f9813b84208> [<tf.Variable 'tpu_140291147058312/Adam/iterations:0' shape=() dtype=int64>, <tensorflow.contrib.tpu.python.tpu.keras_tpu_variables.ReplicatedVariable object at 0x7f980f613ef0>, <tensorflow.contrib.tpu.python.tpu.keras_tpu_variables.ReplicatedVariable object at 0x7f980f5d07f0>, <tensorflow.contrib.tpu.python.tpu.keras_tpu_variables.ReplicatedVariable object at 0x7f980f638eb8>, <tensorflow.contrib.tpu.python.tpu.keras_tpu_variables.ReplicatedVariable object at 0x7f980f5b5e10>, <tensorflow.contrib.tpu.python.tpu.keras_tpu_variables.ReplicatedVariable object at 0x7f980f57bfd0>, <tensorflow.contrib.tpu.python.tpu.keras_tpu_variables.ReplicatedVariable object at 0x7f980f51e4a8>, <tensorflow.contrib.tpu.python.tpu.keras_tpu_variables.ReplicatedVariable object at 0x7f980f509a20>, <tensorflow.contrib.tpu.python.tpu.keras_tpu_variables.ReplicatedVariable object at 0x7f980f474c88>, <tensorflow.contrib.tpu.python.tpu.keras_tpu_variables.ReplicatedVariable object at 0x7f980f438898>, <tensorflow.contrib.tpu.python.tpu.keras_tpu_variables.ReplicatedVariable object at 0x7f980f3fec88>, <tensorflow.contrib.tpu.python.tpu.keras_tpu_variables.ReplicatedVariable object at 0x7f980f3c84a8>, <tensorflow.contrib.tpu.python.tpu.keras_tpu_variables.ReplicatedVariable object at 0x7f980f36c048>, <tensorflow.contrib.tpu.python.tpu.keras_tpu_variables.ReplicatedVariable object at 0x7f980f30eb38>, <tensorflow.contrib.tpu.python.tpu.keras_tpu_variables.ReplicatedVariable object at 0x7f980f2be9b0>, <tensorflow.contrib.tpu.python.tpu.keras_tpu_variables.ReplicatedVariable object at 0x7f980f263be0>, <tensorflow.contrib.tpu.python.tpu.keras_tpu_variables.ReplicatedVariable object at 0x7f980f22be80>, <tensorflow.contrib.tpu.python.tpu.keras_tpu_variables.ReplicatedVariable object at 0x7f980f1b89b0>, <tensorflow.contrib.tpu.python.tpu.keras_tpu_variables.ReplicatedVariable object at 0x7f980f15d2b0>, <tensorflow.contrib.tpu.python.tpu.keras_tpu_variables.ReplicatedVariable object at 0x7f980f145da0>, <tensorflow.contrib.tpu.python.tpu.keras_tpu_variables.ReplicatedVariable object at 0x7f980f08cf98>, <tensorflow.contrib.tpu.python.tpu.keras_tpu_variables.ReplicatedVariable object at 0x7f980f078c18>, <tensorflow.contrib.tpu.python.tpu.keras_tpu_variables.ReplicatedVariable object at 0x7f980f01c1d0>, <tensorflow.contrib.tpu.python.tpu.keras_tpu_variables.ReplicatedVariable object at 0x7f980f004c18>, <tensorflow.contrib.tpu.python.tpu.keras_tpu_variables.ReplicatedVariable object at 0x7f980efcbf98>, <tensorflow.contrib.tpu.python.tpu.keras_tpu_variables.ReplicatedVariable object at 0x7f980ef712b0>, <tensorflow.contrib.tpu.python.tpu.keras_tpu_variables.ReplicatedVariable object at 0x7f980eefeb70>, <tensorflow.contrib.tpu.python.tpu.keras_tpu_variables.ReplicatedVariable object at 0x7f980eec4780>, <tensorflow.contrib.tpu.python.tpu.keras_tpu_variables.ReplicatedVariable object at 0x7f980ee6bf98>, <tensorflow.contrib.tpu.python.tpu.keras_tpu_variables.ReplicatedVariable object at 0x7f980edd6208>, <tensorflow.contrib.tpu.python.tpu.keras_tpu_variables.ReplicatedVariable object at 0x7f980edf9908>, <tensorflow.contrib.tpu.python.tpu.keras_tpu_variables.ReplicatedVariable object at 0x7f980ed64f60>, <tensorflow.contrib.tpu.python.tpu.keras_tpu_variables.ReplicatedVariable object at 0x7f980eccf780>, <tensorflow.contrib.tpu.python.tpu.keras_tpu_variables.ReplicatedVariable object at 0x7f980ec95208>, <tensorflow.contrib.tpu.python.tpu.keras_tpu_variables.ReplicatedVariable object at 0x7f980ecba908>, <tensorflow.contrib.tpu.python.tpu.keras_tpu_variables.ReplicatedVariable object at 0x7f980ec24f60>, <tensorflow.contrib.tpu.python.tpu.keras_tpu_variables.ReplicatedVariable object at 0x7f980eb8f780>, <tensorflow.contrib.tpu.python.tpu.keras_tpu_variables.ReplicatedVariable object at 0x7f980eb54208>, <tensorflow.contrib.tpu.python.tpu.keras_tpu_variables.ReplicatedVariable object at 0x7f980eb7a908>, <tensorflow.contrib.tpu.python.tpu.keras_tpu_variables.ReplicatedVariable object at 0x7f980eae4f60>]\n"
          ],
          "name": "stdout"
        },
        {
          "output_type": "stream",
          "text": [
            "INFO:tensorflow:KerasCrossShard: <tensorflow.python.keras.optimizers.Adam object at 0x7f9813b84208> [<tf.Variable 'tpu_140291147058312/Adam/iterations:0' shape=() dtype=int64>, <tensorflow.contrib.tpu.python.tpu.keras_tpu_variables.ReplicatedVariable object at 0x7f980f613ef0>, <tensorflow.contrib.tpu.python.tpu.keras_tpu_variables.ReplicatedVariable object at 0x7f980f5d07f0>, <tensorflow.contrib.tpu.python.tpu.keras_tpu_variables.ReplicatedVariable object at 0x7f980f638eb8>, <tensorflow.contrib.tpu.python.tpu.keras_tpu_variables.ReplicatedVariable object at 0x7f980f5b5e10>, <tensorflow.contrib.tpu.python.tpu.keras_tpu_variables.ReplicatedVariable object at 0x7f980f57bfd0>, <tensorflow.contrib.tpu.python.tpu.keras_tpu_variables.ReplicatedVariable object at 0x7f980f51e4a8>, <tensorflow.contrib.tpu.python.tpu.keras_tpu_variables.ReplicatedVariable object at 0x7f980f509a20>, <tensorflow.contrib.tpu.python.tpu.keras_tpu_variables.ReplicatedVariable object at 0x7f980f474c88>, <tensorflow.contrib.tpu.python.tpu.keras_tpu_variables.ReplicatedVariable object at 0x7f980f438898>, <tensorflow.contrib.tpu.python.tpu.keras_tpu_variables.ReplicatedVariable object at 0x7f980f3fec88>, <tensorflow.contrib.tpu.python.tpu.keras_tpu_variables.ReplicatedVariable object at 0x7f980f3c84a8>, <tensorflow.contrib.tpu.python.tpu.keras_tpu_variables.ReplicatedVariable object at 0x7f980f36c048>, <tensorflow.contrib.tpu.python.tpu.keras_tpu_variables.ReplicatedVariable object at 0x7f980f30eb38>, <tensorflow.contrib.tpu.python.tpu.keras_tpu_variables.ReplicatedVariable object at 0x7f980f2be9b0>, <tensorflow.contrib.tpu.python.tpu.keras_tpu_variables.ReplicatedVariable object at 0x7f980f263be0>, <tensorflow.contrib.tpu.python.tpu.keras_tpu_variables.ReplicatedVariable object at 0x7f980f22be80>, <tensorflow.contrib.tpu.python.tpu.keras_tpu_variables.ReplicatedVariable object at 0x7f980f1b89b0>, <tensorflow.contrib.tpu.python.tpu.keras_tpu_variables.ReplicatedVariable object at 0x7f980f15d2b0>, <tensorflow.contrib.tpu.python.tpu.keras_tpu_variables.ReplicatedVariable object at 0x7f980f145da0>, <tensorflow.contrib.tpu.python.tpu.keras_tpu_variables.ReplicatedVariable object at 0x7f980f08cf98>, <tensorflow.contrib.tpu.python.tpu.keras_tpu_variables.ReplicatedVariable object at 0x7f980f078c18>, <tensorflow.contrib.tpu.python.tpu.keras_tpu_variables.ReplicatedVariable object at 0x7f980f01c1d0>, <tensorflow.contrib.tpu.python.tpu.keras_tpu_variables.ReplicatedVariable object at 0x7f980f004c18>, <tensorflow.contrib.tpu.python.tpu.keras_tpu_variables.ReplicatedVariable object at 0x7f980efcbf98>, <tensorflow.contrib.tpu.python.tpu.keras_tpu_variables.ReplicatedVariable object at 0x7f980ef712b0>, <tensorflow.contrib.tpu.python.tpu.keras_tpu_variables.ReplicatedVariable object at 0x7f980eefeb70>, <tensorflow.contrib.tpu.python.tpu.keras_tpu_variables.ReplicatedVariable object at 0x7f980eec4780>, <tensorflow.contrib.tpu.python.tpu.keras_tpu_variables.ReplicatedVariable object at 0x7f980ee6bf98>, <tensorflow.contrib.tpu.python.tpu.keras_tpu_variables.ReplicatedVariable object at 0x7f980edd6208>, <tensorflow.contrib.tpu.python.tpu.keras_tpu_variables.ReplicatedVariable object at 0x7f980edf9908>, <tensorflow.contrib.tpu.python.tpu.keras_tpu_variables.ReplicatedVariable object at 0x7f980ed64f60>, <tensorflow.contrib.tpu.python.tpu.keras_tpu_variables.ReplicatedVariable object at 0x7f980eccf780>, <tensorflow.contrib.tpu.python.tpu.keras_tpu_variables.ReplicatedVariable object at 0x7f980ec95208>, <tensorflow.contrib.tpu.python.tpu.keras_tpu_variables.ReplicatedVariable object at 0x7f980ecba908>, <tensorflow.contrib.tpu.python.tpu.keras_tpu_variables.ReplicatedVariable object at 0x7f980ec24f60>, <tensorflow.contrib.tpu.python.tpu.keras_tpu_variables.ReplicatedVariable object at 0x7f980eb8f780>, <tensorflow.contrib.tpu.python.tpu.keras_tpu_variables.ReplicatedVariable object at 0x7f980eb54208>, <tensorflow.contrib.tpu.python.tpu.keras_tpu_variables.ReplicatedVariable object at 0x7f980eb7a908>, <tensorflow.contrib.tpu.python.tpu.keras_tpu_variables.ReplicatedVariable object at 0x7f980eae4f60>]\n"
          ],
          "name": "stderr"
        },
        {
          "output_type": "stream",
          "text": [
            "INFO:tensorflow:Started compiling\n"
          ],
          "name": "stdout"
        },
        {
          "output_type": "stream",
          "text": [
            "INFO:tensorflow:Started compiling\n"
          ],
          "name": "stderr"
        },
        {
          "output_type": "stream",
          "text": [
            "INFO:tensorflow:Finished compiling. Time elapsed: 26.526948928833008 secs\n"
          ],
          "name": "stdout"
        },
        {
          "output_type": "stream",
          "text": [
            "INFO:tensorflow:Finished compiling. Time elapsed: 26.526948928833008 secs\n"
          ],
          "name": "stderr"
        },
        {
          "output_type": "stream",
          "text": [
            "154329/154329 [==============================] - 287s 2ms/sample - loss: 4.7047\n",
            "Epoch 2/20\n",
            "154329/154329 [==============================] - 157s 1ms/sample - loss: 4.6093\n",
            "Epoch 3/20\n",
            "154329/154329 [==============================] - 156s 1ms/sample - loss: 4.5401\n",
            "Epoch 4/20\n",
            "154329/154329 [==============================] - 156s 1ms/sample - loss: 4.5201\n",
            "Epoch 5/20\n",
            "154329/154329 [==============================] - 157s 1ms/sample - loss: 4.4461\n",
            "Epoch 6/20\n",
            "154329/154329 [==============================] - 157s 1ms/sample - loss: 4.3384\n",
            "Epoch 7/20\n",
            "154329/154329 [==============================] - 158s 1ms/sample - loss: 4.1985\n",
            "Epoch 8/20\n",
            "154329/154329 [==============================] - 157s 1ms/sample - loss: 4.0368\n",
            "Epoch 9/20\n",
            "154329/154329 [==============================] - 157s 1ms/sample - loss: 3.9205\n",
            "Epoch 10/20\n",
            "154329/154329 [==============================] - 159s 1ms/sample - loss: 3.8064\n",
            "Epoch 11/20\n",
            "154329/154329 [==============================] - 158s 1ms/sample - loss: 3.7185\n",
            "Epoch 12/20\n",
            "154329/154329 [==============================] - 158s 1ms/sample - loss: 3.6242\n",
            "Epoch 13/20\n",
            "154329/154329 [==============================] - 157s 1ms/sample - loss: 3.5332\n",
            "Epoch 14/20\n",
            "154329/154329 [==============================] - 157s 1ms/sample - loss: 3.4853\n",
            "Epoch 15/20\n",
            "154329/154329 [==============================] - 157s 1ms/sample - loss: 3.5912\n",
            "Epoch 16/20\n",
            "154329/154329 [==============================] - 157s 1ms/sample - loss: 4.6368\n",
            "Epoch 17/20\n",
            "154329/154329 [==============================] - 157s 1ms/sample - loss: 4.6075\n",
            "Epoch 18/20\n",
            "154329/154329 [==============================] - 157s 1ms/sample - loss: 3.9083\n",
            "Epoch 19/20\n",
            "154329/154329 [==============================] - 157s 1ms/sample - loss: 3.4036\n",
            "Epoch 20/20\n",
            "154329/154329 [==============================] - 157s 1ms/sample - loss: 3.2670\n"
          ],
          "name": "stdout"
        },
        {
          "output_type": "execute_result",
          "data": {
            "text/plain": [
              "<tensorflow.python.keras.callbacks.History at 0x7f9813c1c9b0>"
            ]
          },
          "metadata": {
            "tags": []
          },
          "execution_count": 34
        }
      ]
    },
    {
      "cell_type": "code",
      "metadata": {
        "id": "SUGEJECzkV7D",
        "colab_type": "code",
        "colab": {
          "base_uri": "https://localhost:8080/",
          "height": 35
        },
        "outputId": "11a87644-44bc-4b4b-816a-5a617247e93d"
      },
      "source": [
        "network_input.shape"
      ],
      "execution_count": 35,
      "outputs": [
        {
          "output_type": "execute_result",
          "data": {
            "text/plain": [
              "(154329, 100, 1)"
            ]
          },
          "metadata": {
            "tags": []
          },
          "execution_count": 35
        }
      ]
    },
    {
      "cell_type": "code",
      "metadata": {
        "id": "UrvTMjS7mZmT",
        "colab_type": "code",
        "colab": {}
      },
      "source": [
        "model.fit(network_input, network_output, epochs=10, batch_size=64) "
      ],
      "execution_count": 0,
      "outputs": []
    },
    {
      "cell_type": "code",
      "metadata": {
        "id": "SAyUgFGhtx2r",
        "colab_type": "code",
        "outputId": "c0b10749-e6d3-4212-c1a7-aea0de744987",
        "colab": {
          "base_uri": "https://localhost:8080/",
          "height": 606
        }
      },
      "source": [
        "historia = model.fit(network_input, network_output, epochs=10, batch_size=64)"
      ],
      "execution_count": 0,
      "outputs": [
        {
          "output_type": "stream",
          "text": [
            "Epoch 1/3\n",
            "INFO:tensorflow:New input shapes; (re-)compiling: mode=train (# of cores 8), [TensorSpec(shape=(8,), dtype=tf.int32, name='core_id0'), TensorSpec(shape=(8, 100, 1), dtype=tf.float32, name='input_1_10'), TensorSpec(shape=(8, 416), dtype=tf.float32, name='dense_1_target_30')]\n",
            "INFO:tensorflow:Overriding default placeholder.\n",
            "INFO:tensorflow:Cloning Adam {'lr': 0.0010000000474974513, 'beta_1': 0.8999999761581421, 'beta_2': 0.9990000128746033, 'decay': 0.0, 'epsilon': 1e-07, 'amsgrad': False}\n",
            "INFO:tensorflow:Remapping placeholder for input_1\n",
            "WARNING:tensorflow:From /usr/local/lib/python3.6/dist-packages/tensorflow/contrib/tpu/python/tpu/keras_support.py:302: to_float (from tensorflow.python.ops.math_ops) is deprecated and will be removed in a future version.\n",
            "Instructions for updating:\n",
            "Use tf.cast instead.\n",
            "INFO:tensorflow:KerasCrossShard: <tensorflow.python.keras.optimizers.Adam object at 0x7ff71b2cf1d0> []\n",
            "WARNING:tensorflow:From /usr/local/lib/python3.6/dist-packages/tensorflow/python/ops/math_ops.py:3066: to_int32 (from tensorflow.python.ops.math_ops) is deprecated and will be removed in a future version.\n",
            "Instructions for updating:\n",
            "Use tf.cast instead.\n",
            "INFO:tensorflow:Started compiling\n",
            "INFO:tensorflow:Finished compiling. Time elapsed: 6.808654546737671 secs\n",
            "INFO:tensorflow:Setting weights on TPU model.\n",
            "INFO:tensorflow:CPU -> TPU lr: 0.0010000000474974513 {0.001}\n",
            "INFO:tensorflow:CPU -> TPU beta_1: 0.8999999761581421 {0.9}\n",
            "INFO:tensorflow:CPU -> TPU beta_2: 0.9990000128746033 {0.999}\n",
            "INFO:tensorflow:CPU -> TPU decay: 0.0 {0.0}\n",
            "WARNING:tensorflow:Cannot update non-variable config: epsilon\n",
            "WARNING:tensorflow:Cannot update non-variable config: amsgrad\n",
            "154240/154329 [============================>.] - ETA: 0s - loss: 4.7622INFO:tensorflow:New input shapes; (re-)compiling: mode=train (# of cores 8), [TensorSpec(shape=(3,), dtype=tf.int32, name='core_id0'), TensorSpec(shape=(3, 100, 1), dtype=tf.float32, name='input_1_10'), TensorSpec(shape=(3, 416), dtype=tf.float32, name='dense_1_target_30')]\n",
            "INFO:tensorflow:Overriding default placeholder.\n",
            "INFO:tensorflow:Remapping placeholder for input_1\n",
            "INFO:tensorflow:KerasCrossShard: <tensorflow.python.keras.optimizers.Adam object at 0x7ff71b2cf1d0> [<tf.Variable 'tpu_140699298227480/Adam/iterations:0' shape=() dtype=int64>, <tensorflow.contrib.tpu.python.tpu.keras_tpu_variables.ReplicatedVariable object at 0x7ff7152c9e80>, <tensorflow.contrib.tpu.python.tpu.keras_tpu_variables.ReplicatedVariable object at 0x7ff715244dd8>, <tensorflow.contrib.tpu.python.tpu.keras_tpu_variables.ReplicatedVariable object at 0x7ff715244e10>, <tensorflow.contrib.tpu.python.tpu.keras_tpu_variables.ReplicatedVariable object at 0x7ff715228cf8>, <tensorflow.contrib.tpu.python.tpu.keras_tpu_variables.ReplicatedVariable object at 0x7ff71512d9e8>, <tensorflow.contrib.tpu.python.tpu.keras_tpu_variables.ReplicatedVariable object at 0x7ff7150d3208>, <tensorflow.contrib.tpu.python.tpu.keras_tpu_variables.ReplicatedVariable object at 0x7ff7150c2198>, <tensorflow.contrib.tpu.python.tpu.keras_tpu_variables.ReplicatedVariable object at 0x7ff7062b99e8>, <tensorflow.contrib.tpu.python.tpu.keras_tpu_variables.ReplicatedVariable object at 0x7ff70625f2b0>, <tensorflow.contrib.tpu.python.tpu.keras_tpu_variables.ReplicatedVariable object at 0x7ff706297da0>, <tensorflow.contrib.tpu.python.tpu.keras_tpu_variables.ReplicatedVariable object at 0x7ff706212dd8>, <tensorflow.contrib.tpu.python.tpu.keras_tpu_variables.ReplicatedVariable object at 0x7ff7061b5e10>, <tensorflow.contrib.tpu.python.tpu.keras_tpu_variables.ReplicatedVariable object at 0x7ff70611ef98>, <tensorflow.contrib.tpu.python.tpu.keras_tpu_variables.ReplicatedVariable object at 0x7ff7060df438>, <tensorflow.contrib.tpu.python.tpu.keras_tpu_variables.ReplicatedVariable object at 0x7ff7060a8860>, <tensorflow.contrib.tpu.python.tpu.keras_tpu_variables.ReplicatedVariable object at 0x7ff706098cf8>, <tensorflow.contrib.tpu.python.tpu.keras_tpu_variables.ReplicatedVariable object at 0x7ff706071da0>, <tensorflow.contrib.tpu.python.tpu.keras_tpu_variables.ReplicatedVariable object at 0x7ff705fc9940>, <tensorflow.contrib.tpu.python.tpu.keras_tpu_variables.ReplicatedVariable object at 0x7ff705f6fdd8>, <tensorflow.contrib.tpu.python.tpu.keras_tpu_variables.ReplicatedVariable object at 0x7ff705f56940>, <tensorflow.contrib.tpu.python.tpu.keras_tpu_variables.ReplicatedVariable object at 0x7ff705ec2978>, <tensorflow.contrib.tpu.python.tpu.keras_tpu_variables.ReplicatedVariable object at 0x7ff705e89940>, <tensorflow.contrib.tpu.python.tpu.keras_tpu_variables.ReplicatedVariable object at 0x7ff705e2fdd8>, <tensorflow.contrib.tpu.python.tpu.keras_tpu_variables.ReplicatedVariable object at 0x7ff705e17cf8>, <tensorflow.contrib.tpu.python.tpu.keras_tpu_variables.ReplicatedVariable object at 0x7ff705dbada0>, <tensorflow.contrib.tpu.python.tpu.keras_tpu_variables.ReplicatedVariable object at 0x7ff705d24e80>, <tensorflow.contrib.tpu.python.tpu.keras_tpu_variables.ReplicatedVariable object at 0x7ff705ce5a20>, <tensorflow.contrib.tpu.python.tpu.keras_tpu_variables.ReplicatedVariable object at 0x7ff705caf7f0>, <tensorflow.contrib.tpu.python.tpu.keras_tpu_variables.ReplicatedVariable object at 0x7ff705c7a828>, <tensorflow.contrib.tpu.python.tpu.keras_tpu_variables.ReplicatedVariable object at 0x7ff705c41c50>, <tensorflow.contrib.tpu.python.tpu.keras_tpu_variables.ReplicatedVariable object at 0x7ff705bac898>, <tensorflow.contrib.tpu.python.tpu.keras_tpu_variables.ReplicatedVariable object at 0x7ff705b6f240>, <tensorflow.contrib.tpu.python.tpu.keras_tpu_variables.ReplicatedVariable object at 0x7ff705b37438>, <tensorflow.contrib.tpu.python.tpu.keras_tpu_variables.ReplicatedVariable object at 0x7ff705affc50>, <tensorflow.contrib.tpu.python.tpu.keras_tpu_variables.ReplicatedVariable object at 0x7ff705a69390>, <tensorflow.contrib.tpu.python.tpu.keras_tpu_variables.ReplicatedVariable object at 0x7ff705a52940>, <tensorflow.contrib.tpu.python.tpu.keras_tpu_variables.ReplicatedVariable object at 0x7ff7059f77f0>, <tensorflow.contrib.tpu.python.tpu.keras_tpu_variables.ReplicatedVariable object at 0x7ff7059b6c50>, <tensorflow.contrib.tpu.python.tpu.keras_tpu_variables.ReplicatedVariable object at 0x7ff705928438>]\n",
            "INFO:tensorflow:Started compiling\n",
            "INFO:tensorflow:Finished compiling. Time elapsed: 8.991692781448364 secs\n",
            "154329/154329 [==============================] - 175s 1ms/sample - loss: 4.7622\n",
            "Epoch 2/3\n",
            "154329/154329 [==============================] - 132s 856us/sample - loss: 4.6634\n",
            "Epoch 3/3\n",
            "154329/154329 [==============================] - 133s 859us/sample - loss: 4.6377\n"
          ],
          "name": "stdout"
        }
      ]
    },
    {
      "cell_type": "code",
      "metadata": {
        "id": "FiBsdIvMVJhP",
        "colab_type": "code",
        "colab": {}
      },
      "source": [
        "model.save_weights('siames2.hdf5')"
      ],
      "execution_count": 0,
      "outputs": []
    },
    {
      "cell_type": "code",
      "metadata": {
        "id": "qp8M8lIeAvdN",
        "colab_type": "code",
        "outputId": "08be315b-a363-4b4b-eb43-c69efb93e242",
        "colab": {
          "base_uri": "https://localhost:8080/",
          "height": 177
        }
      },
      "source": [
        "model.save_weights('my_model.hdf5')"
      ],
      "execution_count": 0,
      "outputs": [
        {
          "output_type": "stream",
          "text": [
            "INFO:tensorflow:Copying TPU weights to the CPU\n",
            "INFO:tensorflow:TPU -> CPU lr: 0.0010000000474974513\n",
            "INFO:tensorflow:TPU -> CPU beta_1: 0.8999999761581421\n",
            "INFO:tensorflow:TPU -> CPU beta_2: 0.9990000128746033\n",
            "INFO:tensorflow:TPU -> CPU decay: 0.0\n",
            "INFO:tensorflow:TPU -> CPU epsilon: 1e-07\n",
            "WARNING:tensorflow:Cannot update non-variable config: epsilon\n",
            "INFO:tensorflow:TPU -> CPU amsgrad: False\n",
            "WARNING:tensorflow:Cannot update non-variable config: amsgrad\n"
          ],
          "name": "stdout"
        }
      ]
    },
    {
      "cell_type": "code",
      "metadata": {
        "id": "lbqxs_aTluy2",
        "colab_type": "code",
        "outputId": "4f204e89-7295-4c60-a12f-598d885a1567",
        "colab": {}
      },
      "source": [
        "Image(retina=True, filename='figs/midi_LSTM.png')"
      ],
      "execution_count": 0,
      "outputs": [
        {
          "output_type": "execute_result",
          "data": {
            "image/png": "[encoded data removed]",
            "text/plain": [
              "<IPython.core.display.Image object>"
            ]
          },
          "metadata": {
            "tags": [],
            "image/png": {
              "height": 528,
              "width": 198
            }
          },
          "execution_count": 4
        }
      ]
    },
    {
      "cell_type": "markdown",
      "metadata": {
        "id": "QhrGvNMpluy6",
        "colab_type": "text"
      },
      "source": [
        "Ya que tienes el modelo entrenado y guardado, puedes generar una secuencia y guardarlo en archivo MIDI con el siguiente código"
      ]
    },
    {
      "cell_type": "code",
      "metadata": {
        "id": "vGhvS69_A5lR",
        "colab_type": "code",
        "colab": {}
      },
      "source": [
        "def prepare_sequences_test(notes, pitchnames, n_vocab):\n",
        "    \"\"\" Prepara las secuencias para usar en el modelo entrenado \"\"\"\n",
        "    \n",
        "    # aqui, se realiza un mapeo (con diccionario) entre las notas y valores enteros y al reves\n",
        "    note_to_int = dict((note, number) for number, note in enumerate(pitchnames))\n",
        "\n",
        "    sequence_length = 100\n",
        "    network_input = []\n",
        "    output = []\n",
        "    for i in range(0, len(notes) - sequence_length, 1):\n",
        "        sequence_in = notes[i:i + sequence_length]\n",
        "        sequence_out = notes[i + sequence_length]\n",
        "        network_input.append([note_to_int[char] for char in sequence_in])\n",
        "        output.append(note_to_int[sequence_out])\n",
        "\n",
        "    n_patterns = len(network_input)\n",
        "\n",
        "    # como antes, redimensionamos las entradas para poder usarse con LSTM\n",
        "    normalized_input = numpy.reshape(network_input, (n_patterns, sequence_length, 1))\n",
        "    # normalizamos la entrada\n",
        "    normalized_input = normalized_input / float(n_vocab)\n",
        "\n",
        "    return (network_input, normalized_input)\n",
        "\n",
        "def generate_notes_test(model, network_input, network_input2, pitchnames, n_vocab):\n",
        "    \"\"\" Genera notas musicales a partir de una red neuronal basado en una secuencia inicial de notas \"\"\"\n",
        "    \n",
        "    # selecciona una secuencia aleatoria del input a partir de la cual se realizaran predicciones\n",
        "    start = numpy.random.randint(0, len(network_input)-1)\n",
        "\n",
        "    int_to_note = dict((number, note) for number, note in enumerate(pitchnames))\n",
        "\n",
        "    pattern = network_input[start]\n",
        "    prediction_output = []\n",
        "\n",
        "    # genera 500 notas (puedes cambiarlo)\n",
        "    for note_index in range(500):\n",
        "        prediction_input = numpy.reshape(pattern, (1, len(pattern), 1))\n",
        "        prediction_input = prediction_input / float(n_vocab)\n",
        "\n",
        "        prediction_input2 = numpy.reshape(pattern, (1, len(pattern), 1))\n",
        "        prediction_input2 = prediction_input / float(n_vocab)\n",
        "\n",
        "        prediction = model.predict([prediction_input,prediction_input2], verbose=0)\n",
        "\n",
        "        index = numpy.argmax(prediction)\n",
        "        result = int_to_note[index]\n",
        "        prediction_output.append(result)\n",
        "\n",
        "        pattern.append(index)\n",
        "        pattern = pattern[1:len(pattern)]\n",
        "\n",
        "    return prediction_output\n",
        "\n",
        "    \n",
        "def create_midi(prediction_output, midfile):\n",
        "    \"\"\" genera un archivo MIDI a partir de las notas generadas (o predichas) \"\"\"\n",
        "    offset = 0\n",
        "    output_notes = []\n",
        "\n",
        "    # crea los objetos fundamentales Note y Chrod basado en los valores genrados por el modelo entrenado\n",
        "    for pattern in prediction_output:\n",
        "        # si las notas forman un acorde...\n",
        "        if ('.' in pattern) or pattern.isdigit():\n",
        "            notes_in_chord = pattern.split('.')\n",
        "            notes = []\n",
        "            for current_note in notes_in_chord:\n",
        "                new_note = note.Note(int(current_note))\n",
        "                new_note.storedInstrument = instrument.Piano()\n",
        "                notes.append(new_note)\n",
        "            new_chord = chord.Chord(notes)\n",
        "            new_chord.offset = offset\n",
        "            output_notes.append(new_chord)\n",
        "        # si son notas...\n",
        "        else:\n",
        "            new_note = note.Note(pattern)\n",
        "            new_note.offset = offset\n",
        "            new_note.storedInstrument = instrument.Piano()\n",
        "            output_notes.append(new_note)\n",
        "\n",
        "        # incremental el offset en cada iteracion. El offset es la posicion dentro del stream de musica\n",
        "        offset += 0.5\n",
        "\n",
        "    midi_stream = stream.Stream(output_notes)\n",
        "\n",
        "    midi_stream.write('midi', fp = midfile)\n",
        "    \n",
        "    return midi_stream\n"
      ],
      "execution_count": 0,
      "outputs": []
    },
    {
      "cell_type": "markdown",
      "metadata": {
        "id": "yYEy3HGeluzA",
        "colab_type": "text"
      },
      "source": [
        "Suponiendo que ya creaste un modelo (my_model), lo entrenaste y LO GUARDASTE, el siguiente código genera la música a partir de ese modelo"
      ]
    },
    {
      "cell_type": "code",
      "metadata": {
        "id": "TXikEYc9A-St",
        "colab_type": "code",
        "outputId": "9d174568-346c-43c0-fd8b-5523fb2854a3",
        "colab": {
          "base_uri": "https://localhost:8080/",
          "height": 35
        }
      },
      "source": [
        "%cd /content/drive/My Drive/Colab Notebooks/Tarea 3-20191016/midi_train/\n",
        "# carga las notas usadas cuando se entreno el modelo\n",
        "with open('programs/notebooks/data_mid/notes', 'rb') as filepath:\n",
        "    notes = pickle.load(filepath)\n",
        "\n",
        "# Obtiene el nombre de todas las notas (pitches)\n",
        "pitchnames = sorted(set(item for item in notes))\n",
        "n_vocab = len(set(notes))\n",
        "\n",
        "\n",
        "with open('programs/notebooks/data_mid/notes2', 'rb') as filepath:\n",
        "    notes2 = pickle.load(filepath)\n",
        "\n",
        "# Obtiene el nombre de todas las notas (pitches)\n",
        "pitchnames2 = sorted(set(item for item in notes2))\n",
        "n_vocab2 = len(set(notes2))"
      ],
      "execution_count": 0,
      "outputs": [
        {
          "output_type": "stream",
          "text": [
            "/content/drive/My Drive/Colab Notebooks/Tarea 3-20191016/midi_train\n"
          ],
          "name": "stdout"
        }
      ]
    },
    {
      "cell_type": "code",
      "metadata": {
        "id": "2WATVISUBTph",
        "colab_type": "code",
        "colab": {}
      },
      "source": [
        "\"\"\" Obtiene las secuencias Genera las notas y el archivo MIDI (piano) \"\"\"\n",
        "network_input, normalized_input = prepare_sequences_test(notes, pitchnames, n_vocab)\n",
        "network_input2, normalized_input2 = prepare_sequences_test(notes2, pitchnames2, n_vocab2)\n"
      ],
      "execution_count": 0,
      "outputs": []
    },
    {
      "cell_type": "code",
      "metadata": {
        "id": "FPSqapQ-qE5u",
        "colab_type": "code",
        "outputId": "96e34c7a-a3a3-45a9-998c-9c99e62abed7",
        "colab": {
          "base_uri": "https://localhost:8080/",
          "height": 35
        }
      },
      "source": [
        "len(network_input)"
      ],
      "execution_count": 0,
      "outputs": [
        {
          "output_type": "execute_result",
          "data": {
            "text/plain": [
              "154329"
            ]
          },
          "metadata": {
            "tags": []
          },
          "execution_count": 53
        }
      ]
    },
    {
      "cell_type": "code",
      "metadata": {
        "id": "dr7DPK2gqC5p",
        "colab_type": "code",
        "outputId": "72939b85-8893-4383-b5a7-8defce6b7976",
        "colab": {
          "base_uri": "https://localhost:8080/",
          "height": 35
        }
      },
      "source": [
        "len(network_input2[:index])"
      ],
      "execution_count": 0,
      "outputs": [
        {
          "output_type": "execute_result",
          "data": {
            "text/plain": [
              "154329"
            ]
          },
          "metadata": {
            "tags": []
          },
          "execution_count": 56
        }
      ]
    },
    {
      "cell_type": "code",
      "metadata": {
        "id": "T21y-RfZq68Q",
        "colab_type": "code",
        "outputId": "8c93501c-a8e7-471a-ed23-cd29566ef160",
        "colab": {
          "base_uri": "https://localhost:8080/",
          "height": 35
        }
      },
      "source": [
        "index"
      ],
      "execution_count": 0,
      "outputs": [
        {
          "output_type": "execute_result",
          "data": {
            "text/plain": [
              "154329"
            ]
          },
          "metadata": {
            "tags": []
          },
          "execution_count": 55
        }
      ]
    },
    {
      "cell_type": "code",
      "metadata": {
        "id": "AyOwQXH-BWq8",
        "colab_type": "code",
        "colab": {}
      },
      "source": [
        "lstm1 = LSTM(256, return_sequences=True)\n",
        "lstm2 = LSTM(256, return_sequences=True)\n",
        "lstm3 = LSTM(256)\n",
        "\n",
        "\n",
        "left_input = Input(shape=(normalized_input.shape[1], normalized_input.shape[2]))\n",
        "x = lstm1(left_input)\n",
        "x = Dropout(0.3)(x)\n",
        "x = lstm2(x)\n",
        "x = Dropout(0.3)(x)\n",
        "left_output = lstm3(x)\n",
        "\n",
        "\n",
        "\n",
        "right_input = Input(shape=(normalized_input.shape[1], normalized_input.shape[2]))\n",
        "x = lstm1(right_input)\n",
        "x = Dropout(0.3)(x)\n",
        "x = lstm2(x)\n",
        "x = Dropout(0.3)(x)\n",
        "right_output = lstm3(x)\n",
        "\n",
        "\n",
        "merged = tensorflow.keras.layers.concatenate([left_output, right_output], axis=-1)\n",
        "dens1 = Dense(256)(merged)\n",
        "drop1 = Dropout(0.3)(dens1)\n",
        "output =Dense(n_vocab, activation='softmax')(drop1)\n",
        "\n",
        "model = Model([left_input, right_input], output)\n",
        "\n",
        "model.compile(loss='categorical_crossentropy', optimizer='adam')\n"
      ],
      "execution_count": 0,
      "outputs": []
    },
    {
      "cell_type": "code",
      "metadata": {
        "id": "nOPbwLHsBerc",
        "colab_type": "code",
        "colab": {}
      },
      "source": [
        "model.compile(loss='categorical_crossentropy', optimizer='rmsprop')"
      ],
      "execution_count": 0,
      "outputs": []
    },
    {
      "cell_type": "code",
      "metadata": {
        "id": "XwfLKNpWBfj7",
        "colab_type": "code",
        "colab": {}
      },
      "source": [
        "model.load_weights('siames.hdf5')"
      ],
      "execution_count": 0,
      "outputs": []
    },
    {
      "cell_type": "code",
      "metadata": {
        "id": "zC1u99LRslYj",
        "colab_type": "code",
        "colab": {}
      },
      "source": [
        ""
      ],
      "execution_count": 0,
      "outputs": []
    },
    {
      "cell_type": "markdown",
      "metadata": {
        "id": "HrSZmo5FluzG",
        "colab_type": "text"
      },
      "source": [
        "SUGERENCIAS: \n",
        "- Guarda tu modelo en formato hdf5. Puedes guardar todo o parte, por ejemplo, solo los pesos, pero tendrás que re-definir la arquitectura en la fase de test.\n",
        "- Usa callbacks y model check points para guardar tu modelo en cada época. Puede tardar mucho tiempo para entrenarse..."
      ]
    },
    {
      "cell_type": "code",
      "metadata": {
        "id": "aJNAskzUluzH",
        "colab_type": "code",
        "colab": {}
      },
      "source": [
        "# genera las anotas\n",
        "prediction_output = generate_notes_test(model, network_input,  network_input2[:index], pitchnames, n_vocab)\n"
      ],
      "execution_count": 0,
      "outputs": []
    },
    {
      "cell_type": "code",
      "metadata": {
        "id": "PdyYGYDqByfK",
        "colab_type": "code",
        "colab": {}
      },
      "source": [
        "# crea el MIDI\n",
        "notitas = create_midi(prediction_output, 'modelito2.mid')"
      ],
      "execution_count": 0,
      "outputs": []
    },
    {
      "cell_type": "code",
      "metadata": {
        "id": "9xvqR5exCDVY",
        "colab_type": "code",
        "outputId": "c0db85ac-4fda-4519-f1a4-3169943eb286",
        "colab": {
          "base_uri": "https://localhost:8080/",
          "height": 316
        }
      },
      "source": [
        "notitas.show()\n"
      ],
      "execution_count": 0,
      "outputs": [
        {
          "output_type": "error",
          "ename": "SubConverterException",
          "evalue": "ignored",
          "traceback": [
            "\u001b[0;31m---------------------------------------------------------------------------\u001b[0m",
            "\u001b[0;31mSubConverterException\u001b[0m                     Traceback (most recent call last)",
            "\u001b[0;32m<ipython-input-43-265cc3a8e77f>\u001b[0m in \u001b[0;36m<module>\u001b[0;34m()\u001b[0m\n\u001b[0;32m----> 1\u001b[0;31m \u001b[0mnotitas\u001b[0m\u001b[0;34m.\u001b[0m\u001b[0mshow\u001b[0m\u001b[0;34m(\u001b[0m\u001b[0;34m)\u001b[0m\u001b[0;34m\u001b[0m\u001b[0;34m\u001b[0m\u001b[0m\n\u001b[0m",
            "\u001b[0;32m/usr/local/lib/python3.6/dist-packages/music21/stream/__init__.py\u001b[0m in \u001b[0;36mshow\u001b[0;34m(self, *args, **kwargs)\u001b[0m\n\u001b[1;32m    256\u001b[0m         \u001b[0;32mif\u001b[0m \u001b[0mself\u001b[0m\u001b[0;34m.\u001b[0m\u001b[0misSorted\u001b[0m \u001b[0;32mis\u001b[0m \u001b[0;32mFalse\u001b[0m \u001b[0;32mand\u001b[0m \u001b[0mself\u001b[0m\u001b[0;34m.\u001b[0m\u001b[0mautoSort\u001b[0m\u001b[0;34m:\u001b[0m\u001b[0;34m\u001b[0m\u001b[0;34m\u001b[0m\u001b[0m\n\u001b[1;32m    257\u001b[0m             \u001b[0mself\u001b[0m\u001b[0;34m.\u001b[0m\u001b[0msort\u001b[0m\u001b[0;34m(\u001b[0m\u001b[0;34m)\u001b[0m\u001b[0;34m\u001b[0m\u001b[0;34m\u001b[0m\u001b[0m\n\u001b[0;32m--> 258\u001b[0;31m         \u001b[0;32mreturn\u001b[0m \u001b[0msuper\u001b[0m\u001b[0;34m(\u001b[0m\u001b[0;34m)\u001b[0m\u001b[0;34m.\u001b[0m\u001b[0mshow\u001b[0m\u001b[0;34m(\u001b[0m\u001b[0;34m*\u001b[0m\u001b[0margs\u001b[0m\u001b[0;34m,\u001b[0m \u001b[0;34m**\u001b[0m\u001b[0mkwargs\u001b[0m\u001b[0;34m)\u001b[0m\u001b[0;34m\u001b[0m\u001b[0;34m\u001b[0m\u001b[0m\n\u001b[0m\u001b[1;32m    259\u001b[0m \u001b[0;34m\u001b[0m\u001b[0m\n\u001b[1;32m    260\u001b[0m     \u001b[0;31m#---------------------------------------------------------------------------\u001b[0m\u001b[0;34m\u001b[0m\u001b[0;34m\u001b[0m\u001b[0;34m\u001b[0m\u001b[0m\n",
            "\u001b[0;32m/usr/local/lib/python3.6/dist-packages/music21/base.py\u001b[0m in \u001b[0;36mshow\u001b[0;34m(self, fmt, app, **keywords)\u001b[0m\n\u001b[1;32m   2578\u001b[0m                                  \u001b[0mapp\u001b[0m\u001b[0;34m=\u001b[0m\u001b[0mapp\u001b[0m\u001b[0;34m,\u001b[0m\u001b[0;34m\u001b[0m\u001b[0;34m\u001b[0m\u001b[0m\n\u001b[1;32m   2579\u001b[0m                                  \u001b[0msubformats\u001b[0m\u001b[0;34m=\u001b[0m\u001b[0msubformats\u001b[0m\u001b[0;34m,\u001b[0m\u001b[0;34m\u001b[0m\u001b[0;34m\u001b[0m\u001b[0m\n\u001b[0;32m-> 2580\u001b[0;31m                                  **keywords)\n\u001b[0m\u001b[1;32m   2581\u001b[0m \u001b[0;34m\u001b[0m\u001b[0m\n\u001b[1;32m   2582\u001b[0m     \u001b[0;31m#--------------------------------------------------------------------------\u001b[0m\u001b[0;34m\u001b[0m\u001b[0;34m\u001b[0m\u001b[0;34m\u001b[0m\u001b[0m\n",
            "\u001b[0;32m/usr/local/lib/python3.6/dist-packages/music21/converter/subConverters.py\u001b[0m in \u001b[0;36mshow\u001b[0;34m(self, obj, fmt, app, subformats, **keywords)\u001b[0m\n\u001b[1;32m    358\u001b[0m             \u001b[0;32mfor\u001b[0m \u001b[0ms\u001b[0m \u001b[0;32min\u001b[0m \u001b[0mscores\u001b[0m\u001b[0;34m:\u001b[0m\u001b[0;34m\u001b[0m\u001b[0;34m\u001b[0m\u001b[0m\n\u001b[1;32m    359\u001b[0m                 fp = helperSubConverter.write(s, helperFormat,\n\u001b[0;32m--> 360\u001b[0;31m                                               subformats=helperSubformats, **keywords)\n\u001b[0m\u001b[1;32m    361\u001b[0m \u001b[0;34m\u001b[0m\u001b[0m\n\u001b[1;32m    362\u001b[0m                 \u001b[0;32mif\u001b[0m \u001b[0mhelperSubformats\u001b[0m\u001b[0;34m[\u001b[0m\u001b[0;36m0\u001b[0m\u001b[0;34m]\u001b[0m \u001b[0;34m==\u001b[0m \u001b[0;34m'png'\u001b[0m\u001b[0;34m:\u001b[0m\u001b[0;34m\u001b[0m\u001b[0;34m\u001b[0m\u001b[0m\n",
            "\u001b[0;32m/usr/local/lib/python3.6/dist-packages/music21/converter/subConverters.py\u001b[0m in \u001b[0;36mwrite\u001b[0;34m(self, obj, fmt, fp, subformats, **keywords)\u001b[0m\n\u001b[1;32m    936\u001b[0m                 \u001b[0;32mand\u001b[0m \u001b[0;34m(\u001b[0m\u001b[0;34m'png'\u001b[0m \u001b[0;32min\u001b[0m \u001b[0msubformats\u001b[0m \u001b[0;32mor\u001b[0m \u001b[0;34m'pdf'\u001b[0m \u001b[0;32min\u001b[0m \u001b[0msubformats\u001b[0m\u001b[0;34m)\u001b[0m\u001b[0;34m\u001b[0m\u001b[0;34m\u001b[0m\u001b[0m\n\u001b[1;32m    937\u001b[0m                 and not str(environLocal['musescoreDirectPNGPath']).startswith('/skip')):\n\u001b[0;32m--> 938\u001b[0;31m             \u001b[0mfp\u001b[0m \u001b[0;34m=\u001b[0m \u001b[0mself\u001b[0m\u001b[0;34m.\u001b[0m\u001b[0mrunThroughMusescore\u001b[0m\u001b[0;34m(\u001b[0m\u001b[0mfp\u001b[0m\u001b[0;34m,\u001b[0m \u001b[0msubformats\u001b[0m\u001b[0;34m,\u001b[0m \u001b[0;34m**\u001b[0m\u001b[0mkeywords\u001b[0m\u001b[0;34m)\u001b[0m\u001b[0;34m\u001b[0m\u001b[0;34m\u001b[0m\u001b[0m\n\u001b[0m\u001b[1;32m    939\u001b[0m \u001b[0;34m\u001b[0m\u001b[0m\n\u001b[1;32m    940\u001b[0m         \u001b[0;32mreturn\u001b[0m \u001b[0mfp\u001b[0m\u001b[0;34m\u001b[0m\u001b[0;34m\u001b[0m\u001b[0m\n",
            "\u001b[0;32m/usr/local/lib/python3.6/dist-packages/music21/converter/subConverters.py\u001b[0m in \u001b[0;36mrunThroughMusescore\u001b[0;34m(self, fp, subformats, **keywords)\u001b[0m\n\u001b[1;32m    864\u001b[0m             raise SubConverterException(\n\u001b[1;32m    865\u001b[0m                 \u001b[0;34m\"To create PNG files directly from MusicXML you need to download MuseScore and \"\u001b[0m \u001b[0;34m+\u001b[0m\u001b[0;34m\u001b[0m\u001b[0;34m\u001b[0m\u001b[0m\n\u001b[0;32m--> 866\u001b[0;31m                 \"put a link to it in your .music21rc via Environment.\")\n\u001b[0m\u001b[1;32m    867\u001b[0m         \u001b[0;32melif\u001b[0m \u001b[0;32mnot\u001b[0m \u001b[0mmusescorePath\u001b[0m\u001b[0;34m.\u001b[0m\u001b[0mexists\u001b[0m\u001b[0;34m(\u001b[0m\u001b[0;34m)\u001b[0m\u001b[0;34m:\u001b[0m\u001b[0;34m\u001b[0m\u001b[0;34m\u001b[0m\u001b[0m\n\u001b[1;32m    868\u001b[0m             raise SubConverterException(\n",
            "\u001b[0;31mSubConverterException\u001b[0m: To create PNG files directly from MusicXML you need to download MuseScore and put a link to it in your .music21rc via Environment."
          ]
        }
      ]
    },
    {
      "cell_type": "code",
      "metadata": {
        "id": "_YXwmvDzByKa",
        "colab_type": "code",
        "outputId": "1fdfdfad-9c99-4c79-86bb-2ff4529bf0ee",
        "colab": {
          "base_uri": "https://localhost:8080/",
          "height": 17
        }
      },
      "source": [
        "notitas.show('midi')"
      ],
      "execution_count": 0,
      "outputs": [
        {
          "output_type": "display_data",
          "data": {
            "text/html": [
              "\n",
              "                <div id='midiPlayerDiv867376'></div>\n",
              "                <link rel=\"stylesheet\" href=\"//cuthbertLab.github.io/music21j/css/m21.css\"\n",
              "                    type=\"text/css\" />\n",
              "                <script>\n",
              "                require.config({\n",
              "                    paths: {'music21': '//cuthbertLab.github.io/music21j/src/music21'}\n",
              "                });\n",
              "                require(['music21'], function() {\n",
              "                               mp = new music21.miditools.MidiPlayer();\n",
              "                               mp.addPlayer('#midiPlayerDiv867376');\n",
              "                               mp.base64Load('data:audio/midi;base64,TVRoZAAAAAYAAQABBABNVHJrAAARogD/AwAA4ABAAJA6WoQAkD5ahACAOgAAkEVahACAPgAAkERahACARQAAkDpahACARAAAkD5ahACAOgAAkERahACAPgAAkD5ahACARAAAkERahACAPgAAkD9ahACARAAAkERahACAPwAAkD5ahACARAAAkEVahACAPgAAkD5ahACARQAAkEVahACAPgAAkD5ahACARQAAkDpahACAPgAAkD5ahACAOgAAkDpahACAPgAAkD5ahACAOgAAkDpahACAPgAAkD5ahACAOgAAkDxahACAPgAAkD5ahACAPAAAkDxahACAPgAAkD5ahACAPAAAkDxahACAPgAAkD5ahACAPAAAkDxahACAPgAAkD5ahACAPAAAkDpahACAPgAAkD5ahACAOgAAkDpahACAPgAAkD5ahACAOgAAkDpahACAPgAAkD5ahACAOgAAkDxahACAPgAAkD5ahACAPAAAkDxahACAPgAAkD5ahACAPAAAkDxahACAPgAAkD5ahACAPAAAkDxahACAPgAAkD5ahACAPAAAkDxahACAPgAAkD5ahACAPAAAkDxahACAPgAAkD5ahACAPAAAkDxahACAPgAAkD5ahACAPAAAkDxahACAPgAAkD5ahACAPAAAkDxahACAPgAAkD5ahACAPAAAkDpahACAPgAAkD5ahACAOgAAkDpahACAPgAAkD5ahACAOgAAkDpahACAPgAAkD5ahACAOgAAkDxahACAPgAAkD5ahACAPAAAkDxahACAPgAAkD5ahACAPAAAkDxahACAPgAAkD5ahACAPAAAkDxahACAPgAAkD5ahACAPAAAkDxahACAPgAAkD5ahACAPAAAkDpahACAPgAAkD5ahACAOgAAkDxahACAPgAAkD5ahACAPAAAkDxahACAPgAAkD5ahACAPAAAkDpahACAPgAAkD5ahACAOgAAkDxahACAPgAAkD5ahACAPAAAkDxahACAPgAAkD5ahACAPAAAkDxahACAPgAAkD5ahACAPAAAkDxahACAPgAAkD5ahACAPAAAkDxahACAPgAAkD5ahACAPAAAkDpahACAPgAAkD5ahACAOgAAkDxahACAPgAAkD5ahACAPAAAkDxahACAPgAAkD5ahACAPAAAkDxahACAPgAAkD5ahACAPAAAkDxahACAPgAAkD5ahACAPAAAkDpahACAPgAAkD5ahACAOgAAkDxahACAPgAAkD5ahACAPAAAkDxahACAPgAAkD5ahACAPAAAkDxahACAPgAAkD5ahACAPAAAkDxahACAPgAAkD5ahACAPAAAkDxahACAPgAAkD5ahACAPAAAkDpahACAPgAAkD5ahACAOgAAkDxahACAPgAAkD5ahACAPAAAkDxahACAPgAAkD5ahACAPAAAkDxahACAPgAAkD5ahACAPAAAkDxahACAPgAAkD5ahACAPAAAkDxahACAPgAAkD5ahACAPAAAkDpahACAPgAAkD5ahACAOgAAkDxahACAPgAAkD5ahACAPAAAkDxahACAPgAAkD5ahACAPAAAkDxahACAPgAAkD5ahACAPAAAkDpahACAPgAAkD5ahACAOgAAkDpahACAPgAAkD5ahACAOgAAkDpahACAPgAAkD5ahACAOgAAkDxahACAPgAAkD5ahACAPAAAkDxahACAPgAAkD5ahACAPAAAkDxahACAPgAAkD5ahACAPAAAkDxahACAPgAAkD5ahACAPAAAkDxahACAPgAAkD5ahACAPAAAkDxahACAPgAAkD5ahACAPAAAkDxahACAPgAAkD5ahACAPAAAkDxahACAPgAAkD5ahACAPAAAkD5ahACAPgAAkD5ahACAPgAAkDxahACAPgAAkD5ahACAPAAAkDxahACAPgAAkD5ahACAPAAAkDxahACAPgAAkD5ahACAPAAAkDxahACAPgAAkD5ahACAPAAAkDxahACAPgAAkD5ahACAPAAAkD5ahACAPgAAkD5ahACAPgAAkDxahACAPgAAkD5ahACAPAAAkDxahACAPgAAkD5ahACAPAAAkDxahACAPgAAkD5ahACAPAAAkDxahACAPgAAkD5ahACAPAAAkDxahACAPgAAkD5ahACAPAAAkDxahACAPgAAkD5ahACAPAAAkDpahACAPgAAkD5ahACAOgAAkDxahACAPgAAkD5ahACAPAAAkDxahACAPgAAkD5ahACAPAAAkDpahACAPgAAkD5ahACAOgAAkDxahACAPgAAkD5ahACAPAAAkDxahACAPgAAkD5ahACAPAAAkDxahACAPgAAkD5ahACAPAAAkDxahACAPgAAkD5ahACAPAAAkDxahACAPgAAkD5ahACAPAAAkDpahACAPgAAkD5ahACAOgAAkDxahACAPgAAkD5ahACAPAAAkDxahACAPgAAkD5ahACAPAAAkDxahACAPgAAkD5ahACAPAAAkDxahACAPgAAkD5ahACAPAAAkDpahACAPgAAkD5ahACAOgAAkDxahACAPgAAkD5ahACAPAAAkDxahACAPgAAkD5ahACAPAAAkDxahACAPgAAkD5ahACAPAAAkDxahACAPgAAkD5ahACAPAAAkDxahACAPgAAkD5ahACAPAAAkDxahACAPgAAkD5ahACAPAAAkDxahACAPgAAkD5ahACAPAAAkDxahACAPgAAkD5ahACAPAAAkDxahACAPgAAkD5ahACAPAAAkDxahACAPgAAkD5ahACAPAAAkDxahACAPgAAkD5ahACAPAAAkDxahACAPgAAkD5ahACAPAAAkERahACAPgAAkD5ahACARAAAkDxahACAPgAAkD5ahACAPAAAkDxahACAPgAAkD5ahACAPAAAkDxahACAPgAAkD5ahACAPAAAkDpahACAPgAAkD5ahACAOgAAkDxahACAPgAAkD5ahACAPAAAkDxahACAPgAAkD5ahACAPAAAkDxahACAPgAAkD5ahACAPAAAkDxahACAPgAAkD5ahACAPAAAkD5ahACAPgAAkD5ahACAPgAAkDxahACAPgAAkD5ahACAPAAAkDxahACAPgAAkD5ahACAPAAAkDxahACAPgAAkD5ahACAPAAAkDxahACAPgAAkD5ahACAPAAAkDxahACAPgAAkD5ahACAPAAAkDxahACAPgAAkD5ahACAPAAAkDxahACAPgAAkD5ahACAPAAAkDxahACAPgAAkD5ahACAPAAAkDxahACAPgAAkD5ahACAPAAAkDxahACAPgAAkD5ahACAPAAAkDxahACAPgAAkD5ahACAPAAAkDxahACAPgAAkD5ahACAPAAAkDxahACAPgAAkD5ahACAPAAAkDxahACAPgAAkD5ahACAPAAAkDxahACAPgAAkD5ahACAPAAAkDxahACAPgAAkD5ahACAPAAAkDxahACAPgAAkD5ahACAPAAAkDxahACAPgAAkD5ahACAPAAAkD5ahACAPgAAkD5ahACAPgAAkD5ahACAPgAAkD5ahACAPgAAkDpahACAPgAAkD5ahACAOgAAkDpahACAPgAAkD5ahACAOgAAkDxahACAPgAAkD5ahACAPAAAkDxahACAPgAAkD5ahACAPAAAkDxahACAPgAAkD5ahACAPAAAkDxahACAPgAAkD5ahACAPAAAkDxahACAPgAAkD5ahACAPAAAkDxahACAPgAAkD5ahACAPAAAkDpahACAPgAAkD5ahACAOgAAkDpahACAPgAAkD5ahACAOgAAkDxahACAPgAAkD5ahACAPAAAkDpahACAPgAAkD5ahACAOgAAkDxahACAPgAAkD5ahACAPAAAkDxahACAPgAAkD5ahACAPAAAkDxahACAPgAAkD5ahACAPAAAkDxahACAPgAAkD5ahACAPAAAkDpahACAPgAAkD5ahACAOgAAkDxahACAPgAAkD5ahACAPAAAkDpahACAPgAAkD5ahACAOgAAkDpahACAPgAAkD5ahACAOgAAkDxahACAPgAAkD5ahACAPAAAkDxahACAPgAAkD5ahACAPAAAkDxahACAPgAAkD5ahACAPAAAkDxahACAPgAAkD5ahACAPAAAkDpahACAPgAAkD5ahACAOgAAkDxahACAPgAAkD5ahACAPAAAkDpahACAPgAAkD5ahACAOgAAkDxahACAPgAAkD5ahACAPAAAkDxahACAPgAAkD5ahACAPAAAkDxahACAPgAAkD5ahACAPAAAkDxahACAPgAAkD5ahACAPAAAkDpahACAPgAAkD5ahACAOgAAkDpahACAPgAAkD5ahACAOgAAkDxahACAPgAAkD5ahACAPAAAkDxahACAPgAAkD5ahACAPAAAkDxahACAPgAAkD5ahACAPAAAkDxahACAPgAAkD5ahACAPAAAkDxahACAPgAAkD5ahACAPAAAkDxahACAPgAAkD5ahACAPAAAkDxahACAPgAAkD5ahACAPAAAkDpahACAPgAAkD5ahACAOgAAkDxahACAPgAAkD5ahACAPAAAkDxahACAPgAAkD5ahACAPAAAkDpahACAPgAAkD5ahACAOgAAkDpahACAPgAAkD5ahACAOgAAkDxahACAPgAAkD5ahACAPAAAkDpahACAPgAAkD5ahACAOgAAkDxahACAPgAAkD5ahACAPAAAkDxahACAPgAAkD5ahACAPAAAkDxahACAPgAAkD5ahACAPAAAkDxahACAPgAAkD5ahACAPAAAkDxahACAPgAAkD5ahACAPAAAkDxahACAPgAAkD5ahACAPAAAkDpahACAPgAAkD5ahACAOgAAkDpahACAPgAAkD5ahACAOgAAkDxahACAPgAAkD5ahACAPAAAkDxahACAPgAAkD5ahACAPAAAkD5ahACAPgAAkD5ahACAPgAAkDxahACAPgAAkD5ahACAPAAAkDxahACAPgAAkD5ahACAPAAAkDxahACAPgAAkD5ahACAPAAAkDxahACAPgAAkD5ahACAPAAAkDpahACAPgAAkD5ahACAOgAAkDxahACAPgAAkD5ahACAPAAAkDxahACAPgAAkD5ahACAPAAAkDxahACAPgAAkD5ahACAPAAAkDxahACAPgAAkD5ahACAPAAAkDxahACAPgAAkD5ahACAPAAAkDxahACAPgAAkD5ahACAPAAAkD5ahACAPgAAkD5ahACAPgAAkDxahACAPgAAkD5ahACAPAAAkDxahACAPgAAkD5ahACAPAAAkDxahACAPgAAkD5ahACAPAAAkDxahACAPgAAkD5ahACAPAAAkDxahACAPgAAkD5ahACAPAAAkDxahACAPgAAkD5ahACAPAAAkDxahACAPgAAkD5ahACAPAAAkD5ahACAPgAAkD5ahACAPgAAkDpahACAPgAAkD5ahACAOgAAkDxahACAPgAAkD5ahACAPAAAkDxahACAPgAAkD5ahACAPAAAkD5ahACAPgAAkD5ahACAPgAAkDxahACAPgAAkD5ahACAPAAAkD5ahACAPgAAkD5ahACAPgAAkDxahACAPgAAkD5ahACAPAAAkDxahACAPgAAkD5ahACAPAAAkDxahACAPgAAkD5ahACAPAAAkDxahACAPgAAkD5ahACAPAAAkDpahACAPgAAkD5ahACAOgAAkDxahACAPgAAkD5ahACAPAAAkDxahACAPgAAkD5ahACAPAAAkDpahACAPgAAkD5ahACAOgAAkDxahACAPgAAkD5ahACAPAAAkDxahACAPgAAkD5ahACAPAAAkDxahACAPgAAkD5ahACAPAAAkDxahACAPgAAkD5ahACAPAAAkDxahACAPgAAkD5ahACAPAAAkDxahACAPgAAkD5ahACAPAAAkDxahACAPgAAkD5ahACAPAAAkDxahACAPgAAkD5ahACAPAAAkDxahACAPgAAkD5ahACAPAAAkDxahACAPgAAkD5ahACAPAAAkERahACAPgAAkD5ahACARAAAkDxahACAPgAAkD5ahACAPACEAIA+AIgA/y8A');\n",
              "                        });\n",
              "                </script>"
            ],
            "text/plain": [
              "<IPython.core.display.HTML object>"
            ]
          },
          "metadata": {
            "tags": []
          }
        }
      ]
    },
    {
      "cell_type": "markdown",
      "metadata": {
        "id": "2YiLtWJjluzK",
        "colab_type": "text"
      },
      "source": [
        "## b) La generación de música que hicimos es muy básica y tiene varias limitaciones (¡pero aún así es sorprendente!). Una de ellas es que las notas generadas tienen solo una duración. Otra es que solo usan un instrumento. ¿Qué ideas se te ocurren para extender el método en ambos casos, que puedan implementarse en términos de redes recurrentes o Deep Learning en general?\n",
        "\n",
        "## Quizá la lectura de Briot et al. (2019, 2017) y Huang & Wu (2016) puedan ayudar."
      ]
    }
  ]
}