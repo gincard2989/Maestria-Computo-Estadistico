{
 "cells": [
  {
   "cell_type": "markdown",
   "metadata": {},
   "source": [
    "**Centro de investigación en Matemáticas A.C**\n",
    "\n",
    "**Temas Selectos en Estadística**\n",
    "\n",
    "**Hairo Ulises Miranda Belmonte**\n",
    "\n",
    "**Tarea 2.  Distribución de Wishart y Marcenko-Pastur**\n",
    "\n",
    "**23 de Agosto del 2019**"
   ]
  },
  {
   "cell_type": "markdown",
   "metadata": {},
   "source": [
    "# Distribución de Wishart y Marcenko-Pastur"
   ]
  },
  {
   "cell_type": "markdown",
   "metadata": {},
   "source": [
    "## Ejercicio 1 \n",
    "\n",
    "* ¿Como lucen los eigenvalores de una matriz de covarianza gaussiana?\n",
    "\n",
    "Realice el siguiente experimiento (Izenman, 2da edició):\n",
    "\n",
    "* Genere una matriz Z de dimensión $p × n$ cuyas entradas sean iid $N(0, 1)$\n",
    "\n",
    "* Sea D una matriz diagonal $p × p$, y $X = DZ$\n",
    "\n",
    "* Sea S = $n^{−1}XX'$ la matriz de covarianza muestral de dimensión $p × p$ De esta manera $XX' ∼ Wp(n, D2)$\n",
    "\n",
    "* Simule y grafique en orden descendente los eigenvalores de la matriz S\n",
    "para los casos $p = 30$, $n ∈ {30, 300}$, y $D^2 = diag(12, 11, 10, 9, 8, 7, 3, 3, 3, . . . , 3)$\n",
    "\n",
    "* ¿Cuantos componentes principales retendría en cada caso?"
   ]
  },
  {
   "cell_type": "markdown",
   "metadata": {},
   "source": [
    "Simulación "
   ]
  },
  {
   "cell_type": "code",
   "execution_count": 374,
   "metadata": {},
   "outputs": [],
   "source": [
    "import numpy as np\n",
    "import matplotlib.pyplot as plt\n",
    "import seaborn as sns\n",
    "sns.set_style(\"darkgrid\")\n",
    "\n",
    "p = 30\n",
    "n = [30, 300]\n",
    "Matriz = []\n",
    "for i in n :\n",
    "    Z = np.random.normal(0, 1, (p,i))\n",
    "    a1 = np.array([12,11,10,9,8,7])\n",
    "    a2 = np.repeat(3, p-6)\n",
    "    D2 = np.diag(np.concatenate((a1,a2)))\n",
    "    D = np.sqrt(np.diag(np.concatenate((a1,a2))))\n",
    "    X = np.dot(D,Z)\n",
    "    S = np.dot(X, X.T)/ i\n",
    "    v, w = np.linalg.eigh(S)\n",
    "    temp = np.sort(v)[::-1]\n",
    "    Matriz.append(temp)"
   ]
  },
  {
   "cell_type": "markdown",
   "metadata": {},
   "source": [
    "Visualización"
   ]
  },
  {
   "cell_type": "markdown",
   "metadata": {},
   "source": [
    "De la simulación de las matrices gaussianas, se estima la matriz de covarinza de cada una de ellas y se calculan sus valores y vectores propios.\n",
    "\n",
    "Se ordenan los valores propios de orden decendente y se gráfica sus respectivos *scrrplot* (i.e., para $n=30, 300$)"
   ]
  },
  {
   "cell_type": "code",
   "execution_count": 375,
   "metadata": {},
   "outputs": [
    {
     "data": {
      "image/png": "[encoded data removed]",
      "text/plain": [
       "<Figure size 432x288 with 2 Axes>"
      ]
     },
     "metadata": {},
     "output_type": "display_data"
    }
   ],
   "source": [
    "plt.subplot(1, 2, 1)\n",
    "plt.plot(Matriz[0],  'o', c=\"black\")\n",
    "plt.plot(Matriz[0],  '-', c=\"black\")\n",
    "plt.title('Screeplot n = [30, 300]')\n",
    "plt.ylabel('Valores propios')\n",
    "\n",
    "plt.subplot(1, 2, 2)\n",
    "plt.plot(Matriz[1],  'o', c=\"black\")\n",
    "plt.plot(Matriz[1],  '-', c=\"black\")\n",
    "plt.ylim((0,20))\n",
    "plt.xlabel('# Valores propios')\n",
    "\n",
    "\n",
    "plt.show()"
   ]
  },
  {
   "cell_type": "markdown",
   "metadata": {},
   "source": [
    "En el gráfico de la izquierda se observan los valores propios cuando se tiene $n=30$, en el de la derecha cuando $n=300$. Siguiendo el críterio del \"codo\", podemos conservar entre 8 a 10 componentes."
   ]
  },
  {
   "cell_type": "code",
   "execution_count": 376,
   "metadata": {},
   "outputs": [
    {
     "data": {
      "text/html": [
       "<div>\n",
       "<style scoped>\n",
       "    .dataframe tbody tr th:only-of-type {\n",
       "        vertical-align: middle;\n",
       "    }\n",
       "\n",
       "    .dataframe tbody tr th {\n",
       "        vertical-align: top;\n",
       "    }\n",
       "\n",
       "    .dataframe thead th {\n",
       "        text-align: right;\n",
       "    }\n",
       "</style>\n",
       "<table border=\"1\" class=\"dataframe\">\n",
       "  <thead>\n",
       "    <tr style=\"text-align: right;\">\n",
       "      <th></th>\n",
       "      <th>Varianza explicada</th>\n",
       "    </tr>\n",
       "  </thead>\n",
       "  <tbody>\n",
       "    <tr>\n",
       "      <th>1</th>\n",
       "      <td>0.155952</td>\n",
       "    </tr>\n",
       "    <tr>\n",
       "      <th>2</th>\n",
       "      <td>0.268847</td>\n",
       "    </tr>\n",
       "    <tr>\n",
       "      <th>3</th>\n",
       "      <td>0.367749</td>\n",
       "    </tr>\n",
       "    <tr>\n",
       "      <th>4</th>\n",
       "      <td>0.459194</td>\n",
       "    </tr>\n",
       "    <tr>\n",
       "      <th>5</th>\n",
       "      <td>0.537375</td>\n",
       "    </tr>\n",
       "    <tr>\n",
       "      <th>6</th>\n",
       "      <td>0.598864</td>\n",
       "    </tr>\n",
       "    <tr>\n",
       "      <th>7</th>\n",
       "      <td>0.655510</td>\n",
       "    </tr>\n",
       "    <tr>\n",
       "      <th>8</th>\n",
       "      <td>0.703923</td>\n",
       "    </tr>\n",
       "    <tr>\n",
       "      <th>9</th>\n",
       "      <td>0.748362</td>\n",
       "    </tr>\n",
       "    <tr>\n",
       "      <th>10</th>\n",
       "      <td>0.786429</td>\n",
       "    </tr>\n",
       "  </tbody>\n",
       "</table>\n",
       "</div>"
      ],
      "text/plain": [
       "    Varianza explicada\n",
       "1             0.155952\n",
       "2             0.268847\n",
       "3             0.367749\n",
       "4             0.459194\n",
       "5             0.537375\n",
       "6             0.598864\n",
       "7             0.655510\n",
       "8             0.703923\n",
       "9             0.748362\n",
       "10            0.786429"
      ]
     },
     "execution_count": 376,
     "metadata": {},
     "output_type": "execute_result"
    }
   ],
   "source": [
    "import pandas as pd\n",
    "\n",
    "var_exp = [Matriz[0][:i+1].sum()/(Matriz[0].sum()) for i in range(10)]\n",
    "valor_prop = list(range(10))\n",
    "\n",
    "pd.DataFrame({'Varianza explicada': var_exp}, \n",
    "             index = ['1','2','3','4','5','6','7','8','9','10'])\n",
    "\n",
    "             \n"
   ]
  },
  {
   "cell_type": "markdown",
   "metadata": {},
   "source": [
    "Con base a tomar el número de las componentes que expliquen el $80\\%$ se concluye que 10 son suficientes."
   ]
  },
  {
   "cell_type": "markdown",
   "metadata": {},
   "source": [
    "## Ejercicio 2\n",
    "\n",
    "* Distribución de los valores propios de la matriz aleatoria $XX'\\sim W_p(n, I_p)$\n",
    "\n",
    "* Gráfique la distribución de valores propios por medio de Monte Carlo, considerando el caso en que $n>p$"
   ]
  },
  {
   "cell_type": "markdown",
   "metadata": {},
   "source": [
    "Simulación"
   ]
  },
  {
   "cell_type": "code",
   "execution_count": 377,
   "metadata": {},
   "outputs": [],
   "source": [
    "final = []\n",
    "p = 30\n",
    "n = [30, 300]\n",
    "\n",
    "for j in n:\n",
    "    valores_p = []\n",
    "    for i in range(1000):\n",
    "        X = np.random.normal(0, 1, (p,j))\n",
    "        temp2 = np.dot(X,X.T)/ j\n",
    "        v, w = np.linalg.eigh(temp2)\n",
    "        valores_p.append(v.tolist())\n",
    "    flattened = [val for sublist in valores_p for val in sublist]\n",
    "    final.append(flattened)\n"
   ]
  },
  {
   "cell_type": "markdown",
   "metadata": {},
   "source": [
    "Visualización"
   ]
  },
  {
   "cell_type": "markdown",
   "metadata": {},
   "source": [
    "Se realizan mil simulaciones de una matriz aleatoria cuya distribución es normal con $\\mu = 1$ y $\\sigma^2 = 0$. Se estima a cada una su matriz de covarianza y se calculan sus respectivos valores propios. Al tener todos los valores propios para todas las simulaciones se gráfica el histograma para aproximar la función de densidad de los valores propios de la matrix aleatoria cuya distribución es la Wishart.\n",
    "\n",
    "Lo anterior se hace para el varios tamaños de la matriz, la primera para $n=10$; la segunda, para $n =300$"
   ]
  },
  {
   "cell_type": "markdown",
   "metadata": {},
   "source": [
    "Función de distribución a simular con Monte Carlo"
   ]
  },
  {
   "cell_type": "markdown",
   "metadata": {},
   "source": [
    "$$\\rho(\\lambda_1,...,\\lambda_1)=\\frac{1}{Z_p}e^{\\frac{-\\Sigma_{p}^{i=1}\\lambda_i}{2}}\\Pi_{i=1}^{p}\\lambda_i^{\\alpha/2}\\Pi_{j<k}|\\lambda_j-\\lambda_k|$$"
   ]
  },
  {
   "cell_type": "code",
   "execution_count": 378,
   "metadata": {},
   "outputs": [
    {
     "data": {
      "image/png": "[encoded data removed]",
      "text/plain": [
       "<Figure size 432x288 with 2 Axes>"
      ]
     },
     "metadata": {},
     "output_type": "display_data"
    }
   ],
   "source": [
    "plt.subplot(1, 2, 1)\n",
    "plt.hist(final[0], density=True, color=\"r\") \n",
    "plt.title('Simulación distribución de los valores propios n = [30, 300]')\n",
    "plt.ylim((0,1))\n",
    "plt.ylabel('Valores propios')\n",
    "plt.xlabel('# Valores propios')\n",
    "\n",
    "plt.subplot(1, 2, 2)\n",
    "plt.hist(final[1], density=True, color=\"r\")\n",
    "plt.xlabel('# Valores propios')\n",
    "\n",
    "\n",
    "plt.show()"
   ]
  },
  {
   "cell_type": "markdown",
   "metadata": {},
   "source": [
    "Se puede observar que conforme incrementa el tamaño de $n$ la distribución de los valores propios de la matriz aleatoria comienza a centrarse, observando colas con mayor peso"
   ]
  },
  {
   "cell_type": "markdown",
   "metadata": {},
   "source": [
    "## Ejercicio 3\n",
    "\n",
    "* Distribución límite de valores propios\n"
   ]
  },
  {
   "cell_type": "markdown",
   "metadata": {},
   "source": [
    "$$\\rho(\\lambda))\\frac{\\sqrt((\\lambda_{max}-\\lambda)(\\lambda-\\lambda_{min}))}{2\\pi c\\lambda}$$\n",
    "\n",
    "$$\\lambda_{min}^{max}=(1 \\pm \\sqrt(c)^2$$"
   ]
  },
  {
   "cell_type": "markdown",
   "metadata": {},
   "source": [
    "Simulación"
   ]
  },
  {
   "cell_type": "markdown",
   "metadata": {},
   "source": [
    "Se realiza la simulación de la distribución límite de los valores propios, con los parámetros $p=30$ y $n = 30, 300$. Cabe mencionar que cuando realicemos $n=30$, por el resultado $\\frac{p}{n}$ tiende a $c$, el cociente será de valor uno, y por ende al determinar el mínimo de la cota de los valores propios, el resultado será de cero. "
   ]
  },
  {
   "cell_type": "code",
   "execution_count": 379,
   "metadata": {},
   "outputs": [
    {
     "name": "stderr",
     "output_type": "stream",
     "text": [
      "C:\\Users\\h_air\\Anaconda3\\envs\\tensorflow-gpu\\lib\\site-packages\\ipykernel_launcher.py:11: RuntimeWarning: invalid value encountered in true_divide\n",
      "  # This is added back by InteractiveShellApp.init_path()\n"
     ]
    }
   ],
   "source": [
    "p = 30\n",
    "n = [30,300]   \n",
    "\n",
    "Valores =  np.empty((2, len(lam)))\n",
    "\n",
    "for j in range(2):\n",
    "    c = p/n[j]\n",
    "    maximo = (1 + np.sqrt(c))**2\n",
    "    minimo = (1 - np.sqrt(c))**2\n",
    "    lam = np.linspace(minimo,maximo , 10)\n",
    "    Valores[j,:] =  np.sqrt((maximo - lam)*(lam - minimo))/ (2*c*np.pi*lam) \n"
   ]
  },
  {
   "cell_type": "markdown",
   "metadata": {},
   "source": [
    "Visualización"
   ]
  },
  {
   "cell_type": "markdown",
   "metadata": {},
   "source": [
    "Como se mencioní, la distribución simulada y la límite cuando n es pequeño, la densidad espectral de los valores propios de la matriz de Wishart (i.e., $W=n^{-1}XX'$) no converge (casi seguro) a la ley de Marcenko-Pastur. Por otro lado, si incrementamos el valor de $n$ pero el valor de $p$ permanece constante, se observa que la densidad espectral de los valores propios de la matriz Wishart tiende a converger (casi seguro) a la ley de Marcenko-Pastur."
   ]
  },
  {
   "cell_type": "code",
   "execution_count": 380,
   "metadata": {},
   "outputs": [
    {
     "data": {
      "image/png": "[encoded data removed]",
      "text/plain": [
       "<Figure size 432x288 with 2 Axes>"
      ]
     },
     "metadata": {},
     "output_type": "display_data"
    }
   ],
   "source": [
    "plt.subplot(1, 2, 1)\n",
    "plt.hist(final[0], density=True, color=\"r\") \n",
    "plt.plot(lam, Valores[0].flatten(), '--', c=\"black\")\n",
    "plt.title('Simulación distribución de los valores propios n = [30, 300]')\n",
    "plt.ylabel('Valores propios')\n",
    "plt.xlabel('# Valores propios')\n",
    "\n",
    "plt.subplot(1, 2, 2)\n",
    "plt.hist(final[1], density=True, color=\"r\") \n",
    "plt.plot(lam, Valores[1].flatten(), '--', c=\"black\")\n",
    "plt.xlabel('# Valores propios')\n",
    "\n",
    "\n",
    "plt.show()"
   ]
  },
  {
   "cell_type": "markdown",
   "metadata": {},
   "source": [
    "No obstante, el resultado mejoraría si incrementamos el valor de $p$."
   ]
  },
  {
   "cell_type": "markdown",
   "metadata": {},
   "source": [
    "¿Cómo nos ayuda esto para determinar el número de componentes en PCA?\n",
    "\n",
    "Cómo se mencionó en clase, se pretende modelar el ruido que se genera por la naturaleza de la matriz aleatoria y de la finitud de la muestra, esto con el fin de obtener una cota que  indique cuales valore propios son aquellos que aportan más."
   ]
  },
  {
   "cell_type": "markdown",
   "metadata": {},
   "source": [
    "Se utilizan los valores propios que se obtuvieron para el ejercicio 1 con $n=300$, y se trazan los primeros ocho valores propios. Como resultado se observan que caen fuera de la distribución límite y simulada, siendo aquellos que aportan más."
   ]
  },
  {
   "cell_type": "markdown",
   "metadata": {},
   "source": [
    "Nota: por cuestiones de visualización se toman solo ocho, que efectivamente son los que se encuentran más separados de la cota máxima de la distribución; sin embargo; a su vez, los valores porpios que se gráfican como linea vertical son los primeros ochos más grandes (ordenados de forma decendiente)."
   ]
  },
  {
   "cell_type": "code",
   "execution_count": 383,
   "metadata": {},
   "outputs": [
    {
     "data": {
      "text/plain": [
       "<matplotlib.legend.Legend at 0x17dc7a9d160>"
      ]
     },
     "execution_count": 383,
     "metadata": {},
     "output_type": "execute_result"
    },
    {
     "data": {
      "image/png": "[encoded data removed]",
      "text/plain": [
       "<Figure size 432x288 with 1 Axes>"
      ]
     },
     "metadata": {},
     "output_type": "display_data"
    }
   ],
   "source": [
    "colors = ['k', 'r', 'b', 'g','r','c','m','y']\n",
    "\n",
    "plt.hist(final[1], density=True, color=\"r\") \n",
    "for i, c in zip(range(8),colors):\n",
    "    plt.axvline(x=temp[i], c=c, linestyle='--', label=i)\n",
    "plt.plot(lam, Valores[1].flatten(), '--', c=\"black\")\n",
    "plt.xlabel('# Valores propios')\n",
    "plt.legend()"
   ]
  },
  {
   "cell_type": "markdown",
   "metadata": {},
   "source": [
    "En conclusión se toman 8 valores propios, los cuales se apriximan al número de valores que se eligen mediante el *screeplot*"
   ]
  },
  {
   "cell_type": "markdown",
   "metadata": {},
   "source": [
    "## Ejercicio 4"
   ]
  },
  {
   "cell_type": "markdown",
   "metadata": {},
   "source": [
    "* Caso multivariado\n",
    "\n",
    "* Considera la matriz estandarizada Z, compuesta por $p$ series de tiempo de longitud $n$.\n",
    "\n",
    "* La matriz de correlación se define como $C = \\frac{1}{n}ZZ'$\n",
    "\n",
    "* Grafica el mapa de calor para los casos $p = 40$, $n = 10, 1000$\n",
    "\n",
    "* Calcule la media y desviación estandar de los elementos diagonales y no diagonales por separado.\n",
    "\n",
    "* ¿ Qué diferencias encuentra en cada caso?"
   ]
  },
  {
   "cell_type": "markdown",
   "metadata": {},
   "source": [
    "Se tiene que el valor finito de \"n\" produce un *noise dressing* del coeficiente de correlación.\n",
    "\n",
    "De está forma con el heamap se espera que la estructura de correlación tienda a cero conforme \"n\" incrementa.\n"
   ]
  },
  {
   "cell_type": "code",
   "execution_count": 384,
   "metadata": {},
   "outputs": [],
   "source": [
    "from numpy import *\n",
    "\n",
    "p = 40 \n",
    "n = [10,1000] \n",
    "C = []\n",
    "for i in n:\n",
    "    Z = np.random.normal(0, 1, (p,i))\n",
    "    C.append(np.dot(Z,Z.T)/i)\n",
    "\n"
   ]
  },
  {
   "cell_type": "code",
   "execution_count": 385,
   "metadata": {},
   "outputs": [
    {
     "data": {
      "text/plain": [
       "Text(0.5, 1.0, 'n = 1000')"
      ]
     },
     "execution_count": 385,
     "metadata": {},
     "output_type": "execute_result"
    },
    {
     "data": {
      "image/png": "[encoded data removed]",
      "text/plain": [
       "<Figure size 432x288 with 4 Axes>"
      ]
     },
     "metadata": {},
     "output_type": "display_data"
    }
   ],
   "source": [
    "# No normalizada\n",
    "plt.subplot(1, 2, 1)\n",
    "sns.heatmap(C[0]) # no normalizada\n",
    "plt.title('n = 10')\n",
    "plt.subplot(1, 2, 2)\n",
    "sns.heatmap(C[1]) # no  normalizada\n",
    "plt.title('n = 1000')\n"
   ]
  },
  {
   "cell_type": "markdown",
   "metadata": {},
   "source": [
    "En la figura de la izquierda se observa el heatmap de la matriz de correlación cuando el valor de $n = 10$, donde el color rojo indica una correlación positiva, se puede ver que elementos fuera de la diagonal presentanestructura de correlación entre las series de tiempo, debido a la finitud de n. No obstante; al aplicar TLC, conforme n tiende a infinito ($n=100$), el problema de ruido tiende a desaparecer, mostrando que los elementos fuera de la diagonal (la correlación entre series) tiende a cero."
   ]
  },
  {
   "cell_type": "markdown",
   "metadata": {},
   "source": [
    "En términos matemáticos lo que sucede es lo siguiente:\n",
    "\n",
    "$C_{1,2}$ viene de distribución con $\\mu=0$ y $\\sigma=1/\\sqrt(n)$, y conforme $n \\rightarrow \\infty$, $C_{1,2} \\rightarrow 0$"
   ]
  },
  {
   "cell_type": "markdown",
   "metadata": {},
   "source": [
    "* Media y desviación estándar de los elementos de la diagonal"
   ]
  },
  {
   "cell_type": "code",
   "execution_count": 386,
   "metadata": {},
   "outputs": [
    {
     "name": "stdout",
     "output_type": "stream",
     "text": [
      "La media de los elementos diagonales con n =10 -> 1.0809458403258847\n",
      "La sd de los elementos diagonales con n =10 -> 0.5537864809053984\n",
      "\n",
      "La media de los elementos diagonales con n =1000 -> 0.9992729016953212\n",
      "La sd de los elementos diagonales con n =1000: 0.043193128725715145\n"
     ]
    }
   ],
   "source": [
    "print(\"La media de los elementos diagonales con n =10 ->\", np.diag(C[0]).mean())\n",
    "print(\"La sd de los elementos diagonales con n =10 ->\", np.sqrt(np.diag(C[0]).var()))\n",
    "\n",
    "print(\"\\nLa media de los elementos diagonales con n =1000 ->\", np.diag(C[1]).mean())\n",
    "print(\"La sd de los elementos diagonales con n =1000:\", np.sqrt(np.diag(C[1]).var()))"
   ]
  },
  {
   "cell_type": "markdown",
   "metadata": {},
   "source": [
    "Se observa el el valor medio cuando \"n\" incrementa sigue fluctuando sobre el valor de uno, sin embargo, las varianza tiende a disminuir en proporción de uno sobre \"n\""
   ]
  },
  {
   "cell_type": "markdown",
   "metadata": {},
   "source": [
    "* Media y desviación estándar de los elemenntos no diagonales"
   ]
  },
  {
   "cell_type": "code",
   "execution_count": 387,
   "metadata": {},
   "outputs": [
    {
     "name": "stdout",
     "output_type": "stream",
     "text": [
      "La media de los elementos no diagonales con n =10 -> 0.0014898984260084379\n",
      "La sd de los elementos no diagonales con n =10 -> 0.3417992248136044\n",
      "\n",
      "La media de los elementos no diagonales con n =1000 -> -0.00023667763067627878\n",
      "La sd de los elementos no diagonales con n =1000: 0.03212958622916172\n"
     ]
    }
   ],
   "source": [
    "index = ~np.eye(C[0].shape[0],dtype=bool)\n",
    "\n",
    "print(\"La media de los elementos no diagonales con n =10 ->\",C[0][index].mean())\n",
    "print(\"La sd de los elementos no diagonales con n =10 ->\", np.sqrt(C[0][index].var()))\n",
    "\n",
    "print(\"\\nLa media de los elementos no diagonales con n =1000 ->\", C[1][index].mean())\n",
    "print(\"La sd de los elementos no diagonales con n =1000:\", np.sqrt(C[1][index].var()))"
   ]
  },
  {
   "cell_type": "markdown",
   "metadata": {},
   "source": [
    "En el caso de los elementos fuera de la diagonal la media tiende a incrementar conforme \"n\" aumenta, y la desviación estándar reduce al mismo factor que los elementos de la diagonal"
   ]
  }
 ],
 "metadata": {
  "kernelspec": {
   "display_name": "Python 3",
   "language": "python",
   "name": "python3"
  },
  "language_info": {
   "codemirror_mode": {
    "name": "ipython",
    "version": 3
   },
   "file_extension": ".py",
   "mimetype": "text/x-python",
   "name": "python",
   "nbconvert_exporter": "python",
   "pygments_lexer": "ipython3",
   "version": "3.6.8"
  }
 },
 "nbformat": 4,
 "nbformat_minor": 2
}
