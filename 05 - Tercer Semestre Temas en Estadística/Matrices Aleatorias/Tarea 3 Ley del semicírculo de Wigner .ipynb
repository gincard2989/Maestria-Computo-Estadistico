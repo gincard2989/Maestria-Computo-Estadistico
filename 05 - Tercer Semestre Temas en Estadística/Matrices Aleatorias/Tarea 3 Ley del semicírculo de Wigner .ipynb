{
 "cells": [
  {
   "cell_type": "markdown",
   "metadata": {},
   "source": [
    "**Centro de investigación en Matemáticas A.C**\n",
    "\n",
    "**Temas Selectos en Estadística**\n",
    "\n",
    "**Hairo Ulises Miranda Belmonte**\n",
    "\n",
    "**Tarea 3.  Ley del semicírculo de Wigner**\n",
    "\n",
    "**31 de Agosto del 2019**"
   ]
  },
  {
   "cell_type": "markdown",
   "metadata": {},
   "source": [
    "## Ejercicio 1. Densidad espectral promedio y Ley de semícirculo de Wigner\n",
    "\n",
    "Generar $m = 10000$ matrices para las dimensiones $p \\in {10, 100}$, y producir los histogramas normalizados de la muestra completa de $m × p$ valores propios. Para obtener los histogramas normalizados, se deben escalar por el factor $1/\\sqrt(\\beta p)$ donde β = 1, 2, 4, para el caso GOE, GUE, y GSE; respectivamente. Compare con el resultado teórico $\\rho(x) = \\frac{1}{\\pi}\\sqrt(2-x^2)$, llamada ley del semicírculo de Wigner. Se tienen los siguiente resultados análiticos para las cotas del soporte de las distribuciones que generará:"
   ]
  },
  {
   "cell_type": "code",
   "execution_count": 2,
   "metadata": {},
   "outputs": [],
   "source": [
    "import numpy as np\n",
    "import matplotlib.pyplot as plt\n",
    "import seaborn as sns\n",
    "sns.set_style(\"darkgrid\")"
   ]
  },
  {
   "cell_type": "markdown",
   "metadata": {},
   "source": [
    "* Parámetros\n",
    "\n",
    "Se generarán 10000 simulacióne para matrices aleatorias de dimensión 10 y 100, cuyas entradas son variables aleatorias con distribución normal y parámetros $\\mu = 0$ y $\\sigma^2 = 1$."
   ]
  },
  {
   "cell_type": "code",
   "execution_count": 7,
   "metadata": {},
   "outputs": [],
   "source": [
    "m = 10000          # número de simulaciones\n",
    "p = [10,100]       # dimensión de la matriz\n",
    "beta = [1,2,4]     # betas de factor\n",
    "GOE = []\n",
    "GUE= []\n",
    "GSE = []"
   ]
  },
  {
   "cell_type": "markdown",
   "metadata": {},
   "source": [
    "### Ensamble ortogonal gaussiano (GOE)\n",
    "\n",
    "$$H_{ij}\\sim N(0,1)$$\n",
    "\n",
    "$$H = (H + H')/2$$"
   ]
  },
  {
   "cell_type": "markdown",
   "metadata": {},
   "source": [
    "* Funciones auxiliares"
   ]
  },
  {
   "cell_type": "code",
   "execution_count": 8,
   "metadata": {},
   "outputs": [],
   "source": [
    "##############\n",
    "# Funciones \n",
    "##############\n",
    "# x = p\n",
    "matriz = lambda x : np.random.normal(0, 1, (x,x)) # genera matrices aleatorias\n",
    "# x = beta\n",
    "# y = p\n",
    "factor = lambda x, y : 1./(np.sqrt(x*y))          # factor de escalamiento\n",
    "\n",
    "simetrica = lambda x: (x + x.T)/2"
   ]
  },
  {
   "cell_type": "markdown",
   "metadata": {},
   "source": [
    "* Se define la función GEO"
   ]
  },
  {
   "cell_type": "code",
   "execution_count": 6,
   "metadata": {},
   "outputs": [],
   "source": [
    "def goe(m, p): \n",
    "    for i in range(m):\n",
    "            H = matriz(p)\n",
    "            H_sc = simetrica(H)\n",
    "            v, w = np.linalg.eigh(H_sc)\n",
    "            GOE.append(v.tolist())\n",
    "    GOE_eigen = [val for sublist in GOE for val in sublist]\n",
    "    return GOE_eigen"
   ]
  },
  {
   "cell_type": "markdown",
   "metadata": {},
   "source": [
    "* Simulación"
   ]
  },
  {
   "cell_type": "code",
   "execution_count": 7,
   "metadata": {},
   "outputs": [],
   "source": [
    "X1 = []   \n",
    "for j in range(len(p)):\n",
    "    caso_1 = factor(beta[0],p[j])\n",
    "    resultado_goe = goe(m,p[j])\n",
    "    x1 = [resultado_goe[i]*caso_1 for i in range(len(resultado_goe))]\n",
    "    X1.append(x1)"
   ]
  },
  {
   "cell_type": "markdown",
   "metadata": {},
   "source": [
    "* Visualización "
   ]
  },
  {
   "cell_type": "code",
   "execution_count": 16,
   "metadata": {},
   "outputs": [
    {
     "data": {
      "image/png": "[encoded data removed]",
      "text/plain": [
       "<Figure size 432x288 with 2 Axes>"
      ]
     },
     "metadata": {
      "needs_background": "light"
     },
     "output_type": "display_data"
    }
   ],
   "source": [
    "plt.subplot(1, 2, 1)\n",
    "plt.hist(X1[0], density=True, color=\"b\") \n",
    "plt.title('GOE: Densidad espectral promedio')\n",
    "plt.ylabel(r'$\\rho(x)$')\n",
    "plt.xlabel('x')\n",
    "\n",
    "plt.subplot(1, 2, 2)\n",
    "plt.hist(X1[1], density=True, color=\"b\")\n",
    "plt.xlabel('x')\n",
    "\n",
    "\n",
    "plt.show()\n"
   ]
  },
  {
   "cell_type": "markdown",
   "metadata": {},
   "source": [
    "Se puede apreciar la simetría de la distribución, indicando que la mitad de los valores propios de la matriz son positivos, la otra mitad negativos.\n"
   ]
  },
  {
   "cell_type": "markdown",
   "metadata": {},
   "source": [
    "### Ensamble unitario gaussiano (GUE)\n",
    "\n",
    "Elementos Reales en la diagonal y complejos todos los demás, al convertirla en simétrica. Se genra una matríz aleatoria hermitiana $H$, cuya parte real proviene de variables aleatorias normales con $\\mu=0$ y $\\sigma^2=1$. Se simetriza de la forma:\n",
    "\n",
    "$$H = ( H + H^\\dagger )/2$$\n",
    "\n",
    "$H^\\dagger$: transpuesta conjugada de matriz compleja"
   ]
  },
  {
   "cell_type": "markdown",
   "metadata": {},
   "source": [
    "* Funciones auxiliares"
   ]
  },
  {
   "cell_type": "code",
   "execution_count": 10,
   "metadata": {},
   "outputs": [],
   "source": [
    "def matriz_hermitiana(p):\n",
    "    x = np.matrix(matriz(p))\n",
    "    z = x - 1j*x\n",
    "    Hsc_hermitiana = (z + z.getH())/2\n",
    "    return Hsc_hermitiana\n",
    "\n",
    "def gue(m, p): \n",
    "    for i in range(m):\n",
    "            H_sc = matriz_hermitiana(p)\n",
    "            v, w = np.linalg.eigh(H_sc)\n",
    "            GUE.append(v.tolist())\n",
    "    GUE_eigen = [val for sublist in GUE for val in sublist]\n",
    "    return GUE_eigen"
   ]
  },
  {
   "cell_type": "markdown",
   "metadata": {},
   "source": [
    "* Simulación"
   ]
  },
  {
   "cell_type": "code",
   "execution_count": 11,
   "metadata": {},
   "outputs": [],
   "source": [
    "X2 = []   \n",
    "for j in range(len(p)):\n",
    "    caso_2 = factor(beta[1],p[j])\n",
    "    resultado_gue = gue(m,p[j])\n",
    "    x2 = [resultado_gue[i]*caso_2 for i in range(len(resultado_gue))]\n",
    "    X2.append(x2)"
   ]
  },
  {
   "cell_type": "markdown",
   "metadata": {},
   "source": [
    "* Visualización"
   ]
  },
  {
   "cell_type": "code",
   "execution_count": 14,
   "metadata": {},
   "outputs": [
    {
     "data": {
      "image/png": "[encoded data removed]",
      "text/plain": [
       "<Figure size 432x288 with 2 Axes>"
      ]
     },
     "metadata": {
      "needs_background": "light"
     },
     "output_type": "display_data"
    }
   ],
   "source": [
    "plt.subplot(1, 2, 1)\n",
    "plt.hist(X2[0], density=True, color=\"r\") \n",
    "plt.title('GUE : Densidad espectral promedio')\n",
    "plt.ylabel(r'$\\rho(x)$')\n",
    "plt.xlabel('x')\n",
    "\n",
    "plt.subplot(1, 2, 2)\n",
    "plt.hist(X2[1], density=True, color=\"r\")\n",
    "plt.xlabel('x')\n",
    "\n",
    "\n",
    "plt.show()"
   ]
  },
  {
   "cell_type": "markdown",
   "metadata": {},
   "source": [
    "Vemos que se aproxima al ensamble ortogonal gaussiano (GOE)."
   ]
  },
  {
   "cell_type": "markdown",
   "metadata": {},
   "source": [
    "### Ensemble simpletico gaussiano (GSE).\n",
    "\n",
    "$$\n",
    "H_{2px2p}=\\left(\\begin{array}{cc} \n",
    "X & Y\\\\\n",
    "-Y^* & X^*\n",
    "\\end{array}\\right)\n",
    "$$ \n",
    "\n",
    "$X$: matriz de elementos complejos, cuyas partes reales son v.a. con distribución normal $\\mu=0$ y $\\sigma^2=1$\n",
    "\n",
    "$Y$: matriz de elementos complejos, cuyas partes reales son v.a. con distribución normal $\\mu=0$ y $\\sigma^2=1$\n",
    "\n",
    "$Y^*$: matriz conjugada de Y\n",
    "\n",
    "$X^*$: matriz conjugada de X\n",
    "\n",
    "* Simetrización\n",
    "\n",
    "$$H = (H + H')/2$$"
   ]
  },
  {
   "cell_type": "markdown",
   "metadata": {},
   "source": [
    "* Funciones auxiliares"
   ]
  },
  {
   "cell_type": "code",
   "execution_count": 17,
   "metadata": {},
   "outputs": [],
   "source": [
    "def matriz_simplectica(p):\n",
    "    x = np.matrix(matriz(p)) - 1j*np.matrix(matriz(p))\n",
    "    y = np.matrix(matriz(p)) - 1j*np.matrix(matriz(p))\n",
    "    x_conj = np.conj(x)\n",
    "    y_conj = np.conj(y)\n",
    "    H = np.block([[x, y], [-y_conj, x_conj]]) # matriz por bloques\n",
    "    return (H + H.T)/2\n",
    "\n",
    "def gse(m, p): \n",
    "    for i in range(m):\n",
    "            H_sc = matriz_simplectica(p)\n",
    "            v, w = np.linalg.eigh(H_sc)\n",
    "            GSE.append(v.tolist())\n",
    "    GSE_eigen = [val for sublist in GSE for val in sublist]\n",
    "    return GSE_eigen"
   ]
  },
  {
   "cell_type": "markdown",
   "metadata": {},
   "source": [
    "* Simulación"
   ]
  },
  {
   "cell_type": "code",
   "execution_count": 19,
   "metadata": {},
   "outputs": [],
   "source": [
    "X3 = []   \n",
    "for j in range(len(p)):\n",
    "    caso_3 = factor(beta[2],p[j])\n",
    "    resultado_gse = gse(m,p[j])\n",
    "    x3 = [resultado_gse[i]*caso_3 for i in range(len(resultado_gse))]\n",
    "    X3.append(x3)"
   ]
  },
  {
   "cell_type": "markdown",
   "metadata": {},
   "source": [
    "* Visualización"
   ]
  },
  {
   "cell_type": "code",
   "execution_count": 20,
   "metadata": {},
   "outputs": [
    {
     "data": {
      "image/png": "[encoded data removed]",
      "text/plain": [
       "<Figure size 432x288 with 2 Axes>"
      ]
     },
     "metadata": {
      "needs_background": "light"
     },
     "output_type": "display_data"
    }
   ],
   "source": [
    "plt.subplot(1, 2, 1)\n",
    "plt.hist(X3[0], density=True, color=\"g\") \n",
    "plt.title('Densidad espectral promedio')\n",
    "plt.ylabel(r'$\\rho(x)$')\n",
    "plt.xlabel('x')\n",
    "\n",
    "plt.subplot(1, 2, 2)\n",
    "plt.hist(X3[1], density=True, color=\"g\")\n",
    "plt.xlabel('x')\n",
    "\n",
    "plt.show()"
   ]
  },
  {
   "cell_type": "markdown",
   "metadata": {},
   "source": [
    "Con el ensamble GSE, al tener una dimensión pequeña se observa que sus valores propios, una vez simetrizada, son menores respecto a los ensambles GOE y GUE."
   ]
  },
  {
   "cell_type": "markdown",
   "metadata": {},
   "source": [
    "### Resultado teórico Ley del semicírculo de Wigner"
   ]
  },
  {
   "cell_type": "markdown",
   "metadata": {},
   "source": [
    "* Función\n",
    "\n",
    "$$\\rho(\\lambda)=\\frac{1}{\\pi}\\sqrt(2-x^2)$$"
   ]
  },
  {
   "cell_type": "code",
   "execution_count": 3,
   "metadata": {},
   "outputs": [],
   "source": [
    "grid = np.linspace(-1.4,1.4,100)\n",
    "X4 = []\n",
    "for i in range(len(grid)):\n",
    "    X4.append((1/np.pi)*np.sqrt(2-grid[i]**2))"
   ]
  },
  {
   "cell_type": "markdown",
   "metadata": {},
   "source": [
    "* Visualización"
   ]
  },
  {
   "cell_type": "code",
   "execution_count": 4,
   "metadata": {},
   "outputs": [
    {
     "data": {
      "image/png": "[encoded data removed]",
      "text/plain": [
       "<Figure size 432x288 with 1 Axes>"
      ]
     },
     "metadata": {
      "needs_background": "light"
     },
     "output_type": "display_data"
    }
   ],
   "source": [
    "plt.plot(grid, X4)\n",
    "plt.title('Ley del semicírculo de Wigner')\n",
    "plt.ylabel(r'$\\rho(x)$')\n",
    "plt.xlabel('x')\n",
    "plt.show()"
   ]
  },
  {
   "cell_type": "markdown",
   "metadata": {},
   "source": [
    "Se observa el semicírculo de la densidad espectral."
   ]
  },
  {
   "cell_type": "markdown",
   "metadata": {},
   "source": [
    "* **Visualización GOE, GUE, GSE y Wigner**"
   ]
  },
  {
   "cell_type": "markdown",
   "metadata": {},
   "source": [
    "Tamaño de la matrices p = 10\n"
   ]
  },
  {
   "cell_type": "code",
   "execution_count": 134,
   "metadata": {},
   "outputs": [
    {
     "data": {
      "image/png": "[encoded data removed]",
      "text/plain": [
       "<Figure size 432x288 with 1 Axes>"
      ]
     },
     "metadata": {
      "needs_background": "light"
     },
     "output_type": "display_data"
    }
   ],
   "source": [
    "plt.hist(X1[0], density=True, histtype='step', label=\"GOE\")\n",
    "plt.hist(X2[0], density=True, histtype='step', label=\"GUE\")\n",
    "plt.hist(X3[0], density=True, histtype='step', label=\"GSE\")\n",
    "plt.plot(grid, X4,  \"--\" , label=\"semicírculo\")\n",
    "plt.ylabel(r'$\\rho(x)$')\n",
    "plt.xlabel('x')\n",
    "plt.legend()\n",
    "plt.show()"
   ]
  },
  {
   "cell_type": "markdown",
   "metadata": {},
   "source": [
    "Se observa que las distribuciones que más se acercan a la ley de semicirculo de Wigner, son  la GUE y GOE. El ensamble GSE se encuentra lejos de tener distribución aproximada de semicírculo.\n"
   ]
  },
  {
   "cell_type": "markdown",
   "metadata": {},
   "source": [
    "Tamaño de las matrices p = 1000"
   ]
  },
  {
   "cell_type": "code",
   "execution_count": 132,
   "metadata": {},
   "outputs": [
    {
     "data": {
      "image/png": "[encoded data removed]",
      "text/plain": [
       "<Figure size 432x288 with 1 Axes>"
      ]
     },
     "metadata": {
      "needs_background": "light"
     },
     "output_type": "display_data"
    }
   ],
   "source": [
    "plt.hist(X1[1], density=True, histtype='step', label=\"GOE\")\n",
    "plt.hist(X2[1], density=True, histtype='step', label=\"GUE\")\n",
    "plt.hist(X3[1], density=True, histtype='step', label=\"GSE\")\n",
    "plt.plot(grid, X4,  \"--\" , label=\"semicirculo\")\n",
    "plt.ylabel(r'$\\rho(x)$')\n",
    "plt.xlabel('x')\n",
    "plt.legend()\n",
    "plt.show()"
   ]
  },
  {
   "cell_type": "markdown",
   "metadata": {},
   "source": [
    "Incrementando la dimensión de la matriz, se genera un número mayor por simulación de valores propios, que a lo visto arpoximan mejor a la distribución del semicírculo."
   ]
  },
  {
   "cell_type": "markdown",
   "metadata": {},
   "source": [
    "**¿Es posible calcular análiticamente la forma de estos histogramas?**\n",
    "\n",
    "* Sí, utilizando una p (dimension de la matriz aleatoria) finita se puede obtener la función de distribución que genera la forma de los histogramas.\n",
    "\n",
    "**¿Qué pasa si p se vuelve muy grande?**\n",
    "\n",
    "* Con estos dos ejemplos se observa que conforme incrementa la dimensión de la matrix, i.e., \"p\" crece, el histograma se aproxima a la forma de la ley del semicirculo de Wingner.\n",
    "\n",
    "Nota: No se realizar un ejemplo para \"p\" mayor a cien por problemas de procesamiento; no obstantem con $p=100$, se aprecia la tendencia a aproximarce a la ley del semicírculo."
   ]
  },
  {
   "cell_type": "markdown",
   "metadata": {},
   "source": [
    " "
   ]
  },
  {
   "cell_type": "markdown",
   "metadata": {},
   "source": [
    "## Ejercicio 2. Conjetura de Wigner"
   ]
  },
  {
   "cell_type": "markdown",
   "metadata": {},
   "source": [
    "Graficar la distribución de espaciamiento contiguos (ordenando los eigenvalores) para un ensemble de $m = 1000$ matrices simétricas de dimensión $100 × 100$ ($H_{s100×100}$ ).\n",
    "\n",
    "Sobreponer a la simulación el resultado de la conjetura de Wigner para una\n",
    "matriz del GOE de $2 × 2$ (obtenido en clase). ¿Existe concordancia aún y cuando el desarrollo analítico fue hecho para p = 2 ¿Cómo la mediría?"
   ]
  },
  {
   "cell_type": "markdown",
   "metadata": {},
   "source": [
    "$$̄p(s) = \\hat s p(\\hat s s),$$\n",
    "\n",
    "Se le conoce como espaciamiento promedio de niveles. \n",
    "\n",
    "Para el caso GOE se tiene que:\n",
    "\n",
    "$$\\bar p(s) = \\frac{\\pi s}{2}e^{\\frac{-\\pi s^2}{4}}$$"
   ]
  },
  {
   "cell_type": "markdown",
   "metadata": {},
   "source": [
    "* Función\n",
    "\n",
    "Genera una matriz aleatoria con elementos que se distribuyen normal con media cero y varianza de uno. Se simetriza, y toman sus valore propios. Se ordenan los valore propios y se resta el valor más alto respecto al que le sigue, en una ventana movil de espacio uno."
   ]
  },
  {
   "cell_type": "code",
   "execution_count": 13,
   "metadata": {},
   "outputs": [],
   "source": [
    "def S(m, p): \n",
    "    X = []\n",
    "    for i in range(m):\n",
    "            H = np.random.normal(0, 1, (p,p))   # Generar matrix aleatoria\n",
    "            H_sc = simetrica(H)                 # Simetrizando\n",
    "            v, w = np.linalg.eigh(H_sc)         # Valores propios de la matriz simétrica\n",
    "            eigen = np.sort(v)[::-1]            # ordenar de mayoe a menor\n",
    "            s = []    \n",
    "            for j in range(1, len(eigen)):\n",
    "                value =  eigen[j - 1] - eigen[j] # Diferencia (espacions contiguos)\n",
    "                s.append(value)\n",
    "            X.append(s)\n",
    "    X_eigen = [val for sublist in X for val in sublist]\n",
    "    return X_eigen\n"
   ]
  },
  {
   "cell_type": "markdown",
   "metadata": {},
   "source": [
    "* Simulación"
   ]
  },
  {
   "cell_type": "code",
   "execution_count": 34,
   "metadata": {},
   "outputs": [],
   "source": [
    "m = 1000 # simulaciones\n",
    "p = 100  # dimensión de la matriz\n",
    "S_simulacion = S(m,p)\n"
   ]
  },
  {
   "cell_type": "markdown",
   "metadata": {},
   "source": [
    "* Visualización"
   ]
  },
  {
   "cell_type": "code",
   "execution_count": 35,
   "metadata": {},
   "outputs": [
    {
     "data": {
      "image/png": "[encoded data removed]",
      "text/plain": [
       "<Figure size 432x288 with 1 Axes>"
      ]
     },
     "metadata": {
      "needs_background": "light"
     },
     "output_type": "display_data"
    }
   ],
   "source": [
    "plt.hist(S_simulacion, density=True, color = \"r\")\n",
    "plt.title(\"Distribución de espaciamiento contiguos; s\")\n",
    "plt.ylabel(r'$\\rho(s)$')\n",
    "plt.xlabel('s')\n",
    "plt.show()"
   ]
  },
  {
   "cell_type": "markdown",
   "metadata": {},
   "source": [
    "Se presenta el resultad de la simulación con p=100. Cabe resaltar que los valores exceden a un intervalo de cero a dos de $\\rho(s)$."
   ]
  },
  {
   "cell_type": "markdown",
   "metadata": {},
   "source": [
    "* Conjetura de Wigner para una matriz del GOE de $2 × 2$"
   ]
  },
  {
   "cell_type": "markdown",
   "metadata": {},
   "source": [
    "Se genera la conjetura de Wigner conforme la demostración en clase. La conjetura de Wigner teórica es:"
   ]
  },
  {
   "cell_type": "code",
   "execution_count": 36,
   "metadata": {},
   "outputs": [],
   "source": [
    "W = []\n",
    "s = np.linspace(0,4,1000)\n",
    "for i in range(len(s)): \n",
    "    W.append(((np.pi*s[i])/2)*np.exp((-np.pi*s[i]**2)/4))"
   ]
  },
  {
   "cell_type": "markdown",
   "metadata": {},
   "source": [
    "* Visualización"
   ]
  },
  {
   "cell_type": "code",
   "execution_count": 37,
   "metadata": {},
   "outputs": [
    {
     "data": {
      "image/png": "[encoded data removed]",
      "text/plain": [
       "<Figure size 432x288 with 1 Axes>"
      ]
     },
     "metadata": {
      "needs_background": "light"
     },
     "output_type": "display_data"
    }
   ],
   "source": [
    "plt.plot(s, W,  \"--\", color = \"black\")\n",
    "plt.title(\"Conjetura de  Wigner\")\n",
    "plt.ylabel(r'$\\rho(s)$')\n",
    "plt.xlabel('s')\n",
    "plt.show()"
   ]
  },
  {
   "cell_type": "markdown",
   "metadata": {},
   "source": [
    "* Simulación y Conjetura de Wigner"
   ]
  },
  {
   "cell_type": "markdown",
   "metadata": {},
   "source": [
    "Se agruega el valor teórico a la simulación"
   ]
  },
  {
   "cell_type": "code",
   "execution_count": 38,
   "metadata": {},
   "outputs": [
    {
     "data": {
      "image/png": "[encoded data removed]",
      "text/plain": [
       "<Figure size 432x288 with 1 Axes>"
      ]
     },
     "metadata": {
      "needs_background": "light"
     },
     "output_type": "display_data"
    }
   ],
   "source": [
    "plt.hist(S_simulacion, density=True, label =\"simulacion\", color =\"red\")\n",
    "plt.plot(s, W,  \"--\", label = \"semicirculo Wigner\", color = \"black\")\n",
    "plt.title(\"Semicirculo Wigner Y Simulación p = 100\")\n",
    "plt.ylabel(r'$\\rho(s)$')\n",
    "plt.xlabel('s')\n",
    "plt.legend()\n",
    "plt.show()"
   ]
  },
  {
   "cell_type": "markdown",
   "metadata": {},
   "source": [
    "Se puede observar que con p = 100, la simulación no se aproxima a la generalización descrita para p = 2."
   ]
  },
  {
   "cell_type": "markdown",
   "metadata": {},
   "source": [
    "* Se reduce \"p\" a dimensión $8x8$"
   ]
  },
  {
   "cell_type": "code",
   "execution_count": 39,
   "metadata": {},
   "outputs": [
    {
     "data": {
      "image/png": "[encoded data removed]",
      "text/plain": [
       "<Figure size 432x288 with 1 Axes>"
      ]
     },
     "metadata": {
      "needs_background": "light"
     },
     "output_type": "display_data"
    }
   ],
   "source": [
    "m = 1000\n",
    "p = 8\n",
    "S_simulacion = S(m,p)\n",
    "\n",
    "plt.hist(S_simulacion, density=True, label =\"simulacion\", color =\"r\")\n",
    "plt.plot(s, W, \"--\", label = \"semicirculo Wigner\", color =\"black\")\n",
    "plt.title(\"Conjetura de Wigner p = 8\")\n",
    "plt.ylabel(r'$\\rho(s)$')\n",
    "plt.xlabel('s')\n",
    "plt.legend()\n",
    "plt.show()"
   ]
  },
  {
   "cell_type": "markdown",
   "metadata": {},
   "source": [
    "Reduciendo la dimensión en las matrices aleatorias que se generan en la simulación, se observa que con $p=8$, la distribución se aproxima a la ley de semicírculo de Wigner.\n",
    "\n",
    "Tener una distancia entre los valore propios que sea pequeña, nos indica que la probabilidad de que dos valores propios se encuente cerca es practicamente cero"
   ]
  }
 ],
 "metadata": {
  "kernelspec": {
   "display_name": "Python 3",
   "language": "python",
   "name": "python3"
  },
  "language_info": {
   "codemirror_mode": {
    "name": "ipython",
    "version": 3
   },
   "file_extension": ".py",
   "mimetype": "text/x-python",
   "name": "python",
   "nbconvert_exporter": "python",
   "pygments_lexer": "ipython3",
   "version": "3.6.8"
  }
 },
 "nbformat": 4,
 "nbformat_minor": 2
}
