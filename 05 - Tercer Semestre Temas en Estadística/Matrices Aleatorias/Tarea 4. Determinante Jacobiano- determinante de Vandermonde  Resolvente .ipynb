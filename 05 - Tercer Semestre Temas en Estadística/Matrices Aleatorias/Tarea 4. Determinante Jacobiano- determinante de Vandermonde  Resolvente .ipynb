{
 "cells": [
  {
   "cell_type": "markdown",
   "metadata": {},
   "source": [
    "**Centro de investigación en Matemáticas A.C**\n",
    "\n",
    "**Temas Selectos en Estadística**\n",
    "\n",
    "**Hairo Ulises Miranda Belmonte**\n",
    "\n",
    "**Tarea 4.  Diferencias finitas: Determinante Jacobiano- determinante de Vandermonde // Resolvente caso límite pdf espectral**\n",
    "\n",
    "**07 de Septiembre del 2019**"
   ]
  },
  {
   "cell_type": "markdown",
   "metadata": {},
   "source": [
    "## Ejercicio 1. Determinante Jacobiano - Determinante de Vandermonde"
   ]
  },
  {
   "cell_type": "markdown",
   "metadata": {},
   "source": [
    "Considere la descomposición espectral $H=OXO'$, donde $H$ es una matriz simétrica de dimensión $n x n$, $O$ es la matriz ortogonal que contiene los eigenvectores de H, y X es una matriz diagona que contiene sus eigenvalores.\n",
    "\n",
    "Los diferenciales de $H$ se pueden exprezar como:\n",
    "\n",
    "$$dH=\\Pi_{i<j}|\\lambda_i-\\lambda_j|(dX)(O'dO)$$\n",
    "\n",
    "\n",
    "Númericamente, las perturbaciones en $X$ y $O$ se calculan a trevés de las\n",
    "perturbaciones en $H$. Como analistas nnuméricos siempre pensamos en $H$ como la entrada, y en ${X;O}$ como la salidas, por lo que es natural hacerse\n",
    "preguntas en esa dirección. Asumiendo que la descomposición espectral es\n",
    "única después de fijar la fase de las columnas de $O$, la perturbación a primer orden en ${X;O}$ debido a la perturbación en $H$ está dada por:\n",
    "\n",
    "\n",
    "$$\\frac{(dX)(O'dO)}{dH}=\\frac{1}{\\Pi_{i<j}|\\lambda_i-\\lambda_j|}=\\frac{1}{\\Delta(X)}$$\n",
    "\n",
    "\n",
    "donde $\\Delta(X)$ es el valor absoluto del determinante de Vandermonde"
   ]
  },
  {
   "cell_type": "markdown",
   "metadata": {},
   "source": [
    "Basandose en la expresión anterior, escriba un código para obtener\n",
    "numéricamente el jacobiano, y compare el resultado con el valor exacto al\n",
    "calcular el determinante de Vandermonde para una matriz fija de dimensión\n",
    "$10 x 10$ de tal manera que el error relativo sea menor a $10^{-3}$ Se recomienda seguir los siguientes pasos:"
   ]
  },
  {
   "cell_type": "markdown",
   "metadata": {},
   "source": [
    "(i) Construya una matriz simérica: $H$.\n",
    "\n",
    "(ii) Obtenga los valores y vectores propios de la matriz construida: ${X;O}$.\n",
    "\n",
    "(iii) Determine la dimensión de la matriz jacobiana: $n(n + 1)=2 x n(n + 1)=2$.\n",
    "\n",
    "(iv) De manera iterativa realizar los siguientes pasos:\n",
    "\n",
    "* Genera una perturbación $\\epsilon$ en el elemento $i,j$ de la matriz $H$:\n",
    "$H' = H + \\epsilon E$\n",
    "\n",
    "* Obtener los valores y vectores propios de $H':{X', O'}$\n",
    "\n",
    "* Calcular los valores propios perturbados: $dX = (X - x')/\\epsilon$\n",
    "\n",
    "* Calcular los vectores propios perturbados:$=O^TdO = O^T(O'-O)/ \\epsilon$\n",
    "\n",
    "(v) Llenar las primeras $n$ columnas de la matriz jacobiana con $dX$, y las\n",
    "restantes con $O^TdO$.\n",
    "\n",
    "(vi) Calcular el valor absoluto de la matriz jacobiana resultante y comparar el resultado con el valor del determinante de Vandermonde de $H$.\n",
    "\n",
    "(vii) Asegurarse que el error relativo sea menor a $10^{-3}$."
   ]
  },
  {
   "cell_type": "markdown",
   "metadata": {},
   "source": [
    " \n",
    " "
   ]
  },
  {
   "cell_type": "code",
   "execution_count": 1,
   "metadata": {},
   "outputs": [],
   "source": [
    "import numpy as np # importar numpy"
   ]
  },
  {
   "cell_type": "markdown",
   "metadata": {},
   "source": [
    "Se define la siguiente función para resover el jacobiano numéricamente a través de diferencias finitas:\n",
    "\n",
    "+ Se genera una matriz cuadrada aleatoria, sea $X$ con elementos que se distribuyen $X\\sim N(0,1)$, de tamaño $N = 10$"
   ]
  },
  {
   "cell_type": "code",
   "execution_count": 7,
   "metadata": {},
   "outputs": [],
   "source": [
    "np.random.seed(16)\n",
    "n=10 # tamaño de la matriz\n",
    "X = np.random.normal(0,1, (n,n))  # se genera matriz 10 x 10 "
   ]
  },
  {
   "cell_type": "markdown",
   "metadata": {},
   "source": [
    "* Se simetriza la matriz aleatoria de la forma:\n",
    "\n",
    "$$A = \\frac{X + X'}{n}$$"
   ]
  },
  {
   "cell_type": "code",
   "execution_count": 8,
   "metadata": {},
   "outputs": [],
   "source": [
    "A = (X + X.T)/n # matriz simetrica"
   ]
  },
  {
   "cell_type": "markdown",
   "metadata": {},
   "source": [
    "* Se calcula la transformación de similaridad (i.e., la descomposición espectral por medio de sus valore y vectores propios)\n",
    "\n",
    "$$A = LQL'$$\n",
    "\n",
    "$L$: valores propios\n",
    "\n",
    "$Q$: vectores propios"
   ]
  },
  {
   "cell_type": "code",
   "execution_count": 10,
   "metadata": {},
   "outputs": [],
   "source": [
    "L, Q = np.linalg.eig(A) # valores y vectores propios\n",
    "L = np.diag(L) # introducimos valores propios en una matriz "
   ]
  },
  {
   "cell_type": "markdown",
   "metadata": {},
   "source": [
    "* Se genera el espacio de memoria para almacenar a los elementos de la matriz jacobiana de tamaño:\n",
    "\n",
    "$$J_{\\frac{n(n+1)}{2} x \\frac{n(n+1)}{2}}$$\n",
    "\n",
    "en este caso se tiene:\n",
    "\n",
    "$$\\frac{n(n+1)}{2} = \\frac{10(10+1)}{2}=55$$\n"
   ]
  },
  {
   "cell_type": "code",
   "execution_count": 13,
   "metadata": {},
   "outputs": [
    {
     "data": {
      "text/plain": [
       "(55, 55)"
      ]
     },
     "execution_count": 13,
     "metadata": {},
     "output_type": "execute_result"
    }
   ],
   "source": [
    "JacMatrix = np.zeros((int(n*(n+1)/2),int(n*(n+1)/2))) # inicializa matriz jacobiana\n",
    "JacMatrix.shape"
   ]
  },
  {
   "cell_type": "markdown",
   "metadata": {},
   "source": [
    "* se declara un valor $\\epsilon$ pequeño con $\\epsilon>0$"
   ]
  },
  {
   "cell_type": "code",
   "execution_count": 15,
   "metadata": {},
   "outputs": [],
   "source": [
    "epsilon=1e-7"
   ]
  },
  {
   "cell_type": "markdown",
   "metadata": {},
   "source": [
    "* Se realiza la iteración para calcular las perturbaciones y con ello el jacobiano por medio de diferencias finitas"
   ]
  },
  {
   "cell_type": "code",
   "execution_count": null,
   "metadata": {},
   "outputs": [],
   "source": [
    "idx = 0 # índice que recorre columnas del jacobiano\n",
    "mask = np.triu(np.ones(n, dtype = bool),1) # mascara que filtra elementos de la parte triangular superior\n",
    "\n",
    "for i in range(0,n): \n",
    "    for j in range(i,n):\n",
    "        Eij = np.zeros((n,n)) # inizializa perturbación\n",
    "        Eij[i,j] = 1  # matriz perturbada\n",
    "        Eij[j,i] = 1 # matriz perturbada\n",
    "        Ap = A + epsilon*Eij # matriz ya perturbada\n",
    "        #  Valores y vectores propios perturbados\n",
    "        Lp, Qp = np.linalg.eig(Ap)\n",
    "        dL= (np.diag(Lp)-L)/epsilon # Valor propio perturbado\n",
    "        QdQ = Q.T@(Qp-Q)/epsilon # Vector propio perturbado\n",
    "        # Matriz Jacobiana:\n",
    "        \n",
    "            # Guardando las primeras n columnas de la matriz\n",
    "            # jacobiana con dX\n",
    "        JacMatrix[0:n,idx]= np.diag(dL) # Valor propio parte del jacobiano\n",
    "        \n",
    "            # Guardando las n+q restantes columndad con OtdO\n",
    "            \n",
    "        JacMatrix[n:, idx] = QdQ[mask] # Vectores propios parte de  Jacobiano\n",
    "        idx=idx+1 # incrementa el númmero de la columna\n"
   ]
  },
  {
   "cell_type": "markdown",
   "metadata": {},
   "source": [
    "* valor absoluto del determinante de la Matriz Jacobiana\n",
    "\n",
    "$$|det(J)| = \\frac{(dX)(O'dO)}{dH}=\\frac{1}{\\Pi_{i<j}|\\lambda_i-\\lambda_j|}$$\n",
    "\n"
   ]
  },
  {
   "cell_type": "code",
   "execution_count": 20,
   "metadata": {},
   "outputs": [],
   "source": [
    "J = np.abs(np.linalg.det(JacMatrix))"
   ]
  },
  {
   "cell_type": "markdown",
   "metadata": {},
   "source": [
    "* Calculamos matriz Vandermont"
   ]
  },
  {
   "cell_type": "code",
   "execution_count": 23,
   "metadata": {},
   "outputs": [],
   "source": [
    "Vandermont = np.vander(np.diag(L))"
   ]
  },
  {
   "cell_type": "markdown",
   "metadata": {},
   "source": [
    "* Tomamos el absoluto del determinante de la matriz de vander, y realizamos uno sobre lo anterior:\n",
    "\n",
    "$$\\frac{1}{\\Delta(X)}$$\n",
    "\n",
    "$X$: valore spropios de la matriz aleatoria simetrizada"
   ]
  },
  {
   "cell_type": "code",
   "execution_count": null,
   "metadata": {},
   "outputs": [],
   "source": [
    "det_Vandermont = 1/np.abs(np.linalg.det(Vandermont))"
   ]
  },
  {
   "cell_type": "markdown",
   "metadata": {},
   "source": [
    "Comparando los resultados debemos tener buena aproximación de:\n",
    "\n",
    "$$\\frac{(dX)(O'dO)}{dH}=\\frac{1}{\\Pi_{i<j}|\\lambda_i-\\lambda_j|}=\\frac{1}{\\Delta(X)}$$\n"
   ]
  },
  {
   "cell_type": "code",
   "execution_count": 26,
   "metadata": {},
   "outputs": [
    {
     "name": "stdout",
     "output_type": "stream",
     "text": [
      "Diferencias finitas 434082972123294.8\n",
      "Vandemont 434082982495145.4\n"
     ]
    }
   ],
   "source": [
    "print(\"Diferencias finitas\", J)\n",
    "print(\"Vandemont\", det_Vandermont)\n",
    "\n"
   ]
  },
  {
   "cell_type": "markdown",
   "metadata": {},
   "source": [
    "* Asegurando que el error relativo sea menor a $10^{-3}$"
   ]
  },
  {
   "cell_type": "code",
   "execution_count": 31,
   "metadata": {},
   "outputs": [
    {
     "name": "stdout",
     "output_type": "stream",
     "text": [
      "El error relativo es de :  2.389370461583574e-08 ¿Es menor que 10 a la menos tres? R = True\n"
     ]
    }
   ],
   "source": [
    "error_relativo = np.abs((J - det_Vandermont) / np.abs(det_Vandermont))\n",
    "print(\"El error relativo es de : \", error_relativo, \"¿Es menor que 10 a la menos tres? R =\", \n",
    "      error_relativo<10**(-3))\n"
   ]
  },
  {
   "cell_type": "markdown",
   "metadata": {},
   "source": [
    "**Conclusión :**\n",
    "\n",
    "* Se tiene que la \"repulsión\" se escribe como el determinante de Vandermonde \n",
    "\n",
    "* Las diferencias de la matriz A simetrica, es relativa a la diferencia de A simetrica perturbada via una transformación ortogonal, con sus respectivos valores y vectores propios perturbados.\n",
    "\n",
    "* Se encuentra que el error relativo del valor absoluto del determinante del jacobiano, el cual se calculó por medio de diferencias finitas, es menor que uno sobre el valor absoluto del determinante de la matriz de vandermont cuya entrada fueron los valores propios de la matriz aleatoria simetrizada, esto en un valor menor a $10^{-3}$."
   ]
  },
  {
   "cell_type": "markdown",
   "metadata": {},
   "source": [
    "**Referencia :** \n",
    "\n",
    "* Edelman, A., & Rao, N. R. (2005). Random matrix theory. Acta Numerica, 14, 233–297. doi:10.1017/s0962492904000236 "
   ]
  },
  {
   "cell_type": "markdown",
   "metadata": {},
   "source": [
    "## Ejercicio 2. Resolvente: comprobación del resultado"
   ]
  },
  {
   "cell_type": "markdown",
   "metadata": {},
   "source": [
    "Para comprobar que la solución es consistente insertemos la fórmula del\n",
    "semicírculo\n",
    "\n",
    "$$\\rho(\\lambda) = \\frac{1}{\\pi}\\sqrt(2-\\lambda^2)$$\n",
    "\n",
    "en la definición del resolvente\n",
    "\n",
    "$$G^{av}_{\\infty}=\\int dx'\\frac{\\rho(\\lambda)}{z-\\lambda'}$$\n",
    "\n",
    "y realice la integración númerica para $z = \\lambda - i\\epsilon$, con $\\epsilon > 0$, separando los casos:\n",
    "\n",
    "i) $0 < \\lambda < \\sqrt(2)$\n",
    "\n",
    "ii) $-\\sqrt(2) < \\lambda < 0$\n",
    "\n",
    "Compare los resultados con la expresión dada por \n",
    "\n",
    "$$G^{av}_{\\infty} = z \\pm \\sqrt(z^2 - 2)$$\n",
    "\n",
    "para 10 elecciones distintas de z. El ejercicio se evalúa como correcto si el error relativo porcentual promedio es menor al $1\\%0$."
   ]
  },
  {
   "cell_type": "code",
   "execution_count": 32,
   "metadata": {},
   "outputs": [],
   "source": [
    "from scipy import integrate # evalua integrales"
   ]
  },
  {
   "cell_type": "markdown",
   "metadata": {},
   "source": [
    "* Se declaran los soportes de la integral, o los intervalos de los valores donde $\\lambda$ se defina en la función, i.e.:\n",
    "\n",
    "$$-\\sqrt(2)<\\lambda<\\sqrt(2)$$"
   ]
  },
  {
   "cell_type": "code",
   "execution_count": null,
   "metadata": {},
   "outputs": [],
   "source": [
    "lowIntervalo = -np.sqrt(2)\n",
    "UppIntervalo = np.sqrt(2)"
   ]
  },
  {
   "cell_type": "markdown",
   "metadata": {},
   "source": [
    "* Función que realiza la integral, la cual comprueba el resultado de encontrar el resolvente:\n",
    "    \n",
    "$$G^{av}_{\\infty}=\\int dx'\\frac{\\frac{1}{\\pi}\\sqrt(2-\\lambda^2)}{z-\\lambda'}$$\n",
    "\n",
    "Nota: Observe que aquí la integral se le sustituye la función de densidad espectra, que dado al resultado se tiene la ley del semicírculo\n",
    "\n",
    "Se separan las integrales, la parte real e imaginaria, y por ultimo se suman para tener el resultado de la integral compleja (i.e., el promedio del resolvente $G^{av}_\\infty(z)$)\n",
    "\n",
    "Nota: Input función Gavg_integral\n",
    "* real: parte real del número complejo\n",
    "* imaginario: parte compleja  \n",
    "* lowIntervalo: cota inferior del intervalo donde se define $\\lambda$\n",
    "* UppIntervalo: cota superior del intervalo donde se define $\\lambda$"
   ]
  },
  {
   "cell_type": "code",
   "execution_count": null,
   "metadata": {},
   "outputs": [],
   "source": [
    "def Gavg_integral(real, imaginario, lowIntervalo, UppIntervalo):\n",
    "    z = real - 1j*imaginario # número complejo\n",
    "    # integral parte real\n",
    "    integral_real = integrate.quad(lambda x: np.real(np.sqrt(2-x**2)/(np.pi*(z-x))), lowIntervalo, UppIntervalo)[0]\n",
    "    # integral parte compleja\n",
    "    integral_imag = integrate.quad(lambda x: np.imag(np.sqrt(2-x**2)/(np.pi*(z-x))), lowIntervalo, UppIntervalo)[0]\n",
    "    # integral compleja (suma de las anteriores)\n",
    "    integral_complex = integral_real + 1j*integral_imag\n",
    "    return integral_complex"
   ]
  },
  {
   "cell_type": "markdown",
   "metadata": {},
   "source": [
    "* Función que calcula el error relativo:\n",
    "\n",
    "$$Erelativo = \\frac{|estimado-exacto|}{|exacto|}$$"
   ]
  },
  {
   "cell_type": "code",
   "execution_count": 104,
   "metadata": {},
   "outputs": [],
   "source": [
    "erro_realativo = lambda x,y: np.abs((x - y) / np.abs(y))"
   ]
  },
  {
   "cell_type": "markdown",
   "metadata": {},
   "source": [
    "* Se separa para dos casos, ya que los resultado se comparan con la elección de signos de :\n",
    "\n",
    "$$G^{av}_{\\infty} = z \\pm \\sqrt(z^2 - 2)$$\n",
    "\n",
    "* Caso 1. Se verá que para un valor positivo:\n",
    "\n",
    "$$G^{av}_{\\infty} = z +\\sqrt(z^2 - 2)$$\n",
    " solo sirve si  $0 < \\lambda < \\sqrt(2)$\n",
    " \n",
    "\n",
    "* Caso 2.  Se verá que para un valor negativo:\n",
    "\n",
    "$$G^{av}_{\\infty} = z +\\sqrt(z^2 - 2)$$\n",
    " solo sirve si  $-\\sqrt(2) < \\lambda < 0$"
   ]
  },
  {
   "cell_type": "markdown",
   "metadata": {},
   "source": [
    "#### Caso 1\n",
    "\n",
    "$0 < \\lambda < \\sqrt(2)$"
   ]
  },
  {
   "cell_type": "markdown",
   "metadata": {},
   "source": [
    "* Función del valor medio del resolvente, recive el número complejo:\n",
    "\n",
    "$$G^{av}_{\\infty} = z + \\sqrt(z^2 - 2)$$\n"
   ]
  },
  {
   "cell_type": "code",
   "execution_count": 86,
   "metadata": {},
   "outputs": [],
   "source": [
    "G_plus = lambda x: x + np.sqrt(x**2 - 2)"
   ]
  },
  {
   "cell_type": "markdown",
   "metadata": {},
   "source": [
    "* Se requiere realizar 10 elecciones de z, para esto se generan valores aleatorios para la parte real e imaginaria del valor de z\n",
    "\n",
    "$$z = \\lambda-i\\epsilon$$\n",
    "\n",
    "\n",
    "* Parte real $\\lambda$, 10 valores entre $-\\sqrt(2)$ a $0$.\n",
    "\n",
    "* Parte imaginaria $\\epsilon$, valores positivos pequeños en el intervalo de [.01,.1]"
   ]
  },
  {
   "cell_type": "code",
   "execution_count": 117,
   "metadata": {},
   "outputs": [],
   "source": [
    "np.random.seed(16) # fija semilla\n",
    "real_mas = np.random.uniform(-np.sqrt(2),0,10) # genera valores de lambda\n",
    "imaginario_mas  = np.random.uniform(.01,.1,10) # genera valores de epsilon"
   ]
  },
  {
   "cell_type": "markdown",
   "metadata": {},
   "source": [
    "* Almacenamos en matrices los valores de la integral del resolvente medio al sustituir la ley del semicirculo, y la expresión algebraica que se desarrolla del valor medio del resolvente."
   ]
  },
  {
   "cell_type": "code",
   "execution_count": 118,
   "metadata": {},
   "outputs": [],
   "source": [
    "valor_mas = np.zeros((10,1), dtype = complex) # almacena resultado de integral del resolvente\n",
    "mas = np.zeros((10,1), dtype = complex) # almacena resultado de definición de resolvente"
   ]
  },
  {
   "cell_type": "markdown",
   "metadata": {},
   "source": [
    "* Calculamos los valores:\n",
    "\n",
    "$$G^{av}_{\\infty}=\\int dx'\\frac{\\frac{1}{\\pi}\\sqrt(2-\\lambda^2)}{z-\\lambda'}$$\n",
    "\n",
    "Observe que aquí la integral se le sustituye la función de densidad espectra, que dado al resultado se tiene la ley del semicírculo\n",
    "\n",
    "$$G^{av}_{\\infty} = z  + \\sqrt(z^2 - 2)$$\n",
    "\n",
    "esto para 10 elecciones distintas de $z_j = \\lambda_j-i\\epsilon_j$ con $j = 1, 2, ... ,10$"
   ]
  },
  {
   "cell_type": "code",
   "execution_count": 119,
   "metadata": {},
   "outputs": [
    {
     "name": "stdout",
     "output_type": "stream",
     "text": [
      "Valor de resolvente en z: [[-1.02397365]\n",
      " [-0.66511733]\n",
      " [-0.59774929]\n",
      " [-1.27351833]\n",
      " [-0.87704735]\n",
      " [-1.05388949]\n",
      " [-0.41643518]\n",
      " [-1.104258  ]\n",
      " [-1.24151053]\n",
      " [-0.08045785]] [[0.83519216]\n",
      " [1.22621377]\n",
      " [1.1911812 ]\n",
      " [0.405442  ]\n",
      " [1.0558003 ]\n",
      " [0.8558474 ]\n",
      " [1.27343537]\n",
      " [0.72932989]\n",
      " [0.4975556 ]\n",
      " [1.36243239]]\n",
      "Valor de G mas: [[-1.02397365]\n",
      " [-0.66511733]\n",
      " [-0.59774929]\n",
      " [-1.27351833]\n",
      " [-0.87704735]\n",
      " [-1.05388949]\n",
      " [-0.41643518]\n",
      " [-1.104258  ]\n",
      " [-1.24151053]\n",
      " [-0.08045785]] [[0.83519216]\n",
      " [1.22621377]\n",
      " [1.1911812 ]\n",
      " [0.405442  ]\n",
      " [1.0558003 ]\n",
      " [0.8558474 ]\n",
      " [1.27343537]\n",
      " [0.72932989]\n",
      " [0.4975556 ]\n",
      " [1.36243239]]\n"
     ]
    }
   ],
   "source": [
    "for i in range(len(real_mas)):\n",
    "    # valores de la integral para distintas z's\n",
    "    valor_mas[i,0] = Gavg_integral(real_mas[i], imaginario_mas[i], lowIntervalo, UppIntervalo)\n",
    "    # valor del resolvente encontrado\n",
    "    z_mas = real_mas[i] - 1j*imaginario_mas[i] # genera el número\n",
    "    mas[i,0] = G_plus(z_mas)\n",
    "print('Valor de resolvente en z:', np.real(valor_mas), np.imag(valor_mas))\n",
    "print('Valor de G mas:',np.real(mas),np.imag(mas))\n"
   ]
  },
  {
   "cell_type": "markdown",
   "metadata": {},
   "source": [
    "* Se toma el valor promedio de el error relativo de cada caso\n",
    "\n",
    "$$\\hat Erelativo = \\frac{\\Sigma_{j=1}^{10}Erelativo_j}{n}$$"
   ]
  },
  {
   "cell_type": "code",
   "execution_count": 120,
   "metadata": {},
   "outputs": [
    {
     "name": "stdout",
     "output_type": "stream",
     "text": [
      "Valor del error relativo porcentual: 2.9676148056095533e-12 \n",
      "¿Es menor el error relativo porcentual  al uno porciento? R = True\n"
     ]
    }
   ],
   "source": [
    "e_mas = erro_realativo(valor_mas, mas).mean() # checar los dos casos para ver cual poner\n",
    "print('Valor del error relativo porcentual:', e_mas,\n",
    "     '\\n¿Es menor el error relativo porcentual  al uno porciento? R =', e_mas<.01)"
   ]
  },
  {
   "cell_type": "markdown",
   "metadata": {},
   "source": [
    "#### Caso 2\n",
    "$-\\sqrt(2) < \\lambda < 0$"
   ]
  },
  {
   "cell_type": "markdown",
   "metadata": {},
   "source": [
    "* Función del valor medio del resolvente, recive el número complejo:\n",
    "\n",
    "$$G^{av}_{\\infty} = z - \\sqrt(z^2 - 2)$$"
   ]
  },
  {
   "cell_type": "code",
   "execution_count": 92,
   "metadata": {},
   "outputs": [],
   "source": [
    "G_minus = lambda x: x - np.sqrt(x**2 - 2)"
   ]
  },
  {
   "cell_type": "markdown",
   "metadata": {},
   "source": [
    "* Se requiere realizar 10 elecciones de z, para esto se generan valores aleatorios para la parte real e imaginaria del valor de z\n",
    "\n",
    "$$z = \\lambda-i\\epsilon$$\n",
    "\n",
    "\n",
    "* Parte real $\\lambda$, 10 valores entre $0$ a $\\sqrt(2)$.\n",
    "\n",
    "* Parte imaginaria $\\epsilon$, valores positivos pequeños en el intervalo de [.01,.1]"
   ]
  },
  {
   "cell_type": "code",
   "execution_count": 121,
   "metadata": {},
   "outputs": [],
   "source": [
    "np.random.seed(16) # fijar semilla\n",
    "real_menos = np.random.uniform(0,np.sqrt(2),10) # genera valores de lambda\n",
    "imaginario_menos  = np.random.uniform(.01,.1,10) # genera valores de epsilon"
   ]
  },
  {
   "cell_type": "markdown",
   "metadata": {},
   "source": [
    "* Almacenamos en matrices los valores de la integral del resolvente medio al sustituir la ley del semicirculo, y la expresión algebraica que se desarrolla del valor medio del resolvente."
   ]
  },
  {
   "cell_type": "code",
   "execution_count": 122,
   "metadata": {},
   "outputs": [],
   "source": [
    "valor_menos = np.zeros((10,1), dtype = complex)\n",
    "menos = np.zeros((10,1), dtype = complex)"
   ]
  },
  {
   "cell_type": "markdown",
   "metadata": {},
   "source": [
    "* Calculamos los valores:\n",
    "\n",
    "$$G^{av}_{\\infty}=\\int dx'\\frac{\\frac{1}{\\pi}\\sqrt(2-\\lambda^2)}{z-\\lambda'}$$\n",
    "\n",
    "Observe que aquí la integral se le sustituye la función de densidad espectra, que dado al resultado se tiene la ley del semicírculo\n",
    "\n",
    "$$G^{av}_{\\infty} = z - \\sqrt(z^2 - 2)$$\n",
    "\n",
    "esto para 10 elecciones distintas de $z_j = \\lambda_j-i\\epsilon_j$ con $j = 1, 2, ... ,10$"
   ]
  },
  {
   "cell_type": "code",
   "execution_count": 123,
   "metadata": {},
   "outputs": [
    {
     "name": "stdout",
     "output_type": "stream",
     "text": [
      "Valor de resolvente en z: [[0.30188344]\n",
      " [0.72941841]\n",
      " [0.72944548]\n",
      " [0.06338357]\n",
      " [0.4975722 ]\n",
      " [0.30715392]\n",
      " [0.90527648]\n",
      " [0.22296266]\n",
      " [0.09738528]\n",
      " [1.19698603]] [[1.31918303]\n",
      " [1.18838478]\n",
      " [1.10882183]\n",
      " [1.38869038]\n",
      " [1.28693118]\n",
      " [1.34266742]\n",
      " [0.95750931]\n",
      " [1.34433204]\n",
      " [1.38166349]\n",
      " [0.4492075 ]]\n",
      "Valor de G menos: [[0.30188344]\n",
      " [0.72941841]\n",
      " [0.72944548]\n",
      " [0.06338357]\n",
      " [0.4975722 ]\n",
      " [0.30715392]\n",
      " [0.90527648]\n",
      " [0.22296266]\n",
      " [0.09738528]\n",
      " [1.19698603]] [[1.31918303]\n",
      " [1.18838478]\n",
      " [1.10882183]\n",
      " [1.38869038]\n",
      " [1.28693118]\n",
      " [1.34266742]\n",
      " [0.95750931]\n",
      " [1.34433204]\n",
      " [1.38166349]\n",
      " [0.4492075 ]]\n"
     ]
    }
   ],
   "source": [
    "for i in range(len(real_menos)):\n",
    "    # valores de la integral para distintas z's\n",
    "    valor_menos[i,0] = Gavg_integral(real_menos[i], imaginario_menos[i], lowIntervalo, UppIntervalo)\n",
    "    # valor del resolvente encontrado\n",
    "    z_menos = real_menos[i] - 1j*imaginario_menos[i] # genera el número\n",
    "    menos[i,0] = G_minus(z_menos)\n",
    "print('Valor de resolvente en z:', np.real(valor_menos), np.imag(valor_menos))\n",
    "print('Valor de G menos:',np.real(menos),np.imag(menos))\n"
   ]
  },
  {
   "cell_type": "markdown",
   "metadata": {},
   "source": [
    "* Se toma el valor promedio de el error relativo de cada caso\n",
    "\n",
    "$$\\hat Erelativo = \\frac{\\Sigma_{j=1}^{10}Erelativo_j}{n}$$"
   ]
  },
  {
   "cell_type": "code",
   "execution_count": 124,
   "metadata": {},
   "outputs": [
    {
     "name": "stdout",
     "output_type": "stream",
     "text": [
      "Valor del error relativo porcentual: 1.256870674872081e-12 \n",
      "¿Es menor el error relativo porcentual al uno porciento? R = True\n"
     ]
    }
   ],
   "source": [
    "e_menos = erro_realativo(valor_menos, menos).mean() # checar los dos casos para ver cual poner\n",
    "print('Valor del error relativo porcentual:', e_menos,\n",
    "     '\\n¿Es menor el error relativo porcentual al uno porciento? R =', e_menos<.01)"
   ]
  },
  {
   "cell_type": "markdown",
   "metadata": {},
   "source": [
    "**Conclusión:**\n",
    "\n",
    "* Se encuentra que en los dos casos, el error relativo porcentual para las 10 distintas elecciones de $z$, es menor al $1\\%$\n",
    "\n",
    "* De esta forma, al sustituir el valor promedio del resolvente encontrado de forma algebraica, y encontral la función de densidad espectral en el caso límite, y como resultado la ley del semicírculo, se puede sustituirlo en la integral del valor medio del resolvente, y comprobar si el resolvente es correcto\n",
    "\n",
    "* En este caso para 10 elecciones de Z, sí es correcto el resolvente"
   ]
  },
  {
   "cell_type": "markdown",
   "metadata": {},
   "source": [
    "#### Github:\n",
    "\n",
    "presentación en: https://nbviewer.jupyter.org/github/hairo1421/Maestria-Computo-Estadistico/blob/master/05%20-%20Tercer%20Semestre%20Temas%20en%20Estad%C3%ADstica/Matrices%20Aleatorias/Tarea%204.%20Determinante%20Jacobiano-%20determinante%20de%20Vandermonde%20%20Resolvente%20.ipynb\n",
    "\n",
    "archivos en: https://github.com/hairo1421/Maestria-Computo-Estadistico/blob/master/05%20-%20Tercer%20Semestre%20Temas%20en%20Estad%C3%ADstica/Matrices%20Aleatorias/Tarea%204.%20Determinante%20Jacobiano-%20determinante%20de%20Vandermonde%20%20Resolvente%20.ipynb"
   ]
  }
 ],
 "metadata": {
  "kernelspec": {
   "display_name": "Python 3",
   "language": "python",
   "name": "python3"
  },
  "language_info": {
   "codemirror_mode": {
    "name": "ipython",
    "version": 3
   },
   "file_extension": ".py",
   "mimetype": "text/x-python",
   "name": "python",
   "nbconvert_exporter": "python",
   "pygments_lexer": "ipython3",
   "version": "3.6.5"
  }
 },
 "nbformat": 4,
 "nbformat_minor": 2
}
